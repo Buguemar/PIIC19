{
 "cells": [
  {
   "cell_type": "markdown",
   "metadata": {},
   "source": [
    "### Carga de modulos en headnode"
   ]
  },
  {
   "cell_type": "markdown",
   "metadata": {},
   "source": [
    "El paquete de **module** permite a los usuarios acceder a herramientas no estándar o versiones alternativas de paquetes estándar. Esta también es una forma alternativa de configurar el entorno según se requiera.  \n",
    "Los módulos específicos se pueden cargar y descargar según sea necesario.\n",
    "\n",
    "Para mayor información visite: http://www.bu.edu/tech/support/research/software-and-programming/software-and-applications/modules/"
   ]
  },
  {
   "cell_type": "markdown",
   "metadata": {},
   "source": [
    "|Comando|Descripción|\n",
    "|---|---\n",
    "|**module list**| List currently loaded modules.  |\n",
    "|**module avail**| List available packages.   |\n",
    "|**module help [modulefile]**| Description of specified module.  |\n",
    "|**module show [modulefile]**| Displays information about specified module.  |\n",
    "|**module load [modulefile]**| Loads module or specifies which dependencies have not been loaded.  |\n",
    "|**module unload [modulefile]**| Unloads specified module from environment.   |\n",
    "|**module purge**| Unloads all loaded modules.  |"
   ]
  },
  {
   "cell_type": "markdown",
   "metadata": {},
   "source": [
    "### Solicitud de un nodo de cómputo por *bash*\n",
    "Para ésto se utilizará *ssh* y *Slurm*"
   ]
  },
  {
   "cell_type": "markdown",
   "metadata": {},
   "source": [
    "|Comando|Descripción|\n",
    "|---|---\n",
    "|**squeue -l**| Lista los nodos solicitados activos, su tiempo activo, su límite y su respectivo ID  |\n",
    "|**sinfo**| Lista todos los nodos activos en el datacenter.   |\n",
    "|**salloc -t tiempo -J Nombre/Descripción**| Solicitar acceso a algún nodo por una cantidad de tiempo (*en minutos*) el límite actual es 1 día|\n",
    "|**scancel id**| Cancela la solicitud de identificador ID  |\n",
    "\n",
    "\n",
    "Para solicitar acceso a un nodo de cómputo al conectarse por *ssh* realizar lo siguiente:\n",
    "1. Conectarse por *ssh* al servidor de chivo: \n",
    "```\n",
    "ssh usuario@chi2ad.chivo.cl\n",
    "```\n",
    "2. Conectarse por *ssh* al *headnode*\n",
    "```\n",
    "ssh chi2ad-headnode-01\n",
    "```\n",
    "3. Solicitar acceso a un nodo con los comandos que se detallan a continuación. (sin el -t 60, solicita la cantidad máxima de tiempo)\n",
    "```\n",
    "salloc -J Exoplanet\n",
    "```\n",
    "4. Conectarse por *ssh* al nodo solicitado con la ip que arroja los comandos que se detallan a continuación\n",
    "```\n",
    "squeue -l << deberia indicar la ip en \"NODE LIST\"\n",
    "ssh ip\n",
    "```\n",
    "> Ojo que por el momento: chi2ad-node-001== 10.10.0.11, chi2ad-node-002== 10.10.0.12 ...\n",
    "5. Una vez terminado el proceso/cómputo desconectarse y cancelar la solicitud para que el nodo quede libre (**SINO QUEDARÁ SOLICITADO POR USTED Y NO DEJARÁ A LOS OTROS UTILIZARLO**)\n",
    "```\n",
    "scancel id\n",
    "```"
   ]
  }
 ],
 "metadata": {
  "kernelspec": {
   "display_name": "Python 3",
   "language": "python",
   "name": "python3"
  },
  "language_info": {
   "codemirror_mode": {
    "name": "ipython",
    "version": 3
   },
   "file_extension": ".py",
   "mimetype": "text/x-python",
   "name": "python",
   "nbconvert_exporter": "python",
   "pygments_lexer": "ipython3",
   "version": "3.6.8"
  }
 },
 "nbformat": 4,
 "nbformat_minor": 2
}

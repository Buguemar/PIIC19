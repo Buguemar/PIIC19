{
 "cells": [
  {
   "cell_type": "code",
   "execution_count": 17,
   "metadata": {},
   "outputs": [
    {
     "data": {
      "text/plain": [
       "(8054, 71427)"
      ]
     },
     "execution_count": 17,
     "metadata": {},
     "output_type": "execute_result"
    }
   ],
   "source": [
    "import pandas as pd\n",
    "#from hmmlearn import hmm\n",
    "import numpy as np\n",
    "import seaborn as sns\n",
    "from scipy.stats import norm\n",
    "import itertools\n",
    "import matplotlib.pyplot as plt\n",
    "#from hmmlearn.hmm import GMMHMM\n",
    "from  sklearn.metrics import mean_squared_error as mse\n",
    "from astropy.io import fits\n",
    "import matplotlib.pyplot as plt\n",
    "import os, sys\n",
    "\n",
    "def plot_state_matrix(cm, states,title='Transition Probabilities',cmap=plt.cm.Blues):\n",
    "    plt.figure(figsize=(10,10))\n",
    "    plt.imshow(cm, interpolation='nearest', cmap=cmap)\n",
    "    plt.title(title)\n",
    "    plt.colorbar()\n",
    "    tick_marks = np.arange(len(states))\n",
    "    plt.xticks(tick_marks, states)\n",
    "    plt.yticks(tick_marks, states)\n",
    "    for i, j in itertools.product(range(cm.shape[0]), range(cm.shape[1])):\n",
    "        plt.text(j, i, format(cm[i, j], '.1f'),\n",
    "                 horizontalalignment=\"center\",\n",
    "                 color=\"white\" if cm[i, j] > cm.max() / 2. else \"black\")\n",
    "    plt.ylabel('Origin state')\n",
    "    plt.xlabel('Destination state')\n",
    "    plt.tight_layout()\n",
    "\n",
    "\n",
    "dirpath = os.getcwd().split(\"code\")[0]+\"code/\"\n",
    "sys.path.append(dirpath)\n",
    "from pre_process import clean_LC\n",
    "folder = \"/work/work_teamEXOPLANET/KOI_LC/\"\n",
    "\n",
    "time_kepler = np.load(folder+\"npy/KOI_LC_time.npy\") \n",
    "our_process = np.load('/work/work_teamEXOPLANET/KOI_LC/cleaned/LC_kepler_processed.npy')\n",
    "our_process.shape "
   ]
  },
  {
   "cell_type": "code",
   "execution_count": 18,
   "metadata": {},
   "outputs": [],
   "source": [
    "df= pd.read_csv(folder+\"csv/kepler_dataset.csv\")"
   ]
  },
  {
   "cell_type": "markdown",
   "metadata": {},
   "source": [
    "## Version paralela (Numba)\n",
    "para instalar numba: **pip install numba**"
   ]
  },
  {
   "cell_type": "code",
   "execution_count": 21,
   "metadata": {},
   "outputs": [],
   "source": [
    "from numba import njit, jit"
   ]
  },
  {
   "cell_type": "code",
   "execution_count": 22,
   "metadata": {},
   "outputs": [],
   "source": [
    "#### importante:\n",
    "def prepare_lc(fluxs): #dividir por min\n",
    "    fluxs = np.asarray(fluxs)\n",
    "    return fluxs/np.abs(np.nanmin(fluxs))\n",
    "\n",
    "def extract_nans(fluxs, plot=True):\n",
    "    ###extrae los nans y deja tramos de valores continuos\n",
    "    lc_wind_nan = []\n",
    "    lengths = []\n",
    "\n",
    "    sublist = [] #para que sepa que el tipo es float\n",
    "    for value in fluxs:\n",
    "        if np.isnan(value) and len(sublist) != 0:\n",
    "            if len(sublist) != 1: ##borrar tramos de largo 1??\n",
    "                lc_wind_nan.append(np.asarray(sublist))\n",
    "                lengths.append(len(sublist))\n",
    "            sublist = [] #para que sepa que el tipo es float\n",
    "        elif np.isnan(value) and len(sublist) == 0:\n",
    "            continue\n",
    "        else: #if value not nan\n",
    "            sublist.append(value) \n",
    "\n",
    "    if plot:\n",
    "        lengths = np.asarray(lengths)   \n",
    "        print(\"Cantidad de tramos: \",len(lengths))\n",
    "        print(\"Largo promedio de tramos: \", np.mean(lengths))\n",
    "        print(\"Mediana de largo de tramos: \", np.median(lengths))\n",
    "        print(\"Min de largo de tramos: \", np.min(lengths))\n",
    "        print(\"Max de largo de tramos: \", np.max(lengths))\n",
    "    return lc_wind_nan\n",
    "\n",
    "@njit(parallel=True, cache=False, fastmath=True)\n",
    "def det_state(a, b, n_sta):\n",
    "    topes=np.linspace(a, b, n_sta+1)\n",
    "    estados= []\n",
    "    ind=1\n",
    "    for top in topes[:-1]:\n",
    "        estados.append((top,topes[ind]))\n",
    "        ind+=1\n",
    "    return estados\n",
    "\n",
    "@njit(parallel=False, cache=True, fastmath=True)\n",
    "def det_state_2ways(a, b, n_sta_up, n_sta_low):\n",
    "    estados_up = det_state(a, 0, n_sta_up)\n",
    "    estados_low = det_state(0, b, n_sta_low)\n",
    "    return estados_up + estados_low\n",
    "\n",
    "@njit(parallel=False, cache=True, fastmath=True)\n",
    "def det_celda(num, estados): \n",
    "    for celda, (est_low, est_up) in enumerate(estados):\n",
    "        if num<est_low and num>=est_up:\n",
    "            return celda\n",
    "    return 0 #if sale por arriba (mayor a 1)\n",
    "\n",
    "@njit(parallel=False, cache=True, fastmath=True)  #no se pudo paralelizar por el acceso a lista \"ind -1\"\n",
    "def add_transitions(fluxs, transition_m, states):\n",
    "    for ind in range(1,len(fluxs)):\n",
    "        init_s = det_celda(fluxs[ind-1], states)\n",
    "        fin_s = det_celda(fluxs[ind], states)\n",
    "        transition_m[init_s, fin_s] += 1\n",
    "    return transition_m\n",
    "\n",
    "@njit(parallel=True, cache=False, fastmath=True)\n",
    "def manual_HMM(wind_fluxs, n_sta_up, n_sta_low=0):\n",
    "    if n_sta_low == 0: \n",
    "        n_sta_low = n_sta_up \n",
    "    n_sta = n_sta_up+n_sta_low\n",
    "    \n",
    "    transition_m = np.zeros((n_sta,n_sta))\n",
    "    \n",
    "    states = det_state_2ways(1,-1, n_sta_up=n_sta_up, n_sta_low=n_sta_low) \n",
    "    for fluxs in wind_fluxs:\n",
    "        add_transitions(fluxs, transition_m, states)\n",
    "    \n",
    "    for i in range(n_sta):\n",
    "        suma_i = 0\n",
    "        for j in range(n_sta):\n",
    "            transition_m[i,j] +=1 #priors\n",
    "            suma_i += transition_m[i,j]\n",
    "        transition_m[i] = transition_m[i]/suma_i #normalize\n",
    "    return transition_m\n"
   ]
  },
  {
   "cell_type": "code",
   "execution_count": 23,
   "metadata": {
    "scrolled": true
   },
   "outputs": [
    {
     "data": {
      "text/plain": [
       "[(1.0, 0.8),\n",
       " (0.8, 0.6),\n",
       " (0.6, 0.39999999999999997),\n",
       " (0.39999999999999997, 0.19999999999999996),\n",
       " (0.19999999999999996, -5.551115123125783e-17),\n",
       " (-0.0, -0.06666666666666667),\n",
       " (-0.06666666666666667, -0.13333333333333333),\n",
       " (-0.13333333333333333, -0.2),\n",
       " (-0.2, -0.26666666666666666),\n",
       " (-0.26666666666666666, -0.3333333333333333),\n",
       " (-0.3333333333333333, -0.4),\n",
       " (-0.4, -0.4666666666666667),\n",
       " (-0.4666666666666667, -0.5333333333333333),\n",
       " (-0.5333333333333333, -0.6),\n",
       " (-0.6, -0.6666666666666666),\n",
       " (-0.6666666666666666, -0.7333333333333333),\n",
       " (-0.7333333333333333, -0.8),\n",
       " (-0.8, -0.8666666666666667),\n",
       " (-0.8666666666666667, -0.9333333333333333),\n",
       " (-0.9333333333333333, -1.0)]"
      ]
     },
     "execution_count": 23,
     "metadata": {},
     "output_type": "execute_result"
    }
   ],
   "source": [
    "det_state_2ways(1,-1, n_sta_up=5, n_sta_low=15) #20 estados en total"
   ]
  },
  {
   "cell_type": "code",
   "execution_count": null,
   "metadata": {},
   "outputs": [],
   "source": []
  },
  {
   "cell_type": "code",
   "execution_count": 29,
   "metadata": {},
   "outputs": [
    {
     "name": "stdout",
     "output_type": "stream",
     "text": [
      "Cantidad de tramos:  707\n",
      "Largo promedio de tramos:  77.06506364922207\n",
      "Mediana de largo de tramos:  72.0\n",
      "Min de largo de tramos:  2\n",
      "Max de largo de tramos:  146\n",
      "[-0.03325527  0.06651054 -0.01259155  0.48070119 -0.09846492 -0.10887914\n",
      "  0.23371963  0.7424305   0.17766037 -0.16148807 -0.39734154 -0.13562083\n",
      "  0.41074358 -0.3037964  -0.28808495 -0.38797703 -0.09234429  0.06391086\n",
      "  0.22507561  0.18266449 -0.67473156 -0.0387865   0.18021355  0.03830472\n",
      "  0.25399658  0.04620247  0.05829212]\n"
     ]
    },
    {
     "ename": "ValueError",
     "evalue": "The truth value of an array with more than one element is ambiguous. Use a.any() or a.all()",
     "output_type": "error",
     "traceback": [
      "\u001b[0;31m---------------------------------------------------------------------------\u001b[0m",
      "\u001b[0;31mValueError\u001b[0m                                Traceback (most recent call last)",
      "\u001b[0;32m<timed exec>\u001b[0m in \u001b[0;36m<module>\u001b[0;34m\u001b[0m\n",
      "\u001b[0;32m~/anaconda2/envs/py36/lib/python3.6/site-packages/matplotlib/pyplot.py\u001b[0m in \u001b[0;36mshow\u001b[0;34m(*args, **kw)\u001b[0m\n\u001b[1;32m    252\u001b[0m     \"\"\"\n\u001b[1;32m    253\u001b[0m     \u001b[0;32mglobal\u001b[0m \u001b[0m_show\u001b[0m\u001b[0;34m\u001b[0m\u001b[0;34m\u001b[0m\u001b[0m\n\u001b[0;32m--> 254\u001b[0;31m     \u001b[0;32mreturn\u001b[0m \u001b[0m_show\u001b[0m\u001b[0;34m(\u001b[0m\u001b[0;34m*\u001b[0m\u001b[0margs\u001b[0m\u001b[0;34m,\u001b[0m \u001b[0;34m**\u001b[0m\u001b[0mkw\u001b[0m\u001b[0;34m)\u001b[0m\u001b[0;34m\u001b[0m\u001b[0;34m\u001b[0m\u001b[0m\n\u001b[0m\u001b[1;32m    255\u001b[0m \u001b[0;34m\u001b[0m\u001b[0m\n\u001b[1;32m    256\u001b[0m \u001b[0;34m\u001b[0m\u001b[0m\n",
      "\u001b[0;32m~/anaconda2/envs/py36/lib/python3.6/site-packages/ipykernel/pylab/backend_inline.py\u001b[0m in \u001b[0;36mshow\u001b[0;34m(close, block)\u001b[0m\n\u001b[1;32m     43\u001b[0m         \u001b[0;31m# only call close('all') if any to close\u001b[0m\u001b[0;34m\u001b[0m\u001b[0;34m\u001b[0m\u001b[0;34m\u001b[0m\u001b[0m\n\u001b[1;32m     44\u001b[0m         \u001b[0;31m# close triggers gc.collect, which can be slow\u001b[0m\u001b[0;34m\u001b[0m\u001b[0;34m\u001b[0m\u001b[0;34m\u001b[0m\u001b[0m\n\u001b[0;32m---> 45\u001b[0;31m         \u001b[0;32mif\u001b[0m \u001b[0mclose\u001b[0m \u001b[0;32mand\u001b[0m \u001b[0mGcf\u001b[0m\u001b[0;34m.\u001b[0m\u001b[0mget_all_fig_managers\u001b[0m\u001b[0;34m(\u001b[0m\u001b[0;34m)\u001b[0m\u001b[0;34m:\u001b[0m\u001b[0;34m\u001b[0m\u001b[0;34m\u001b[0m\u001b[0m\n\u001b[0m\u001b[1;32m     46\u001b[0m             \u001b[0mmatplotlib\u001b[0m\u001b[0;34m.\u001b[0m\u001b[0mpyplot\u001b[0m\u001b[0;34m.\u001b[0m\u001b[0mclose\u001b[0m\u001b[0;34m(\u001b[0m\u001b[0;34m'all'\u001b[0m\u001b[0;34m)\u001b[0m\u001b[0;34m\u001b[0m\u001b[0;34m\u001b[0m\u001b[0m\n\u001b[1;32m     47\u001b[0m \u001b[0;34m\u001b[0m\u001b[0m\n",
      "\u001b[0;31mValueError\u001b[0m: The truth value of an array with more than one element is ambiguous. Use a.any() or a.all()"
     ]
    }
   ],
   "source": [
    "%%time\n",
    "fluxs = our_process[1]\n",
    "fluxs = prepare_lc(fluxs) #divide by min\n",
    "lc_tramos =  extract_nans(fluxs) #extract nans\n",
    "#lc_tramos #lista de tramos...\n",
    "print(lc_tramos[0])\n",
    "plt.show(lc_tramos[0])"
   ]
  },
  {
   "cell_type": "code",
   "execution_count": 26,
   "metadata": {},
   "outputs": [
    {
     "ename": "NameError",
     "evalue": "name 'fluxs' is not defined",
     "output_type": "error",
     "traceback": [
      "\u001b[0;31m---------------------------------------------------------------------------\u001b[0m",
      "\u001b[0;31mNameError\u001b[0m                                 Traceback (most recent call last)",
      "\u001b[0;32m<ipython-input-26-075bb2658b3e>\u001b[0m in \u001b[0;36m<module>\u001b[0;34m\u001b[0m\n\u001b[0;32m----> 1\u001b[0;31m \u001b[0mfluxs\u001b[0m\u001b[0;34m\u001b[0m\u001b[0;34m\u001b[0m\u001b[0m\n\u001b[0m",
      "\u001b[0;31mNameError\u001b[0m: name 'fluxs' is not defined"
     ]
    }
   ],
   "source": [
    "fluxs"
   ]
  },
  {
   "cell_type": "markdown",
   "metadata": {},
   "source": [
    "### Comportamiento Falsos postiviso"
   ]
  },
  {
   "cell_type": "code",
   "execution_count": 8,
   "metadata": {},
   "outputs": [
    {
     "data": {
      "text/plain": [
       "(3976, 71427)"
      ]
     },
     "execution_count": 8,
     "metadata": {},
     "output_type": "execute_result"
    }
   ],
   "source": [
    "falsos_pos=df.loc[df['NExScI Disposition']=='FALSE POSITIVE']\n",
    "index_fp=list(falsos_pos.index)\n",
    "len(index_fp)\n",
    "\n",
    "our_detrends=our_process[index_fp]\n",
    "our_detrends.shape"
   ]
  },
  {
   "cell_type": "code",
   "execution_count": 9,
   "metadata": {
    "scrolled": true
   },
   "outputs": [
    {
     "name": "stdout",
     "output_type": "stream",
     "text": [
      "recuperando curva 1\n",
      "Cantidad de tramos:  707\n",
      "Largo promedio de tramos:  77.06506364922207\n",
      "Mediana de largo de tramos:  72.0\n",
      "Min de largo de tramos:  2\n",
      "Max de largo de tramos:  146\n"
     ]
    },
    {
     "data": {
      "image/png": "[encoded data removed]",
      "text/plain": [
       "<Figure size 432x288 with 1 Axes>"
      ]
     },
     "metadata": {
      "needs_background": "light"
     },
     "output_type": "display_data"
    },
    {
     "name": "stdout",
     "output_type": "stream",
     "text": [
      "recuperando curva 2\n",
      "Cantidad de tramos:  803\n",
      "Largo promedio de tramos:  79.91158156911581\n",
      "Mediana de largo de tramos:  78.0\n",
      "Min de largo de tramos:  2\n",
      "Max de largo de tramos:  149\n"
     ]
    },
    {
     "data": {
      "image/png": "[encoded data removed]",
      "text/plain": [
       "<Figure size 432x288 with 1 Axes>"
      ]
     },
     "metadata": {
      "needs_background": "light"
     },
     "output_type": "display_data"
    },
    {
     "name": "stdout",
     "output_type": "stream",
     "text": [
      "recuperando curva 3\n",
      "Cantidad de tramos:  788\n",
      "Largo promedio de tramos:  81.66116751269035\n",
      "Mediana de largo de tramos:  84.0\n",
      "Min de largo de tramos:  2\n",
      "Max de largo de tramos:  146\n"
     ]
    },
    {
     "data": {
      "image/png": "[encoded data removed]",
      "text/plain": [
       "<Figure size 432x288 with 1 Axes>"
      ]
     },
     "metadata": {
      "needs_background": "light"
     },
     "output_type": "display_data"
    },
    {
     "name": "stdout",
     "output_type": "stream",
     "text": [
      "recuperando curva 4\n",
      "Cantidad de tramos:  806\n",
      "Largo promedio de tramos:  79.8089330024814\n",
      "Mediana de largo de tramos:  78.0\n",
      "Min de largo de tramos:  2\n",
      "Max de largo de tramos:  149\n"
     ]
    },
    {
     "data": {
      "image/png": "[encoded data removed]",
      "text/plain": [
       "<Figure size 432x288 with 1 Axes>"
      ]
     },
     "metadata": {
      "needs_background": "light"
     },
     "output_type": "display_data"
    },
    {
     "name": "stdout",
     "output_type": "stream",
     "text": [
      "recuperando curva 5\n",
      "Cantidad de tramos:  807\n",
      "Largo promedio de tramos:  79.71623296158612\n",
      "Mediana de largo de tramos:  79.0\n",
      "Min de largo de tramos:  2\n",
      "Max de largo de tramos:  149\n"
     ]
    },
    {
     "data": {
      "image/png": "[encoded data removed]",
      "text/plain": [
       "<Figure size 432x288 with 1 Axes>"
      ]
     },
     "metadata": {
      "needs_background": "light"
     },
     "output_type": "display_data"
    },
    {
     "name": "stdout",
     "output_type": "stream",
     "text": [
      "recuperando curva 6\n",
      "Cantidad de tramos:  772\n",
      "Largo promedio de tramos:  81.25388601036269\n",
      "Mediana de largo de tramos:  84.0\n",
      "Min de largo de tramos:  2\n",
      "Max de largo de tramos:  146\n"
     ]
    },
    {
     "data": {
      "image/png": "[encoded data removed]",
      "text/plain": [
       "<Figure size 432x288 with 1 Axes>"
      ]
     },
     "metadata": {
      "needs_background": "light"
     },
     "output_type": "display_data"
    },
    {
     "name": "stdout",
     "output_type": "stream",
     "text": [
      "recuperando curva 7\n",
      "Cantidad de tramos:  801\n",
      "Largo promedio de tramos:  80.31710362047441\n",
      "Mediana de largo de tramos:  80.0\n",
      "Min de largo de tramos:  2\n",
      "Max de largo de tramos:  149\n"
     ]
    },
    {
     "data": {
      "image/png": "[encoded data removed]",
      "text/plain": [
       "<Figure size 432x288 with 1 Axes>"
      ]
     },
     "metadata": {
      "needs_background": "light"
     },
     "output_type": "display_data"
    },
    {
     "name": "stdout",
     "output_type": "stream",
     "text": [
      "recuperando curva 8\n",
      "Cantidad de tramos:  467\n",
      "Largo promedio de tramos:  63.19700214132762\n",
      "Mediana de largo de tramos:  36.0\n",
      "Min de largo de tramos:  2\n",
      "Max de largo de tramos:  145\n"
     ]
    },
    {
     "data": {
      "image/png": "[encoded data removed]",
      "text/plain": [
       "<Figure size 432x288 with 1 Axes>"
      ]
     },
     "metadata": {
      "needs_background": "light"
     },
     "output_type": "display_data"
    },
    {
     "name": "stdout",
     "output_type": "stream",
     "text": [
      "recuperando curva 9\n",
      "Cantidad de tramos:  254\n",
      "Largo promedio de tramos:  89.71259842519684\n",
      "Mediana de largo de tramos:  97.0\n",
      "Min de largo de tramos:  2\n",
      "Max de largo de tramos:  146\n"
     ]
    },
    {
     "data": {
      "image/png": "[encoded data removed]",
      "text/plain": [
       "<Figure size 432x288 with 1 Axes>"
      ]
     },
     "metadata": {
      "needs_background": "light"
     },
     "output_type": "display_data"
    },
    {
     "name": "stdout",
     "output_type": "stream",
     "text": [
      "recuperando curva 10\n",
      "Cantidad de tramos:  807\n",
      "Largo promedio de tramos:  79.70260223048327\n",
      "Mediana de largo de tramos:  78.0\n",
      "Min de largo de tramos:  2\n",
      "Max de largo de tramos:  149\n"
     ]
    },
    {
     "data": {
      "image/png": "[encoded data removed]",
      "text/plain": [
       "<Figure size 432x288 with 1 Axes>"
      ]
     },
     "metadata": {
      "needs_background": "light"
     },
     "output_type": "display_data"
    },
    {
     "name": "stdout",
     "output_type": "stream",
     "text": [
      "recuperando curva 11\n",
      "Cantidad de tramos:  107\n",
      "Largo promedio de tramos:  80.53271028037383\n",
      "Mediana de largo de tramos:  76.0\n",
      "Min de largo de tramos:  2\n",
      "Max de largo de tramos:  145\n"
     ]
    },
    {
     "data": {
      "image/png": "[encoded data removed]",
      "text/plain": [
       "<Figure size 432x288 with 1 Axes>"
      ]
     },
     "metadata": {
      "needs_background": "light"
     },
     "output_type": "display_data"
    },
    {
     "name": "stdout",
     "output_type": "stream",
     "text": [
      "recuperando curva 12\n",
      "Cantidad de tramos:  654\n",
      "Largo promedio de tramos:  83.39908256880734\n",
      "Mediana de largo de tramos:  90.0\n",
      "Min de largo de tramos:  2\n",
      "Max de largo de tramos:  149\n"
     ]
    },
    {
     "data": {
      "image/png": "[encoded data removed]",
      "text/plain": [
       "<Figure size 432x288 with 1 Axes>"
      ]
     },
     "metadata": {
      "needs_background": "light"
     },
     "output_type": "display_data"
    },
    {
     "name": "stdout",
     "output_type": "stream",
     "text": [
      "recuperando curva 13\n",
      "Cantidad de tramos:  929\n",
      "Largo promedio de tramos:  64.84391819160388\n",
      "Mediana de largo de tramos:  54.0\n",
      "Min de largo de tramos:  2\n",
      "Max de largo de tramos:  146\n"
     ]
    },
    {
     "data": {
      "image/png": "[encoded data removed]",
      "text/plain": [
       "<Figure size 432x288 with 1 Axes>"
      ]
     },
     "metadata": {
      "needs_background": "light"
     },
     "output_type": "display_data"
    },
    {
     "name": "stdout",
     "output_type": "stream",
     "text": [
      "recuperando curva 14\n",
      "Cantidad de tramos:  812\n",
      "Largo promedio de tramos:  79.20689655172414\n",
      "Mediana de largo de tramos:  78.0\n",
      "Min de largo de tramos:  2\n",
      "Max de largo de tramos:  146\n"
     ]
    },
    {
     "data": {
      "image/png": "[encoded data removed]",
      "text/plain": [
       "<Figure size 432x288 with 1 Axes>"
      ]
     },
     "metadata": {
      "needs_background": "light"
     },
     "output_type": "display_data"
    },
    {
     "name": "stdout",
     "output_type": "stream",
     "text": [
      "recuperando curva 15\n",
      "Cantidad de tramos:  836\n",
      "Largo promedio de tramos:  76.91866028708134\n",
      "Mediana de largo de tramos:  73.0\n",
      "Min de largo de tramos:  2\n",
      "Max de largo de tramos:  146\n"
     ]
    },
    {
     "data": {
      "image/png": "[encoded data removed]",
      "text/plain": [
       "<Figure size 432x288 with 1 Axes>"
      ]
     },
     "metadata": {
      "needs_background": "light"
     },
     "output_type": "display_data"
    },
    {
     "name": "stdout",
     "output_type": "stream",
     "text": [
      "recuperando curva 16\n",
      "Cantidad de tramos:  393\n",
      "Largo promedio de tramos:  86.94402035623409\n",
      "Mediana de largo de tramos:  93.0\n",
      "Min de largo de tramos:  2\n",
      "Max de largo de tramos:  149\n"
     ]
    },
    {
     "data": {
      "image/png": "[encoded data removed]",
      "text/plain": [
       "<Figure size 432x288 with 1 Axes>"
      ]
     },
     "metadata": {
      "needs_background": "light"
     },
     "output_type": "display_data"
    },
    {
     "name": "stdout",
     "output_type": "stream",
     "text": [
      "recuperando curva 17\n",
      "Cantidad de tramos:  828\n",
      "Largo promedio de tramos:  77.73188405797102\n",
      "Mediana de largo de tramos:  74.0\n",
      "Min de largo de tramos:  2\n",
      "Max de largo de tramos:  149\n"
     ]
    },
    {
     "data": {
      "image/png": "[encoded data removed]",
      "text/plain": [
       "<Figure size 432x288 with 1 Axes>"
      ]
     },
     "metadata": {
      "needs_background": "light"
     },
     "output_type": "display_data"
    },
    {
     "name": "stdout",
     "output_type": "stream",
     "text": [
      "recuperando curva 18\n",
      "Cantidad de tramos:  831\n",
      "Largo promedio de tramos:  77.38989169675091\n",
      "Mediana de largo de tramos:  73.0\n",
      "Min de largo de tramos:  2\n",
      "Max de largo de tramos:  149\n"
     ]
    },
    {
     "data": {
      "image/png": "[encoded data removed]",
      "text/plain": [
       "<Figure size 432x288 with 1 Axes>"
      ]
     },
     "metadata": {
      "needs_background": "light"
     },
     "output_type": "display_data"
    },
    {
     "name": "stdout",
     "output_type": "stream",
     "text": [
      "recuperando curva 19\n",
      "Cantidad de tramos:  816\n",
      "Largo promedio de tramos:  78.81617647058823\n",
      "Mediana de largo de tramos:  76.0\n",
      "Min de largo de tramos:  2\n",
      "Max de largo de tramos:  149\n"
     ]
    },
    {
     "data": {
      "image/png": "[encoded data removed]",
      "text/plain": [
       "<Figure size 432x288 with 1 Axes>"
      ]
     },
     "metadata": {
      "needs_background": "light"
     },
     "output_type": "display_data"
    },
    {
     "name": "stdout",
     "output_type": "stream",
     "text": [
      "recuperando curva 20\n",
      "Cantidad de tramos:  777\n",
      "Largo promedio de tramos:  80.71685971685972\n",
      "Mediana de largo de tramos:  80.0\n",
      "Min de largo de tramos:  2\n",
      "Max de largo de tramos:  149\n"
     ]
    },
    {
     "data": {
      "image/png": "[encoded data removed]",
      "text/plain": [
       "<Figure size 432x288 with 1 Axes>"
      ]
     },
     "metadata": {
      "needs_background": "light"
     },
     "output_type": "display_data"
    },
    {
     "name": "stdout",
     "output_type": "stream",
     "text": [
      "CPU times: user 1min 26s, sys: 6.33 s, total: 1min 33s\n",
      "Wall time: 8.92 s\n"
     ]
    }
   ],
   "source": [
    "%%time\n",
    "\n",
    "i=0\n",
    "for lc_our_detrend in our_detrends[:20]:   \n",
    "    print (\"recuperando curva\",i+1)\n",
    "    fluxs = prepare_lc(lc_our_detrend) #divide by min\n",
    "    lc_tramos =  extract_nans(fluxs) #extract nans  \n",
    "    transition_m = manual_HMM(lc_tramos, n_sta_up=10, n_sta_low=10) #si se dejan 5 arriba y 10 abajo cambia harto...\n",
    "\n",
    "    i+=1\n",
    "    plt.imshow(transition_m, cmap='Blues', vmin=0, vmax=1) #el plot se ve raro por esto..\n",
    "    plt.show()"
   ]
  },
  {
   "cell_type": "code",
   "execution_count": null,
   "metadata": {},
   "outputs": [],
   "source": []
  },
  {
   "cell_type": "markdown",
   "metadata": {},
   "source": [
    "### Comportamiento Confirmados"
   ]
  },
  {
   "cell_type": "code",
   "execution_count": 11,
   "metadata": {},
   "outputs": [
    {
     "data": {
      "text/plain": [
       "2281"
      ]
     },
     "execution_count": 11,
     "metadata": {},
     "output_type": "execute_result"
    }
   ],
   "source": [
    "confirmados=df.loc[df['NExScI Disposition']=='CONFIRMED']\n",
    "index_con=list(confirmados.index)\n",
    "our_detrends=our_process[index_con]\n",
    "len(index_con)"
   ]
  },
  {
   "cell_type": "code",
   "execution_count": 12,
   "metadata": {
    "scrolled": true
   },
   "outputs": [
    {
     "name": "stdout",
     "output_type": "stream",
     "text": [
      "recuperando curva 1\n",
      "Cantidad de tramos:  796\n",
      "Largo promedio de tramos:  80.82663316582915\n",
      "Mediana de largo de tramos:  79.0\n",
      "Min de largo de tramos:  2\n",
      "Max de largo de tramos:  149\n"
     ]
    },
    {
     "data": {
      "image/png": "[encoded data removed]",
      "text/plain": [
       "<Figure size 432x288 with 1 Axes>"
      ]
     },
     "metadata": {
      "needs_background": "light"
     },
     "output_type": "display_data"
    },
    {
     "name": "stdout",
     "output_type": "stream",
     "text": [
      "recuperando curva 2\n",
      "Cantidad de tramos:  807\n",
      "Largo promedio de tramos:  79.71623296158612\n",
      "Mediana de largo de tramos:  78.0\n",
      "Min de largo de tramos:  2\n",
      "Max de largo de tramos:  149\n"
     ]
    },
    {
     "data": {
      "image/png": "[encoded data removed]",
      "text/plain": [
       "<Figure size 432x288 with 1 Axes>"
      ]
     },
     "metadata": {
      "needs_background": "light"
     },
     "output_type": "display_data"
    },
    {
     "name": "stdout",
     "output_type": "stream",
     "text": [
      "recuperando curva 3\n",
      "Cantidad de tramos:  822\n",
      "Largo promedio de tramos:  78.24209245742092\n",
      "Mediana de largo de tramos:  76.0\n",
      "Min de largo de tramos:  2\n",
      "Max de largo de tramos:  146\n"
     ]
    },
    {
     "data": {
      "image/png": "[encoded data removed]",
      "text/plain": [
       "<Figure size 432x288 with 1 Axes>"
      ]
     },
     "metadata": {
      "needs_background": "light"
     },
     "output_type": "display_data"
    },
    {
     "name": "stdout",
     "output_type": "stream",
     "text": [
      "recuperando curva 4\n",
      "Cantidad de tramos:  863\n",
      "Largo promedio de tramos:  72.9316338354577\n",
      "Mediana de largo de tramos:  66.0\n",
      "Min de largo de tramos:  2\n",
      "Max de largo de tramos:  146\n"
     ]
    },
    {
     "data": {
      "image/png": "[encoded data removed]",
      "text/plain": [
       "<Figure size 432x288 with 1 Axes>"
      ]
     },
     "metadata": {
      "needs_background": "light"
     },
     "output_type": "display_data"
    },
    {
     "name": "stdout",
     "output_type": "stream",
     "text": [
      "recuperando curva 5\n",
      "Cantidad de tramos:  824\n",
      "Largo promedio de tramos:  78.05097087378641\n",
      "Mediana de largo de tramos:  74.0\n",
      "Min de largo de tramos:  2\n",
      "Max de largo de tramos:  149\n"
     ]
    },
    {
     "data": {
      "image/png": "[encoded data removed]",
      "text/plain": [
       "<Figure size 432x288 with 1 Axes>"
      ]
     },
     "metadata": {
      "needs_background": "light"
     },
     "output_type": "display_data"
    },
    {
     "name": "stdout",
     "output_type": "stream",
     "text": [
      "recuperando curva 6\n",
      "Cantidad de tramos:  680\n",
      "Largo promedio de tramos:  80.16323529411764\n",
      "Mediana de largo de tramos:  79.5\n",
      "Min de largo de tramos:  2\n",
      "Max de largo de tramos:  146\n"
     ]
    },
    {
     "data": {
      "image/png": "[encoded data removed]",
      "text/plain": [
       "<Figure size 432x288 with 1 Axes>"
      ]
     },
     "metadata": {
      "needs_background": "light"
     },
     "output_type": "display_data"
    },
    {
     "name": "stdout",
     "output_type": "stream",
     "text": [
      "recuperando curva 7\n",
      "Cantidad de tramos:  843\n",
      "Largo promedio de tramos:  76.26453143534994\n",
      "Mediana de largo de tramos:  71.0\n",
      "Min de largo de tramos:  2\n",
      "Max de largo de tramos:  149\n"
     ]
    },
    {
     "data": {
      "image/png": "[encoded data removed]",
      "text/plain": [
       "<Figure size 432x288 with 1 Axes>"
      ]
     },
     "metadata": {
      "needs_background": "light"
     },
     "output_type": "display_data"
    },
    {
     "name": "stdout",
     "output_type": "stream",
     "text": [
      "recuperando curva 8\n",
      "Cantidad de tramos:  818\n",
      "Largo promedio de tramos:  78.62713936430318\n",
      "Mediana de largo de tramos:  78.0\n",
      "Min de largo de tramos:  2\n",
      "Max de largo de tramos:  149\n"
     ]
    },
    {
     "data": {
      "image/png": "[encoded data removed]",
      "text/plain": [
       "<Figure size 432x288 with 1 Axes>"
      ]
     },
     "metadata": {
      "needs_background": "light"
     },
     "output_type": "display_data"
    },
    {
     "name": "stdout",
     "output_type": "stream",
     "text": [
      "recuperando curva 9\n",
      "Cantidad de tramos:  822\n",
      "Largo promedio de tramos:  74.98418491484185\n",
      "Mediana de largo de tramos:  69.5\n",
      "Min de largo de tramos:  2\n",
      "Max de largo de tramos:  149\n"
     ]
    },
    {
     "data": {
      "image/png": "[encoded data removed]",
      "text/plain": [
       "<Figure size 432x288 with 1 Axes>"
      ]
     },
     "metadata": {
      "needs_background": "light"
     },
     "output_type": "display_data"
    },
    {
     "name": "stdout",
     "output_type": "stream",
     "text": [
      "recuperando curva 10\n",
      "Cantidad de tramos:  160\n",
      "Largo promedio de tramos:  82.05\n",
      "Mediana de largo de tramos:  88.0\n",
      "Min de largo de tramos:  2\n",
      "Max de largo de tramos:  145\n"
     ]
    },
    {
     "data": {
      "image/png": "[encoded data removed]",
      "text/plain": [
       "<Figure size 432x288 with 1 Axes>"
      ]
     },
     "metadata": {
      "needs_background": "light"
     },
     "output_type": "display_data"
    },
    {
     "name": "stdout",
     "output_type": "stream",
     "text": [
      "recuperando curva 11\n",
      "Cantidad de tramos:  815\n",
      "Largo promedio de tramos:  78.92515337423313\n",
      "Mediana de largo de tramos:  76.0\n",
      "Min de largo de tramos:  2\n",
      "Max de largo de tramos:  149\n"
     ]
    },
    {
     "data": {
      "image/png": "[encoded data removed]",
      "text/plain": [
       "<Figure size 432x288 with 1 Axes>"
      ]
     },
     "metadata": {
      "needs_background": "light"
     },
     "output_type": "display_data"
    },
    {
     "name": "stdout",
     "output_type": "stream",
     "text": [
      "recuperando curva 12\n",
      "Cantidad de tramos:  825\n",
      "Largo promedio de tramos:  77.94787878787879\n",
      "Mediana de largo de tramos:  76.0\n",
      "Min de largo de tramos:  2\n",
      "Max de largo de tramos:  149\n"
     ]
    },
    {
     "data": {
      "image/png": "[encoded data removed]",
      "text/plain": [
       "<Figure size 432x288 with 1 Axes>"
      ]
     },
     "metadata": {
      "needs_background": "light"
     },
     "output_type": "display_data"
    },
    {
     "name": "stdout",
     "output_type": "stream",
     "text": [
      "recuperando curva 13\n",
      "Cantidad de tramos:  831\n",
      "Largo promedio de tramos:  77.38146811070999\n",
      "Mediana de largo de tramos:  74.0\n",
      "Min de largo de tramos:  2\n",
      "Max de largo de tramos:  149\n"
     ]
    },
    {
     "data": {
      "image/png": "[encoded data removed]",
      "text/plain": [
       "<Figure size 432x288 with 1 Axes>"
      ]
     },
     "metadata": {
      "needs_background": "light"
     },
     "output_type": "display_data"
    },
    {
     "name": "stdout",
     "output_type": "stream",
     "text": [
      "recuperando curva 14\n",
      "Cantidad de tramos:  801\n",
      "Largo promedio de tramos:  80.32209737827715\n",
      "Mediana de largo de tramos:  80.0\n",
      "Min de largo de tramos:  2\n",
      "Max de largo de tramos:  149\n"
     ]
    },
    {
     "data": {
      "image/png": "[encoded data removed]",
      "text/plain": [
       "<Figure size 432x288 with 1 Axes>"
      ]
     },
     "metadata": {
      "needs_background": "light"
     },
     "output_type": "display_data"
    },
    {
     "name": "stdout",
     "output_type": "stream",
     "text": [
      "recuperando curva 15\n",
      "Cantidad de tramos:  857\n",
      "Largo promedio de tramos:  72.44690781796966\n",
      "Mediana de largo de tramos:  62.0\n",
      "Min de largo de tramos:  2\n",
      "Max de largo de tramos:  149\n"
     ]
    },
    {
     "data": {
      "image/png": "[encoded data removed]",
      "text/plain": [
       "<Figure size 432x288 with 1 Axes>"
      ]
     },
     "metadata": {
      "needs_background": "light"
     },
     "output_type": "display_data"
    },
    {
     "name": "stdout",
     "output_type": "stream",
     "text": [
      "recuperando curva 16\n",
      "Cantidad de tramos:  812\n",
      "Largo promedio de tramos:  79.18349753694581\n",
      "Mediana de largo de tramos:  78.0\n",
      "Min de largo de tramos:  2\n",
      "Max de largo de tramos:  149\n"
     ]
    },
    {
     "data": {
      "image/png": "[encoded data removed]",
      "text/plain": [
       "<Figure size 432x288 with 1 Axes>"
      ]
     },
     "metadata": {
      "needs_background": "light"
     },
     "output_type": "display_data"
    },
    {
     "name": "stdout",
     "output_type": "stream",
     "text": [
      "recuperando curva 17\n",
      "Cantidad de tramos:  912\n",
      "Largo promedio de tramos:  67.91228070175438\n",
      "Mediana de largo de tramos:  58.0\n",
      "Min de largo de tramos:  2\n",
      "Max de largo de tramos:  146\n"
     ]
    },
    {
     "data": {
      "image/png": "[encoded data removed]",
      "text/plain": [
       "<Figure size 432x288 with 1 Axes>"
      ]
     },
     "metadata": {
      "needs_background": "light"
     },
     "output_type": "display_data"
    },
    {
     "name": "stdout",
     "output_type": "stream",
     "text": [
      "recuperando curva 18\n",
      "Cantidad de tramos:  832\n",
      "Largo promedio de tramos:  77.28966346153847\n",
      "Mediana de largo de tramos:  75.0\n",
      "Min de largo de tramos:  2\n",
      "Max de largo de tramos:  149\n"
     ]
    },
    {
     "data": {
      "image/png": "[encoded data removed]",
      "text/plain": [
       "<Figure size 432x288 with 1 Axes>"
      ]
     },
     "metadata": {
      "needs_background": "light"
     },
     "output_type": "display_data"
    },
    {
     "name": "stdout",
     "output_type": "stream",
     "text": [
      "recuperando curva 19\n",
      "Cantidad de tramos:  816\n",
      "Largo promedio de tramos:  78.82107843137256\n",
      "Mediana de largo de tramos:  78.0\n",
      "Min de largo de tramos:  2\n",
      "Max de largo de tramos:  149\n"
     ]
    },
    {
     "data": {
      "image/png": "[encoded data removed]",
      "text/plain": [
       "<Figure size 432x288 with 1 Axes>"
      ]
     },
     "metadata": {
      "needs_background": "light"
     },
     "output_type": "display_data"
    },
    {
     "name": "stdout",
     "output_type": "stream",
     "text": [
      "recuperando curva 20\n",
      "Cantidad de tramos:  1017\n",
      "Largo promedio de tramos:  57.44051130776794\n",
      "Mediana de largo de tramos:  47.0\n",
      "Min de largo de tramos:  2\n",
      "Max de largo de tramos:  149\n"
     ]
    },
    {
     "data": {
      "image/png": "[encoded data removed]",
      "text/plain": [
       "<Figure size 432x288 with 1 Axes>"
      ]
     },
     "metadata": {
      "needs_background": "light"
     },
     "output_type": "display_data"
    },
    {
     "name": "stdout",
     "output_type": "stream",
     "text": [
      "CPU times: user 1min 25s, sys: 6.16 s, total: 1min 31s\n",
      "Wall time: 7.14 s\n"
     ]
    }
   ],
   "source": [
    "%%time\n",
    "\n",
    "i=0\n",
    "for lc_our_detrend in our_detrends[:20]:   \n",
    "    print (\"recuperando curva\",i+1)\n",
    "    fluxs = prepare_lc(lc_our_detrend) #divide by min\n",
    "    lc_tramos =  extract_nans(fluxs) #extract nans\n",
    "    \n",
    "    transition_m = manual_HMM(lc_tramos, n_sta_up=10, n_sta_low=10) #si se dejan 5 arriba y 10 abajo cambia harto...\n",
    "\n",
    "    i+=1\n",
    "    plt.imshow(transition_m, cmap='RdPu', vmin=0, vmax=1) #el plot se ve raro por esto..\n",
    "    plt.show()"
   ]
  },
  {
   "cell_type": "code",
   "execution_count": 13,
   "metadata": {},
   "outputs": [
    {
     "data": {
      "image/png": "[encoded data removed]",
      "text/plain": [
       "<Figure size 432x288 with 1 Axes>"
      ]
     },
     "metadata": {
      "needs_background": "light"
     },
     "output_type": "display_data"
    },
    {
     "data": {
      "image/png": "[encoded data removed]",
      "text/plain": [
       "<Figure size 432x288 with 1 Axes>"
      ]
     },
     "metadata": {
      "needs_background": "light"
     },
     "output_type": "display_data"
    },
    {
     "name": "stdout",
     "output_type": "stream",
     "text": [
      "(20, 20)\n"
     ]
    }
   ],
   "source": [
    "number = 20\n",
    "\n",
    "MTF_u10_d10_inv = np.load('/work/work_teamEXOPLANET/MTF_margarita/invertidos/MTF_u10_d10.npy')  \n",
    "MTF_u10_d10_noinv = np.load('/work/work_teamEXOPLANET/MTF_margarita/no_invertidos/MTF_u10_d10.npy')  \n",
    "plt.imshow(MTF_u10_d10_noinv[number], cmap='RdPu', vmin=0, vmax=1) \n",
    "plt.show()\n",
    "plt.imshow(MTF_u10_d10_inv[number], cmap='RdPu', vmin=0, vmax=1)\n",
    "plt.show()\n",
    "\n",
    "print(MTF_u10_d10_inv[number].shape)"
   ]
  },
  {
   "cell_type": "code",
   "execution_count": 14,
   "metadata": {
    "scrolled": false
   },
   "outputs": [
    {
     "data": {
      "image/png": "[encoded data removed]",
      "text/plain": [
       "<Figure size 432x288 with 1 Axes>"
      ]
     },
     "metadata": {
      "needs_background": "light"
     },
     "output_type": "display_data"
    },
    {
     "data": {
      "image/png": "[encoded data removed]",
      "text/plain": [
       "<Figure size 432x288 with 1 Axes>"
      ]
     },
     "metadata": {
      "needs_background": "light"
     },
     "output_type": "display_data"
    },
    {
     "name": "stdout",
     "output_type": "stream",
     "text": [
      "(40, 40)\n"
     ]
    }
   ],
   "source": [
    "number = 20\n",
    "\n",
    "MTF_u10_d10_inv = np.load('/work/work_teamEXOPLANET/MTF_margarita/invertidos/MTF_u10_d30.npy')  \n",
    "MTF_u10_d10_noinv = np.load('/work/work_teamEXOPLANET/MTF_margarita/no_invertidos/MTF_u10_d30.npy')  \n",
    "plt.imshow(MTF_u10_d10_noinv[number], cmap='RdPu', vmin=0, vmax=1) \n",
    "plt.show()\n",
    "plt.imshow(MTF_u10_d10_inv[number], cmap='RdPu', vmin=0, vmax=1)\n",
    "plt.show()\n",
    "\n",
    "print(MTF_u10_d10_inv[number].shape)"
   ]
  },
  {
   "cell_type": "code",
   "execution_count": 15,
   "metadata": {},
   "outputs": [],
   "source": [
    "img_nor = MTF_u10_d10_noinv[2]\n",
    "img_inv = MTF_u10_d10_inv[2]"
   ]
  },
  {
   "cell_type": "code",
   "execution_count": 16,
   "metadata": {},
   "outputs": [
    {
     "data": {
      "text/plain": [
       "(8054, 40, 40)"
      ]
     },
     "execution_count": 16,
     "metadata": {},
     "output_type": "execute_result"
    }
   ],
   "source": [
    "MTF_u10_d10_inv.shape"
   ]
  },
  {
   "cell_type": "code",
   "execution_count": 17,
   "metadata": {},
   "outputs": [
    {
     "data": {
      "text/html": [
       "<div>\n",
       "<style scoped>\n",
       "    .dataframe tbody tr th:only-of-type {\n",
       "        vertical-align: middle;\n",
       "    }\n",
       "\n",
       "    .dataframe tbody tr th {\n",
       "        vertical-align: top;\n",
       "    }\n",
       "\n",
       "    .dataframe thead th {\n",
       "        text-align: right;\n",
       "    }\n",
       "</style>\n",
       "<table border=\"1\" class=\"dataframe\">\n",
       "  <thead>\n",
       "    <tr style=\"text-align: right;\">\n",
       "      <th></th>\n",
       "      <th>Kepler ID</th>\n",
       "      <th>KOI Name</th>\n",
       "      <th>Kepler Name</th>\n",
       "      <th>KOI Number</th>\n",
       "      <th>Kepler Disposition</th>\n",
       "      <th>NExScI Disposition</th>\n",
       "      <th>RA (J2000)</th>\n",
       "      <th>RA Error</th>\n",
       "      <th>Dec (J2000)</th>\n",
       "      <th>Dec Error</th>\n",
       "      <th>...</th>\n",
       "      <th>Contamination Flag</th>\n",
       "      <th>Insolation Flux</th>\n",
       "      <th>Insolation Flux err1</th>\n",
       "      <th>Insolation Flux err2</th>\n",
       "      <th>Fitted Stellar Density</th>\n",
       "      <th>Fitted Stellar Density err1</th>\n",
       "      <th>Fitted Stellar Density err2</th>\n",
       "      <th>Planetary Fit</th>\n",
       "      <th>Disposition Score</th>\n",
       "      <th>File Name</th>\n",
       "    </tr>\n",
       "  </thead>\n",
       "  <tbody>\n",
       "    <tr>\n",
       "      <th>0</th>\n",
       "      <td>757450</td>\n",
       "      <td>K00889.01</td>\n",
       "      <td>Kepler-75 b</td>\n",
       "      <td>889.01</td>\n",
       "      <td>CANDIDATE</td>\n",
       "      <td>CONFIRMED</td>\n",
       "      <td>19 24 33.024</td>\n",
       "      <td>0.0</td>\n",
       "      <td>+36 34 38.57</td>\n",
       "      <td>0.0</td>\n",
       "      <td>...</td>\n",
       "      <td>0</td>\n",
       "      <td>83.21</td>\n",
       "      <td>16.69</td>\n",
       "      <td>-13.87</td>\n",
       "      <td>11.62061</td>\n",
       "      <td>0.20683</td>\n",
       "      <td>-0.40258</td>\n",
       "      <td>LS+MCMC</td>\n",
       "      <td>0.999</td>\n",
       "      <td>kplr000757450-20160128150956_dvt.fits</td>\n",
       "    </tr>\n",
       "    <tr>\n",
       "      <th>1</th>\n",
       "      <td>892772</td>\n",
       "      <td>K01009.01</td>\n",
       "      <td>NaN</td>\n",
       "      <td>1009.01</td>\n",
       "      <td>FALSE POSITIVE</td>\n",
       "      <td>FALSE POSITIVE</td>\n",
       "      <td>19 24 36.811</td>\n",
       "      <td>0.0</td>\n",
       "      <td>+36 40 43.83</td>\n",
       "      <td>0.0</td>\n",
       "      <td>...</td>\n",
       "      <td>0</td>\n",
       "      <td>119.70</td>\n",
       "      <td>48.69</td>\n",
       "      <td>-36.91</td>\n",
       "      <td>0.88510</td>\n",
       "      <td>0.10080</td>\n",
       "      <td>-0.39457</td>\n",
       "      <td>LS+MCMC</td>\n",
       "      <td>0.000</td>\n",
       "      <td>kplr000892772-20160128150956_dvt.fits</td>\n",
       "    </tr>\n",
       "    <tr>\n",
       "      <th>2</th>\n",
       "      <td>1025986</td>\n",
       "      <td>K07621.01</td>\n",
       "      <td>NaN</td>\n",
       "      <td>7621.01</td>\n",
       "      <td>FALSE POSITIVE</td>\n",
       "      <td>FALSE POSITIVE</td>\n",
       "      <td>19 24 08.086</td>\n",
       "      <td>0.0</td>\n",
       "      <td>+36 46 15.75</td>\n",
       "      <td>0.0</td>\n",
       "      <td>...</td>\n",
       "      <td>0</td>\n",
       "      <td>2.00</td>\n",
       "      <td>0.92</td>\n",
       "      <td>-0.76</td>\n",
       "      <td>33.55994</td>\n",
       "      <td>16.58298</td>\n",
       "      <td>-31.53180</td>\n",
       "      <td>LS+MCMC</td>\n",
       "      <td>0.000</td>\n",
       "      <td>kplr001025986-20160128150956_dvt.fits</td>\n",
       "    </tr>\n",
       "    <tr>\n",
       "      <th>3</th>\n",
       "      <td>1026032</td>\n",
       "      <td>K06252.01</td>\n",
       "      <td>NaN</td>\n",
       "      <td>6252.01</td>\n",
       "      <td>FALSE POSITIVE</td>\n",
       "      <td>FALSE POSITIVE</td>\n",
       "      <td>19 24 10.577</td>\n",
       "      <td>0.0</td>\n",
       "      <td>+36 43 45.38</td>\n",
       "      <td>0.0</td>\n",
       "      <td>...</td>\n",
       "      <td>0</td>\n",
       "      <td>98.60</td>\n",
       "      <td>52.46</td>\n",
       "      <td>-21.18</td>\n",
       "      <td>0.73874</td>\n",
       "      <td>0.00021</td>\n",
       "      <td>-0.00735</td>\n",
       "      <td>LS+MCMC</td>\n",
       "      <td>0.000</td>\n",
       "      <td>kplr001026032-20160128150956_dvt.fits</td>\n",
       "    </tr>\n",
       "    <tr>\n",
       "      <th>4</th>\n",
       "      <td>1026957</td>\n",
       "      <td>K00958.01</td>\n",
       "      <td>NaN</td>\n",
       "      <td>958.01</td>\n",
       "      <td>CANDIDATE</td>\n",
       "      <td>CANDIDATE</td>\n",
       "      <td>19 25 01.078</td>\n",
       "      <td>0.0</td>\n",
       "      <td>+36 44 37.00</td>\n",
       "      <td>0.0</td>\n",
       "      <td>...</td>\n",
       "      <td>0</td>\n",
       "      <td>13.18</td>\n",
       "      <td>3.00</td>\n",
       "      <td>-1.98</td>\n",
       "      <td>102.86534</td>\n",
       "      <td>5.47239</td>\n",
       "      <td>-30.25813</td>\n",
       "      <td>LS+MCMC</td>\n",
       "      <td>1.000</td>\n",
       "      <td>kplr001026957-20160128150956_dvt.fits</td>\n",
       "    </tr>\n",
       "    <tr>\n",
       "      <th>5</th>\n",
       "      <td>1161345</td>\n",
       "      <td>K00984.01</td>\n",
       "      <td>NaN</td>\n",
       "      <td>984.01</td>\n",
       "      <td>CANDIDATE</td>\n",
       "      <td>CANDIDATE</td>\n",
       "      <td>19 24 11.712</td>\n",
       "      <td>0.0</td>\n",
       "      <td>+36 50 23.58</td>\n",
       "      <td>0.0</td>\n",
       "      <td>...</td>\n",
       "      <td>0</td>\n",
       "      <td>186.31</td>\n",
       "      <td>56.73</td>\n",
       "      <td>-28.39</td>\n",
       "      <td>8.16471</td>\n",
       "      <td>4.69586</td>\n",
       "      <td>-1.63188</td>\n",
       "      <td>LS+MCMC</td>\n",
       "      <td>0.711</td>\n",
       "      <td>kplr001161345-20160128150956_dvt.fits</td>\n",
       "    </tr>\n",
       "    <tr>\n",
       "      <th>6</th>\n",
       "      <td>1293031</td>\n",
       "      <td>K04162.01</td>\n",
       "      <td>NaN</td>\n",
       "      <td>4162.01</td>\n",
       "      <td>FALSE POSITIVE</td>\n",
       "      <td>FALSE POSITIVE</td>\n",
       "      <td>19 24 05.033</td>\n",
       "      <td>0.0</td>\n",
       "      <td>+36 54 13.13</td>\n",
       "      <td>0.0</td>\n",
       "      <td>...</td>\n",
       "      <td>0</td>\n",
       "      <td>149399.93</td>\n",
       "      <td>35721.31</td>\n",
       "      <td>-106451.43</td>\n",
       "      <td>0.06737</td>\n",
       "      <td>0.00658</td>\n",
       "      <td>-0.00461</td>\n",
       "      <td>LS+MCMC</td>\n",
       "      <td>0.000</td>\n",
       "      <td>kplr001293031-20160128150956_dvt.fits</td>\n",
       "    </tr>\n",
       "    <tr>\n",
       "      <th>7</th>\n",
       "      <td>1293046</td>\n",
       "      <td>K07622.01</td>\n",
       "      <td>NaN</td>\n",
       "      <td>7622.01</td>\n",
       "      <td>FALSE POSITIVE</td>\n",
       "      <td>FALSE POSITIVE</td>\n",
       "      <td>19 24 06.372</td>\n",
       "      <td>0.0</td>\n",
       "      <td>+36 54 58.93</td>\n",
       "      <td>0.0</td>\n",
       "      <td>...</td>\n",
       "      <td>0</td>\n",
       "      <td>3.44</td>\n",
       "      <td>0.94</td>\n",
       "      <td>-0.97</td>\n",
       "      <td>34.69388</td>\n",
       "      <td>13.11193</td>\n",
       "      <td>-21.13275</td>\n",
       "      <td>LS+MCMC</td>\n",
       "      <td>0.000</td>\n",
       "      <td>kplr001293046-20160128150956_dvt.fits</td>\n",
       "    </tr>\n",
       "    <tr>\n",
       "      <th>8</th>\n",
       "      <td>1431122</td>\n",
       "      <td>K00994.01</td>\n",
       "      <td>NaN</td>\n",
       "      <td>994.01</td>\n",
       "      <td>CANDIDATE</td>\n",
       "      <td>CANDIDATE</td>\n",
       "      <td>19 24 34.198</td>\n",
       "      <td>0.0</td>\n",
       "      <td>+37 03 40.76</td>\n",
       "      <td>0.0</td>\n",
       "      <td>...</td>\n",
       "      <td>0</td>\n",
       "      <td>283.62</td>\n",
       "      <td>100.01</td>\n",
       "      <td>-78.24</td>\n",
       "      <td>0.05666</td>\n",
       "      <td>3.20152</td>\n",
       "      <td>-0.06620</td>\n",
       "      <td>LS+MCMC</td>\n",
       "      <td>0.990</td>\n",
       "      <td>kplr001431122-20160128150956_dvt.fits</td>\n",
       "    </tr>\n",
       "    <tr>\n",
       "      <th>9</th>\n",
       "      <td>1432214</td>\n",
       "      <td>K00998.01</td>\n",
       "      <td>NaN</td>\n",
       "      <td>998.01</td>\n",
       "      <td>FALSE POSITIVE</td>\n",
       "      <td>FALSE POSITIVE</td>\n",
       "      <td>19 25 31.846</td>\n",
       "      <td>0.0</td>\n",
       "      <td>+37 04 22.76</td>\n",
       "      <td>0.0</td>\n",
       "      <td>...</td>\n",
       "      <td>0</td>\n",
       "      <td>4.68</td>\n",
       "      <td>2.07</td>\n",
       "      <td>-1.12</td>\n",
       "      <td>17.58377</td>\n",
       "      <td>0.76473</td>\n",
       "      <td>-0.48796</td>\n",
       "      <td>LS+MCMC</td>\n",
       "      <td>0.000</td>\n",
       "      <td>kplr001432214-20160128150956_dvt.fits</td>\n",
       "    </tr>\n",
       "    <tr>\n",
       "      <th>10</th>\n",
       "      <td>1432789</td>\n",
       "      <td>K00992.01</td>\n",
       "      <td>Kepler-745 b</td>\n",
       "      <td>992.01</td>\n",
       "      <td>CANDIDATE</td>\n",
       "      <td>CONFIRMED</td>\n",
       "      <td>19 25 59.861</td>\n",
       "      <td>0.0</td>\n",
       "      <td>+37 03 33.41</td>\n",
       "      <td>0.0</td>\n",
       "      <td>...</td>\n",
       "      <td>0</td>\n",
       "      <td>177.83</td>\n",
       "      <td>74.92</td>\n",
       "      <td>-54.50</td>\n",
       "      <td>0.48317</td>\n",
       "      <td>0.01261</td>\n",
       "      <td>-0.19180</td>\n",
       "      <td>LS+MCMC</td>\n",
       "      <td>0.848</td>\n",
       "      <td>kplr001432789-20160128150956_dvt.fits</td>\n",
       "    </tr>\n",
       "    <tr>\n",
       "      <th>11</th>\n",
       "      <td>1432789</td>\n",
       "      <td>K00992.02</td>\n",
       "      <td>NaN</td>\n",
       "      <td>992.02</td>\n",
       "      <td>CANDIDATE</td>\n",
       "      <td>CANDIDATE</td>\n",
       "      <td>19 25 59.861</td>\n",
       "      <td>0.0</td>\n",
       "      <td>+37 03 33.41</td>\n",
       "      <td>0.0</td>\n",
       "      <td>...</td>\n",
       "      <td>0</td>\n",
       "      <td>499.41</td>\n",
       "      <td>210.40</td>\n",
       "      <td>-153.04</td>\n",
       "      <td>0.58469</td>\n",
       "      <td>0.04511</td>\n",
       "      <td>-0.31824</td>\n",
       "      <td>LS+MCMC</td>\n",
       "      <td>0.961</td>\n",
       "      <td>kplr001432789-20160128150956_dvt.fits</td>\n",
       "    </tr>\n",
       "    <tr>\n",
       "      <th>12</th>\n",
       "      <td>1433962</td>\n",
       "      <td>K00982.01</td>\n",
       "      <td>NaN</td>\n",
       "      <td>982.01</td>\n",
       "      <td>FALSE POSITIVE</td>\n",
       "      <td>FALSE POSITIVE</td>\n",
       "      <td>19 27 02.870</td>\n",
       "      <td>0.0</td>\n",
       "      <td>+37 05 55.10</td>\n",
       "      <td>0.0</td>\n",
       "      <td>...</td>\n",
       "      <td>1</td>\n",
       "      <td>290.51</td>\n",
       "      <td>87.21</td>\n",
       "      <td>-73.46</td>\n",
       "      <td>0.09265</td>\n",
       "      <td>0.00000</td>\n",
       "      <td>0.00000</td>\n",
       "      <td>LS</td>\n",
       "      <td>0.000</td>\n",
       "      <td>kplr001433962-20160128150956_dvt.fits</td>\n",
       "    </tr>\n",
       "    <tr>\n",
       "      <th>13</th>\n",
       "      <td>1433980</td>\n",
       "      <td>K03924.01</td>\n",
       "      <td>NaN</td>\n",
       "      <td>3924.01</td>\n",
       "      <td>FALSE POSITIVE</td>\n",
       "      <td>FALSE POSITIVE</td>\n",
       "      <td>19 27 03.919</td>\n",
       "      <td>0.0</td>\n",
       "      <td>+37 05 49.89</td>\n",
       "      <td>0.0</td>\n",
       "      <td>...</td>\n",
       "      <td>0</td>\n",
       "      <td>6128.09</td>\n",
       "      <td>4886.70</td>\n",
       "      <td>-3736.14</td>\n",
       "      <td>0.06389</td>\n",
       "      <td>0.00061</td>\n",
       "      <td>-0.00083</td>\n",
       "      <td>LS+MCMC</td>\n",
       "      <td>0.000</td>\n",
       "      <td>kplr001433980-20160128150956_dvt.fits</td>\n",
       "    </tr>\n",
       "    <tr>\n",
       "      <th>14</th>\n",
       "      <td>1434395</td>\n",
       "      <td>K07623.01</td>\n",
       "      <td>NaN</td>\n",
       "      <td>7623.01</td>\n",
       "      <td>FALSE POSITIVE</td>\n",
       "      <td>FALSE POSITIVE</td>\n",
       "      <td>19 27 25.555</td>\n",
       "      <td>0.0</td>\n",
       "      <td>+37 03 56.34</td>\n",
       "      <td>0.0</td>\n",
       "      <td>...</td>\n",
       "      <td>0</td>\n",
       "      <td>93172.12</td>\n",
       "      <td>12806.48</td>\n",
       "      <td>-67878.27</td>\n",
       "      <td>1.00737</td>\n",
       "      <td>0.29745</td>\n",
       "      <td>-0.56373</td>\n",
       "      <td>LS+MCMC</td>\n",
       "      <td>0.014</td>\n",
       "      <td>kplr001434395-20160128150956_dvt.fits</td>\n",
       "    </tr>\n",
       "    <tr>\n",
       "      <th>15</th>\n",
       "      <td>1571511</td>\n",
       "      <td>K00362.01</td>\n",
       "      <td>NaN</td>\n",
       "      <td>362.01</td>\n",
       "      <td>FALSE POSITIVE</td>\n",
       "      <td>FALSE POSITIVE</td>\n",
       "      <td>19 23 59.261</td>\n",
       "      <td>0.0</td>\n",
       "      <td>+37 11 57.19</td>\n",
       "      <td>0.0</td>\n",
       "      <td>...</td>\n",
       "      <td>0</td>\n",
       "      <td>101.92</td>\n",
       "      <td>91.75</td>\n",
       "      <td>-33.91</td>\n",
       "      <td>0.31052</td>\n",
       "      <td>0.00269</td>\n",
       "      <td>-0.00269</td>\n",
       "      <td>LS+MCMC</td>\n",
       "      <td>0.004</td>\n",
       "      <td>kplr001571511-20160128150956_dvt.fits</td>\n",
       "    </tr>\n",
       "    <tr>\n",
       "      <th>16</th>\n",
       "      <td>1572948</td>\n",
       "      <td>K04924.01</td>\n",
       "      <td>NaN</td>\n",
       "      <td>4924.01</td>\n",
       "      <td>FALSE POSITIVE</td>\n",
       "      <td>FALSE POSITIVE</td>\n",
       "      <td>19 25 18.595</td>\n",
       "      <td>0.0</td>\n",
       "      <td>+37 07 36.12</td>\n",
       "      <td>0.0</td>\n",
       "      <td>...</td>\n",
       "      <td>0</td>\n",
       "      <td>2630.88</td>\n",
       "      <td>2321.28</td>\n",
       "      <td>-1618.01</td>\n",
       "      <td>0.03844</td>\n",
       "      <td>2.55454</td>\n",
       "      <td>-0.07827</td>\n",
       "      <td>LS+MCMC</td>\n",
       "      <td>0.000</td>\n",
       "      <td>kplr001572948-20160128150956_dvt.fits</td>\n",
       "    </tr>\n",
       "    <tr>\n",
       "      <th>17</th>\n",
       "      <td>1575690</td>\n",
       "      <td>K03658.01</td>\n",
       "      <td>NaN</td>\n",
       "      <td>3658.01</td>\n",
       "      <td>FALSE POSITIVE</td>\n",
       "      <td>FALSE POSITIVE</td>\n",
       "      <td>19 27 31.656</td>\n",
       "      <td>0.0</td>\n",
       "      <td>+37 11 20.80</td>\n",
       "      <td>0.0</td>\n",
       "      <td>...</td>\n",
       "      <td>0</td>\n",
       "      <td>88.43</td>\n",
       "      <td>15.77</td>\n",
       "      <td>-18.10</td>\n",
       "      <td>1.46000</td>\n",
       "      <td>200.60458</td>\n",
       "      <td>-0.06139</td>\n",
       "      <td>LS+MCMC</td>\n",
       "      <td>0.000</td>\n",
       "      <td>kplr001575690-20160128150956_dvt.fits</td>\n",
       "    </tr>\n",
       "    <tr>\n",
       "      <th>18</th>\n",
       "      <td>1575873</td>\n",
       "      <td>K04359.01</td>\n",
       "      <td>NaN</td>\n",
       "      <td>4359.01</td>\n",
       "      <td>CANDIDATE</td>\n",
       "      <td>CANDIDATE</td>\n",
       "      <td>19 27 42.326</td>\n",
       "      <td>0.0</td>\n",
       "      <td>+37 06 04.65</td>\n",
       "      <td>0.0</td>\n",
       "      <td>...</td>\n",
       "      <td>0</td>\n",
       "      <td>30567.67</td>\n",
       "      <td>18880.37</td>\n",
       "      <td>-17052.93</td>\n",
       "      <td>2.25862</td>\n",
       "      <td>15.02837</td>\n",
       "      <td>-1.46534</td>\n",
       "      <td>LS+MCMC</td>\n",
       "      <td>1.000</td>\n",
       "      <td>kplr001575873-20160128150956_dvt.fits</td>\n",
       "    </tr>\n",
       "    <tr>\n",
       "      <th>19</th>\n",
       "      <td>1717722</td>\n",
       "      <td>K03145.01</td>\n",
       "      <td>NaN</td>\n",
       "      <td>3145.01</td>\n",
       "      <td>CANDIDATE</td>\n",
       "      <td>CANDIDATE</td>\n",
       "      <td>19 22 28.315</td>\n",
       "      <td>0.0</td>\n",
       "      <td>+37 17 20.72</td>\n",
       "      <td>0.0</td>\n",
       "      <td>...</td>\n",
       "      <td>0</td>\n",
       "      <td>95.61</td>\n",
       "      <td>38.11</td>\n",
       "      <td>-21.67</td>\n",
       "      <td>2.61043</td>\n",
       "      <td>4.63396</td>\n",
       "      <td>-2.21540</td>\n",
       "      <td>LS+MCMC</td>\n",
       "      <td>1.000</td>\n",
       "      <td>kplr001717722-20160128150956_dvt.fits</td>\n",
       "    </tr>\n",
       "    <tr>\n",
       "      <th>20</th>\n",
       "      <td>1717722</td>\n",
       "      <td>K03145.02</td>\n",
       "      <td>NaN</td>\n",
       "      <td>3145.02</td>\n",
       "      <td>CANDIDATE</td>\n",
       "      <td>CANDIDATE</td>\n",
       "      <td>19 22 28.315</td>\n",
       "      <td>0.0</td>\n",
       "      <td>+37 17 20.72</td>\n",
       "      <td>0.0</td>\n",
       "      <td>...</td>\n",
       "      <td>0</td>\n",
       "      <td>737.36</td>\n",
       "      <td>293.96</td>\n",
       "      <td>-167.10</td>\n",
       "      <td>3.17024</td>\n",
       "      <td>0.35594</td>\n",
       "      <td>-1.81104</td>\n",
       "      <td>LS+MCMC</td>\n",
       "      <td>0.858</td>\n",
       "      <td>kplr001717722-20160128150956_dvt.fits</td>\n",
       "    </tr>\n",
       "    <tr>\n",
       "      <th>21</th>\n",
       "      <td>1718189</td>\n",
       "      <td>K00993.01</td>\n",
       "      <td>Kepler-262 c</td>\n",
       "      <td>993.01</td>\n",
       "      <td>CANDIDATE</td>\n",
       "      <td>CONFIRMED</td>\n",
       "      <td>19 22 54.881</td>\n",
       "      <td>0.0</td>\n",
       "      <td>+37 15 09.54</td>\n",
       "      <td>0.0</td>\n",
       "      <td>...</td>\n",
       "      <td>0</td>\n",
       "      <td>34.57</td>\n",
       "      <td>26.70</td>\n",
       "      <td>-8.92</td>\n",
       "      <td>2.00195</td>\n",
       "      <td>3.01982</td>\n",
       "      <td>-0.14022</td>\n",
       "      <td>LS+MCMC</td>\n",
       "      <td>1.000</td>\n",
       "      <td>kplr001718189-20160128150956_dvt.fits</td>\n",
       "    </tr>\n",
       "    <tr>\n",
       "      <th>22</th>\n",
       "      <td>1718189</td>\n",
       "      <td>K00993.02</td>\n",
       "      <td>Kepler-262 b</td>\n",
       "      <td>993.02</td>\n",
       "      <td>CANDIDATE</td>\n",
       "      <td>CONFIRMED</td>\n",
       "      <td>19 22 54.881</td>\n",
       "      <td>0.0</td>\n",
       "      <td>+37 15 09.54</td>\n",
       "      <td>0.0</td>\n",
       "      <td>...</td>\n",
       "      <td>0</td>\n",
       "      <td>68.66</td>\n",
       "      <td>53.04</td>\n",
       "      <td>-17.72</td>\n",
       "      <td>1.22851</td>\n",
       "      <td>2.18168</td>\n",
       "      <td>-1.19934</td>\n",
       "      <td>LS+MCMC</td>\n",
       "      <td>1.000</td>\n",
       "      <td>kplr001718189-20160128150956_dvt.fits</td>\n",
       "    </tr>\n",
       "    <tr>\n",
       "      <th>23</th>\n",
       "      <td>1718189</td>\n",
       "      <td>K00993.03</td>\n",
       "      <td>NaN</td>\n",
       "      <td>993.03</td>\n",
       "      <td>FALSE POSITIVE</td>\n",
       "      <td>FALSE POSITIVE</td>\n",
       "      <td>19 22 54.881</td>\n",
       "      <td>0.0</td>\n",
       "      <td>+37 15 09.54</td>\n",
       "      <td>0.0</td>\n",
       "      <td>...</td>\n",
       "      <td>0</td>\n",
       "      <td>5.50</td>\n",
       "      <td>4.24</td>\n",
       "      <td>-1.42</td>\n",
       "      <td>2.92038</td>\n",
       "      <td>4.37290</td>\n",
       "      <td>-0.41183</td>\n",
       "      <td>LS+MCMC</td>\n",
       "      <td>0.149</td>\n",
       "      <td>kplr001718189-20160128150956_dvt.fits</td>\n",
       "    </tr>\n",
       "    <tr>\n",
       "      <th>24</th>\n",
       "      <td>1718958</td>\n",
       "      <td>K04053.01</td>\n",
       "      <td>NaN</td>\n",
       "      <td>4053.01</td>\n",
       "      <td>CANDIDATE</td>\n",
       "      <td>CANDIDATE</td>\n",
       "      <td>19 23 40.642</td>\n",
       "      <td>0.0</td>\n",
       "      <td>+37 17 13.81</td>\n",
       "      <td>0.0</td>\n",
       "      <td>...</td>\n",
       "      <td>0</td>\n",
       "      <td>1968.38</td>\n",
       "      <td>836.24</td>\n",
       "      <td>-503.00</td>\n",
       "      <td>1.95904</td>\n",
       "      <td>1.98658</td>\n",
       "      <td>-1.91843</td>\n",
       "      <td>LS+MCMC</td>\n",
       "      <td>0.985</td>\n",
       "      <td>kplr001718958-20160128150956_dvt.fits</td>\n",
       "    </tr>\n",
       "    <tr>\n",
       "      <th>25</th>\n",
       "      <td>1721157</td>\n",
       "      <td>K04644.01</td>\n",
       "      <td>NaN</td>\n",
       "      <td>4644.01</td>\n",
       "      <td>CANDIDATE</td>\n",
       "      <td>CANDIDATE</td>\n",
       "      <td>19 25 49.762</td>\n",
       "      <td>0.0</td>\n",
       "      <td>+37 12 24.63</td>\n",
       "      <td>0.0</td>\n",
       "      <td>...</td>\n",
       "      <td>0</td>\n",
       "      <td>206.55</td>\n",
       "      <td>91.39</td>\n",
       "      <td>-46.68</td>\n",
       "      <td>6.48403</td>\n",
       "      <td>5.43333</td>\n",
       "      <td>-3.39902</td>\n",
       "      <td>LS+MCMC</td>\n",
       "      <td>0.970</td>\n",
       "      <td>kplr001721157-20160128150956_dvt.fits</td>\n",
       "    </tr>\n",
       "    <tr>\n",
       "      <th>26</th>\n",
       "      <td>1722276</td>\n",
       "      <td>K01008.01</td>\n",
       "      <td>NaN</td>\n",
       "      <td>1008.01</td>\n",
       "      <td>FALSE POSITIVE</td>\n",
       "      <td>FALSE POSITIVE</td>\n",
       "      <td>19 26 47.213</td>\n",
       "      <td>0.0</td>\n",
       "      <td>+37 14 16.95</td>\n",
       "      <td>0.0</td>\n",
       "      <td>...</td>\n",
       "      <td>0</td>\n",
       "      <td>1.81</td>\n",
       "      <td>1.35</td>\n",
       "      <td>-0.50</td>\n",
       "      <td>25.41419</td>\n",
       "      <td>481.51691</td>\n",
       "      <td>-6.54166</td>\n",
       "      <td>LS+MCMC</td>\n",
       "      <td>0.000</td>\n",
       "      <td>kplr001722276-20160128150956_dvt.fits</td>\n",
       "    </tr>\n",
       "    <tr>\n",
       "      <th>27</th>\n",
       "      <td>1723078</td>\n",
       "      <td>K07624.01</td>\n",
       "      <td>NaN</td>\n",
       "      <td>7624.01</td>\n",
       "      <td>CANDIDATE</td>\n",
       "      <td>CANDIDATE</td>\n",
       "      <td>19 27 28.322</td>\n",
       "      <td>0.0</td>\n",
       "      <td>+37 16 11.56</td>\n",
       "      <td>0.0</td>\n",
       "      <td>...</td>\n",
       "      <td>0</td>\n",
       "      <td>12.36</td>\n",
       "      <td>5.55</td>\n",
       "      <td>-8.42</td>\n",
       "      <td>4.04249</td>\n",
       "      <td>14.39050</td>\n",
       "      <td>-3.71379</td>\n",
       "      <td>LS+MCMC</td>\n",
       "      <td>0.246</td>\n",
       "      <td>kplr001723078-20160128150956_dvt.fits</td>\n",
       "    </tr>\n",
       "    <tr>\n",
       "      <th>28</th>\n",
       "      <td>1724513</td>\n",
       "      <td>K04224.01</td>\n",
       "      <td>NaN</td>\n",
       "      <td>4224.01</td>\n",
       "      <td>FALSE POSITIVE</td>\n",
       "      <td>FALSE POSITIVE</td>\n",
       "      <td>19 28 39.566</td>\n",
       "      <td>0.0</td>\n",
       "      <td>+37 16 32.67</td>\n",
       "      <td>0.0</td>\n",
       "      <td>...</td>\n",
       "      <td>0</td>\n",
       "      <td>4299.89</td>\n",
       "      <td>1733.32</td>\n",
       "      <td>-1779.24</td>\n",
       "      <td>2.87132</td>\n",
       "      <td>3.77928</td>\n",
       "      <td>-0.24005</td>\n",
       "      <td>LS+MCMC</td>\n",
       "      <td>0.000</td>\n",
       "      <td>kplr001724513-20160128150956_dvt.fits</td>\n",
       "    </tr>\n",
       "    <tr>\n",
       "      <th>29</th>\n",
       "      <td>1724719</td>\n",
       "      <td>K04212.01</td>\n",
       "      <td>Kepler-1569 b</td>\n",
       "      <td>4212.01</td>\n",
       "      <td>CANDIDATE</td>\n",
       "      <td>CONFIRMED</td>\n",
       "      <td>19 28 49.130</td>\n",
       "      <td>0.0</td>\n",
       "      <td>+37 13 16.38</td>\n",
       "      <td>0.0</td>\n",
       "      <td>...</td>\n",
       "      <td>0</td>\n",
       "      <td>528.14</td>\n",
       "      <td>248.86</td>\n",
       "      <td>-168.22</td>\n",
       "      <td>0.12599</td>\n",
       "      <td>1.09611</td>\n",
       "      <td>-0.09869</td>\n",
       "      <td>LS+MCMC</td>\n",
       "      <td>0.956</td>\n",
       "      <td>kplr001724719-20160128150956_dvt.fits</td>\n",
       "    </tr>\n",
       "    <tr>\n",
       "      <th>...</th>\n",
       "      <td>...</td>\n",
       "      <td>...</td>\n",
       "      <td>...</td>\n",
       "      <td>...</td>\n",
       "      <td>...</td>\n",
       "      <td>...</td>\n",
       "      <td>...</td>\n",
       "      <td>...</td>\n",
       "      <td>...</td>\n",
       "      <td>...</td>\n",
       "      <td>...</td>\n",
       "      <td>...</td>\n",
       "      <td>...</td>\n",
       "      <td>...</td>\n",
       "      <td>...</td>\n",
       "      <td>...</td>\n",
       "      <td>...</td>\n",
       "      <td>...</td>\n",
       "      <td>...</td>\n",
       "      <td>...</td>\n",
       "      <td>...</td>\n",
       "    </tr>\n",
       "    <tr>\n",
       "      <th>8024</th>\n",
       "      <td>12600735</td>\n",
       "      <td>K00548.01</td>\n",
       "      <td>Kepler-596 b</td>\n",
       "      <td>548.01</td>\n",
       "      <td>CANDIDATE</td>\n",
       "      <td>CONFIRMED</td>\n",
       "      <td>19 18 00.161</td>\n",
       "      <td>0.0</td>\n",
       "      <td>+51 41 08.63</td>\n",
       "      <td>0.0</td>\n",
       "      <td>...</td>\n",
       "      <td>0</td>\n",
       "      <td>65.37</td>\n",
       "      <td>27.07</td>\n",
       "      <td>-14.54</td>\n",
       "      <td>2.80258</td>\n",
       "      <td>0.04590</td>\n",
       "      <td>-0.79139</td>\n",
       "      <td>LS+MCMC</td>\n",
       "      <td>1.000</td>\n",
       "      <td>kplr012600735-20160128150956_dvt.fits</td>\n",
       "    </tr>\n",
       "    <tr>\n",
       "      <th>8025</th>\n",
       "      <td>12600735</td>\n",
       "      <td>K00548.02</td>\n",
       "      <td>NaN</td>\n",
       "      <td>548.02</td>\n",
       "      <td>CANDIDATE</td>\n",
       "      <td>CANDIDATE</td>\n",
       "      <td>19 18 00.161</td>\n",
       "      <td>0.0</td>\n",
       "      <td>+51 41 08.63</td>\n",
       "      <td>0.0</td>\n",
       "      <td>...</td>\n",
       "      <td>0</td>\n",
       "      <td>348.11</td>\n",
       "      <td>144.15</td>\n",
       "      <td>-77.43</td>\n",
       "      <td>2.60910</td>\n",
       "      <td>15.43496</td>\n",
       "      <td>-1.77310</td>\n",
       "      <td>LS+MCMC</td>\n",
       "      <td>0.813</td>\n",
       "      <td>kplr012600735-20160128150956_dvt.fits</td>\n",
       "    </tr>\n",
       "    <tr>\n",
       "      <th>8026</th>\n",
       "      <td>12602314</td>\n",
       "      <td>K02853.01</td>\n",
       "      <td>NaN</td>\n",
       "      <td>2853.01</td>\n",
       "      <td>CANDIDATE</td>\n",
       "      <td>CANDIDATE</td>\n",
       "      <td>19 21 43.975</td>\n",
       "      <td>0.0</td>\n",
       "      <td>+51 37 33.75</td>\n",
       "      <td>0.0</td>\n",
       "      <td>...</td>\n",
       "      <td>0</td>\n",
       "      <td>782.45</td>\n",
       "      <td>120.58</td>\n",
       "      <td>-160.93</td>\n",
       "      <td>4.56518</td>\n",
       "      <td>0.45866</td>\n",
       "      <td>-2.12603</td>\n",
       "      <td>LS+MCMC</td>\n",
       "      <td>0.992</td>\n",
       "      <td>kplr012602314-20160128150956_dvt.fits</td>\n",
       "    </tr>\n",
       "    <tr>\n",
       "      <th>8027</th>\n",
       "      <td>12602568</td>\n",
       "      <td>K01583.01</td>\n",
       "      <td>Kepler-897 b</td>\n",
       "      <td>1583.01</td>\n",
       "      <td>CANDIDATE</td>\n",
       "      <td>CONFIRMED</td>\n",
       "      <td>19 22 20.844</td>\n",
       "      <td>0.0</td>\n",
       "      <td>+51 41 44.95</td>\n",
       "      <td>0.0</td>\n",
       "      <td>...</td>\n",
       "      <td>0</td>\n",
       "      <td>126.56</td>\n",
       "      <td>102.29</td>\n",
       "      <td>-34.32</td>\n",
       "      <td>0.03752</td>\n",
       "      <td>0.62388</td>\n",
       "      <td>-0.01616</td>\n",
       "      <td>LS+MCMC</td>\n",
       "      <td>1.000</td>\n",
       "      <td>kplr012602568-20160128150956_dvt.fits</td>\n",
       "    </tr>\n",
       "    <tr>\n",
       "      <th>8028</th>\n",
       "      <td>12602999</td>\n",
       "      <td>K08082.01</td>\n",
       "      <td>NaN</td>\n",
       "      <td>8082.01</td>\n",
       "      <td>CANDIDATE</td>\n",
       "      <td>CANDIDATE</td>\n",
       "      <td>19 23 29.786</td>\n",
       "      <td>0.0</td>\n",
       "      <td>+51 41 06.65</td>\n",
       "      <td>0.0</td>\n",
       "      <td>...</td>\n",
       "      <td>0</td>\n",
       "      <td>1639.28</td>\n",
       "      <td>881.67</td>\n",
       "      <td>-1030.63</td>\n",
       "      <td>0.29683</td>\n",
       "      <td>0.25963</td>\n",
       "      <td>-0.28450</td>\n",
       "      <td>LS+MCMC</td>\n",
       "      <td>0.973</td>\n",
       "      <td>kplr012602999-20160128150956_dvt.fits</td>\n",
       "    </tr>\n",
       "    <tr>\n",
       "      <th>8029</th>\n",
       "      <td>12643582</td>\n",
       "      <td>K03626.01</td>\n",
       "      <td>NaN</td>\n",
       "      <td>3626.01</td>\n",
       "      <td>FALSE POSITIVE</td>\n",
       "      <td>FALSE POSITIVE</td>\n",
       "      <td>19 13 16.502</td>\n",
       "      <td>0.0</td>\n",
       "      <td>+51 43 31.30</td>\n",
       "      <td>0.0</td>\n",
       "      <td>...</td>\n",
       "      <td>0</td>\n",
       "      <td>15.25</td>\n",
       "      <td>13.05</td>\n",
       "      <td>-4.96</td>\n",
       "      <td>14.62953</td>\n",
       "      <td>0.42735</td>\n",
       "      <td>-1.45954</td>\n",
       "      <td>LS+MCMC</td>\n",
       "      <td>0.000</td>\n",
       "      <td>kplr012643582-20160128150956_dvt.fits</td>\n",
       "    </tr>\n",
       "    <tr>\n",
       "      <th>8030</th>\n",
       "      <td>12643589</td>\n",
       "      <td>K00376.01</td>\n",
       "      <td>NaN</td>\n",
       "      <td>376.01</td>\n",
       "      <td>FALSE POSITIVE</td>\n",
       "      <td>FALSE POSITIVE</td>\n",
       "      <td>19 13 17.153</td>\n",
       "      <td>0.0</td>\n",
       "      <td>+51 43 35.76</td>\n",
       "      <td>0.0</td>\n",
       "      <td>...</td>\n",
       "      <td>1</td>\n",
       "      <td>35.87</td>\n",
       "      <td>33.31</td>\n",
       "      <td>-10.93</td>\n",
       "      <td>1.14810</td>\n",
       "      <td>260.79828</td>\n",
       "      <td>-0.80910</td>\n",
       "      <td>LS+MCMC</td>\n",
       "      <td>0.000</td>\n",
       "      <td>kplr012643589-20160128150956_dvt.fits</td>\n",
       "    </tr>\n",
       "    <tr>\n",
       "      <th>8031</th>\n",
       "      <td>12643589</td>\n",
       "      <td>K00376.02</td>\n",
       "      <td>NaN</td>\n",
       "      <td>376.02</td>\n",
       "      <td>FALSE POSITIVE</td>\n",
       "      <td>FALSE POSITIVE</td>\n",
       "      <td>19 13 17.153</td>\n",
       "      <td>0.0</td>\n",
       "      <td>+51 43 35.76</td>\n",
       "      <td>0.0</td>\n",
       "      <td>...</td>\n",
       "      <td>0</td>\n",
       "      <td>3523.63</td>\n",
       "      <td>3272.15</td>\n",
       "      <td>-1073.69</td>\n",
       "      <td>1.77140</td>\n",
       "      <td>8.50949</td>\n",
       "      <td>-0.71080</td>\n",
       "      <td>LS+MCMC</td>\n",
       "      <td>0.000</td>\n",
       "      <td>kplr012643589-20160128150956_dvt.fits</td>\n",
       "    </tr>\n",
       "    <tr>\n",
       "      <th>8032</th>\n",
       "      <td>12644020</td>\n",
       "      <td>K08083.01</td>\n",
       "      <td>NaN</td>\n",
       "      <td>8083.01</td>\n",
       "      <td>FALSE POSITIVE</td>\n",
       "      <td>FALSE POSITIVE</td>\n",
       "      <td>19 14 27.048</td>\n",
       "      <td>0.0</td>\n",
       "      <td>+51 46 13.58</td>\n",
       "      <td>0.0</td>\n",
       "      <td>...</td>\n",
       "      <td>0</td>\n",
       "      <td>0.62</td>\n",
       "      <td>0.25</td>\n",
       "      <td>-0.14</td>\n",
       "      <td>12.10972</td>\n",
       "      <td>195.38828</td>\n",
       "      <td>-10.92836</td>\n",
       "      <td>LS+MCMC</td>\n",
       "      <td>0.152</td>\n",
       "      <td>kplr012644020-20160128150956_dvt.fits</td>\n",
       "    </tr>\n",
       "    <tr>\n",
       "      <th>8033</th>\n",
       "      <td>12644769</td>\n",
       "      <td>K01611.01</td>\n",
       "      <td>NaN</td>\n",
       "      <td>1611.01</td>\n",
       "      <td>FALSE POSITIVE</td>\n",
       "      <td>FALSE POSITIVE</td>\n",
       "      <td>19 16 18.170</td>\n",
       "      <td>0.0</td>\n",
       "      <td>+51 45 26.78</td>\n",
       "      <td>0.0</td>\n",
       "      <td>...</td>\n",
       "      <td>0</td>\n",
       "      <td>3.37</td>\n",
       "      <td>0.61</td>\n",
       "      <td>-0.51</td>\n",
       "      <td>2.80013</td>\n",
       "      <td>0.00340</td>\n",
       "      <td>-0.00442</td>\n",
       "      <td>LS+MCMC</td>\n",
       "      <td>0.000</td>\n",
       "      <td>kplr012644769-20160128150956_dvt.fits</td>\n",
       "    </tr>\n",
       "    <tr>\n",
       "      <th>8034</th>\n",
       "      <td>12644774</td>\n",
       "      <td>K01555.01</td>\n",
       "      <td>NaN</td>\n",
       "      <td>1555.01</td>\n",
       "      <td>FALSE POSITIVE</td>\n",
       "      <td>FALSE POSITIVE</td>\n",
       "      <td>19 16 18.487</td>\n",
       "      <td>0.0</td>\n",
       "      <td>+51 45 42.56</td>\n",
       "      <td>0.0</td>\n",
       "      <td>...</td>\n",
       "      <td>1</td>\n",
       "      <td>17.74</td>\n",
       "      <td>15.43</td>\n",
       "      <td>-8.07</td>\n",
       "      <td>2.25399</td>\n",
       "      <td>0.13032</td>\n",
       "      <td>-0.71438</td>\n",
       "      <td>LS+MCMC</td>\n",
       "      <td>0.000</td>\n",
       "      <td>kplr012644774-20160128150956_dvt.fits</td>\n",
       "    </tr>\n",
       "    <tr>\n",
       "      <th>8035</th>\n",
       "      <td>12644822</td>\n",
       "      <td>K00791.01</td>\n",
       "      <td>Kepler-682 b</td>\n",
       "      <td>791.01</td>\n",
       "      <td>CANDIDATE</td>\n",
       "      <td>CONFIRMED</td>\n",
       "      <td>19 16 26.930</td>\n",
       "      <td>0.0</td>\n",
       "      <td>+51 44 14.57</td>\n",
       "      <td>0.0</td>\n",
       "      <td>...</td>\n",
       "      <td>0</td>\n",
       "      <td>76.15</td>\n",
       "      <td>66.33</td>\n",
       "      <td>-21.39</td>\n",
       "      <td>0.61222</td>\n",
       "      <td>0.17192</td>\n",
       "      <td>-0.09156</td>\n",
       "      <td>LS+MCMC</td>\n",
       "      <td>1.000</td>\n",
       "      <td>kplr012644822-20160128150956_dvt.fits</td>\n",
       "    </tr>\n",
       "    <tr>\n",
       "      <th>8036</th>\n",
       "      <td>12645057</td>\n",
       "      <td>K04497.01</td>\n",
       "      <td>NaN</td>\n",
       "      <td>4497.01</td>\n",
       "      <td>CANDIDATE</td>\n",
       "      <td>CANDIDATE</td>\n",
       "      <td>19 17 04.073</td>\n",
       "      <td>0.0</td>\n",
       "      <td>+51 45 04.40</td>\n",
       "      <td>0.0</td>\n",
       "      <td>...</td>\n",
       "      <td>0</td>\n",
       "      <td>142.95</td>\n",
       "      <td>93.18</td>\n",
       "      <td>-34.57</td>\n",
       "      <td>1.64396</td>\n",
       "      <td>0.20238</td>\n",
       "      <td>-0.76721</td>\n",
       "      <td>LS+MCMC</td>\n",
       "      <td>1.000</td>\n",
       "      <td>kplr012645057-20160128150956_dvt.fits</td>\n",
       "    </tr>\n",
       "    <tr>\n",
       "      <th>8037</th>\n",
       "      <td>12645761</td>\n",
       "      <td>K05976.01</td>\n",
       "      <td>NaN</td>\n",
       "      <td>5976.01</td>\n",
       "      <td>FALSE POSITIVE</td>\n",
       "      <td>FALSE POSITIVE</td>\n",
       "      <td>19 18 48.948</td>\n",
       "      <td>0.0</td>\n",
       "      <td>+51 42 51.84</td>\n",
       "      <td>0.0</td>\n",
       "      <td>...</td>\n",
       "      <td>0</td>\n",
       "      <td>8211.89</td>\n",
       "      <td>8071.72</td>\n",
       "      <td>-6068.60</td>\n",
       "      <td>0.05103</td>\n",
       "      <td>0.00202</td>\n",
       "      <td>-0.00252</td>\n",
       "      <td>LS+MCMC</td>\n",
       "      <td>0.000</td>\n",
       "      <td>kplr012645761-20160128150956_dvt.fits</td>\n",
       "    </tr>\n",
       "    <tr>\n",
       "      <th>8038</th>\n",
       "      <td>12647110</td>\n",
       "      <td>K08240.01</td>\n",
       "      <td>NaN</td>\n",
       "      <td>8240.01</td>\n",
       "      <td>FALSE POSITIVE</td>\n",
       "      <td>FALSE POSITIVE</td>\n",
       "      <td>19 21 56.330</td>\n",
       "      <td>0.0</td>\n",
       "      <td>+51 43 42.78</td>\n",
       "      <td>0.0</td>\n",
       "      <td>...</td>\n",
       "      <td>0</td>\n",
       "      <td>3.78</td>\n",
       "      <td>6.63</td>\n",
       "      <td>-3.49</td>\n",
       "      <td>27.00391</td>\n",
       "      <td>11.70518</td>\n",
       "      <td>-10.00265</td>\n",
       "      <td>LS+MCMC</td>\n",
       "      <td>0.208</td>\n",
       "      <td>kplr012647110-20160128150956_dvt.fits</td>\n",
       "    </tr>\n",
       "    <tr>\n",
       "      <th>8039</th>\n",
       "      <td>12647577</td>\n",
       "      <td>K04530.01</td>\n",
       "      <td>NaN</td>\n",
       "      <td>4530.01</td>\n",
       "      <td>CANDIDATE</td>\n",
       "      <td>CANDIDATE</td>\n",
       "      <td>19 22 56.242</td>\n",
       "      <td>0.0</td>\n",
       "      <td>+51 46 15.46</td>\n",
       "      <td>0.0</td>\n",
       "      <td>...</td>\n",
       "      <td>0</td>\n",
       "      <td>85.06</td>\n",
       "      <td>33.27</td>\n",
       "      <td>-14.81</td>\n",
       "      <td>1.69077</td>\n",
       "      <td>7.75025</td>\n",
       "      <td>-0.63102</td>\n",
       "      <td>LS+MCMC</td>\n",
       "      <td>0.999</td>\n",
       "      <td>kplr012647577-20160128150956_dvt.fits</td>\n",
       "    </tr>\n",
       "    <tr>\n",
       "      <th>8040</th>\n",
       "      <td>12647757</td>\n",
       "      <td>K08241.01</td>\n",
       "      <td>NaN</td>\n",
       "      <td>8241.01</td>\n",
       "      <td>CANDIDATE</td>\n",
       "      <td>CANDIDATE</td>\n",
       "      <td>19 23 27.062</td>\n",
       "      <td>0.0</td>\n",
       "      <td>+51 42 06.87</td>\n",
       "      <td>0.0</td>\n",
       "      <td>...</td>\n",
       "      <td>0</td>\n",
       "      <td>6.84</td>\n",
       "      <td>1.61</td>\n",
       "      <td>-2.66</td>\n",
       "      <td>0.96166</td>\n",
       "      <td>0.42156</td>\n",
       "      <td>-0.48779</td>\n",
       "      <td>LS+MCMC</td>\n",
       "      <td>0.251</td>\n",
       "      <td>kplr012647757-20160128150956_dvt.fits</td>\n",
       "    </tr>\n",
       "    <tr>\n",
       "      <th>8041</th>\n",
       "      <td>12691412</td>\n",
       "      <td>K01983.01</td>\n",
       "      <td>NaN</td>\n",
       "      <td>1983.01</td>\n",
       "      <td>FALSE POSITIVE</td>\n",
       "      <td>FALSE POSITIVE</td>\n",
       "      <td>19 21 08.686</td>\n",
       "      <td>0.0</td>\n",
       "      <td>+51 50 02.49</td>\n",
       "      <td>0.0</td>\n",
       "      <td>...</td>\n",
       "      <td>0</td>\n",
       "      <td>768.55</td>\n",
       "      <td>746.53</td>\n",
       "      <td>-367.97</td>\n",
       "      <td>0.06012</td>\n",
       "      <td>2.09132</td>\n",
       "      <td>-0.09545</td>\n",
       "      <td>LS+MCMC</td>\n",
       "      <td>0.008</td>\n",
       "      <td>kplr012691412-20160128150956_dvt.fits</td>\n",
       "    </tr>\n",
       "    <tr>\n",
       "      <th>8042</th>\n",
       "      <td>12734396</td>\n",
       "      <td>K04303.01</td>\n",
       "      <td>NaN</td>\n",
       "      <td>4303.01</td>\n",
       "      <td>FALSE POSITIVE</td>\n",
       "      <td>FALSE POSITIVE</td>\n",
       "      <td>19 15 38.285</td>\n",
       "      <td>0.0</td>\n",
       "      <td>+51 55 50.02</td>\n",
       "      <td>0.0</td>\n",
       "      <td>...</td>\n",
       "      <td>0</td>\n",
       "      <td>2.72</td>\n",
       "      <td>1.15</td>\n",
       "      <td>-0.96</td>\n",
       "      <td>1.73410</td>\n",
       "      <td>0.54231</td>\n",
       "      <td>-0.59920</td>\n",
       "      <td>LS+MCMC</td>\n",
       "      <td>0.000</td>\n",
       "      <td>kplr012734396-20160128150956_dvt.fits</td>\n",
       "    </tr>\n",
       "    <tr>\n",
       "      <th>8043</th>\n",
       "      <td>12735740</td>\n",
       "      <td>K03663.01</td>\n",
       "      <td>Kepler-86 b</td>\n",
       "      <td>3663.01</td>\n",
       "      <td>CANDIDATE</td>\n",
       "      <td>CONFIRMED</td>\n",
       "      <td>19 19 03.266</td>\n",
       "      <td>0.0</td>\n",
       "      <td>+51 57 45.36</td>\n",
       "      <td>0.0</td>\n",
       "      <td>...</td>\n",
       "      <td>0</td>\n",
       "      <td>1.15</td>\n",
       "      <td>0.47</td>\n",
       "      <td>-0.20</td>\n",
       "      <td>2.26410</td>\n",
       "      <td>0.13156</td>\n",
       "      <td>-0.07375</td>\n",
       "      <td>LS+MCMC</td>\n",
       "      <td>0.963</td>\n",
       "      <td>kplr012735740-20160128150956_dvt.fits</td>\n",
       "    </tr>\n",
       "    <tr>\n",
       "      <th>8044</th>\n",
       "      <td>12735830</td>\n",
       "      <td>K03311.01</td>\n",
       "      <td>Kepler-1465 b</td>\n",
       "      <td>3311.01</td>\n",
       "      <td>CANDIDATE</td>\n",
       "      <td>CONFIRMED</td>\n",
       "      <td>19 19 16.642</td>\n",
       "      <td>0.0</td>\n",
       "      <td>+51 54 17.46</td>\n",
       "      <td>0.0</td>\n",
       "      <td>...</td>\n",
       "      <td>0</td>\n",
       "      <td>47.21</td>\n",
       "      <td>19.19</td>\n",
       "      <td>-41.46</td>\n",
       "      <td>17.21605</td>\n",
       "      <td>53.10433</td>\n",
       "      <td>-14.35323</td>\n",
       "      <td>LS+MCMC</td>\n",
       "      <td>1.000</td>\n",
       "      <td>kplr012735830-20160128150956_dvt.fits</td>\n",
       "    </tr>\n",
       "    <tr>\n",
       "      <th>8045</th>\n",
       "      <td>12736658</td>\n",
       "      <td>K05980.01</td>\n",
       "      <td>NaN</td>\n",
       "      <td>5980.01</td>\n",
       "      <td>FALSE POSITIVE</td>\n",
       "      <td>FALSE POSITIVE</td>\n",
       "      <td>19 21 04.694</td>\n",
       "      <td>0.0</td>\n",
       "      <td>+51 54 58.69</td>\n",
       "      <td>0.0</td>\n",
       "      <td>...</td>\n",
       "      <td>0</td>\n",
       "      <td>4916.23</td>\n",
       "      <td>3918.55</td>\n",
       "      <td>-2283.26</td>\n",
       "      <td>0.14049</td>\n",
       "      <td>0.00748</td>\n",
       "      <td>-0.00952</td>\n",
       "      <td>LS+MCMC</td>\n",
       "      <td>0.000</td>\n",
       "      <td>kplr012736658-20160128150956_dvt.fits</td>\n",
       "    </tr>\n",
       "    <tr>\n",
       "      <th>8046</th>\n",
       "      <td>12737015</td>\n",
       "      <td>K04245.01</td>\n",
       "      <td>NaN</td>\n",
       "      <td>4245.01</td>\n",
       "      <td>CANDIDATE</td>\n",
       "      <td>CANDIDATE</td>\n",
       "      <td>19 21 55.217</td>\n",
       "      <td>0.0</td>\n",
       "      <td>+51 57 54.04</td>\n",
       "      <td>0.0</td>\n",
       "      <td>...</td>\n",
       "      <td>0</td>\n",
       "      <td>91.32</td>\n",
       "      <td>43.64</td>\n",
       "      <td>-39.77</td>\n",
       "      <td>0.10326</td>\n",
       "      <td>0.24262</td>\n",
       "      <td>-0.09390</td>\n",
       "      <td>LS+MCMC</td>\n",
       "      <td>0.965</td>\n",
       "      <td>kplr012737015-20160128150956_dvt.fits</td>\n",
       "    </tr>\n",
       "    <tr>\n",
       "      <th>8047</th>\n",
       "      <td>12784167</td>\n",
       "      <td>K03848.01</td>\n",
       "      <td>Kepler-1522 b</td>\n",
       "      <td>3848.01</td>\n",
       "      <td>CANDIDATE</td>\n",
       "      <td>CONFIRMED</td>\n",
       "      <td>19 19 22.375</td>\n",
       "      <td>0.0</td>\n",
       "      <td>+52 04 12.58</td>\n",
       "      <td>0.0</td>\n",
       "      <td>...</td>\n",
       "      <td>0</td>\n",
       "      <td>843.80</td>\n",
       "      <td>574.04</td>\n",
       "      <td>-224.12</td>\n",
       "      <td>2.43968</td>\n",
       "      <td>0.07749</td>\n",
       "      <td>-0.80712</td>\n",
       "      <td>LS+MCMC</td>\n",
       "      <td>1.000</td>\n",
       "      <td>kplr012784167-20160128150956_dvt.fits</td>\n",
       "    </tr>\n",
       "    <tr>\n",
       "      <th>8048</th>\n",
       "      <td>12785320</td>\n",
       "      <td>K00298.01</td>\n",
       "      <td>Kepler-515 b</td>\n",
       "      <td>298.01</td>\n",
       "      <td>CANDIDATE</td>\n",
       "      <td>CONFIRMED</td>\n",
       "      <td>19 21 58.622</td>\n",
       "      <td>0.0</td>\n",
       "      <td>+52 03 19.87</td>\n",
       "      <td>0.0</td>\n",
       "      <td>...</td>\n",
       "      <td>0</td>\n",
       "      <td>23.88</td>\n",
       "      <td>5.48</td>\n",
       "      <td>-4.66</td>\n",
       "      <td>1.64935</td>\n",
       "      <td>7.41267</td>\n",
       "      <td>-0.26612</td>\n",
       "      <td>LS+MCMC</td>\n",
       "      <td>1.000</td>\n",
       "      <td>kplr012785320-20160128150956_dvt.fits</td>\n",
       "    </tr>\n",
       "    <tr>\n",
       "      <th>8049</th>\n",
       "      <td>12785320</td>\n",
       "      <td>K00298.02</td>\n",
       "      <td>NaN</td>\n",
       "      <td>298.02</td>\n",
       "      <td>CANDIDATE</td>\n",
       "      <td>CANDIDATE</td>\n",
       "      <td>19 21 58.622</td>\n",
       "      <td>0.0</td>\n",
       "      <td>+52 03 19.87</td>\n",
       "      <td>0.0</td>\n",
       "      <td>...</td>\n",
       "      <td>0</td>\n",
       "      <td>5.85</td>\n",
       "      <td>1.34</td>\n",
       "      <td>-1.14</td>\n",
       "      <td>0.27283</td>\n",
       "      <td>7.83604</td>\n",
       "      <td>-0.06902</td>\n",
       "      <td>LS+MCMC</td>\n",
       "      <td>0.915</td>\n",
       "      <td>kplr012785320-20160128150956_dvt.fits</td>\n",
       "    </tr>\n",
       "    <tr>\n",
       "      <th>8050</th>\n",
       "      <td>12834874</td>\n",
       "      <td>K00487.01</td>\n",
       "      <td>Kepler-574 b</td>\n",
       "      <td>487.01</td>\n",
       "      <td>CANDIDATE</td>\n",
       "      <td>CONFIRMED</td>\n",
       "      <td>19 20 59.290</td>\n",
       "      <td>0.0</td>\n",
       "      <td>+52 08 56.88</td>\n",
       "      <td>0.0</td>\n",
       "      <td>...</td>\n",
       "      <td>0</td>\n",
       "      <td>128.18</td>\n",
       "      <td>95.03</td>\n",
       "      <td>-36.64</td>\n",
       "      <td>2.46084</td>\n",
       "      <td>0.03779</td>\n",
       "      <td>-0.82729</td>\n",
       "      <td>LS+MCMC</td>\n",
       "      <td>1.000</td>\n",
       "      <td>kplr012834874-20160128150956_dvt.fits</td>\n",
       "    </tr>\n",
       "    <tr>\n",
       "      <th>8051</th>\n",
       "      <td>12885212</td>\n",
       "      <td>K02184.01</td>\n",
       "      <td>NaN</td>\n",
       "      <td>2184.01</td>\n",
       "      <td>FALSE POSITIVE</td>\n",
       "      <td>FALSE POSITIVE</td>\n",
       "      <td>19 20 42.005</td>\n",
       "      <td>0.0</td>\n",
       "      <td>+52 13 13.23</td>\n",
       "      <td>0.0</td>\n",
       "      <td>...</td>\n",
       "      <td>0</td>\n",
       "      <td>273.84</td>\n",
       "      <td>34.60</td>\n",
       "      <td>-47.85</td>\n",
       "      <td>1.08729</td>\n",
       "      <td>0.06686</td>\n",
       "      <td>-0.42029</td>\n",
       "      <td>LS+MCMC</td>\n",
       "      <td>0.001</td>\n",
       "      <td>kplr012885212-20160128150956_dvt.fits</td>\n",
       "    </tr>\n",
       "    <tr>\n",
       "      <th>8052</th>\n",
       "      <td>12885212</td>\n",
       "      <td>K02184.02</td>\n",
       "      <td>NaN</td>\n",
       "      <td>2184.02</td>\n",
       "      <td>CANDIDATE</td>\n",
       "      <td>CANDIDATE</td>\n",
       "      <td>19 20 42.005</td>\n",
       "      <td>0.0</td>\n",
       "      <td>+52 13 13.23</td>\n",
       "      <td>0.0</td>\n",
       "      <td>...</td>\n",
       "      <td>0</td>\n",
       "      <td>1.63</td>\n",
       "      <td>0.20</td>\n",
       "      <td>-0.29</td>\n",
       "      <td>7.32893</td>\n",
       "      <td>8.55979</td>\n",
       "      <td>-0.03691</td>\n",
       "      <td>LS+MCMC</td>\n",
       "      <td>0.638</td>\n",
       "      <td>kplr012885212-20160128150956_dvt.fits</td>\n",
       "    </tr>\n",
       "    <tr>\n",
       "      <th>8053</th>\n",
       "      <td>12935144</td>\n",
       "      <td>K02847.01</td>\n",
       "      <td>NaN</td>\n",
       "      <td>2847.01</td>\n",
       "      <td>FALSE POSITIVE</td>\n",
       "      <td>FALSE POSITIVE</td>\n",
       "      <td>19 20 55.920</td>\n",
       "      <td>0.0</td>\n",
       "      <td>+52 20 09.64</td>\n",
       "      <td>0.0</td>\n",
       "      <td>...</td>\n",
       "      <td>0</td>\n",
       "      <td>947.02</td>\n",
       "      <td>277.44</td>\n",
       "      <td>-266.61</td>\n",
       "      <td>1.78677</td>\n",
       "      <td>0.28765</td>\n",
       "      <td>-0.79257</td>\n",
       "      <td>LS+MCMC</td>\n",
       "      <td>0.000</td>\n",
       "      <td>kplr012935144-20160128150956_dvt.fits</td>\n",
       "    </tr>\n",
       "  </tbody>\n",
       "</table>\n",
       "<p>8054 rows × 153 columns</p>\n",
       "</div>"
      ],
      "text/plain": [
       "      Kepler ID   KOI Name    Kepler Name  KOI Number Kepler Disposition  \\\n",
       "0        757450  K00889.01    Kepler-75 b      889.01          CANDIDATE   \n",
       "1        892772  K01009.01            NaN     1009.01     FALSE POSITIVE   \n",
       "2       1025986  K07621.01            NaN     7621.01     FALSE POSITIVE   \n",
       "3       1026032  K06252.01            NaN     6252.01     FALSE POSITIVE   \n",
       "4       1026957  K00958.01            NaN      958.01          CANDIDATE   \n",
       "5       1161345  K00984.01            NaN      984.01          CANDIDATE   \n",
       "6       1293031  K04162.01            NaN     4162.01     FALSE POSITIVE   \n",
       "7       1293046  K07622.01            NaN     7622.01     FALSE POSITIVE   \n",
       "8       1431122  K00994.01            NaN      994.01          CANDIDATE   \n",
       "9       1432214  K00998.01            NaN      998.01     FALSE POSITIVE   \n",
       "10      1432789  K00992.01   Kepler-745 b      992.01          CANDIDATE   \n",
       "11      1432789  K00992.02            NaN      992.02          CANDIDATE   \n",
       "12      1433962  K00982.01            NaN      982.01     FALSE POSITIVE   \n",
       "13      1433980  K03924.01            NaN     3924.01     FALSE POSITIVE   \n",
       "14      1434395  K07623.01            NaN     7623.01     FALSE POSITIVE   \n",
       "15      1571511  K00362.01            NaN      362.01     FALSE POSITIVE   \n",
       "16      1572948  K04924.01            NaN     4924.01     FALSE POSITIVE   \n",
       "17      1575690  K03658.01            NaN     3658.01     FALSE POSITIVE   \n",
       "18      1575873  K04359.01            NaN     4359.01          CANDIDATE   \n",
       "19      1717722  K03145.01            NaN     3145.01          CANDIDATE   \n",
       "20      1717722  K03145.02            NaN     3145.02          CANDIDATE   \n",
       "21      1718189  K00993.01   Kepler-262 c      993.01          CANDIDATE   \n",
       "22      1718189  K00993.02   Kepler-262 b      993.02          CANDIDATE   \n",
       "23      1718189  K00993.03            NaN      993.03     FALSE POSITIVE   \n",
       "24      1718958  K04053.01            NaN     4053.01          CANDIDATE   \n",
       "25      1721157  K04644.01            NaN     4644.01          CANDIDATE   \n",
       "26      1722276  K01008.01            NaN     1008.01     FALSE POSITIVE   \n",
       "27      1723078  K07624.01            NaN     7624.01          CANDIDATE   \n",
       "28      1724513  K04224.01            NaN     4224.01     FALSE POSITIVE   \n",
       "29      1724719  K04212.01  Kepler-1569 b     4212.01          CANDIDATE   \n",
       "...         ...        ...            ...         ...                ...   \n",
       "8024   12600735  K00548.01   Kepler-596 b      548.01          CANDIDATE   \n",
       "8025   12600735  K00548.02            NaN      548.02          CANDIDATE   \n",
       "8026   12602314  K02853.01            NaN     2853.01          CANDIDATE   \n",
       "8027   12602568  K01583.01   Kepler-897 b     1583.01          CANDIDATE   \n",
       "8028   12602999  K08082.01            NaN     8082.01          CANDIDATE   \n",
       "8029   12643582  K03626.01            NaN     3626.01     FALSE POSITIVE   \n",
       "8030   12643589  K00376.01            NaN      376.01     FALSE POSITIVE   \n",
       "8031   12643589  K00376.02            NaN      376.02     FALSE POSITIVE   \n",
       "8032   12644020  K08083.01            NaN     8083.01     FALSE POSITIVE   \n",
       "8033   12644769  K01611.01            NaN     1611.01     FALSE POSITIVE   \n",
       "8034   12644774  K01555.01            NaN     1555.01     FALSE POSITIVE   \n",
       "8035   12644822  K00791.01   Kepler-682 b      791.01          CANDIDATE   \n",
       "8036   12645057  K04497.01            NaN     4497.01          CANDIDATE   \n",
       "8037   12645761  K05976.01            NaN     5976.01     FALSE POSITIVE   \n",
       "8038   12647110  K08240.01            NaN     8240.01     FALSE POSITIVE   \n",
       "8039   12647577  K04530.01            NaN     4530.01          CANDIDATE   \n",
       "8040   12647757  K08241.01            NaN     8241.01          CANDIDATE   \n",
       "8041   12691412  K01983.01            NaN     1983.01     FALSE POSITIVE   \n",
       "8042   12734396  K04303.01            NaN     4303.01     FALSE POSITIVE   \n",
       "8043   12735740  K03663.01    Kepler-86 b     3663.01          CANDIDATE   \n",
       "8044   12735830  K03311.01  Kepler-1465 b     3311.01          CANDIDATE   \n",
       "8045   12736658  K05980.01            NaN     5980.01     FALSE POSITIVE   \n",
       "8046   12737015  K04245.01            NaN     4245.01          CANDIDATE   \n",
       "8047   12784167  K03848.01  Kepler-1522 b     3848.01          CANDIDATE   \n",
       "8048   12785320  K00298.01   Kepler-515 b      298.01          CANDIDATE   \n",
       "8049   12785320  K00298.02            NaN      298.02          CANDIDATE   \n",
       "8050   12834874  K00487.01   Kepler-574 b      487.01          CANDIDATE   \n",
       "8051   12885212  K02184.01            NaN     2184.01     FALSE POSITIVE   \n",
       "8052   12885212  K02184.02            NaN     2184.02          CANDIDATE   \n",
       "8053   12935144  K02847.01            NaN     2847.01     FALSE POSITIVE   \n",
       "\n",
       "     NExScI Disposition    RA (J2000)  RA Error   Dec (J2000)  Dec Error  ...  \\\n",
       "0             CONFIRMED  19 24 33.024       0.0  +36 34 38.57        0.0  ...   \n",
       "1        FALSE POSITIVE  19 24 36.811       0.0  +36 40 43.83        0.0  ...   \n",
       "2        FALSE POSITIVE  19 24 08.086       0.0  +36 46 15.75        0.0  ...   \n",
       "3        FALSE POSITIVE  19 24 10.577       0.0  +36 43 45.38        0.0  ...   \n",
       "4             CANDIDATE  19 25 01.078       0.0  +36 44 37.00        0.0  ...   \n",
       "5             CANDIDATE  19 24 11.712       0.0  +36 50 23.58        0.0  ...   \n",
       "6        FALSE POSITIVE  19 24 05.033       0.0  +36 54 13.13        0.0  ...   \n",
       "7        FALSE POSITIVE  19 24 06.372       0.0  +36 54 58.93        0.0  ...   \n",
       "8             CANDIDATE  19 24 34.198       0.0  +37 03 40.76        0.0  ...   \n",
       "9        FALSE POSITIVE  19 25 31.846       0.0  +37 04 22.76        0.0  ...   \n",
       "10            CONFIRMED  19 25 59.861       0.0  +37 03 33.41        0.0  ...   \n",
       "11            CANDIDATE  19 25 59.861       0.0  +37 03 33.41        0.0  ...   \n",
       "12       FALSE POSITIVE  19 27 02.870       0.0  +37 05 55.10        0.0  ...   \n",
       "13       FALSE POSITIVE  19 27 03.919       0.0  +37 05 49.89        0.0  ...   \n",
       "14       FALSE POSITIVE  19 27 25.555       0.0  +37 03 56.34        0.0  ...   \n",
       "15       FALSE POSITIVE  19 23 59.261       0.0  +37 11 57.19        0.0  ...   \n",
       "16       FALSE POSITIVE  19 25 18.595       0.0  +37 07 36.12        0.0  ...   \n",
       "17       FALSE POSITIVE  19 27 31.656       0.0  +37 11 20.80        0.0  ...   \n",
       "18            CANDIDATE  19 27 42.326       0.0  +37 06 04.65        0.0  ...   \n",
       "19            CANDIDATE  19 22 28.315       0.0  +37 17 20.72        0.0  ...   \n",
       "20            CANDIDATE  19 22 28.315       0.0  +37 17 20.72        0.0  ...   \n",
       "21            CONFIRMED  19 22 54.881       0.0  +37 15 09.54        0.0  ...   \n",
       "22            CONFIRMED  19 22 54.881       0.0  +37 15 09.54        0.0  ...   \n",
       "23       FALSE POSITIVE  19 22 54.881       0.0  +37 15 09.54        0.0  ...   \n",
       "24            CANDIDATE  19 23 40.642       0.0  +37 17 13.81        0.0  ...   \n",
       "25            CANDIDATE  19 25 49.762       0.0  +37 12 24.63        0.0  ...   \n",
       "26       FALSE POSITIVE  19 26 47.213       0.0  +37 14 16.95        0.0  ...   \n",
       "27            CANDIDATE  19 27 28.322       0.0  +37 16 11.56        0.0  ...   \n",
       "28       FALSE POSITIVE  19 28 39.566       0.0  +37 16 32.67        0.0  ...   \n",
       "29            CONFIRMED  19 28 49.130       0.0  +37 13 16.38        0.0  ...   \n",
       "...                 ...           ...       ...           ...        ...  ...   \n",
       "8024          CONFIRMED  19 18 00.161       0.0  +51 41 08.63        0.0  ...   \n",
       "8025          CANDIDATE  19 18 00.161       0.0  +51 41 08.63        0.0  ...   \n",
       "8026          CANDIDATE  19 21 43.975       0.0  +51 37 33.75        0.0  ...   \n",
       "8027          CONFIRMED  19 22 20.844       0.0  +51 41 44.95        0.0  ...   \n",
       "8028          CANDIDATE  19 23 29.786       0.0  +51 41 06.65        0.0  ...   \n",
       "8029     FALSE POSITIVE  19 13 16.502       0.0  +51 43 31.30        0.0  ...   \n",
       "8030     FALSE POSITIVE  19 13 17.153       0.0  +51 43 35.76        0.0  ...   \n",
       "8031     FALSE POSITIVE  19 13 17.153       0.0  +51 43 35.76        0.0  ...   \n",
       "8032     FALSE POSITIVE  19 14 27.048       0.0  +51 46 13.58        0.0  ...   \n",
       "8033     FALSE POSITIVE  19 16 18.170       0.0  +51 45 26.78        0.0  ...   \n",
       "8034     FALSE POSITIVE  19 16 18.487       0.0  +51 45 42.56        0.0  ...   \n",
       "8035          CONFIRMED  19 16 26.930       0.0  +51 44 14.57        0.0  ...   \n",
       "8036          CANDIDATE  19 17 04.073       0.0  +51 45 04.40        0.0  ...   \n",
       "8037     FALSE POSITIVE  19 18 48.948       0.0  +51 42 51.84        0.0  ...   \n",
       "8038     FALSE POSITIVE  19 21 56.330       0.0  +51 43 42.78        0.0  ...   \n",
       "8039          CANDIDATE  19 22 56.242       0.0  +51 46 15.46        0.0  ...   \n",
       "8040          CANDIDATE  19 23 27.062       0.0  +51 42 06.87        0.0  ...   \n",
       "8041     FALSE POSITIVE  19 21 08.686       0.0  +51 50 02.49        0.0  ...   \n",
       "8042     FALSE POSITIVE  19 15 38.285       0.0  +51 55 50.02        0.0  ...   \n",
       "8043          CONFIRMED  19 19 03.266       0.0  +51 57 45.36        0.0  ...   \n",
       "8044          CONFIRMED  19 19 16.642       0.0  +51 54 17.46        0.0  ...   \n",
       "8045     FALSE POSITIVE  19 21 04.694       0.0  +51 54 58.69        0.0  ...   \n",
       "8046          CANDIDATE  19 21 55.217       0.0  +51 57 54.04        0.0  ...   \n",
       "8047          CONFIRMED  19 19 22.375       0.0  +52 04 12.58        0.0  ...   \n",
       "8048          CONFIRMED  19 21 58.622       0.0  +52 03 19.87        0.0  ...   \n",
       "8049          CANDIDATE  19 21 58.622       0.0  +52 03 19.87        0.0  ...   \n",
       "8050          CONFIRMED  19 20 59.290       0.0  +52 08 56.88        0.0  ...   \n",
       "8051     FALSE POSITIVE  19 20 42.005       0.0  +52 13 13.23        0.0  ...   \n",
       "8052          CANDIDATE  19 20 42.005       0.0  +52 13 13.23        0.0  ...   \n",
       "8053     FALSE POSITIVE  19 20 55.920       0.0  +52 20 09.64        0.0  ...   \n",
       "\n",
       "      Contamination Flag  Insolation Flux  Insolation Flux err1  \\\n",
       "0                      0            83.21                 16.69   \n",
       "1                      0           119.70                 48.69   \n",
       "2                      0             2.00                  0.92   \n",
       "3                      0            98.60                 52.46   \n",
       "4                      0            13.18                  3.00   \n",
       "5                      0           186.31                 56.73   \n",
       "6                      0        149399.93              35721.31   \n",
       "7                      0             3.44                  0.94   \n",
       "8                      0           283.62                100.01   \n",
       "9                      0             4.68                  2.07   \n",
       "10                     0           177.83                 74.92   \n",
       "11                     0           499.41                210.40   \n",
       "12                     1           290.51                 87.21   \n",
       "13                     0          6128.09               4886.70   \n",
       "14                     0         93172.12              12806.48   \n",
       "15                     0           101.92                 91.75   \n",
       "16                     0          2630.88               2321.28   \n",
       "17                     0            88.43                 15.77   \n",
       "18                     0         30567.67              18880.37   \n",
       "19                     0            95.61                 38.11   \n",
       "20                     0           737.36                293.96   \n",
       "21                     0            34.57                 26.70   \n",
       "22                     0            68.66                 53.04   \n",
       "23                     0             5.50                  4.24   \n",
       "24                     0          1968.38                836.24   \n",
       "25                     0           206.55                 91.39   \n",
       "26                     0             1.81                  1.35   \n",
       "27                     0            12.36                  5.55   \n",
       "28                     0          4299.89               1733.32   \n",
       "29                     0           528.14                248.86   \n",
       "...                  ...              ...                   ...   \n",
       "8024                   0            65.37                 27.07   \n",
       "8025                   0           348.11                144.15   \n",
       "8026                   0           782.45                120.58   \n",
       "8027                   0           126.56                102.29   \n",
       "8028                   0          1639.28                881.67   \n",
       "8029                   0            15.25                 13.05   \n",
       "8030                   1            35.87                 33.31   \n",
       "8031                   0          3523.63               3272.15   \n",
       "8032                   0             0.62                  0.25   \n",
       "8033                   0             3.37                  0.61   \n",
       "8034                   1            17.74                 15.43   \n",
       "8035                   0            76.15                 66.33   \n",
       "8036                   0           142.95                 93.18   \n",
       "8037                   0          8211.89               8071.72   \n",
       "8038                   0             3.78                  6.63   \n",
       "8039                   0            85.06                 33.27   \n",
       "8040                   0             6.84                  1.61   \n",
       "8041                   0           768.55                746.53   \n",
       "8042                   0             2.72                  1.15   \n",
       "8043                   0             1.15                  0.47   \n",
       "8044                   0            47.21                 19.19   \n",
       "8045                   0          4916.23               3918.55   \n",
       "8046                   0            91.32                 43.64   \n",
       "8047                   0           843.80                574.04   \n",
       "8048                   0            23.88                  5.48   \n",
       "8049                   0             5.85                  1.34   \n",
       "8050                   0           128.18                 95.03   \n",
       "8051                   0           273.84                 34.60   \n",
       "8052                   0             1.63                  0.20   \n",
       "8053                   0           947.02                277.44   \n",
       "\n",
       "      Insolation Flux err2  Fitted Stellar Density  \\\n",
       "0                   -13.87                11.62061   \n",
       "1                   -36.91                 0.88510   \n",
       "2                    -0.76                33.55994   \n",
       "3                   -21.18                 0.73874   \n",
       "4                    -1.98               102.86534   \n",
       "5                   -28.39                 8.16471   \n",
       "6               -106451.43                 0.06737   \n",
       "7                    -0.97                34.69388   \n",
       "8                   -78.24                 0.05666   \n",
       "9                    -1.12                17.58377   \n",
       "10                  -54.50                 0.48317   \n",
       "11                 -153.04                 0.58469   \n",
       "12                  -73.46                 0.09265   \n",
       "13                -3736.14                 0.06389   \n",
       "14               -67878.27                 1.00737   \n",
       "15                  -33.91                 0.31052   \n",
       "16                -1618.01                 0.03844   \n",
       "17                  -18.10                 1.46000   \n",
       "18               -17052.93                 2.25862   \n",
       "19                  -21.67                 2.61043   \n",
       "20                 -167.10                 3.17024   \n",
       "21                   -8.92                 2.00195   \n",
       "22                  -17.72                 1.22851   \n",
       "23                   -1.42                 2.92038   \n",
       "24                 -503.00                 1.95904   \n",
       "25                  -46.68                 6.48403   \n",
       "26                   -0.50                25.41419   \n",
       "27                   -8.42                 4.04249   \n",
       "28                -1779.24                 2.87132   \n",
       "29                 -168.22                 0.12599   \n",
       "...                    ...                     ...   \n",
       "8024                -14.54                 2.80258   \n",
       "8025                -77.43                 2.60910   \n",
       "8026               -160.93                 4.56518   \n",
       "8027                -34.32                 0.03752   \n",
       "8028              -1030.63                 0.29683   \n",
       "8029                 -4.96                14.62953   \n",
       "8030                -10.93                 1.14810   \n",
       "8031              -1073.69                 1.77140   \n",
       "8032                 -0.14                12.10972   \n",
       "8033                 -0.51                 2.80013   \n",
       "8034                 -8.07                 2.25399   \n",
       "8035                -21.39                 0.61222   \n",
       "8036                -34.57                 1.64396   \n",
       "8037              -6068.60                 0.05103   \n",
       "8038                 -3.49                27.00391   \n",
       "8039                -14.81                 1.69077   \n",
       "8040                 -2.66                 0.96166   \n",
       "8041               -367.97                 0.06012   \n",
       "8042                 -0.96                 1.73410   \n",
       "8043                 -0.20                 2.26410   \n",
       "8044                -41.46                17.21605   \n",
       "8045              -2283.26                 0.14049   \n",
       "8046                -39.77                 0.10326   \n",
       "8047               -224.12                 2.43968   \n",
       "8048                 -4.66                 1.64935   \n",
       "8049                 -1.14                 0.27283   \n",
       "8050                -36.64                 2.46084   \n",
       "8051                -47.85                 1.08729   \n",
       "8052                 -0.29                 7.32893   \n",
       "8053               -266.61                 1.78677   \n",
       "\n",
       "      Fitted Stellar Density err1  Fitted Stellar Density err2  Planetary Fit  \\\n",
       "0                         0.20683                     -0.40258        LS+MCMC   \n",
       "1                         0.10080                     -0.39457        LS+MCMC   \n",
       "2                        16.58298                    -31.53180        LS+MCMC   \n",
       "3                         0.00021                     -0.00735        LS+MCMC   \n",
       "4                         5.47239                    -30.25813        LS+MCMC   \n",
       "5                         4.69586                     -1.63188        LS+MCMC   \n",
       "6                         0.00658                     -0.00461        LS+MCMC   \n",
       "7                        13.11193                    -21.13275        LS+MCMC   \n",
       "8                         3.20152                     -0.06620        LS+MCMC   \n",
       "9                         0.76473                     -0.48796        LS+MCMC   \n",
       "10                        0.01261                     -0.19180        LS+MCMC   \n",
       "11                        0.04511                     -0.31824        LS+MCMC   \n",
       "12                        0.00000                      0.00000             LS   \n",
       "13                        0.00061                     -0.00083        LS+MCMC   \n",
       "14                        0.29745                     -0.56373        LS+MCMC   \n",
       "15                        0.00269                     -0.00269        LS+MCMC   \n",
       "16                        2.55454                     -0.07827        LS+MCMC   \n",
       "17                      200.60458                     -0.06139        LS+MCMC   \n",
       "18                       15.02837                     -1.46534        LS+MCMC   \n",
       "19                        4.63396                     -2.21540        LS+MCMC   \n",
       "20                        0.35594                     -1.81104        LS+MCMC   \n",
       "21                        3.01982                     -0.14022        LS+MCMC   \n",
       "22                        2.18168                     -1.19934        LS+MCMC   \n",
       "23                        4.37290                     -0.41183        LS+MCMC   \n",
       "24                        1.98658                     -1.91843        LS+MCMC   \n",
       "25                        5.43333                     -3.39902        LS+MCMC   \n",
       "26                      481.51691                     -6.54166        LS+MCMC   \n",
       "27                       14.39050                     -3.71379        LS+MCMC   \n",
       "28                        3.77928                     -0.24005        LS+MCMC   \n",
       "29                        1.09611                     -0.09869        LS+MCMC   \n",
       "...                           ...                          ...            ...   \n",
       "8024                      0.04590                     -0.79139        LS+MCMC   \n",
       "8025                     15.43496                     -1.77310        LS+MCMC   \n",
       "8026                      0.45866                     -2.12603        LS+MCMC   \n",
       "8027                      0.62388                     -0.01616        LS+MCMC   \n",
       "8028                      0.25963                     -0.28450        LS+MCMC   \n",
       "8029                      0.42735                     -1.45954        LS+MCMC   \n",
       "8030                    260.79828                     -0.80910        LS+MCMC   \n",
       "8031                      8.50949                     -0.71080        LS+MCMC   \n",
       "8032                    195.38828                    -10.92836        LS+MCMC   \n",
       "8033                      0.00340                     -0.00442        LS+MCMC   \n",
       "8034                      0.13032                     -0.71438        LS+MCMC   \n",
       "8035                      0.17192                     -0.09156        LS+MCMC   \n",
       "8036                      0.20238                     -0.76721        LS+MCMC   \n",
       "8037                      0.00202                     -0.00252        LS+MCMC   \n",
       "8038                     11.70518                    -10.00265        LS+MCMC   \n",
       "8039                      7.75025                     -0.63102        LS+MCMC   \n",
       "8040                      0.42156                     -0.48779        LS+MCMC   \n",
       "8041                      2.09132                     -0.09545        LS+MCMC   \n",
       "8042                      0.54231                     -0.59920        LS+MCMC   \n",
       "8043                      0.13156                     -0.07375        LS+MCMC   \n",
       "8044                     53.10433                    -14.35323        LS+MCMC   \n",
       "8045                      0.00748                     -0.00952        LS+MCMC   \n",
       "8046                      0.24262                     -0.09390        LS+MCMC   \n",
       "8047                      0.07749                     -0.80712        LS+MCMC   \n",
       "8048                      7.41267                     -0.26612        LS+MCMC   \n",
       "8049                      7.83604                     -0.06902        LS+MCMC   \n",
       "8050                      0.03779                     -0.82729        LS+MCMC   \n",
       "8051                      0.06686                     -0.42029        LS+MCMC   \n",
       "8052                      8.55979                     -0.03691        LS+MCMC   \n",
       "8053                      0.28765                     -0.79257        LS+MCMC   \n",
       "\n",
       "      Disposition Score                              File Name  \n",
       "0                 0.999  kplr000757450-20160128150956_dvt.fits  \n",
       "1                 0.000  kplr000892772-20160128150956_dvt.fits  \n",
       "2                 0.000  kplr001025986-20160128150956_dvt.fits  \n",
       "3                 0.000  kplr001026032-20160128150956_dvt.fits  \n",
       "4                 1.000  kplr001026957-20160128150956_dvt.fits  \n",
       "5                 0.711  kplr001161345-20160128150956_dvt.fits  \n",
       "6                 0.000  kplr001293031-20160128150956_dvt.fits  \n",
       "7                 0.000  kplr001293046-20160128150956_dvt.fits  \n",
       "8                 0.990  kplr001431122-20160128150956_dvt.fits  \n",
       "9                 0.000  kplr001432214-20160128150956_dvt.fits  \n",
       "10                0.848  kplr001432789-20160128150956_dvt.fits  \n",
       "11                0.961  kplr001432789-20160128150956_dvt.fits  \n",
       "12                0.000  kplr001433962-20160128150956_dvt.fits  \n",
       "13                0.000  kplr001433980-20160128150956_dvt.fits  \n",
       "14                0.014  kplr001434395-20160128150956_dvt.fits  \n",
       "15                0.004  kplr001571511-20160128150956_dvt.fits  \n",
       "16                0.000  kplr001572948-20160128150956_dvt.fits  \n",
       "17                0.000  kplr001575690-20160128150956_dvt.fits  \n",
       "18                1.000  kplr001575873-20160128150956_dvt.fits  \n",
       "19                1.000  kplr001717722-20160128150956_dvt.fits  \n",
       "20                0.858  kplr001717722-20160128150956_dvt.fits  \n",
       "21                1.000  kplr001718189-20160128150956_dvt.fits  \n",
       "22                1.000  kplr001718189-20160128150956_dvt.fits  \n",
       "23                0.149  kplr001718189-20160128150956_dvt.fits  \n",
       "24                0.985  kplr001718958-20160128150956_dvt.fits  \n",
       "25                0.970  kplr001721157-20160128150956_dvt.fits  \n",
       "26                0.000  kplr001722276-20160128150956_dvt.fits  \n",
       "27                0.246  kplr001723078-20160128150956_dvt.fits  \n",
       "28                0.000  kplr001724513-20160128150956_dvt.fits  \n",
       "29                0.956  kplr001724719-20160128150956_dvt.fits  \n",
       "...                 ...                                    ...  \n",
       "8024              1.000  kplr012600735-20160128150956_dvt.fits  \n",
       "8025              0.813  kplr012600735-20160128150956_dvt.fits  \n",
       "8026              0.992  kplr012602314-20160128150956_dvt.fits  \n",
       "8027              1.000  kplr012602568-20160128150956_dvt.fits  \n",
       "8028              0.973  kplr012602999-20160128150956_dvt.fits  \n",
       "8029              0.000  kplr012643582-20160128150956_dvt.fits  \n",
       "8030              0.000  kplr012643589-20160128150956_dvt.fits  \n",
       "8031              0.000  kplr012643589-20160128150956_dvt.fits  \n",
       "8032              0.152  kplr012644020-20160128150956_dvt.fits  \n",
       "8033              0.000  kplr012644769-20160128150956_dvt.fits  \n",
       "8034              0.000  kplr012644774-20160128150956_dvt.fits  \n",
       "8035              1.000  kplr012644822-20160128150956_dvt.fits  \n",
       "8036              1.000  kplr012645057-20160128150956_dvt.fits  \n",
       "8037              0.000  kplr012645761-20160128150956_dvt.fits  \n",
       "8038              0.208  kplr012647110-20160128150956_dvt.fits  \n",
       "8039              0.999  kplr012647577-20160128150956_dvt.fits  \n",
       "8040              0.251  kplr012647757-20160128150956_dvt.fits  \n",
       "8041              0.008  kplr012691412-20160128150956_dvt.fits  \n",
       "8042              0.000  kplr012734396-20160128150956_dvt.fits  \n",
       "8043              0.963  kplr012735740-20160128150956_dvt.fits  \n",
       "8044              1.000  kplr012735830-20160128150956_dvt.fits  \n",
       "8045              0.000  kplr012736658-20160128150956_dvt.fits  \n",
       "8046              0.965  kplr012737015-20160128150956_dvt.fits  \n",
       "8047              1.000  kplr012784167-20160128150956_dvt.fits  \n",
       "8048              1.000  kplr012785320-20160128150956_dvt.fits  \n",
       "8049              0.915  kplr012785320-20160128150956_dvt.fits  \n",
       "8050              1.000  kplr012834874-20160128150956_dvt.fits  \n",
       "8051              0.001  kplr012885212-20160128150956_dvt.fits  \n",
       "8052              0.638  kplr012885212-20160128150956_dvt.fits  \n",
       "8053              0.000  kplr012935144-20160128150956_dvt.fits  \n",
       "\n",
       "[8054 rows x 153 columns]"
      ]
     },
     "execution_count": 17,
     "metadata": {},
     "output_type": "execute_result"
    }
   ],
   "source": [
    "df_aux = pd.read_csv(\"../../KOI_Data/kepler_dataset.csv\")\n",
    "labels = (df_aux[\"NExScI Disposition\"] == \"CONFIRMED\").values*1\n",
    "df_aux"
   ]
  },
  {
   "cell_type": "code",
   "execution_count": 18,
   "metadata": {},
   "outputs": [
    {
     "data": {
      "text/plain": [
       "array([1, 0, 0, ..., 0, 0, 0])"
      ]
     },
     "execution_count": 18,
     "metadata": {},
     "output_type": "execute_result"
    }
   ],
   "source": [
    "labels"
   ]
  },
  {
   "cell_type": "code",
   "execution_count": 19,
   "metadata": {},
   "outputs": [
    {
     "data": {
      "text/plain": [
       "<matplotlib.collections.PathCollection at 0x7fb22c35e208>"
      ]
     },
     "execution_count": 19,
     "metadata": {},
     "output_type": "execute_result"
    },
    {
     "data": {
      "image/png": "[encoded data removed]",
      "text/plain": [
       "<Figure size 432x288 with 1 Axes>"
      ]
     },
     "metadata": {
      "needs_background": "light"
     },
     "output_type": "display_data"
    }
   ],
   "source": [
    "from sklearn.decomposition import PCA\n",
    "model = PCA(2)\n",
    "aux = model.fit_transform(MTF_u10_d10_noinv.reshape([MTF_u10_d10_noinv.shape[0],40*40]))\n",
    "\n",
    "plt.scatter(aux[:,0],aux[:,1], c=labels)"
   ]
  }
 ],
 "metadata": {
  "kernelspec": {
   "display_name": "Python 3",
   "language": "python",
   "name": "python3"
  },
  "language_info": {
   "codemirror_mode": {
    "name": "ipython",
    "version": 3
   },
   "file_extension": ".py",
   "mimetype": "text/x-python",
   "name": "python",
   "nbconvert_exporter": "python",
   "pygments_lexer": "ipython3",
   "version": "3.7.3"
  }
 },
 "nbformat": 4,
 "nbformat_minor": 2
}

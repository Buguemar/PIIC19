{
 "cells": [
  {
   "cell_type": "code",
   "execution_count": 3,
   "metadata": {},
   "outputs": [],
   "source": [
    "import pandas as pd\n",
    "import seaborn as sns\n",
    "import numpy as np\n",
    "import matplotlib.pyplot as plt\n",
    "import os,sys\n",
    "\n",
    "dirpath = os.getcwd().split(\"code\")[0]+\"code/\"\n",
    "sys.path.append(dirpath)\n",
    "from pre_process import clean_LC\n",
    "\n",
    "folder = \"../../KOI_Data/\""
   ]
  },
  {
   "cell_type": "code",
   "execution_count": null,
   "metadata": {},
   "outputs": [],
   "source": [
    "##probar con 10 curvas..."
   ]
  },
  {
   "cell_type": "markdown",
   "metadata": {},
   "source": [
    "### Read light curves\n",
    "> From Kepler or all others"
   ]
  },
  {
   "cell_type": "code",
   "execution_count": 4,
   "metadata": {},
   "outputs": [
    {
     "data": {
      "text/plain": [
       "(4000, 70000)"
      ]
     },
     "execution_count": 4,
     "metadata": {},
     "output_type": "execute_result"
    }
   ],
   "source": [
    "T = 70000\n",
    "\n",
    "lc_train = np.random.rand(4000,T)-1\n",
    "lc_train.shape"
   ]
  },
  {
   "cell_type": "markdown",
   "metadata": {},
   "source": [
    "### Pre-process (clean lc)\n",
    "> And save it"
   ]
  },
  {
   "cell_type": "code",
   "execution_count": 5,
   "metadata": {
    "scrolled": true
   },
   "outputs": [
    {
     "name": "stdout",
     "output_type": "stream",
     "text": [
      "Clean done (remove outliers iterativetly), erase 0 values\n",
      "Clean done (remove outliers iterativetly), erase 0 values\n",
      "Clean done (remove outliers iterativetly), erase 0 values\n",
      "Clean done (remove outliers iterativetly), erase 0 values\n",
      "Clean done (remove outliers iterativetly), erase 0 values\n",
      "Clean done (remove outliers iterativetly), erase 0 values\n",
      "Clean done (remove outliers iterativetly), erase 0 values\n",
      "Clean done (remove outliers iterativetly), erase 0 values\n",
      "Clean done (remove outliers iterativetly), erase 0 values\n",
      "Clean done (remove outliers iterativetly), erase 0 values\n",
      "Clean done (remove outliers iterativetly), erase 0 values\n",
      "Clean done (remove outliers iterativetly), erase 0 values\n",
      "Clean done (remove outliers iterativetly), erase 0 values\n",
      "Clean done (remove outliers iterativetly), erase 0 values\n",
      "Clean done (remove outliers iterativetly), erase 0 values\n",
      "Clean done (remove outliers iterativetly), erase 0 values\n",
      "Clean done (remove outliers iterativetly), erase 0 values\n",
      "Clean done (remove outliers iterativetly), erase 0 values\n",
      "Clean done (remove outliers iterativetly), erase 0 values\n",
      "Clean done (remove outliers iterativetly), erase 0 values\n",
      "Clean done (remove outliers iterativetly), erase 0 values\n",
      "Clean done (remove outliers iterativetly), erase 0 values\n",
      "Clean done (remove outliers iterativetly), erase 0 values\n",
      "Clean done (remove outliers iterativetly), erase 0 values\n",
      "Clean done (remove outliers iterativetly), erase 0 values\n",
      "Clean done (remove outliers iterativetly), erase 0 values\n",
      "Clean done (remove outliers iterativetly), erase 0 values\n",
      "Clean done (remove outliers iterativetly), erase 0 values\n",
      "Clean done (remove outliers iterativetly), erase 0 values\n",
      "Clean done (remove outliers iterativetly), erase 0 values\n",
      "Clean done (remove outliers iterativetly), erase 0 values\n",
      "Clean done (remove outliers iterativetly), erase 0 values\n",
      "Clean done (remove outliers iterativetly), erase 0 values\n",
      "Clean done (remove outliers iterativetly), erase 0 values\n",
      "Clean done (remove outliers iterativetly), erase 0 values\n",
      "Clean done (remove outliers iterativetly), erase 0 values\n",
      "Clean done (remove outliers iterativetly), erase 0 values\n",
      "Clean done (remove outliers iterativetly), erase 0 values\n",
      "Clean done (remove outliers iterativetly), erase 0 values\n",
      "Clean done (remove outliers iterativetly), erase 0 values\n",
      "Clean done (remove outliers iterativetly), erase 0 values\n",
      "Clean done (remove outliers iterativetly), erase 0 values\n",
      "Clean done (remove outliers iterativetly), erase 0 values\n",
      "Clean done (remove outliers iterativetly), erase 0 values\n",
      "Clean done (remove outliers iterativetly), erase 0 values\n",
      "Clean done (remove outliers iterativetly), erase 0 values\n",
      "Clean done (remove outliers iterativetly), erase 0 values\n",
      "Clean done (remove outliers iterativetly), erase 0 values\n",
      "Clean done (remove outliers iterativetly), erase 0 values\n",
      "Clean done (remove outliers iterativetly), erase 0 values\n",
      "Clean done (remove outliers iterativetly), erase 0 values\n",
      "Clean done (remove outliers iterativetly), erase 0 values\n",
      "Clean done (remove outliers iterativetly), erase 0 values\n",
      "Clean done (remove outliers iterativetly), erase 0 values\n",
      "Clean done (remove outliers iterativetly), erase 0 values\n",
      "Clean done (remove outliers iterativetly), erase 0 values\n",
      "Clean done (remove outliers iterativetly), erase 0 values\n",
      "Clean done (remove outliers iterativetly), erase 0 values\n",
      "Clean done (remove outliers iterativetly), erase 0 values\n",
      "Clean done (remove outliers iterativetly), erase 0 values\n",
      "Clean done (remove outliers iterativetly), erase 0 values\n",
      "Clean done (remove outliers iterativetly), erase 0 values\n",
      "Clean done (remove outliers iterativetly), erase 0 values\n",
      "Clean done (remove outliers iterativetly), erase 0 values\n",
      "Clean done (remove outliers iterativetly), erase 0 values\n",
      "Clean done (remove outliers iterativetly), erase 0 values\n",
      "Clean done (remove outliers iterativetly), erase 0 values\n",
      "Clean done (remove outliers iterativetly), erase 0 values\n",
      "Clean done (remove outliers iterativetly), erase 0 values\n",
      "Clean done (remove outliers iterativetly), erase 0 values\n",
      "Clean done (remove outliers iterativetly), erase 0 values\n",
      "Clean done (remove outliers iterativetly), erase 0 values\n",
      "Clean done (remove outliers iterativetly), erase 0 values\n",
      "Clean done (remove outliers iterativetly), erase 0 values\n",
      "Clean done (remove outliers iterativetly), erase 0 values\n",
      "Clean done (remove outliers iterativetly), erase 0 values\n",
      "Clean done (remove outliers iterativetly), erase 0 values\n",
      "Clean done (remove outliers iterativetly), erase 0 values\n",
      "Clean done (remove outliers iterativetly), erase 0 values\n",
      "Clean done (remove outliers iterativetly), erase 0 values\n",
      "Clean done (remove outliers iterativetly), erase 0 values\n",
      "Clean done (remove outliers iterativetly), erase 0 values\n",
      "Clean done (remove outliers iterativetly), erase 0 values\n",
      "Clean done (remove outliers iterativetly), erase 0 values\n",
      "Clean done (remove outliers iterativetly), erase 0 values\n",
      "Clean done (remove outliers iterativetly), erase 0 values\n",
      "Clean done (remove outliers iterativetly), erase 0 values\n",
      "Clean done (remove outliers iterativetly), erase 0 values\n",
      "Clean done (remove outliers iterativetly), erase 0 values\n",
      "Clean done (remove outliers iterativetly), erase 0 values\n",
      "Clean done (remove outliers iterativetly), erase 0 values\n",
      "Clean done (remove outliers iterativetly), erase 0 values\n",
      "Clean done (remove outliers iterativetly), erase 0 values\n",
      "Clean done (remove outliers iterativetly), erase 0 values\n",
      "Clean done (remove outliers iterativetly), erase 0 values\n",
      "Clean done (remove outliers iterativetly), erase 0 values\n",
      "Clean done (remove outliers iterativetly), erase 0 values\n",
      "Clean done (remove outliers iterativetly), erase 0 values\n",
      "Clean done (remove outliers iterativetly), erase 0 values\n",
      "Clean done (remove outliers iterativetly), erase 0 values\n",
      "Clean done (remove outliers iterativetly), erase 0 values\n",
      "Clean done (remove outliers iterativetly), erase 0 values\n",
      "Clean done (remove outliers iterativetly), erase 0 values\n",
      "Clean done (remove outliers iterativetly), erase 0 values\n",
      "Clean done (remove outliers iterativetly), erase 0 values\n",
      "Clean done (remove outliers iterativetly), erase 0 values\n",
      "Clean done (remove outliers iterativetly), erase 0 values\n",
      "Clean done (remove outliers iterativetly), erase 0 values\n",
      "Clean done (remove outliers iterativetly), erase 0 values\n",
      "Clean done (remove outliers iterativetly), erase 0 values\n",
      "Clean done (remove outliers iterativetly), erase 0 values\n",
      "Clean done (remove outliers iterativetly), erase 0 values\n",
      "Clean done (remove outliers iterativetly), erase 0 values\n",
      "Clean done (remove outliers iterativetly), erase 0 values\n",
      "Clean done (remove outliers iterativetly), erase 0 values\n",
      "Clean done (remove outliers iterativetly), erase 0 values\n",
      "Clean done (remove outliers iterativetly), erase 0 values\n",
      "Clean done (remove outliers iterativetly), erase 0 values\n",
      "Clean done (remove outliers iterativetly), erase 0 values\n",
      "Clean done (remove outliers iterativetly), erase 0 values\n",
      "Clean done (remove outliers iterativetly), erase 0 values\n",
      "Clean done (remove outliers iterativetly), erase 0 values\n",
      "Clean done (remove outliers iterativetly), erase 0 values\n",
      "Clean done (remove outliers iterativetly), erase 0 values\n",
      "Clean done (remove outliers iterativetly), erase 0 values\n",
      "Clean done (remove outliers iterativetly), erase 0 values\n",
      "Clean done (remove outliers iterativetly), erase 0 values\n",
      "Clean done (remove outliers iterativetly), erase 0 values\n",
      "Clean done (remove outliers iterativetly), erase 0 values\n",
      "Clean done (remove outliers iterativetly), erase 0 values\n",
      "Clean done (remove outliers iterativetly), erase 0 values\n",
      "Clean done (remove outliers iterativetly), erase 0 values\n",
      "Clean done (remove outliers iterativetly), erase 0 values\n",
      "Clean done (remove outliers iterativetly), erase 0 values\n",
      "Clean done (remove outliers iterativetly), erase 0 values\n",
      "Clean done (remove outliers iterativetly), erase 0 values\n",
      "Clean done (remove outliers iterativetly), erase 0 values\n",
      "Clean done (remove outliers iterativetly), erase 0 values\n",
      "Clean done (remove outliers iterativetly), erase 0 values\n",
      "Clean done (remove outliers iterativetly), erase 0 values\n",
      "Clean done (remove outliers iterativetly), erase 0 values\n",
      "Clean done (remove outliers iterativetly), erase 0 values\n"
     ]
    },
    {
     "name": "stdout",
     "output_type": "stream",
     "text": [
      "Clean done (remove outliers iterativetly), erase 0 values\n",
      "Clean done (remove outliers iterativetly), erase 0 values\n",
      "Clean done (remove outliers iterativetly), erase 0 values\n",
      "Clean done (remove outliers iterativetly), erase 0 values\n",
      "Clean done (remove outliers iterativetly), erase 0 values\n",
      "Clean done (remove outliers iterativetly), erase 0 values\n",
      "Clean done (remove outliers iterativetly), erase 0 values\n",
      "Clean done (remove outliers iterativetly), erase 0 values\n"
     ]
    },
    {
     "ename": "KeyboardInterrupt",
     "evalue": "",
     "output_type": "error",
     "traceback": [
      "\u001b[0;31m---------------------------------------------------------------------------\u001b[0m",
      "\u001b[0;31mKeyboardInterrupt\u001b[0m                         Traceback (most recent call last)",
      "\u001b[0;32m<ipython-input-5-dbac8b34befd>\u001b[0m in \u001b[0;36m<module>\u001b[0;34m()\u001b[0m\n\u001b[1;32m      3\u001b[0m \u001b[0mprocess_lc\u001b[0m \u001b[0;34m=\u001b[0m \u001b[0;34m[\u001b[0m\u001b[0;34m]\u001b[0m\u001b[0;34m\u001b[0m\u001b[0m\n\u001b[1;32m      4\u001b[0m \u001b[0;32mfor\u001b[0m \u001b[0mi\u001b[0m \u001b[0;32min\u001b[0m \u001b[0mrange\u001b[0m\u001b[0;34m(\u001b[0m\u001b[0mlc_train\u001b[0m\u001b[0;34m.\u001b[0m\u001b[0mshape\u001b[0m\u001b[0;34m[\u001b[0m\u001b[0;36m0\u001b[0m\u001b[0;34m]\u001b[0m\u001b[0;34m)\u001b[0m\u001b[0;34m:\u001b[0m\u001b[0;34m\u001b[0m\u001b[0m\n\u001b[0;32m----> 5\u001b[0;31m     \u001b[0mlc_cleaned\u001b[0m \u001b[0;34m=\u001b[0m \u001b[0mclean_LC\u001b[0m\u001b[0;34m(\u001b[0m\u001b[0mlc_train\u001b[0m\u001b[0;34m[\u001b[0m\u001b[0mi\u001b[0m\u001b[0;34m]\u001b[0m\u001b[0;34m,\u001b[0m \u001b[0mkernel_median\u001b[0m\u001b[0;34m=\u001b[0m\u001b[0;36m25\u001b[0m\u001b[0;34m,\u001b[0m \u001b[0mkernel_pol\u001b[0m\u001b[0;34m=\u001b[0m\u001b[0;36m151\u001b[0m\u001b[0;34m,\u001b[0m \u001b[0mdetrend_median\u001b[0m\u001b[0;34m=\u001b[0m\u001b[0;32mFalse\u001b[0m\u001b[0;34m,\u001b[0m \u001b[0mplot\u001b[0m\u001b[0;34m=\u001b[0m\u001b[0;32mFalse\u001b[0m\u001b[0;34m)\u001b[0m\u001b[0;34m\u001b[0m\u001b[0m\n\u001b[0m\u001b[1;32m      6\u001b[0m     \u001b[0mprocess_lc\u001b[0m\u001b[0;34m.\u001b[0m\u001b[0mappend\u001b[0m\u001b[0;34m(\u001b[0m\u001b[0mlc_cleaned\u001b[0m\u001b[0;34m)\u001b[0m\u001b[0;34m\u001b[0m\u001b[0m\n\u001b[1;32m      7\u001b[0m \u001b[0mlc_train\u001b[0m \u001b[0;34m=\u001b[0m \u001b[0mnp\u001b[0m\u001b[0;34m.\u001b[0m\u001b[0masarray\u001b[0m\u001b[0;34m(\u001b[0m\u001b[0mprocess_lc\u001b[0m\u001b[0;34m)\u001b[0m\u001b[0;34m\u001b[0m\u001b[0m\n",
      "\u001b[0;32m~/Desktop/LC_process/PIIC19/code/pre_process.py\u001b[0m in \u001b[0;36mclean_LC\u001b[0;34m(flux, kernel_median, kernel_pol, detrend_median, plot)\u001b[0m\n\u001b[1;32m     72\u001b[0m \u001b[0;34m\u001b[0m\u001b[0m\n\u001b[1;32m     73\u001b[0m     \u001b[0;32mif\u001b[0m \u001b[0;32mnot\u001b[0m \u001b[0mdetrend_median\u001b[0m\u001b[0;34m:\u001b[0m \u001b[0;31m#detrend encontrado\u001b[0m\u001b[0;34m\u001b[0m\u001b[0m\n\u001b[0;32m---> 74\u001b[0;31m         \u001b[0mlc_process\u001b[0m \u001b[0;34m=\u001b[0m \u001b[0mprocess_found\u001b[0m\u001b[0;34m(\u001b[0m\u001b[0mflux\u001b[0m\u001b[0;34m,\u001b[0m \u001b[0mkernel_median\u001b[0m\u001b[0;34m=\u001b[0m\u001b[0mkernel_median\u001b[0m\u001b[0;34m,\u001b[0m \u001b[0mkernel_pol\u001b[0m\u001b[0;34m=\u001b[0m\u001b[0mkernel_pol\u001b[0m\u001b[0;34m,\u001b[0m \u001b[0mplot_show\u001b[0m\u001b[0;34m=\u001b[0m\u001b[0mplot\u001b[0m\u001b[0;34m)\u001b[0m\u001b[0;34m\u001b[0m\u001b[0m\n\u001b[0m\u001b[1;32m     75\u001b[0m \u001b[0;34m\u001b[0m\u001b[0m\n\u001b[1;32m     76\u001b[0m     \u001b[0;32melif\u001b[0m \u001b[0mdetrend_median\u001b[0m\u001b[0;34m:\u001b[0m \u001b[0;31m#detrend con mediana\u001b[0m\u001b[0;34m\u001b[0m\u001b[0m\n",
      "\u001b[0;32m~/Desktop/LC_process/PIIC19/code/pre_process.py\u001b[0m in \u001b[0;36mprocess_found\u001b[0;34m(flux, kernel_median, kernel_pol, plot_show)\u001b[0m\n\u001b[1;32m     94\u001b[0m         \u001b[0mplt\u001b[0m\u001b[0;34m.\u001b[0m\u001b[0mshow\u001b[0m\u001b[0;34m(\u001b[0m\u001b[0;34m)\u001b[0m\u001b[0;34m\u001b[0m\u001b[0m\n\u001b[1;32m     95\u001b[0m \u001b[0;34m\u001b[0m\u001b[0m\n\u001b[0;32m---> 96\u001b[0;31m     \u001b[0;32mreturn\u001b[0m \u001b[0mlc_SavGol\u001b[0m \u001b[0;34m-\u001b[0m \u001b[0mmedian_filter\u001b[0m\u001b[0;34m(\u001b[0m\u001b[0mlc_SavGol\u001b[0m\u001b[0;34m,\u001b[0m\u001b[0mwidth\u001b[0m\u001b[0;34m=\u001b[0m\u001b[0mkernel_median\u001b[0m\u001b[0;34m)\u001b[0m\u001b[0;34m\u001b[0m\u001b[0m\n\u001b[0m\u001b[1;32m     97\u001b[0m \u001b[0;34m\u001b[0m\u001b[0m\n\u001b[1;32m     98\u001b[0m \u001b[0;32mdef\u001b[0m \u001b[0mremove_outliers\u001b[0m\u001b[0;34m(\u001b[0m\u001b[0mf\u001b[0m\u001b[0;34m,\u001b[0m \u001b[0msigm_up\u001b[0m \u001b[0;34m=\u001b[0m \u001b[0;36m5\u001b[0m\u001b[0;34m,\u001b[0m \u001b[0msigm_low\u001b[0m\u001b[0;34m=\u001b[0m\u001b[0;36m40\u001b[0m\u001b[0;34m,\u001b[0m \u001b[0mwith_MAD\u001b[0m\u001b[0;34m=\u001b[0m\u001b[0;32mFalse\u001b[0m\u001b[0;34m,\u001b[0m \u001b[0mplot\u001b[0m\u001b[0;34m=\u001b[0m\u001b[0;32mTrue\u001b[0m\u001b[0;34m)\u001b[0m\u001b[0;34m:\u001b[0m\u001b[0;34m\u001b[0m\u001b[0m\n",
      "\u001b[0;32m~/Desktop/LC_process/PIIC19/code/pre_process.py\u001b[0m in \u001b[0;36mmedian_filter\u001b[0;34m(flux, width)\u001b[0m\n\u001b[1;32m     24\u001b[0m             \u001b[0mlim_sup\u001b[0m \u001b[0;34m=\u001b[0m \u001b[0mflux\u001b[0m\u001b[0;34m.\u001b[0m\u001b[0mshape\u001b[0m\u001b[0;34m[\u001b[0m\u001b[0;36m0\u001b[0m\u001b[0;34m]\u001b[0m\u001b[0;34m\u001b[0m\u001b[0m\n\u001b[1;32m     25\u001b[0m \u001b[0;34m\u001b[0m\u001b[0m\n\u001b[0;32m---> 26\u001b[0;31m         \u001b[0mmedian_filter\u001b[0m\u001b[0;34m[\u001b[0m\u001b[0mi\u001b[0m\u001b[0;34m]\u001b[0m \u001b[0;34m=\u001b[0m \u001b[0mnp\u001b[0m\u001b[0;34m.\u001b[0m\u001b[0mnanmedian\u001b[0m\u001b[0;34m(\u001b[0m\u001b[0mflux\u001b[0m\u001b[0;34m[\u001b[0m \u001b[0mlim_inf\u001b[0m\u001b[0;34m:\u001b[0m \u001b[0mlim_sup\u001b[0m \u001b[0;34m]\u001b[0m\u001b[0;34m)\u001b[0m\u001b[0;34m\u001b[0m\u001b[0m\n\u001b[0m\u001b[1;32m     27\u001b[0m         \u001b[0;32mif\u001b[0m \u001b[0mnp\u001b[0m\u001b[0;34m.\u001b[0m\u001b[0misnan\u001b[0m\u001b[0;34m(\u001b[0m\u001b[0mmedian_filter\u001b[0m\u001b[0;34m[\u001b[0m\u001b[0mi\u001b[0m\u001b[0;34m]\u001b[0m\u001b[0;34m)\u001b[0m\u001b[0;34m:\u001b[0m\u001b[0;34m\u001b[0m\u001b[0m\n\u001b[1;32m     28\u001b[0m             \u001b[0mmedian_filter\u001b[0m\u001b[0;34m[\u001b[0m\u001b[0mi\u001b[0m\u001b[0;34m]\u001b[0m \u001b[0;34m=\u001b[0m \u001b[0;36m0\u001b[0m \u001b[0;31m#to not get nans\u001b[0m\u001b[0;34m\u001b[0m\u001b[0m\n",
      "\u001b[0;32m/home/casapanshop/anaconda2/envs/py3/lib/python3.5/site-packages/numpy/lib/nanfunctions.py\u001b[0m in \u001b[0;36mnanmedian\u001b[0;34m(a, axis, out, overwrite_input, keepdims)\u001b[0m\n\u001b[1;32m   1019\u001b[0m \u001b[0;34m\u001b[0m\u001b[0m\n\u001b[1;32m   1020\u001b[0m     r, k = _ureduce(a, func=_nanmedian, axis=axis, out=out,\n\u001b[0;32m-> 1021\u001b[0;31m                     overwrite_input=overwrite_input)\n\u001b[0m\u001b[1;32m   1022\u001b[0m     \u001b[0;32mif\u001b[0m \u001b[0mkeepdims\u001b[0m \u001b[0;32mand\u001b[0m \u001b[0mkeepdims\u001b[0m \u001b[0;32mis\u001b[0m \u001b[0;32mnot\u001b[0m \u001b[0mnp\u001b[0m\u001b[0;34m.\u001b[0m\u001b[0m_NoValue\u001b[0m\u001b[0;34m:\u001b[0m\u001b[0;34m\u001b[0m\u001b[0m\n\u001b[1;32m   1023\u001b[0m         \u001b[0;32mreturn\u001b[0m \u001b[0mr\u001b[0m\u001b[0;34m.\u001b[0m\u001b[0mreshape\u001b[0m\u001b[0;34m(\u001b[0m\u001b[0mk\u001b[0m\u001b[0;34m)\u001b[0m\u001b[0;34m\u001b[0m\u001b[0m\n",
      "\u001b[0;32m/home/casapanshop/anaconda2/envs/py3/lib/python3.5/site-packages/numpy/lib/function_base.py\u001b[0m in \u001b[0;36m_ureduce\u001b[0;34m(a, func, **kwargs)\u001b[0m\n\u001b[1;32m   4031\u001b[0m         \u001b[0mkeepdim\u001b[0m \u001b[0;34m=\u001b[0m \u001b[0;34m(\u001b[0m\u001b[0;36m1\u001b[0m\u001b[0;34m,\u001b[0m\u001b[0;34m)\u001b[0m \u001b[0;34m*\u001b[0m \u001b[0ma\u001b[0m\u001b[0;34m.\u001b[0m\u001b[0mndim\u001b[0m\u001b[0;34m\u001b[0m\u001b[0m\n\u001b[1;32m   4032\u001b[0m \u001b[0;34m\u001b[0m\u001b[0m\n\u001b[0;32m-> 4033\u001b[0;31m     \u001b[0mr\u001b[0m \u001b[0;34m=\u001b[0m \u001b[0mfunc\u001b[0m\u001b[0;34m(\u001b[0m\u001b[0ma\u001b[0m\u001b[0;34m,\u001b[0m \u001b[0;34m**\u001b[0m\u001b[0mkwargs\u001b[0m\u001b[0;34m)\u001b[0m\u001b[0;34m\u001b[0m\u001b[0m\n\u001b[0m\u001b[1;32m   4034\u001b[0m     \u001b[0;32mreturn\u001b[0m \u001b[0mr\u001b[0m\u001b[0;34m,\u001b[0m \u001b[0mkeepdim\u001b[0m\u001b[0;34m\u001b[0m\u001b[0m\n\u001b[1;32m   4035\u001b[0m \u001b[0;34m\u001b[0m\u001b[0m\n",
      "\u001b[0;32m/home/casapanshop/anaconda2/envs/py3/lib/python3.5/site-packages/numpy/lib/nanfunctions.py\u001b[0m in \u001b[0;36m_nanmedian\u001b[0;34m(a, axis, out, overwrite_input)\u001b[0m\n\u001b[1;32m    895\u001b[0m         \u001b[0mpart\u001b[0m \u001b[0;34m=\u001b[0m \u001b[0ma\u001b[0m\u001b[0;34m.\u001b[0m\u001b[0mravel\u001b[0m\u001b[0;34m(\u001b[0m\u001b[0;34m)\u001b[0m\u001b[0;34m\u001b[0m\u001b[0m\n\u001b[1;32m    896\u001b[0m         \u001b[0;32mif\u001b[0m \u001b[0mout\u001b[0m \u001b[0;32mis\u001b[0m \u001b[0;32mNone\u001b[0m\u001b[0;34m:\u001b[0m\u001b[0;34m\u001b[0m\u001b[0m\n\u001b[0;32m--> 897\u001b[0;31m             \u001b[0;32mreturn\u001b[0m \u001b[0m_nanmedian1d\u001b[0m\u001b[0;34m(\u001b[0m\u001b[0mpart\u001b[0m\u001b[0;34m,\u001b[0m \u001b[0moverwrite_input\u001b[0m\u001b[0;34m)\u001b[0m\u001b[0;34m\u001b[0m\u001b[0m\n\u001b[0m\u001b[1;32m    898\u001b[0m         \u001b[0;32melse\u001b[0m\u001b[0;34m:\u001b[0m\u001b[0;34m\u001b[0m\u001b[0m\n\u001b[1;32m    899\u001b[0m             \u001b[0mout\u001b[0m\u001b[0;34m[\u001b[0m\u001b[0;34m...\u001b[0m\u001b[0;34m]\u001b[0m \u001b[0;34m=\u001b[0m \u001b[0m_nanmedian1d\u001b[0m\u001b[0;34m(\u001b[0m\u001b[0mpart\u001b[0m\u001b[0;34m,\u001b[0m \u001b[0moverwrite_input\u001b[0m\u001b[0;34m)\u001b[0m\u001b[0;34m\u001b[0m\u001b[0m\n",
      "\u001b[0;32m/home/casapanshop/anaconda2/envs/py3/lib/python3.5/site-packages/numpy/lib/nanfunctions.py\u001b[0m in \u001b[0;36m_nanmedian1d\u001b[0;34m(arr1d, overwrite_input)\u001b[0m\n\u001b[1;32m    882\u001b[0m         \u001b[0;32mreturn\u001b[0m \u001b[0mnp\u001b[0m\u001b[0;34m.\u001b[0m\u001b[0mnan\u001b[0m\u001b[0;34m\u001b[0m\u001b[0m\n\u001b[1;32m    883\u001b[0m \u001b[0;34m\u001b[0m\u001b[0m\n\u001b[0;32m--> 884\u001b[0;31m     \u001b[0;32mreturn\u001b[0m \u001b[0mnp\u001b[0m\u001b[0;34m.\u001b[0m\u001b[0mmedian\u001b[0m\u001b[0;34m(\u001b[0m\u001b[0marr1d\u001b[0m\u001b[0;34m,\u001b[0m \u001b[0moverwrite_input\u001b[0m\u001b[0;34m=\u001b[0m\u001b[0moverwrite_input\u001b[0m\u001b[0;34m)\u001b[0m\u001b[0;34m\u001b[0m\u001b[0m\n\u001b[0m\u001b[1;32m    885\u001b[0m \u001b[0;34m\u001b[0m\u001b[0m\n\u001b[1;32m    886\u001b[0m \u001b[0;34m\u001b[0m\u001b[0m\n",
      "\u001b[0;32m/home/casapanshop/anaconda2/envs/py3/lib/python3.5/site-packages/numpy/lib/function_base.py\u001b[0m in \u001b[0;36mmedian\u001b[0;34m(a, axis, out, overwrite_input, keepdims)\u001b[0m\n\u001b[1;32m   4117\u001b[0m     \"\"\"\n\u001b[1;32m   4118\u001b[0m     r, k = _ureduce(a, func=_median, axis=axis, out=out,\n\u001b[0;32m-> 4119\u001b[0;31m                     overwrite_input=overwrite_input)\n\u001b[0m\u001b[1;32m   4120\u001b[0m     \u001b[0;32mif\u001b[0m \u001b[0mkeepdims\u001b[0m\u001b[0;34m:\u001b[0m\u001b[0;34m\u001b[0m\u001b[0m\n\u001b[1;32m   4121\u001b[0m         \u001b[0;32mreturn\u001b[0m \u001b[0mr\u001b[0m\u001b[0;34m.\u001b[0m\u001b[0mreshape\u001b[0m\u001b[0;34m(\u001b[0m\u001b[0mk\u001b[0m\u001b[0;34m)\u001b[0m\u001b[0;34m\u001b[0m\u001b[0m\n",
      "\u001b[0;32m/home/casapanshop/anaconda2/envs/py3/lib/python3.5/site-packages/numpy/lib/function_base.py\u001b[0m in \u001b[0;36m_ureduce\u001b[0;34m(a, func, **kwargs)\u001b[0m\n\u001b[1;32m   4031\u001b[0m         \u001b[0mkeepdim\u001b[0m \u001b[0;34m=\u001b[0m \u001b[0;34m(\u001b[0m\u001b[0;36m1\u001b[0m\u001b[0;34m,\u001b[0m\u001b[0;34m)\u001b[0m \u001b[0;34m*\u001b[0m \u001b[0ma\u001b[0m\u001b[0;34m.\u001b[0m\u001b[0mndim\u001b[0m\u001b[0;34m\u001b[0m\u001b[0m\n\u001b[1;32m   4032\u001b[0m \u001b[0;34m\u001b[0m\u001b[0m\n\u001b[0;32m-> 4033\u001b[0;31m     \u001b[0mr\u001b[0m \u001b[0;34m=\u001b[0m \u001b[0mfunc\u001b[0m\u001b[0;34m(\u001b[0m\u001b[0ma\u001b[0m\u001b[0;34m,\u001b[0m \u001b[0;34m**\u001b[0m\u001b[0mkwargs\u001b[0m\u001b[0;34m)\u001b[0m\u001b[0;34m\u001b[0m\u001b[0m\n\u001b[0m\u001b[1;32m   4034\u001b[0m     \u001b[0;32mreturn\u001b[0m \u001b[0mr\u001b[0m\u001b[0;34m,\u001b[0m \u001b[0mkeepdim\u001b[0m\u001b[0;34m\u001b[0m\u001b[0m\n\u001b[1;32m   4035\u001b[0m \u001b[0;34m\u001b[0m\u001b[0m\n",
      "\u001b[0;32m/home/casapanshop/anaconda2/envs/py3/lib/python3.5/site-packages/numpy/lib/function_base.py\u001b[0m in \u001b[0;36m_median\u001b[0;34m(a, axis, out, overwrite_input)\u001b[0m\n\u001b[1;32m   4169\u001b[0m     \u001b[0;32mif\u001b[0m \u001b[0mnp\u001b[0m\u001b[0;34m.\u001b[0m\u001b[0missubdtype\u001b[0m\u001b[0;34m(\u001b[0m\u001b[0ma\u001b[0m\u001b[0;34m.\u001b[0m\u001b[0mdtype\u001b[0m\u001b[0;34m,\u001b[0m \u001b[0mnp\u001b[0m\u001b[0;34m.\u001b[0m\u001b[0minexact\u001b[0m\u001b[0;34m)\u001b[0m \u001b[0;32mand\u001b[0m \u001b[0msz\u001b[0m \u001b[0;34m>\u001b[0m \u001b[0;36m0\u001b[0m\u001b[0;34m:\u001b[0m\u001b[0;34m\u001b[0m\u001b[0m\n\u001b[1;32m   4170\u001b[0m         \u001b[0;31m# warn and return nans like mean would\u001b[0m\u001b[0;34m\u001b[0m\u001b[0;34m\u001b[0m\u001b[0m\n\u001b[0;32m-> 4171\u001b[0;31m         \u001b[0mrout\u001b[0m \u001b[0;34m=\u001b[0m \u001b[0mmean\u001b[0m\u001b[0;34m(\u001b[0m\u001b[0mpart\u001b[0m\u001b[0;34m[\u001b[0m\u001b[0mindexer\u001b[0m\u001b[0;34m]\u001b[0m\u001b[0;34m,\u001b[0m \u001b[0maxis\u001b[0m\u001b[0;34m=\u001b[0m\u001b[0maxis\u001b[0m\u001b[0;34m,\u001b[0m \u001b[0mout\u001b[0m\u001b[0;34m=\u001b[0m\u001b[0mout\u001b[0m\u001b[0;34m)\u001b[0m\u001b[0;34m\u001b[0m\u001b[0m\n\u001b[0m\u001b[1;32m   4172\u001b[0m         \u001b[0;32mreturn\u001b[0m \u001b[0mnp\u001b[0m\u001b[0;34m.\u001b[0m\u001b[0mlib\u001b[0m\u001b[0;34m.\u001b[0m\u001b[0mutils\u001b[0m\u001b[0;34m.\u001b[0m\u001b[0m_median_nancheck\u001b[0m\u001b[0;34m(\u001b[0m\u001b[0mpart\u001b[0m\u001b[0;34m,\u001b[0m \u001b[0mrout\u001b[0m\u001b[0;34m,\u001b[0m \u001b[0maxis\u001b[0m\u001b[0;34m,\u001b[0m \u001b[0mout\u001b[0m\u001b[0;34m)\u001b[0m\u001b[0;34m\u001b[0m\u001b[0m\n\u001b[1;32m   4173\u001b[0m     \u001b[0;32melse\u001b[0m\u001b[0;34m:\u001b[0m\u001b[0;34m\u001b[0m\u001b[0m\n",
      "\u001b[0;32m/home/casapanshop/anaconda2/envs/py3/lib/python3.5/site-packages/numpy/core/fromnumeric.py\u001b[0m in \u001b[0;36mmean\u001b[0;34m(a, axis, dtype, out, keepdims)\u001b[0m\n\u001b[1;32m   2955\u001b[0m \u001b[0;34m\u001b[0m\u001b[0m\n\u001b[1;32m   2956\u001b[0m     return _methods._mean(a, axis=axis, dtype=dtype,\n\u001b[0;32m-> 2957\u001b[0;31m                           out=out, **kwargs)\n\u001b[0m\u001b[1;32m   2958\u001b[0m \u001b[0;34m\u001b[0m\u001b[0m\n\u001b[1;32m   2959\u001b[0m \u001b[0;34m\u001b[0m\u001b[0m\n",
      "\u001b[0;32m/home/casapanshop/anaconda2/envs/py3/lib/python3.5/site-packages/numpy/core/_methods.py\u001b[0m in \u001b[0;36m_mean\u001b[0;34m(a, axis, dtype, out, keepdims)\u001b[0m\n\u001b[1;32m     78\u001b[0m             \u001b[0mret\u001b[0m \u001b[0;34m=\u001b[0m \u001b[0marr\u001b[0m\u001b[0;34m.\u001b[0m\u001b[0mdtype\u001b[0m\u001b[0;34m.\u001b[0m\u001b[0mtype\u001b[0m\u001b[0;34m(\u001b[0m\u001b[0mret\u001b[0m \u001b[0;34m/\u001b[0m \u001b[0mrcount\u001b[0m\u001b[0;34m)\u001b[0m\u001b[0;34m\u001b[0m\u001b[0m\n\u001b[1;32m     79\u001b[0m         \u001b[0;32melse\u001b[0m\u001b[0;34m:\u001b[0m\u001b[0;34m\u001b[0m\u001b[0m\n\u001b[0;32m---> 80\u001b[0;31m             \u001b[0mret\u001b[0m \u001b[0;34m=\u001b[0m \u001b[0mret\u001b[0m\u001b[0;34m.\u001b[0m\u001b[0mdtype\u001b[0m\u001b[0;34m.\u001b[0m\u001b[0mtype\u001b[0m\u001b[0;34m(\u001b[0m\u001b[0mret\u001b[0m \u001b[0;34m/\u001b[0m \u001b[0mrcount\u001b[0m\u001b[0;34m)\u001b[0m\u001b[0;34m\u001b[0m\u001b[0m\n\u001b[0m\u001b[1;32m     81\u001b[0m     \u001b[0;32melse\u001b[0m\u001b[0;34m:\u001b[0m\u001b[0;34m\u001b[0m\u001b[0m\n\u001b[1;32m     82\u001b[0m         \u001b[0mret\u001b[0m \u001b[0;34m=\u001b[0m \u001b[0mret\u001b[0m \u001b[0;34m/\u001b[0m \u001b[0mrcount\u001b[0m\u001b[0;34m\u001b[0m\u001b[0m\n",
      "\u001b[0;31mKeyboardInterrupt\u001b[0m: "
     ]
    }
   ],
   "source": [
    "process_lc = []\n",
    "for i in range(lc_train.shape[0]):\n",
    "    lc_cleaned = clean_LC(lc_train[i], kernel_median=25, kernel_pol=151, detrend_median=False, plot=False) \n",
    "    process_lc.append(lc_cleaned)\n",
    "lc_train = np.asarray(process_lc)\n",
    "lc_train.shape"
   ]
  },
  {
   "cell_type": "code",
   "execution_count": null,
   "metadata": {},
   "outputs": [],
   "source": [
    "## maybe save the processed light curve\n",
    "np.save('lc_train_processed.npy', lc_train)"
   ]
  },
  {
   "cell_type": "code",
   "execution_count": null,
   "metadata": {},
   "outputs": [],
   "source": [
    "lc_train = np.load('lc_train_processed.npy')"
   ]
  },
  {
   "cell_type": "markdown",
   "metadata": {},
   "source": [
    "### Generate representation\n",
    "> Continous values (with zeros)  \n",
    "> Coupled values (adding time)"
   ]
  },
  {
   "cell_type": "code",
   "execution_count": null,
   "metadata": {},
   "outputs": [],
   "source": [
    "#do it.."
   ]
  },
  {
   "cell_type": "markdown",
   "metadata": {},
   "source": [
    "### Process to neural network \n",
    "> center?  \n",
    "> With what value scale? (min, iqr, std)"
   ]
  },
  {
   "cell_type": "code",
   "execution_count": null,
   "metadata": {},
   "outputs": [],
   "source": [
    "..."
   ]
  },
  {
   "cell_type": "markdown",
   "metadata": {},
   "source": [
    "### Define data augmentation\n",
    "> description.."
   ]
  },
  {
   "cell_type": "code",
   "execution_count": null,
   "metadata": {},
   "outputs": [],
   "source": [
    "def noisify_samples(inputs, outputs, errors, batch_size=500, sample_weight=None):\n",
    "    \"\"\"\n",
    "    inputs: {'main_input': X, 'aux_input': X[:, :, [1]]}\n",
    "    outputs: X[:, :, [1]]\n",
    "    errors: X_raw[:, :, 2]\n",
    "    \"\"\"\n",
    "    if sample_weight is None:\n",
    "        sample_weight = np.ones(errors.shape)\n",
    "    X = inputs['main_input']\n",
    "    X_aux = inputs['aux_input']\n",
    "    shuffle_inds = np.arange(len(X))\n",
    "    while True:\n",
    "        # New epoch\n",
    "        np.random.shuffle(shuffle_inds)\n",
    "        noise = errors * np.random.normal(size=errors.shape)\n",
    "        X_noisy = X.copy()\n",
    "        X_noisy[:, :, 1] += noise\n",
    "        # Re-scale to have mean 0 and std dev 1; TODO make this optional\n",
    "        X_noisy[:, :, 1] -= np.atleast_2d(np.nanmean(X_noisy[:, :, 1], axis=1)).T\n",
    "        X_noisy[:, :, 1] /= np.atleast_2d(np.std(X[:, :, 1], axis=1)).T\n",
    "\n",
    "        for i in range(ceil(len(X) / batch_size)):\n",
    "            inds = shuffle_inds[(i * batch_size):((i + 1) * batch_size)]\n",
    "            yield ([X_noisy[inds], X_aux[inds]], X_noisy[inds, :, 1:2], sample_weight[inds])\n",
    "            \n",
    "history = model.fit_generator(noisify_samples(X, Y, errors, batch_size,sample_weight),\n",
    "                              samples_per_epoch=len(Y), nb_epoch=nb_epoch, validation_data=validation_data)\n",
    "\n",
    "\n",
    "from keras.utils.data_utils import Sequence\n",
    "class KOIGenerator(Sequence):\n",
    "    def __init__(self, x_set, batch_size, flip_p=True, add_n = True, shift=True ):\n",
    "        self.x = x_set\n",
    "        self.batch_size = batch_size\n",
    "        self.flip_p = flip_p\n",
    "        self.add_n = add_n\n",
    "        self.shift = shift\n",
    "        \n",
    "    def __len__(self):\n",
    "        return int(np.ceil(len(self.x) / float(self.batch_size)))\n",
    "    def __getitem__(self, idx):\n",
    "        batch_x = self.x[idx * self.batch_size:(idx + 1) * self.batch_size]\n",
    "        \n",
    "        return np.stack([self.augment(x) for x in batch_x], axis=0)\n",
    "            \n",
    "    def augment(self,x):\n",
    "        \"\"\"Do Augmentation\"\"\"\n",
    "        return_x = x.copy()[:,0]\n",
    "        T = int(return_x.shape[0])\n",
    "        \n",
    "        if self.flip_p: #np.random.rand() <= self.flip_p: \n",
    "            if np.random.rand() <= 0.5:\n",
    "                print(\"Flip\")\n",
    "                return_x = return_x[::-1] #flip\n",
    "        \n",
    "        if self.add_n: #np.random.rand() <= self.add_n: \n",
    "            if np.random.rand() <= 0.5:\n",
    "                print(\"Noise added\")\n",
    "                noise_level =  np.random.uniform(0.01,0.45)\n",
    "                noise_mask = np.random.binomial(n=1, p=noise_level, size=return_x.shape)\n",
    "                return_x = return_x[:]*noise_mask\n",
    "                \n",
    "        if self.shift:\n",
    "            if np.random.rand() <= 0.5:\n",
    "                print(\"Shift\")\n",
    "                v_shift = np.random.randint(1, int(T*0.49))  #valor a shift?\n",
    "                return_x = return_x[v_shift:]\n",
    "                #padd\n",
    "                return_x = keras.preprocessing.sequence.pad_sequences([return_x], maxlen=T, \n",
    "                                    padding='pre', value =0, dtype='float32')[0]\n",
    "        return return_x[:,None]\n",
    "                    \n",
    "# Training data\n",
    "train_gen = KOIGenerator(X_train, 128)\n",
    "\n",
    "# Validation data\n",
    "valid_gen = KOIGenerator(X_test, 128, flip_p = False, add_n = False, shift=False)\n",
    "\n",
    "\n",
    "# Training\n",
    "autoencoder.fit_generator(\n",
    "    train_gen,\n",
    "    epochs=20,\n",
    "    validation_data=valid_gen,\n",
    "    workers=10, use_multiprocessing=True)"
   ]
  },
  {
   "cell_type": "code",
   "execution_count": null,
   "metadata": {},
   "outputs": [],
   "source": []
  },
  {
   "cell_type": "code",
   "execution_count": null,
   "metadata": {},
   "outputs": [],
   "source": [
    "## define model"
   ]
  },
  {
   "cell_type": "code",
   "execution_count": null,
   "metadata": {},
   "outputs": [],
   "source": [
    "## train model (1era fase)"
   ]
  },
  {
   "cell_type": "code",
   "execution_count": null,
   "metadata": {},
   "outputs": [],
   "source": [
    "### evaluate with loss and measure acc on labeled data"
   ]
  },
  {
   "cell_type": "code",
   "execution_count": null,
   "metadata": {},
   "outputs": [],
   "source": []
  },
  {
   "cell_type": "code",
   "execution_count": null,
   "metadata": {},
   "outputs": [],
   "source": []
  },
  {
   "cell_type": "code",
   "execution_count": null,
   "metadata": {},
   "outputs": [],
   "source": [
    "### load metadata"
   ]
  },
  {
   "cell_type": "code",
   "execution_count": null,
   "metadata": {},
   "outputs": [],
   "source": [
    "#pre-process: scale metadata"
   ]
  },
  {
   "cell_type": "code",
   "execution_count": null,
   "metadata": {},
   "outputs": [],
   "source": [
    "### train model (2da fase)"
   ]
  },
  {
   "cell_type": "code",
   "execution_count": null,
   "metadata": {},
   "outputs": [],
   "source": [
    "### evaluate with mse between metadata (and the values before)"
   ]
  }
 ],
 "metadata": {
  "kernelspec": {
   "display_name": "Python [conda env:py3]",
   "language": "python",
   "name": "conda-env-py3-py"
  },
  "language_info": {
   "codemirror_mode": {
    "name": "ipython",
    "version": 3
   },
   "file_extension": ".py",
   "mimetype": "text/x-python",
   "name": "python",
   "nbconvert_exporter": "python",
   "pygments_lexer": "ipython3",
   "version": "3.5.5"
  }
 },
 "nbformat": 4,
 "nbformat_minor": 2
}

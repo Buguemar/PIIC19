{
 "cells": [
  {
   "cell_type": "code",
   "execution_count": null,
   "metadata": {},
   "outputs": [],
   "source": [
    "#Save con Nodos\n",
    "import os\n",
    "from keras.datasets import cifar100,cifar10,mnist,fashion_mnist\n",
    "from keras.models import load_model\n",
    "import itertools\n",
    "from matplotlib import pyplot as plt\n",
    "from keras.utils import to_categorical\n",
    "import numpy as np\n",
    "from sklearn.model_selection import train_test_split\n",
    "from sklearn.preprocessing import LabelEncoder\n",
    "from sklearn.preprocessing import OneHotEncoder\n",
    "from keras.models import load_model\n",
    "import itertools\n",
    "import matplotlib.pyplot as plt\n",
    "from sklearn import svm, datasets\n",
    "from sklearn.model_selection import train_test_split\n",
    "from sklearn.metrics import confusion_matrix,accuracy_score\n",
    "from tqdm import tqdm_notebook\n",
    "from keras.regularizers import l2\n",
    "from keras.activations import tanh\n",
    "from keras.models import Sequential\n",
    "from keras.layers import Dense, Flatten,Conv2D, MaxPooling2D,Conv2D, MaxPooling2D,Dropout,AveragePooling2D,GlobalAveragePooling2D,Activation\n",
    "from keras.losses import categorical_crossentropy,binary_crossentropy\n",
    "from keras.optimizers import SGD\n",
    "from keras.callbacks import LearningRateScheduler\n",
    "from keras import optimizers\n",
    "from keras import backend as K\n",
    "from time import time\n",
    "import random\n",
    "from random import shuffle,seed\n",
    "from sklearn.metrics import classification_report\n",
    "import math\n",
    "from PIL import Image\n",
    "from time import time\n",
    "import numpy\n",
    "import tensorflow\n",
    "import keras\n",
    "import keras.backend as K\n",
    "from keras.models import Sequential\n",
    "from keras.layers import Conv2D, AveragePooling2D, Dropout, Flatten, Dense, Lambda\n",
    "from keras.regularizers import l2\n",
    "from keras.callbacks import LearningRateScheduler\n",
    "import theano.tensor as T\n",
    "from keras.callbacks import EarlyStopping\n",
    "from keras.backend import eval\n",
    "\n",
    "\n",
    "model = Sequential()\n",
    "model.add(Conv2D(64, (3, 3), input_shape=(15,15,1), strides=(1, 1),activation=\"relu\", padding=\"same\"))\n",
    "model.add(MaxPooling2D((2,2), strides=(1,1)))\n",
    "model.add(Dropout(0.1))\n",
    "model.add(Conv2D(128, (5, 5), strides=(1, 1), activation=\"relu\", padding=\"same\"))\n",
    "model.add(Conv2D(256, (5, 5), strides=(1, 1), activation=\"relu\", padding=\"same\"))\n",
    "#model.add(Flatten())\n",
    "model.add(GlobalAveragePooling2D())\n",
    "model.add(Dense(512, kernel_initializer='random_uniform',activation='relu'))\n",
    "model.add(Dropout(0.5))\n",
    "model.add(Dense(512, kernel_initializer='random_uniform',activation='relu'))\n",
    "model.add(Dense(1, kernel_initializer='random_uniform',activation='softmax'))\n",
    "model.summary()\n",
    "\n",
    "model.compile(loss='binary_crossentropy',optimizer=SGD(lr=0.05, momentum=0.9),metrics=['accuracy'])"
   ]
  },
  {
   "cell_type": "code",
   "execution_count": null,
   "metadata": {},
   "outputs": [],
   "source": [
    "#test con random\n",
    "import random\n",
    "x_train = []\n",
    "for i in range(100000):\n",
    "    x_train.append(np.random.rand(15,15))\n",
    "    \n",
    "x_train = np.asarray(x_train)\n",
    "\n",
    "#y_train = np.asarray([1,1,0,1,1,1,1,0,0,1])\n",
    "x_train = np.expand_dims(x_train, axis=4)\n",
    "x_train.shape\n",
    "  \n",
    "y_train = np.asarray([0]*50000 + [1]*50000)\n",
    "random.shuffle(y_train)\n",
    "\n",
    "print(y_train.shape)\n",
    "print(x_train.shape)"
   ]
  },
  {
   "cell_type": "code",
   "execution_count": null,
   "metadata": {},
   "outputs": [],
   "source": [
    "model.fit(x_train, y_train, batch_size=100, epochs=350, verbose=1)"
   ]
  },
  {
   "cell_type": "markdown",
   "metadata": {},
   "source": [
    "# Segundo Modelo"
   ]
  },
  {
   "cell_type": "code",
   "execution_count": null,
   "metadata": {},
   "outputs": [],
   "source": [
    "model = Sequential()\n",
    "model.add(Conv2D(32, (3, 3), input_shape=(15,15,1), strides=(1, 1),activation=\"relu\", padding=\"same\"))\n",
    "model.add(Dropout(0.1))\n",
    "model.add(GlobalAveragePooling2D())\n",
    "model.add(Dense(128, kernel_initializer='random_uniform',activation='relu'))\n",
    "model.add(Dropout(0.5))\n",
    "model.add(Dense(128, kernel_initializer='random_uniform',activation='relu'))\n",
    "model.add(Dense(1, kernel_initializer='random_uniform',activation='softmax'))\n",
    "model.summary()\n",
    "\n",
    "model.compile(loss='binary_crossentropy',optimizer=SGD(lr=0.05, momentum=0.9),metrics=['accuracy'])"
   ]
  }
 ],
 "metadata": {
  "kernelspec": {
   "display_name": "Python 3",
   "language": "python",
   "name": "python3"
  },
  "language_info": {
   "codemirror_mode": {
    "name": "ipython",
    "version": 3
   },
   "file_extension": ".py",
   "mimetype": "text/x-python",
   "name": "python",
   "nbconvert_exporter": "python",
   "pygments_lexer": "ipython3",
   "version": "3.6.4"
  }
 },
 "nbformat": 4,
 "nbformat_minor": 2
}

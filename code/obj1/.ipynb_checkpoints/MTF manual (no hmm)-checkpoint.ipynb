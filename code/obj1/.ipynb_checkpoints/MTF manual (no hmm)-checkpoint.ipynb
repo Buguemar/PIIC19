{
 "cells": [
  {
   "cell_type": "code",
   "execution_count": 167,
   "metadata": {},
   "outputs": [
    {
     "data": {
      "text/plain": [
       "(8054, 71427)"
      ]
     },
     "execution_count": 167,
     "metadata": {},
     "output_type": "execute_result"
    }
   ],
   "source": [
    "import pandas as pd\n",
    "#from hmmlearn import hmm\n",
    "import numpy as np\n",
    "import seaborn as sns\n",
    "from scipy.stats import norm\n",
    "import itertools\n",
    "import matplotlib.pyplot as plt\n",
    "#from hmmlearn.hmm import GMMHMM\n",
    "from  sklearn.metrics import mean_squared_error as mse\n",
    "from astropy.io import fits\n",
    "import matplotlib.pyplot as plt\n",
    "import os, sys\n",
    "\n",
    "def plot_state_matrix(cm, states,title='Transition Probabilities',cmap=plt.cm.Blues):\n",
    "    plt.figure(figsize=(10,10))\n",
    "    plt.imshow(cm, interpolation='nearest', cmap=cmap)\n",
    "    plt.title(title)\n",
    "    plt.colorbar()\n",
    "    tick_marks = np.arange(len(states))\n",
    "    plt.xticks(tick_marks, states)\n",
    "    plt.yticks(tick_marks, states)\n",
    "    for i, j in itertools.product(range(cm.shape[0]), range(cm.shape[1])):\n",
    "        plt.text(j, i, format(cm[i, j], '.1f'),\n",
    "                 horizontalalignment=\"center\",\n",
    "                 color=\"white\" if cm[i, j] > cm.max() / 2. else \"black\")\n",
    "    plt.ylabel('Origin state')\n",
    "    plt.xlabel('Destination state')\n",
    "    plt.tight_layout()\n",
    "\n",
    "\n",
    "dirpath = os.getcwd().split(\"code\")[0]+\"code/\"\n",
    "sys.path.append(dirpath)\n",
    "from pre_process import clean_LC\n",
    "folder = \"/work/work_teamEXOPLANET/KOI_LC/\"\n",
    "\n",
    "time_kepler = np.load(folder+\"npy/KOI_LC_time.npy\") \n",
    "lc_kepler = np.load(folder+\"npy/KOI_LC_init.npy\" )\n",
    "lc_kepler.shape "
   ]
  },
  {
   "cell_type": "code",
   "execution_count": 168,
   "metadata": {},
   "outputs": [
    {
     "data": {
      "text/plain": [
       "3976"
      ]
     },
     "execution_count": 168,
     "metadata": {},
     "output_type": "execute_result"
    }
   ],
   "source": [
    "df= pd.read_csv(folder+\"csv/kepler_dataset.csv\")\n",
    "falsos_pos=df.loc[df['NExScI Disposition']=='FALSE POSITIVE']\n",
    "index_fp=list(falsos_pos.index)\n",
    "len(index_fp)"
   ]
  },
  {
   "cell_type": "code",
   "execution_count": 169,
   "metadata": {},
   "outputs": [
    {
     "name": "stderr",
     "output_type": "stream",
     "text": [
      "/users/mbugueno/anaconda2/lib/python2.7/site-packages/ipykernel_launcher.py:2: FutureWarning: Using a non-tuple sequence for multidimensional indexing is deprecated; use `arr[tuple(seq)]` instead of `arr[seq]`. In the future this will be interpreted as an array index, `arr[np.array(seq)]`, which will result either in an error or a different result.\n",
      "  \n",
      "/users/mbugueno/anaconda2/lib/python2.7/site-packages/ipykernel_launcher.py:3: FutureWarning: Using a non-tuple sequence for multidimensional indexing is deprecated; use `arr[tuple(seq)]` instead of `arr[seq]`. In the future this will be interpreted as an array index, `arr[np.array(seq)]`, which will result either in an error or a different result.\n",
      "  This is separate from the ipykernel package so we can avoid doing imports until\n"
     ]
    },
    {
     "data": {
      "text/plain": [
       "(3976, 71427)"
      ]
     },
     "execution_count": 169,
     "metadata": {},
     "output_type": "execute_result"
    }
   ],
   "source": [
    "df_meta=pd.read_csv('../../KOI_Data/kepler_dataset.csv')\n",
    "kplr_ids=np.asarray(df['Kepler ID'].values)[[index_fp]]\n",
    "kplr_fp=lc_kepler[[index_fp]]\n",
    "kplr_fp.shape"
   ]
  },
  {
   "cell_type": "code",
   "execution_count": 170,
   "metadata": {},
   "outputs": [],
   "source": [
    "our_detrends=np.load('/work/work_teamEXOPLANET/KOI_LC/cleaned/LC_kepler_processed.npy')\n",
    "our_detrends=our_detrends[index_fp]"
   ]
  },
  {
   "cell_type": "code",
   "execution_count": 174,
   "metadata": {},
   "outputs": [],
   "source": [
    "def det_state(mini, maxi, n_sta):\n",
    "    estados=[]\n",
    "    topes=np.linspace(mini, maxi, n_sta)\n",
    "    ind=1\n",
    "    for top in topes[:-1]:\n",
    "        estados.append([top,topes[ind]])\n",
    "        ind+=1\n",
    "    return estados\n",
    "\n",
    "def det_celda(num, estados): \n",
    "    celda=0\n",
    "    for estado in estados:        \n",
    "        if num<estado[0] and num>=estado[1]:\n",
    "            return celda\n",
    "        else: \n",
    "            celda+=1\n"
   ]
  },
  {
   "cell_type": "code",
   "execution_count": 177,
   "metadata": {},
   "outputs": [
    {
     "name": "stdout",
     "output_type": "stream",
     "text": [
      "('recuperando curva', 1)\n"
     ]
    },
    {
     "data": {
      "image/png": "[encoded data removed]",
      "text/plain": [
       "<Figure size 432x288 with 1 Axes>"
      ]
     },
     "metadata": {
      "needs_background": "light"
     },
     "output_type": "display_data"
    },
    {
     "name": "stdout",
     "output_type": "stream",
     "text": [
      "('recuperando curva', 2)\n"
     ]
    },
    {
     "data": {
      "image/png": "[encoded data removed]",
      "text/plain": [
       "<Figure size 432x288 with 1 Axes>"
      ]
     },
     "metadata": {
      "needs_background": "light"
     },
     "output_type": "display_data"
    },
    {
     "name": "stdout",
     "output_type": "stream",
     "text": [
      "('recuperando curva', 3)\n"
     ]
    },
    {
     "data": {
      "image/png": "[encoded data removed]",
      "text/plain": [
       "<Figure size 432x288 with 1 Axes>"
      ]
     },
     "metadata": {
      "needs_background": "light"
     },
     "output_type": "display_data"
    },
    {
     "name": "stdout",
     "output_type": "stream",
     "text": [
      "('recuperando curva', 4)\n"
     ]
    },
    {
     "data": {
      "image/png": "[encoded data removed]",
      "text/plain": [
       "<Figure size 432x288 with 1 Axes>"
      ]
     },
     "metadata": {
      "needs_background": "light"
     },
     "output_type": "display_data"
    },
    {
     "name": "stdout",
     "output_type": "stream",
     "text": [
      "('recuperando curva', 5)\n"
     ]
    },
    {
     "data": {
      "image/png": "[encoded data removed]",
      "text/plain": [
       "<Figure size 432x288 with 1 Axes>"
      ]
     },
     "metadata": {
      "needs_background": "light"
     },
     "output_type": "display_data"
    },
    {
     "name": "stdout",
     "output_type": "stream",
     "text": [
      "('recuperando curva', 6)\n"
     ]
    },
    {
     "data": {
      "image/png": "[encoded data removed]",
      "text/plain": [
       "<Figure size 432x288 with 1 Axes>"
      ]
     },
     "metadata": {
      "needs_background": "light"
     },
     "output_type": "display_data"
    },
    {
     "name": "stdout",
     "output_type": "stream",
     "text": [
      "('recuperando curva', 7)\n"
     ]
    },
    {
     "data": {
      "image/png": "[encoded data removed]",
      "text/plain": [
       "<Figure size 432x288 with 1 Axes>"
      ]
     },
     "metadata": {
      "needs_background": "light"
     },
     "output_type": "display_data"
    },
    {
     "name": "stdout",
     "output_type": "stream",
     "text": [
      "('recuperando curva', 8)\n"
     ]
    },
    {
     "data": {
      "image/png": "[encoded data removed]",
      "text/plain": [
       "<Figure size 432x288 with 1 Axes>"
      ]
     },
     "metadata": {
      "needs_background": "light"
     },
     "output_type": "display_data"
    },
    {
     "name": "stdout",
     "output_type": "stream",
     "text": [
      "('recuperando curva', 9)\n"
     ]
    },
    {
     "data": {
      "image/png": "[encoded data removed]",
      "text/plain": [
       "<Figure size 432x288 with 1 Axes>"
      ]
     },
     "metadata": {
      "needs_background": "light"
     },
     "output_type": "display_data"
    },
    {
     "name": "stdout",
     "output_type": "stream",
     "text": [
      "('recuperando curva', 10)\n"
     ]
    },
    {
     "data": {
      "image/png": "[encoded data removed]",
      "text/plain": [
       "<Figure size 432x288 with 1 Axes>"
      ]
     },
     "metadata": {
      "needs_background": "light"
     },
     "output_type": "display_data"
    }
   ],
   "source": [
    "i=0\n",
    "for lc_our_detrend in our_detrends[:10]:   \n",
    "    print (\"recuperando curva\",i+1)\n",
    "    muestra=np.nan_to_num(lc_our_detrend)\n",
    "    mini=np.min(muestra)\n",
    "    muestra=[mi/-mini for mi in muestra]\n",
    "    \n",
    "    n_sta=25\n",
    "    matriz=np.ones((n_sta,n_sta))\n",
    "    estados=det_state(1,-1,n_sta)\n",
    "    ind=1\n",
    "    for mu in muestra[:-1]:\n",
    "        ini=det_celda(mu, estados)\n",
    "        fin=det_celda(muestra[ind], estados)\n",
    "        ind+=1\n",
    "        matriz[ini, fin]+=1\n",
    "\n",
    "    #np.save('/work/work_teamEXOPLANET/MTF/falsos_positivos/'+str(id_kepler)+'.npy', markov_model.transmat_)\n",
    "    i+=1\n",
    "    matriz=matriz/matriz.sum(axis=-1, keepdims=True)\n",
    "    plt.imshow(matriz, cmap='Blues')\n",
    "    plt.show()"
   ]
  },
  {
   "cell_type": "markdown",
   "metadata": {},
   "source": [
    "### Comportamiento Confirmados"
   ]
  },
  {
   "cell_type": "code",
   "execution_count": 178,
   "metadata": {},
   "outputs": [
    {
     "data": {
      "text/plain": [
       "2281"
      ]
     },
     "execution_count": 178,
     "metadata": {},
     "output_type": "execute_result"
    }
   ],
   "source": [
    "confirmados=df.loc[df['NExScI Disposition']=='CONFIRMED']\n",
    "index_con=list(confirmados.index)\n",
    "len(index_con)"
   ]
  },
  {
   "cell_type": "code",
   "execution_count": 180,
   "metadata": {},
   "outputs": [
    {
     "name": "stdout",
     "output_type": "stream",
     "text": [
      "('recuperando curva confirmada', 1)\n"
     ]
    },
    {
     "data": {
      "image/png": "[encoded data removed]",
      "text/plain": [
       "<Figure size 432x288 with 1 Axes>"
      ]
     },
     "metadata": {
      "needs_background": "light"
     },
     "output_type": "display_data"
    },
    {
     "name": "stdout",
     "output_type": "stream",
     "text": [
      "('recuperando curva confirmada', 2)\n"
     ]
    },
    {
     "data": {
      "image/png": "[encoded data removed]",
      "text/plain": [
       "<Figure size 432x288 with 1 Axes>"
      ]
     },
     "metadata": {
      "needs_background": "light"
     },
     "output_type": "display_data"
    },
    {
     "name": "stdout",
     "output_type": "stream",
     "text": [
      "('recuperando curva confirmada', 3)\n"
     ]
    },
    {
     "data": {
      "image/png": "[encoded data removed]",
      "text/plain": [
       "<Figure size 432x288 with 1 Axes>"
      ]
     },
     "metadata": {
      "needs_background": "light"
     },
     "output_type": "display_data"
    },
    {
     "name": "stdout",
     "output_type": "stream",
     "text": [
      "('recuperando curva confirmada', 4)\n"
     ]
    },
    {
     "data": {
      "image/png": "[encoded data removed]",
      "text/plain": [
       "<Figure size 432x288 with 1 Axes>"
      ]
     },
     "metadata": {
      "needs_background": "light"
     },
     "output_type": "display_data"
    },
    {
     "name": "stdout",
     "output_type": "stream",
     "text": [
      "('recuperando curva confirmada', 5)\n"
     ]
    },
    {
     "data": {
      "image/png": "[encoded data removed]",
      "text/plain": [
       "<Figure size 432x288 with 1 Axes>"
      ]
     },
     "metadata": {
      "needs_background": "light"
     },
     "output_type": "display_data"
    },
    {
     "name": "stdout",
     "output_type": "stream",
     "text": [
      "('recuperando curva confirmada', 6)\n"
     ]
    },
    {
     "data": {
      "image/png": "[encoded data removed]",
      "text/plain": [
       "<Figure size 432x288 with 1 Axes>"
      ]
     },
     "metadata": {
      "needs_background": "light"
     },
     "output_type": "display_data"
    },
    {
     "name": "stdout",
     "output_type": "stream",
     "text": [
      "('recuperando curva confirmada', 7)\n"
     ]
    },
    {
     "data": {
      "image/png": "[encoded data removed]",
      "text/plain": [
       "<Figure size 432x288 with 1 Axes>"
      ]
     },
     "metadata": {
      "needs_background": "light"
     },
     "output_type": "display_data"
    },
    {
     "name": "stdout",
     "output_type": "stream",
     "text": [
      "('recuperando curva confirmada', 8)\n"
     ]
    },
    {
     "data": {
      "image/png": "[encoded data removed]",
      "text/plain": [
       "<Figure size 432x288 with 1 Axes>"
      ]
     },
     "metadata": {
      "needs_background": "light"
     },
     "output_type": "display_data"
    },
    {
     "name": "stdout",
     "output_type": "stream",
     "text": [
      "('recuperando curva confirmada', 9)\n"
     ]
    },
    {
     "data": {
      "image/png": "[encoded data removed]",
      "text/plain": [
       "<Figure size 432x288 with 1 Axes>"
      ]
     },
     "metadata": {
      "needs_background": "light"
     },
     "output_type": "display_data"
    },
    {
     "name": "stdout",
     "output_type": "stream",
     "text": [
      "('recuperando curva confirmada', 10)\n"
     ]
    },
    {
     "data": {
      "image/png": "[encoded data removed]",
      "text/plain": [
       "<Figure size 432x288 with 1 Axes>"
      ]
     },
     "metadata": {
      "needs_background": "light"
     },
     "output_type": "display_data"
    }
   ],
   "source": [
    "our_detrends=np.load('/work/work_teamEXOPLANET/KOI_LC/cleaned/LC_kepler_processed.npy')\n",
    "our_detrend=our_detrends[index_con]\n",
    "i=0\n",
    "for lc_our_detrend in our_detrend[:10]:   \n",
    "    print (\"recuperando curva confirmada\",i+1)\n",
    "    muestra=np.nan_to_num(lc_our_detrend)\n",
    "    mini=np.min(muestra)\n",
    "    muestra=[mi/-mini for mi in muestra]\n",
    "    \n",
    "    n_sta=25\n",
    "    matriz=np.ones((n_sta,n_sta))\n",
    "    estados=det_state(1,-1,n_sta)\n",
    "    ind=1\n",
    "    for mu in muestra[:-1]:\n",
    "        ini=det_celda(mu, estados)\n",
    "        fin=det_celda(muestra[ind], estados)\n",
    "        ind+=1\n",
    "        matriz[ini, fin]+=1\n",
    "\n",
    "    #np.save('/work/work_teamEXOPLANET/MTF/falsos_positivos/'+str(id_kepler)+'.npy', markov_model.transmat_)\n",
    "    i+=1\n",
    "    matriz=matriz/matriz.sum(axis=-1, keepdims=True)\n",
    "    plt.imshow(matriz, cmap='RdPu')\n",
    "    plt.show()"
   ]
  },
  {
   "cell_type": "code",
   "execution_count": null,
   "metadata": {},
   "outputs": [],
   "source": []
  }
 ],
 "metadata": {
  "kernelspec": {
   "display_name": "Python 3",
   "language": "python",
   "name": "python3"
  },
  "language_info": {
   "codemirror_mode": {
    "name": "ipython",
    "version": 2
   },
   "file_extension": ".py",
   "mimetype": "text/x-python",
   "name": "python",
   "nbconvert_exporter": "python",
   "pygments_lexer": "ipython2",
   "version": "2.7.15"
  }
 },
 "nbformat": 4,
 "nbformat_minor": 2
}

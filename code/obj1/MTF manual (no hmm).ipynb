{
 "cells": [
  {
   "cell_type": "code",
   "execution_count": 1,
   "metadata": {},
   "outputs": [
    {
     "data": {
      "text/plain": [
       "(8054, 71427)"
      ]
     },
     "execution_count": 1,
     "metadata": {},
     "output_type": "execute_result"
    }
   ],
   "source": [
    "import pandas as pd\n",
    "#from hmmlearn import hmm\n",
    "import numpy as np\n",
    "import seaborn as sns\n",
    "from scipy.stats import norm\n",
    "import itertools\n",
    "import matplotlib.pyplot as plt\n",
    "#from hmmlearn.hmm import GMMHMM\n",
    "from  sklearn.metrics import mean_squared_error as mse\n",
    "from astropy.io import fits\n",
    "import matplotlib.pyplot as plt\n",
    "import os, sys\n",
    "\n",
    "def plot_state_matrix(cm, states,title='Transition Probabilities',cmap=plt.cm.Blues):\n",
    "    plt.figure(figsize=(10,10))\n",
    "    plt.imshow(cm, interpolation='nearest', cmap=cmap)\n",
    "    plt.title(title)\n",
    "    plt.colorbar()\n",
    "    tick_marks = np.arange(len(states))\n",
    "    plt.xticks(tick_marks, states)\n",
    "    plt.yticks(tick_marks, states)\n",
    "    for i, j in itertools.product(range(cm.shape[0]), range(cm.shape[1])):\n",
    "        plt.text(j, i, format(cm[i, j], '.1f'),\n",
    "                 horizontalalignment=\"center\",\n",
    "                 color=\"white\" if cm[i, j] > cm.max() / 2. else \"black\")\n",
    "    plt.ylabel('Origin state')\n",
    "    plt.xlabel('Destination state')\n",
    "    plt.tight_layout()\n",
    "\n",
    "\n",
    "dirpath = os.getcwd().split(\"code\")[0]+\"code/\"\n",
    "sys.path.append(dirpath)\n",
    "from pre_process import clean_LC\n",
    "folder = \"/work/work_teamEXOPLANET/KOI_LC/\"\n",
    "\n",
    "time_kepler = np.load(folder+\"npy/KOI_LC_time.npy\") \n",
    "our_process = np.load('/work/work_teamEXOPLANET/KOI_LC/cleaned/LC_kepler_processed.npy')\n",
    "our_process.shape "
   ]
  },
  {
   "cell_type": "code",
   "execution_count": 2,
   "metadata": {},
   "outputs": [],
   "source": [
    "df= pd.read_csv(folder+\"csv/kepler_dataset.csv\")"
   ]
  },
  {
   "cell_type": "markdown",
   "metadata": {},
   "source": [
    "df_meta=pd.read_csv('../../KOI_Data/kepler_dataset.csv')\n",
    "kplr_ids=np.asarray(df['Kepler ID'].values)[[index_fp]]"
   ]
  },
  {
   "cell_type": "code",
   "execution_count": 11,
   "metadata": {},
   "outputs": [],
   "source": [
    "#### importante:\n",
    "def prepare_lc(fluxs): #dividir por min\n",
    "    fluxs = np.asarray(fluxs)\n",
    "    return fluxs/np.abs(np.nanmin(fluxs))\n",
    "\n",
    "def extract_nans(fluxs):\n",
    "    ###extrae los nans y deja tramos de valores continuos\n",
    "    lc_wind_nan = []\n",
    "    lengths = []\n",
    "\n",
    "    sublist = []\n",
    "    for value in fluxs:\n",
    "        if np.isnan(value) and len(sublist) != 0:\n",
    "            if len(sublist) != 1: ##borrar tramos de largo 1??\n",
    "                lc_wind_nan.append(np.asarray(sublist))\n",
    "                lengths.append(len(sublist))\n",
    "            sublist = []\n",
    "        elif np.isnan(value) and len(sublist) == 0:\n",
    "            continue\n",
    "        else: #if value not nan\n",
    "            sublist.append(value) \n",
    "    lc_wind_nan = np.asarray(lc_wind_nan)   \n",
    "    lengths = np.asarray(lengths)   \n",
    "\n",
    "    print(\"Cantidad de tramos: \",len(lengths))\n",
    "    print(\"Largo promedio de tramos: \", np.mean(lengths))\n",
    "    print(\"Mediana de largo de tramos: \", np.median(lengths))\n",
    "    print(\"Min de largo de tramos: \", np.min(lengths))\n",
    "    print(\"Max de largo de tramos: \", np.max(lengths))\n",
    "    return lc_wind_nan"
   ]
  },
  {
   "cell_type": "markdown",
   "metadata": {},
   "source": [
    "### Version normal"
   ]
  },
  {
   "cell_type": "code",
   "execution_count": 212,
   "metadata": {},
   "outputs": [],
   "source": [
    "def det_state(a, b, n_sta):\n",
    "    topes=np.linspace(a, b, n_sta+1)\n",
    "    estados= []\n",
    "    ind=1\n",
    "    for top in topes[:-1]:\n",
    "        estados.append((top,topes[ind]))\n",
    "        ind+=1\n",
    "    return estados\n",
    "\n",
    "def det_state_2ways(a, b, n_sta_up, n_sta_low):\n",
    "    estados_up = det_state(a, 0, n_sta_up)\n",
    "    estados_low = det_state(0, b, n_sta_low)\n",
    "    return  np.concatenate([estados_up,estados_low])\n",
    "\n",
    "def det_celda(num, estados): \n",
    "    for celda, (est_low, est_up) in enumerate(estados):\n",
    "        if num<est_low and num>=est_up:\n",
    "            return celda\n",
    "    return 0 #if sale por arriba (mayor a 1)\n",
    "\n",
    "def add_transitions(fluxs, transition_m, states):\n",
    "    for ind in range(1,len(fluxs)):\n",
    "        init_s = det_celda(fluxs[ind-1], states)\n",
    "        fin_s = det_celda(fluxs[ind], states)\n",
    "        transition_m[init_s, fin_s] += 1\n",
    "    return transition_m\n",
    "\n",
    "def manual_HMM(wind_fluxs, n_sta_up, n_sta_low=0):\n",
    "    if n_sta_low == 0: \n",
    "        n_sta_low = n_sta_up \n",
    "    n_sta = n_sta_up+n_sta_low\n",
    "    \n",
    "    transition_m = np.zeros((n_sta,n_sta))\n",
    "    \n",
    "    states = det_state_2ways(1,-1, n_sta_up=n_sta_up, n_sta_low=n_sta_low) \n",
    "    for fluxs in wind_fluxs:\n",
    "        add_transitions(fluxs, transition_m, states)\n",
    "    \n",
    "    transition_m += 1 #priors\n",
    "    transition_m = transition_m/transition_m.sum(axis=-1, keepdims=True)        \n",
    "    return transition_m\n",
    "                    "
   ]
  },
  {
   "cell_type": "markdown",
   "metadata": {},
   "source": [
    "## Version paralela (Numba)\n",
    "para instalar numba: **pip install numba**"
   ]
  },
  {
   "cell_type": "code",
   "execution_count": 3,
   "metadata": {},
   "outputs": [],
   "source": [
    "from numba import njit, jit\n",
    "from numba.typed import List"
   ]
  },
  {
   "cell_type": "code",
   "execution_count": 9,
   "metadata": {},
   "outputs": [],
   "source": [
    "## no python: njit -- no soporta lista de lista, lista de arrays, si soporta: lista de sets\n",
    "\n",
    "########### no lo logre hacer funcionar\n",
    "#@njit(parallel=True, cache=False, fastmath=True)\n",
    "def extract_nans(fluxs, plot=True):\n",
    "    ###extrae los nans y deja tramos de valores continuos\n",
    "    lc_wind_nan = []\n",
    "    lengths = []\n",
    "\n",
    "    sublist = [] #para que sepa que el tipo es float\n",
    "    for value in fluxs:\n",
    "        if np.isnan(value) and len(sublist) != 0:\n",
    "            if len(sublist) != 1: ##borrar tramos de largo 1??\n",
    "                lc_wind_nan.append(np.asarray(sublist))\n",
    "                lengths.append(len(sublist))\n",
    "            sublist = [] #para que sepa que el tipo es float\n",
    "        elif np.isnan(value) and len(sublist) == 0:\n",
    "            continue\n",
    "        else: #if value not nan\n",
    "            sublist.append(value) \n",
    "\n",
    "    if plot:\n",
    "        lengths = np.asarray(lengths)   \n",
    "        print(\"Cantidad de tramos: \",len(lengths))\n",
    "        print(\"Largo promedio de tramos: \", np.mean(lengths))\n",
    "        print(\"Mediana de largo de tramos: \", np.median(lengths))\n",
    "        print(\"Min de largo de tramos: \", np.min(lengths))\n",
    "        print(\"Max de largo de tramos: \", np.max(lengths))\n",
    "    return lc_wind_nan\n",
    "\n",
    "@njit(parallel=True, cache=False, fastmath=True)\n",
    "def det_state(a, b, n_sta):\n",
    "    topes=np.linspace(a, b, n_sta+1)\n",
    "    estados= []\n",
    "    ind=1\n",
    "    for top in topes[:-1]:\n",
    "        estados.append((top,topes[ind]))\n",
    "        ind+=1\n",
    "    return estados\n",
    "\n",
    "@njit(parallel=False, cache=True, fastmath=True)\n",
    "def det_state_2ways(a, b, n_sta_up, n_sta_low):\n",
    "    estados_up = det_state(a, 0, n_sta_up)\n",
    "    estados_low = det_state(0, b, n_sta_low)\n",
    "    return estados_up + estados_low\n",
    "\n",
    "@njit(parallel=False, cache=True, fastmath=True)\n",
    "def det_celda(num, estados): \n",
    "    for celda, (est_low, est_up) in enumerate(estados):\n",
    "        if num<est_low and num>=est_up:\n",
    "            return celda\n",
    "    return 0 #if sale por arriba (mayor a 1)\n",
    "\n",
    "@njit(parallel=False, cache=True, fastmath=True)  #no se pudo paralelizar por el acceso a lista \"ind -1\"\n",
    "def add_transitions(fluxs, transition_m, states):\n",
    "    for ind in range(1,len(fluxs)):\n",
    "        init_s = det_celda(fluxs[ind-1], states)\n",
    "        fin_s = det_celda(fluxs[ind], states)\n",
    "        transition_m[init_s, fin_s] += 1\n",
    "    return transition_m\n",
    "\n",
    "@njit(parallel=True, cache=False, fastmath=True)\n",
    "def manual_HMM(wind_fluxs, n_sta_up, n_sta_low=0):\n",
    "    if n_sta_low == 0: \n",
    "        n_sta_low = n_sta_up \n",
    "    n_sta = n_sta_up+n_sta_low\n",
    "    \n",
    "    transition_m = np.zeros((n_sta,n_sta))\n",
    "    \n",
    "    states = det_state_2ways(1,-1, n_sta_up=n_sta_up, n_sta_low=n_sta_low) \n",
    "    for fluxs in wind_fluxs:\n",
    "        add_transitions(fluxs, transition_m, states)\n",
    "    \n",
    "    for i in range(n_sta):\n",
    "        suma_i = 0\n",
    "        for j in range(n_sta):\n",
    "            transition_m[i,j] +=1 #priors\n",
    "            suma_i += transition_m[i,j]\n",
    "        transition_m[i] = transition_m[i]/suma_i #normalize\n",
    "    return transition_m\n"
   ]
  },
  {
   "cell_type": "code",
   "execution_count": 5,
   "metadata": {
    "scrolled": true
   },
   "outputs": [
    {
     "data": {
      "text/plain": [
       "[(1.0, 0.8),\n",
       " (0.8, 0.6),\n",
       " (0.6, 0.39999999999999997),\n",
       " (0.39999999999999997, 0.19999999999999996),\n",
       " (0.19999999999999996, -5.551115123125783e-17),\n",
       " (-0.0, -0.06666666666666667),\n",
       " (-0.06666666666666667, -0.13333333333333333),\n",
       " (-0.13333333333333333, -0.2),\n",
       " (-0.2, -0.26666666666666666),\n",
       " (-0.26666666666666666, -0.3333333333333333),\n",
       " (-0.3333333333333333, -0.4),\n",
       " (-0.4, -0.4666666666666667),\n",
       " (-0.4666666666666667, -0.5333333333333333),\n",
       " (-0.5333333333333333, -0.6),\n",
       " (-0.6, -0.6666666666666666),\n",
       " (-0.6666666666666666, -0.7333333333333333),\n",
       " (-0.7333333333333333, -0.8),\n",
       " (-0.8, -0.8666666666666667),\n",
       " (-0.8666666666666667, -0.9333333333333333),\n",
       " (-0.9333333333333333, -1.0)]"
      ]
     },
     "execution_count": 5,
     "metadata": {},
     "output_type": "execute_result"
    }
   ],
   "source": [
    "det_state_2ways(1,-1, n_sta_up=5, n_sta_low=15) #20 estados en total"
   ]
  },
  {
   "cell_type": "code",
   "execution_count": null,
   "metadata": {},
   "outputs": [],
   "source": []
  },
  {
   "cell_type": "code",
   "execution_count": 12,
   "metadata": {},
   "outputs": [
    {
     "name": "stdout",
     "output_type": "stream",
     "text": [
      "Cantidad de tramos:  707\n",
      "Largo promedio de tramos:  77.06506364922207\n",
      "Mediana de largo de tramos:  72.0\n",
      "Min de largo de tramos:  2\n",
      "Max de largo de tramos:  146\n",
      "CPU times: user 279 ms, sys: 4.53 ms, total: 284 ms\n",
      "Wall time: 292 ms\n"
     ]
    }
   ],
   "source": [
    "%%time\n",
    "fluxs = our_process[1]\n",
    "fluxs = prepare_lc(fluxs) #divide by min\n",
    "lc_tramos =  extract_nans(fluxs) #extract nans\n",
    "lc_tramos #lista de tramos..."
   ]
  },
  {
   "cell_type": "code",
   "execution_count": 13,
   "metadata": {
    "scrolled": true
   },
   "outputs": [
    {
     "name": "stderr",
     "output_type": "stream",
     "text": [
      "/users/fmena/anaconda3/envs/tesis/lib/python3.5/site-packages/numba/ir_utils.py:1959: NumbaPendingDeprecationWarning: \u001b[1m\n",
      "Encountered the use of a type that is scheduled for deprecation: type 'reflected list' found for argument 'wind_fluxs' of function 'manual_HMM'.\n",
      "\n",
      "For more information visit http://numba.pydata.org/numba-doc/latest/reference/deprecation.html#deprecation-of-reflection-for-list-and-set-types\n",
      "\u001b[1m\n",
      "File \"<ipython-input-9-ad3b3f7024f9>\", line 63:\u001b[0m\n",
      "\u001b[1m@njit(parallel=True, cache=False, fastmath=True)\n",
      "\u001b[1mdef manual_HMM(wind_fluxs, n_sta_up, n_sta_low=0):\n",
      "\u001b[0m\u001b[1m^\u001b[0m\u001b[0m\n",
      "\u001b[0m\n",
      "  warnings.warn(NumbaPendingDeprecationWarning(msg, loc=loc))\n"
     ]
    },
    {
     "data": {
      "image/png": "[encoded data removed]",
      "text/plain": [
       "<Figure size 432x288 with 1 Axes>"
      ]
     },
     "metadata": {},
     "output_type": "display_data"
    },
    {
     "name": "stdout",
     "output_type": "stream",
     "text": [
      "CPU times: user 3.42 s, sys: 302 ms, total: 3.72 s\n",
      "Wall time: 3.91 s\n"
     ]
    }
   ],
   "source": [
    "%%time\n",
    "transition_m = manual_HMM(lc_tramos, n_sta_up=5, n_sta_low=20)\n",
    "plt.imshow(transition_m, cmap='RdPu')\n",
    "plt.show()"
   ]
  },
  {
   "cell_type": "markdown",
   "metadata": {},
   "source": [
    "### Comportamiento Falsos postiviso"
   ]
  },
  {
   "cell_type": "code",
   "execution_count": 14,
   "metadata": {},
   "outputs": [
    {
     "data": {
      "text/plain": [
       "(3976, 71427)"
      ]
     },
     "execution_count": 14,
     "metadata": {},
     "output_type": "execute_result"
    }
   ],
   "source": [
    "falsos_pos=df.loc[df['NExScI Disposition']=='FALSE POSITIVE']\n",
    "index_fp=list(falsos_pos.index)\n",
    "len(index_fp)\n",
    "\n",
    "our_detrends=our_process[index_fp]\n",
    "our_detrends.shape"
   ]
  },
  {
   "cell_type": "code",
   "execution_count": 15,
   "metadata": {
    "scrolled": true
   },
   "outputs": [
    {
     "name": "stdout",
     "output_type": "stream",
     "text": [
      "recuperando curva 1\n",
      "Cantidad de tramos:  707\n",
      "Largo promedio de tramos:  77.06506364922207\n",
      "Mediana de largo de tramos:  72.0\n",
      "Min de largo de tramos:  2\n",
      "Max de largo de tramos:  146\n"
     ]
    },
    {
     "data": {
      "image/png": "[encoded data removed]",
      "text/plain": [
       "<Figure size 432x288 with 1 Axes>"
      ]
     },
     "metadata": {},
     "output_type": "display_data"
    },
    {
     "name": "stdout",
     "output_type": "stream",
     "text": [
      "recuperando curva 2\n",
      "Cantidad de tramos:  803\n",
      "Largo promedio de tramos:  79.91158156911581\n",
      "Mediana de largo de tramos:  78.0\n",
      "Min de largo de tramos:  2\n",
      "Max de largo de tramos:  149\n"
     ]
    },
    {
     "data": {
      "image/png": "[encoded data removed]",
      "text/plain": [
       "<Figure size 432x288 with 1 Axes>"
      ]
     },
     "metadata": {},
     "output_type": "display_data"
    },
    {
     "name": "stdout",
     "output_type": "stream",
     "text": [
      "recuperando curva 3\n",
      "Cantidad de tramos:  788\n",
      "Largo promedio de tramos:  81.66116751269035\n",
      "Mediana de largo de tramos:  84.0\n",
      "Min de largo de tramos:  2\n",
      "Max de largo de tramos:  146\n"
     ]
    },
    {
     "data": {
      "image/png": "[encoded data removed]",
      "text/plain": [
       "<Figure size 432x288 with 1 Axes>"
      ]
     },
     "metadata": {},
     "output_type": "display_data"
    },
    {
     "name": "stdout",
     "output_type": "stream",
     "text": [
      "recuperando curva 4\n",
      "Cantidad de tramos:  806\n",
      "Largo promedio de tramos:  79.8089330024814\n",
      "Mediana de largo de tramos:  78.0\n",
      "Min de largo de tramos:  2\n",
      "Max de largo de tramos:  149\n"
     ]
    },
    {
     "data": {
      "image/png": "[encoded data removed]",
      "text/plain": [
       "<Figure size 432x288 with 1 Axes>"
      ]
     },
     "metadata": {},
     "output_type": "display_data"
    },
    {
     "name": "stdout",
     "output_type": "stream",
     "text": [
      "recuperando curva 5\n",
      "Cantidad de tramos:  807\n",
      "Largo promedio de tramos:  79.71623296158612\n",
      "Mediana de largo de tramos:  79.0\n",
      "Min de largo de tramos:  2\n",
      "Max de largo de tramos:  149\n"
     ]
    },
    {
     "data": {
      "image/png": "[encoded data removed]",
      "text/plain": [
       "<Figure size 432x288 with 1 Axes>"
      ]
     },
     "metadata": {},
     "output_type": "display_data"
    },
    {
     "name": "stdout",
     "output_type": "stream",
     "text": [
      "recuperando curva 6\n",
      "Cantidad de tramos:  772\n",
      "Largo promedio de tramos:  81.25388601036269\n",
      "Mediana de largo de tramos:  84.0\n",
      "Min de largo de tramos:  2\n",
      "Max de largo de tramos:  146\n"
     ]
    },
    {
     "data": {
      "image/png": "[encoded data removed]",
      "text/plain": [
       "<Figure size 432x288 with 1 Axes>"
      ]
     },
     "metadata": {},
     "output_type": "display_data"
    },
    {
     "name": "stdout",
     "output_type": "stream",
     "text": [
      "recuperando curva 7\n",
      "Cantidad de tramos:  801\n",
      "Largo promedio de tramos:  80.31710362047441\n",
      "Mediana de largo de tramos:  80.0\n",
      "Min de largo de tramos:  2\n",
      "Max de largo de tramos:  149\n"
     ]
    },
    {
     "data": {
      "image/png": "[encoded data removed]",
      "text/plain": [
       "<Figure size 432x288 with 1 Axes>"
      ]
     },
     "metadata": {},
     "output_type": "display_data"
    },
    {
     "name": "stdout",
     "output_type": "stream",
     "text": [
      "recuperando curva 8\n",
      "Cantidad de tramos:  467\n",
      "Largo promedio de tramos:  63.19700214132762\n",
      "Mediana de largo de tramos:  36.0\n",
      "Min de largo de tramos:  2\n",
      "Max de largo de tramos:  145\n"
     ]
    },
    {
     "data": {
      "image/png": "[encoded data removed]",
      "text/plain": [
       "<Figure size 432x288 with 1 Axes>"
      ]
     },
     "metadata": {},
     "output_type": "display_data"
    },
    {
     "name": "stdout",
     "output_type": "stream",
     "text": [
      "recuperando curva 9\n",
      "Cantidad de tramos:  254\n",
      "Largo promedio de tramos:  89.71259842519684\n",
      "Mediana de largo de tramos:  97.0\n",
      "Min de largo de tramos:  2\n",
      "Max de largo de tramos:  146\n"
     ]
    },
    {
     "data": {
      "image/png": "[encoded data removed]",
      "text/plain": [
       "<Figure size 432x288 with 1 Axes>"
      ]
     },
     "metadata": {},
     "output_type": "display_data"
    },
    {
     "name": "stdout",
     "output_type": "stream",
     "text": [
      "recuperando curva 10\n",
      "Cantidad de tramos:  807\n",
      "Largo promedio de tramos:  79.70260223048327\n",
      "Mediana de largo de tramos:  78.0\n",
      "Min de largo de tramos:  2\n",
      "Max de largo de tramos:  149\n"
     ]
    },
    {
     "data": {
      "image/png": "[encoded data removed]",
      "text/plain": [
       "<Figure size 432x288 with 1 Axes>"
      ]
     },
     "metadata": {},
     "output_type": "display_data"
    },
    {
     "name": "stdout",
     "output_type": "stream",
     "text": [
      "recuperando curva 11\n",
      "Cantidad de tramos:  107\n",
      "Largo promedio de tramos:  80.53271028037383\n",
      "Mediana de largo de tramos:  76.0\n",
      "Min de largo de tramos:  2\n",
      "Max de largo de tramos:  145\n"
     ]
    },
    {
     "data": {
      "image/png": "[encoded data removed]",
      "text/plain": [
       "<Figure size 432x288 with 1 Axes>"
      ]
     },
     "metadata": {},
     "output_type": "display_data"
    },
    {
     "name": "stdout",
     "output_type": "stream",
     "text": [
      "recuperando curva 12\n",
      "Cantidad de tramos:  654\n",
      "Largo promedio de tramos:  83.39908256880734\n",
      "Mediana de largo de tramos:  90.0\n",
      "Min de largo de tramos:  2\n",
      "Max de largo de tramos:  149\n"
     ]
    },
    {
     "data": {
      "image/png": "[encoded data removed]",
      "text/plain": [
       "<Figure size 432x288 with 1 Axes>"
      ]
     },
     "metadata": {},
     "output_type": "display_data"
    },
    {
     "name": "stdout",
     "output_type": "stream",
     "text": [
      "recuperando curva 13\n",
      "Cantidad de tramos:  929\n",
      "Largo promedio de tramos:  64.84391819160388\n",
      "Mediana de largo de tramos:  54.0\n",
      "Min de largo de tramos:  2\n",
      "Max de largo de tramos:  146\n"
     ]
    },
    {
     "data": {
      "image/png": "[encoded data removed]",
      "text/plain": [
       "<Figure size 432x288 with 1 Axes>"
      ]
     },
     "metadata": {},
     "output_type": "display_data"
    },
    {
     "name": "stdout",
     "output_type": "stream",
     "text": [
      "recuperando curva 14\n",
      "Cantidad de tramos:  812\n",
      "Largo promedio de tramos:  79.20689655172414\n",
      "Mediana de largo de tramos:  78.0\n",
      "Min de largo de tramos:  2\n",
      "Max de largo de tramos:  146\n"
     ]
    },
    {
     "data": {
      "image/png": "[encoded data removed]",
      "text/plain": [
       "<Figure size 432x288 with 1 Axes>"
      ]
     },
     "metadata": {},
     "output_type": "display_data"
    },
    {
     "name": "stdout",
     "output_type": "stream",
     "text": [
      "recuperando curva 15\n",
      "Cantidad de tramos:  836\n",
      "Largo promedio de tramos:  76.91866028708134\n",
      "Mediana de largo de tramos:  73.0\n",
      "Min de largo de tramos:  2\n",
      "Max de largo de tramos:  146\n"
     ]
    },
    {
     "data": {
      "image/png": "[encoded data removed]",
      "text/plain": [
       "<Figure size 432x288 with 1 Axes>"
      ]
     },
     "metadata": {},
     "output_type": "display_data"
    },
    {
     "name": "stdout",
     "output_type": "stream",
     "text": [
      "recuperando curva 16\n",
      "Cantidad de tramos:  393\n",
      "Largo promedio de tramos:  86.94402035623409\n",
      "Mediana de largo de tramos:  93.0\n",
      "Min de largo de tramos:  2\n",
      "Max de largo de tramos:  149\n"
     ]
    },
    {
     "data": {
      "image/png": "[encoded data removed]",
      "text/plain": [
       "<Figure size 432x288 with 1 Axes>"
      ]
     },
     "metadata": {},
     "output_type": "display_data"
    },
    {
     "name": "stdout",
     "output_type": "stream",
     "text": [
      "recuperando curva 17\n",
      "Cantidad de tramos:  828\n",
      "Largo promedio de tramos:  77.73188405797102\n",
      "Mediana de largo de tramos:  74.0\n",
      "Min de largo de tramos:  2\n",
      "Max de largo de tramos:  149\n"
     ]
    },
    {
     "data": {
      "image/png": "[encoded data removed]",
      "text/plain": [
       "<Figure size 432x288 with 1 Axes>"
      ]
     },
     "metadata": {},
     "output_type": "display_data"
    },
    {
     "name": "stdout",
     "output_type": "stream",
     "text": [
      "recuperando curva 18\n",
      "Cantidad de tramos:  831\n",
      "Largo promedio de tramos:  77.38989169675091\n",
      "Mediana de largo de tramos:  73.0\n",
      "Min de largo de tramos:  2\n",
      "Max de largo de tramos:  149\n"
     ]
    },
    {
     "data": {
      "image/png": "[encoded data removed]",
      "text/plain": [
       "<Figure size 432x288 with 1 Axes>"
      ]
     },
     "metadata": {},
     "output_type": "display_data"
    },
    {
     "name": "stdout",
     "output_type": "stream",
     "text": [
      "recuperando curva 19\n",
      "Cantidad de tramos:  816\n",
      "Largo promedio de tramos:  78.81617647058823\n",
      "Mediana de largo de tramos:  76.0\n",
      "Min de largo de tramos:  2\n",
      "Max de largo de tramos:  149\n"
     ]
    },
    {
     "data": {
      "image/png": "[encoded data removed]",
      "text/plain": [
       "<Figure size 432x288 with 1 Axes>"
      ]
     },
     "metadata": {},
     "output_type": "display_data"
    },
    {
     "name": "stdout",
     "output_type": "stream",
     "text": [
      "recuperando curva 20\n",
      "Cantidad de tramos:  777\n",
      "Largo promedio de tramos:  80.71685971685972\n",
      "Mediana de largo de tramos:  80.0\n",
      "Min de largo de tramos:  2\n",
      "Max de largo de tramos:  149\n"
     ]
    },
    {
     "data": {
      "image/png": "[encoded data removed]",
      "text/plain": [
       "<Figure size 432x288 with 1 Axes>"
      ]
     },
     "metadata": {},
     "output_type": "display_data"
    },
    {
     "name": "stdout",
     "output_type": "stream",
     "text": [
      "CPU times: user 10.5 s, sys: 5.19 s, total: 15.7 s\n",
      "Wall time: 9 s\n"
     ]
    }
   ],
   "source": [
    "%%time\n",
    "\n",
    "i=0\n",
    "for lc_our_detrend in our_detrends[:20]:   \n",
    "    print (\"recuperando curva\",i+1)\n",
    "    fluxs = prepare_lc(lc_our_detrend) #divide by min\n",
    "    lc_tramos =  extract_nans(fluxs) #extract nans\n",
    "    \n",
    "    transition_m = manual_HMM(lc_tramos, n_sta_up=10, n_sta_low=10) #si se dejan 5 arriba y 10 abajo cambia harto...\n",
    "\n",
    "    i+=1\n",
    "    plt.imshow(transition_m, cmap='Blues', vmin=0, vmax=1) #el plot se ve raro por esto..\n",
    "    plt.show()"
   ]
  },
  {
   "cell_type": "markdown",
   "metadata": {},
   "source": [
    "### Comportamiento Confirmados"
   ]
  },
  {
   "cell_type": "code",
   "execution_count": 16,
   "metadata": {},
   "outputs": [
    {
     "data": {
      "text/plain": [
       "2281"
      ]
     },
     "execution_count": 16,
     "metadata": {},
     "output_type": "execute_result"
    }
   ],
   "source": [
    "confirmados=df.loc[df['NExScI Disposition']=='CONFIRMED']\n",
    "index_con=list(confirmados.index)\n",
    "our_detrends=our_process[index_con]\n",
    "len(index_con)"
   ]
  },
  {
   "cell_type": "code",
   "execution_count": 18,
   "metadata": {
    "scrolled": true
   },
   "outputs": [
    {
     "name": "stdout",
     "output_type": "stream",
     "text": [
      "recuperando curva 1\n",
      "Cantidad de tramos:  796\n",
      "Largo promedio de tramos:  80.82663316582915\n",
      "Mediana de largo de tramos:  79.0\n",
      "Min de largo de tramos:  2\n",
      "Max de largo de tramos:  149\n"
     ]
    },
    {
     "data": {
      "image/png": "[encoded data removed]",
      "text/plain": [
       "<Figure size 432x288 with 1 Axes>"
      ]
     },
     "metadata": {},
     "output_type": "display_data"
    },
    {
     "name": "stdout",
     "output_type": "stream",
     "text": [
      "recuperando curva 2\n",
      "Cantidad de tramos:  807\n",
      "Largo promedio de tramos:  79.71623296158612\n",
      "Mediana de largo de tramos:  78.0\n",
      "Min de largo de tramos:  2\n",
      "Max de largo de tramos:  149\n"
     ]
    },
    {
     "data": {
      "image/png": "[encoded data removed]",
      "text/plain": [
       "<Figure size 432x288 with 1 Axes>"
      ]
     },
     "metadata": {},
     "output_type": "display_data"
    },
    {
     "name": "stdout",
     "output_type": "stream",
     "text": [
      "recuperando curva 3\n",
      "Cantidad de tramos:  822\n",
      "Largo promedio de tramos:  78.24209245742092\n",
      "Mediana de largo de tramos:  76.0\n",
      "Min de largo de tramos:  2\n",
      "Max de largo de tramos:  146\n"
     ]
    },
    {
     "data": {
      "image/png": "[encoded data removed]",
      "text/plain": [
       "<Figure size 432x288 with 1 Axes>"
      ]
     },
     "metadata": {},
     "output_type": "display_data"
    },
    {
     "name": "stdout",
     "output_type": "stream",
     "text": [
      "recuperando curva 4\n",
      "Cantidad de tramos:  863\n",
      "Largo promedio de tramos:  72.9316338354577\n",
      "Mediana de largo de tramos:  66.0\n",
      "Min de largo de tramos:  2\n",
      "Max de largo de tramos:  146\n"
     ]
    },
    {
     "data": {
      "image/png": "[encoded data removed]",
      "text/plain": [
       "<Figure size 432x288 with 1 Axes>"
      ]
     },
     "metadata": {},
     "output_type": "display_data"
    },
    {
     "name": "stdout",
     "output_type": "stream",
     "text": [
      "recuperando curva 5\n",
      "Cantidad de tramos:  824\n",
      "Largo promedio de tramos:  78.05097087378641\n",
      "Mediana de largo de tramos:  74.0\n",
      "Min de largo de tramos:  2\n",
      "Max de largo de tramos:  149\n"
     ]
    },
    {
     "data": {
      "image/png": "[encoded data removed]",
      "text/plain": [
       "<Figure size 432x288 with 1 Axes>"
      ]
     },
     "metadata": {},
     "output_type": "display_data"
    },
    {
     "name": "stdout",
     "output_type": "stream",
     "text": [
      "recuperando curva 6\n",
      "Cantidad de tramos:  680\n",
      "Largo promedio de tramos:  80.16323529411764\n",
      "Mediana de largo de tramos:  79.5\n",
      "Min de largo de tramos:  2\n",
      "Max de largo de tramos:  146\n"
     ]
    },
    {
     "data": {
      "image/png": "[encoded data removed]",
      "text/plain": [
       "<Figure size 432x288 with 1 Axes>"
      ]
     },
     "metadata": {},
     "output_type": "display_data"
    },
    {
     "name": "stdout",
     "output_type": "stream",
     "text": [
      "recuperando curva 7\n",
      "Cantidad de tramos:  843\n",
      "Largo promedio de tramos:  76.26453143534994\n",
      "Mediana de largo de tramos:  71.0\n",
      "Min de largo de tramos:  2\n",
      "Max de largo de tramos:  149\n"
     ]
    },
    {
     "data": {
      "image/png": "[encoded data removed]",
      "text/plain": [
       "<Figure size 432x288 with 1 Axes>"
      ]
     },
     "metadata": {},
     "output_type": "display_data"
    },
    {
     "name": "stdout",
     "output_type": "stream",
     "text": [
      "recuperando curva 8\n",
      "Cantidad de tramos:  818\n",
      "Largo promedio de tramos:  78.62713936430318\n",
      "Mediana de largo de tramos:  78.0\n",
      "Min de largo de tramos:  2\n",
      "Max de largo de tramos:  149\n"
     ]
    },
    {
     "data": {
      "image/png": "[encoded data removed]",
      "text/plain": [
       "<Figure size 432x288 with 1 Axes>"
      ]
     },
     "metadata": {},
     "output_type": "display_data"
    },
    {
     "name": "stdout",
     "output_type": "stream",
     "text": [
      "recuperando curva 9\n",
      "Cantidad de tramos:  822\n",
      "Largo promedio de tramos:  74.98418491484185\n",
      "Mediana de largo de tramos:  69.5\n",
      "Min de largo de tramos:  2\n",
      "Max de largo de tramos:  149\n"
     ]
    },
    {
     "data": {
      "image/png": "[encoded data removed]",
      "text/plain": [
       "<Figure size 432x288 with 1 Axes>"
      ]
     },
     "metadata": {},
     "output_type": "display_data"
    },
    {
     "name": "stdout",
     "output_type": "stream",
     "text": [
      "recuperando curva 10\n",
      "Cantidad de tramos:  160\n",
      "Largo promedio de tramos:  82.05\n",
      "Mediana de largo de tramos:  88.0\n",
      "Min de largo de tramos:  2\n",
      "Max de largo de tramos:  145\n"
     ]
    },
    {
     "data": {
      "image/png": "[encoded data removed]",
      "text/plain": [
       "<Figure size 432x288 with 1 Axes>"
      ]
     },
     "metadata": {},
     "output_type": "display_data"
    },
    {
     "name": "stdout",
     "output_type": "stream",
     "text": [
      "recuperando curva 11\n",
      "Cantidad de tramos:  815\n",
      "Largo promedio de tramos:  78.92515337423313\n",
      "Mediana de largo de tramos:  76.0\n",
      "Min de largo de tramos:  2\n",
      "Max de largo de tramos:  149\n"
     ]
    },
    {
     "data": {
      "image/png": "[encoded data removed]",
      "text/plain": [
       "<Figure size 432x288 with 1 Axes>"
      ]
     },
     "metadata": {},
     "output_type": "display_data"
    },
    {
     "name": "stdout",
     "output_type": "stream",
     "text": [
      "recuperando curva 12\n",
      "Cantidad de tramos:  825\n",
      "Largo promedio de tramos:  77.94787878787879\n",
      "Mediana de largo de tramos:  76.0\n",
      "Min de largo de tramos:  2\n",
      "Max de largo de tramos:  149\n"
     ]
    },
    {
     "data": {
      "image/png": "[encoded data removed]",
      "text/plain": [
       "<Figure size 432x288 with 1 Axes>"
      ]
     },
     "metadata": {},
     "output_type": "display_data"
    },
    {
     "name": "stdout",
     "output_type": "stream",
     "text": [
      "recuperando curva 13\n",
      "Cantidad de tramos:  831\n",
      "Largo promedio de tramos:  77.38146811070999\n",
      "Mediana de largo de tramos:  74.0\n",
      "Min de largo de tramos:  2\n",
      "Max de largo de tramos:  149\n"
     ]
    },
    {
     "data": {
      "image/png": "[encoded data removed]",
      "text/plain": [
       "<Figure size 432x288 with 1 Axes>"
      ]
     },
     "metadata": {},
     "output_type": "display_data"
    },
    {
     "name": "stdout",
     "output_type": "stream",
     "text": [
      "recuperando curva 14\n",
      "Cantidad de tramos:  801\n",
      "Largo promedio de tramos:  80.32209737827715\n",
      "Mediana de largo de tramos:  80.0\n",
      "Min de largo de tramos:  2\n",
      "Max de largo de tramos:  149\n"
     ]
    },
    {
     "data": {
      "image/png": "[encoded data removed]",
      "text/plain": [
       "<Figure size 432x288 with 1 Axes>"
      ]
     },
     "metadata": {},
     "output_type": "display_data"
    },
    {
     "name": "stdout",
     "output_type": "stream",
     "text": [
      "recuperando curva 15\n",
      "Cantidad de tramos:  857\n",
      "Largo promedio de tramos:  72.44690781796966\n",
      "Mediana de largo de tramos:  62.0\n",
      "Min de largo de tramos:  2\n",
      "Max de largo de tramos:  149\n"
     ]
    },
    {
     "data": {
      "image/png": "[encoded data removed]",
      "text/plain": [
       "<Figure size 432x288 with 1 Axes>"
      ]
     },
     "metadata": {},
     "output_type": "display_data"
    },
    {
     "name": "stdout",
     "output_type": "stream",
     "text": [
      "recuperando curva 16\n",
      "Cantidad de tramos:  812\n",
      "Largo promedio de tramos:  79.18349753694581\n",
      "Mediana de largo de tramos:  78.0\n",
      "Min de largo de tramos:  2\n",
      "Max de largo de tramos:  149\n"
     ]
    },
    {
     "data": {
      "image/png": "[encoded data removed]",
      "text/plain": [
       "<Figure size 432x288 with 1 Axes>"
      ]
     },
     "metadata": {},
     "output_type": "display_data"
    },
    {
     "name": "stdout",
     "output_type": "stream",
     "text": [
      "recuperando curva 17\n",
      "Cantidad de tramos:  912\n",
      "Largo promedio de tramos:  67.91228070175438\n",
      "Mediana de largo de tramos:  58.0\n",
      "Min de largo de tramos:  2\n",
      "Max de largo de tramos:  146\n"
     ]
    },
    {
     "data": {
      "image/png": "[encoded data removed]",
      "text/plain": [
       "<Figure size 432x288 with 1 Axes>"
      ]
     },
     "metadata": {},
     "output_type": "display_data"
    },
    {
     "name": "stdout",
     "output_type": "stream",
     "text": [
      "recuperando curva 18\n",
      "Cantidad de tramos:  832\n",
      "Largo promedio de tramos:  77.28966346153847\n",
      "Mediana de largo de tramos:  75.0\n",
      "Min de largo de tramos:  2\n",
      "Max de largo de tramos:  149\n"
     ]
    },
    {
     "data": {
      "image/png": "[encoded data removed]",
      "text/plain": [
       "<Figure size 432x288 with 1 Axes>"
      ]
     },
     "metadata": {},
     "output_type": "display_data"
    },
    {
     "name": "stdout",
     "output_type": "stream",
     "text": [
      "recuperando curva 19\n",
      "Cantidad de tramos:  816\n",
      "Largo promedio de tramos:  78.82107843137256\n",
      "Mediana de largo de tramos:  78.0\n",
      "Min de largo de tramos:  2\n",
      "Max de largo de tramos:  149\n"
     ]
    },
    {
     "data": {
      "image/png": "[encoded data removed]",
      "text/plain": [
       "<Figure size 432x288 with 1 Axes>"
      ]
     },
     "metadata": {},
     "output_type": "display_data"
    },
    {
     "name": "stdout",
     "output_type": "stream",
     "text": [
      "recuperando curva 20\n",
      "Cantidad de tramos:  1017\n",
      "Largo promedio de tramos:  57.44051130776794\n",
      "Mediana de largo de tramos:  47.0\n",
      "Min de largo de tramos:  2\n",
      "Max de largo de tramos:  149\n"
     ]
    },
    {
     "data": {
      "image/png": "[encoded data removed]",
      "text/plain": [
       "<Figure size 432x288 with 1 Axes>"
      ]
     },
     "metadata": {},
     "output_type": "display_data"
    },
    {
     "name": "stdout",
     "output_type": "stream",
     "text": [
      "CPU times: user 11.2 s, sys: 5.15 s, total: 16.4 s\n",
      "Wall time: 10.1 s\n"
     ]
    }
   ],
   "source": [
    "%%time\n",
    "\n",
    "i=0\n",
    "for lc_our_detrend in our_detrends[:20]:   \n",
    "    print (\"recuperando curva\",i+1)\n",
    "    fluxs = prepare_lc(lc_our_detrend) #divide by min\n",
    "    lc_tramos =  extract_nans(fluxs) #extract nans\n",
    "    \n",
    "    transition_m = manual_HMM(lc_tramos, n_sta_up=10, n_sta_low=10) #si se dejan 5 arriba y 10 abajo cambia harto...\n",
    "\n",
    "    i+=1\n",
    "    plt.imshow(transition_m, cmap='RdPu', vmin=0, vmax=1) #el plot se ve raro por esto..\n",
    "    plt.show()"
   ]
  },
  {
   "cell_type": "code",
   "execution_count": null,
   "metadata": {},
   "outputs": [],
   "source": []
  }
 ],
 "metadata": {
  "kernelspec": {
   "display_name": "Python [default]",
   "language": "python",
   "name": "python3"
  },
  "language_info": {
   "codemirror_mode": {
    "name": "ipython",
    "version": 3
   },
   "file_extension": ".py",
   "mimetype": "text/x-python",
   "name": "python",
   "nbconvert_exporter": "python",
   "pygments_lexer": "ipython3",
   "version": "3.5.5"
  }
 },
 "nbformat": 4,
 "nbformat_minor": 2
}

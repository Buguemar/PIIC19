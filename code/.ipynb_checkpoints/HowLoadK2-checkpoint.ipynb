{
 "cells": [
  {
   "cell_type": "markdown",
   "metadata": {},
   "source": [
    "### Documentación útil sobre KOI\n",
    "Documentación para leer los datos de KOI (*Kepler Object of Interest*).\n",
    "\n",
    "[GoTo_Metadata](#metadata)  \n",
    "[GoTo_LightCurve](#lightcurve)"
   ]
  },
  {
   "cell_type": "code",
   "execution_count": 4,
   "metadata": {},
   "outputs": [],
   "source": [
    "### imports\n",
    "import pandas as pd\n",
    "import seaborn as sns\n",
    "import matplotlib.pyplot as plt\n",
    "import numpy as np"
   ]
  },
  {
   "cell_type": "markdown",
   "metadata": {},
   "source": [
    "<a id=\"metadata\"></a>\n",
    "# LOAD METADATA"
   ]
  },
  {
   "cell_type": "markdown",
   "metadata": {},
   "source": [
    "### set folder"
   ]
  },
  {
   "cell_type": "code",
   "execution_count": 5,
   "metadata": {},
   "outputs": [],
   "source": [
    "folder = \"/work/work_teamEXOPLANET/K2_mission/\""
   ]
  },
  {
   "cell_type": "markdown",
   "metadata": {},
   "source": [
    "### read mask of sets\n",
    "> Not Yet"
   ]
  },
  {
   "cell_type": "code",
   "execution_count": null,
   "metadata": {},
   "outputs": [],
   "source": [
    "df_sets = pd.read_csv(folder+\"/koi_sets_unb.csv\") \n",
    "mask_train = (df_sets[\"Set\"] == \"Train\").values\n",
    "mask_test = (df_sets[\"Set\"] == \"Test\").values ##validacion\n",
    "mask_unlabeled = (df_sets[\"Set\"] == \"Unlabeled\").values  ##test\n",
    "df_sets.head()"
   ]
  },
  {
   "cell_type": "code",
   "execution_count": null,
   "metadata": {},
   "outputs": [],
   "source": []
  },
  {
   "cell_type": "code",
   "execution_count": null,
   "metadata": {},
   "outputs": [],
   "source": [
    "arreglo = np.zeros(df_sets.shape[0], dtype='object')\n",
    "\n",
    "labeled = np.arange(len(arreglo))[~mask_unlabeled]\n",
    "mask_test = np.random.rand(labeled.shape[0]) < 0.3\n",
    "\n",
    "labeled_train = labeled[~mask_test]\n",
    "labeled_test =  labeled[mask_test]\n",
    "\n",
    "arreglo[labeled_train] = \"Train\"\n",
    "arreglo[labeled_test] = \"Test\"\n",
    "arreglo[mask_unlabeled] = \"Unlabeled\"\n",
    "\n",
    "arreglo"
   ]
  },
  {
   "cell_type": "code",
   "execution_count": null,
   "metadata": {},
   "outputs": [],
   "source": [
    "df_sets = pd.read_csv(folder+\"/koi_sets_unb.csv\") \n",
    "df_sets[\"Set\"] = arreglo\n",
    "\n",
    "df_sets.to_csv(folder+\"/koi_sets.csv\", index=False)"
   ]
  },
  {
   "cell_type": "markdown",
   "metadata": {},
   "source": [
    "### read metadata and apply mask"
   ]
  },
  {
   "cell_type": "code",
   "execution_count": 9,
   "metadata": {
    "scrolled": true
   },
   "outputs": [
    {
     "name": "stdout",
     "output_type": "stream",
     "text": [
      "(1442, 19)\n"
     ]
    },
    {
     "data": {
      "text/html": [
       "<div>\n",
       "<style scoped>\n",
       "    .dataframe tbody tr th:only-of-type {\n",
       "        vertical-align: middle;\n",
       "    }\n",
       "\n",
       "    .dataframe tbody tr th {\n",
       "        vertical-align: top;\n",
       "    }\n",
       "\n",
       "    .dataframe thead th {\n",
       "        text-align: right;\n",
       "    }\n",
       "</style>\n",
       "<table border=\"1\" class=\"dataframe\">\n",
       "  <thead>\n",
       "    <tr style=\"text-align: right;\">\n",
       "      <th></th>\n",
       "      <th>EPIC Name</th>\n",
       "      <th>K2 Name</th>\n",
       "      <th>K2 Disposition</th>\n",
       "      <th>NExScI Disposition</th>\n",
       "      <th>Period</th>\n",
       "      <th>First Transit Time (BJD)</th>\n",
       "      <th>Duration</th>\n",
       "      <th>Impact Parameter</th>\n",
       "      <th>Inclination</th>\n",
       "      <th>a/R</th>\n",
       "      <th>r/R</th>\n",
       "      <th>Teq</th>\n",
       "      <th>Transit Depth</th>\n",
       "      <th>Planet Radius</th>\n",
       "      <th>Teff</th>\n",
       "      <th>log(g)</th>\n",
       "      <th>Metallicity</th>\n",
       "      <th>Stellar Radius</th>\n",
       "      <th>Time of Transit Epoch</th>\n",
       "    </tr>\n",
       "  </thead>\n",
       "  <tbody>\n",
       "    <tr>\n",
       "      <th>0</th>\n",
       "      <td>EPIC 201092629.01</td>\n",
       "      <td>K2-241 b</td>\n",
       "      <td>CONFIRMED</td>\n",
       "      <td>CONFIRMED</td>\n",
       "      <td>26.819900</td>\n",
       "      <td>2.457584e+06</td>\n",
       "      <td>0.170800</td>\n",
       "      <td>0.41</td>\n",
       "      <td>NaN</td>\n",
       "      <td>43.300000</td>\n",
       "      <td>0.03120</td>\n",
       "      <td>507.0</td>\n",
       "      <td>0.090</td>\n",
       "      <td>2.550</td>\n",
       "      <td>NaN</td>\n",
       "      <td>NaN</td>\n",
       "      <td>NaN</td>\n",
       "      <td>NaN</td>\n",
       "      <td>2751.20630</td>\n",
       "    </tr>\n",
       "    <tr>\n",
       "      <th>1</th>\n",
       "      <td>EPIC 201102594.01</td>\n",
       "      <td>K2-242 b</td>\n",
       "      <td>CONFIRMED</td>\n",
       "      <td>CONFIRMED</td>\n",
       "      <td>6.513890</td>\n",
       "      <td>2.457586e+06</td>\n",
       "      <td>0.083300</td>\n",
       "      <td>0.42</td>\n",
       "      <td>NaN</td>\n",
       "      <td>22.100000</td>\n",
       "      <td>0.06330</td>\n",
       "      <td>416.0</td>\n",
       "      <td>0.624</td>\n",
       "      <td>2.540</td>\n",
       "      <td>NaN</td>\n",
       "      <td>NaN</td>\n",
       "      <td>NaN</td>\n",
       "      <td>NaN</td>\n",
       "      <td>2753.24000</td>\n",
       "    </tr>\n",
       "    <tr>\n",
       "      <th>2</th>\n",
       "      <td>EPIC 201110617.01</td>\n",
       "      <td>K2-156 b</td>\n",
       "      <td>CONFIRMED</td>\n",
       "      <td>CONFIRMED</td>\n",
       "      <td>0.813149</td>\n",
       "      <td>2.457583e+06</td>\n",
       "      <td>NaN</td>\n",
       "      <td>NaN</td>\n",
       "      <td>84.005</td>\n",
       "      <td>4.420602</td>\n",
       "      <td>0.01704</td>\n",
       "      <td>NaN</td>\n",
       "      <td>NaN</td>\n",
       "      <td>1.144</td>\n",
       "      <td>4460.0</td>\n",
       "      <td>4.68</td>\n",
       "      <td>-0.33</td>\n",
       "      <td>0.62</td>\n",
       "      <td>2750.14093</td>\n",
       "    </tr>\n",
       "    <tr>\n",
       "      <th>3</th>\n",
       "      <td>EPIC 201111557.01</td>\n",
       "      <td>NaN</td>\n",
       "      <td>CANDIDATE</td>\n",
       "      <td>CANDIDATE</td>\n",
       "      <td>2.301830</td>\n",
       "      <td>2.457583e+06</td>\n",
       "      <td>0.079200</td>\n",
       "      <td>0.42</td>\n",
       "      <td>NaN</td>\n",
       "      <td>11.800000</td>\n",
       "      <td>0.01440</td>\n",
       "      <td>1054.0</td>\n",
       "      <td>2.268</td>\n",
       "      <td>1.120</td>\n",
       "      <td>NaN</td>\n",
       "      <td>NaN</td>\n",
       "      <td>NaN</td>\n",
       "      <td>NaN</td>\n",
       "      <td>2750.16880</td>\n",
       "    </tr>\n",
       "    <tr>\n",
       "      <th>4</th>\n",
       "      <td>EPIC 201126503.01</td>\n",
       "      <td>NaN</td>\n",
       "      <td>CANDIDATE</td>\n",
       "      <td>CANDIDATE</td>\n",
       "      <td>1.194749</td>\n",
       "      <td>2.456810e+06</td>\n",
       "      <td>0.080417</td>\n",
       "      <td>0.00</td>\n",
       "      <td>NaN</td>\n",
       "      <td>NaN</td>\n",
       "      <td>0.06005</td>\n",
       "      <td>NaN</td>\n",
       "      <td>0.448</td>\n",
       "      <td>4.190</td>\n",
       "      <td>3919.0</td>\n",
       "      <td>NaN</td>\n",
       "      <td>NaN</td>\n",
       "      <td>0.57</td>\n",
       "      <td>1977.38200</td>\n",
       "    </tr>\n",
       "  </tbody>\n",
       "</table>\n",
       "</div>"
      ],
      "text/plain": [
       "           EPIC Name   K2 Name K2 Disposition NExScI Disposition     Period  \\\n",
       "0  EPIC 201092629.01  K2-241 b      CONFIRMED          CONFIRMED  26.819900   \n",
       "1  EPIC 201102594.01  K2-242 b      CONFIRMED          CONFIRMED   6.513890   \n",
       "2  EPIC 201110617.01  K2-156 b      CONFIRMED          CONFIRMED   0.813149   \n",
       "3  EPIC 201111557.01       NaN      CANDIDATE          CANDIDATE   2.301830   \n",
       "4  EPIC 201126503.01       NaN      CANDIDATE          CANDIDATE   1.194749   \n",
       "\n",
       "   First Transit Time (BJD)  Duration  Impact Parameter  Inclination  \\\n",
       "0              2.457584e+06  0.170800              0.41          NaN   \n",
       "1              2.457586e+06  0.083300              0.42          NaN   \n",
       "2              2.457583e+06       NaN               NaN       84.005   \n",
       "3              2.457583e+06  0.079200              0.42          NaN   \n",
       "4              2.456810e+06  0.080417              0.00          NaN   \n",
       "\n",
       "         a/R      r/R     Teq  Transit Depth  Planet Radius    Teff  log(g)  \\\n",
       "0  43.300000  0.03120   507.0          0.090          2.550     NaN     NaN   \n",
       "1  22.100000  0.06330   416.0          0.624          2.540     NaN     NaN   \n",
       "2   4.420602  0.01704     NaN            NaN          1.144  4460.0    4.68   \n",
       "3  11.800000  0.01440  1054.0          2.268          1.120     NaN     NaN   \n",
       "4        NaN  0.06005     NaN          0.448          4.190  3919.0     NaN   \n",
       "\n",
       "   Metallicity  Stellar Radius  Time of Transit Epoch  \n",
       "0          NaN             NaN             2751.20630  \n",
       "1          NaN             NaN             2753.24000  \n",
       "2        -0.33            0.62             2750.14093  \n",
       "3          NaN             NaN             2750.16880  \n",
       "4          NaN            0.57             1977.38200  "
      ]
     },
     "execution_count": 9,
     "metadata": {},
     "output_type": "execute_result"
    }
   ],
   "source": [
    "df_meta = pd.read_csv(folder+\"/K2_CAND_metadata.csv\")\n",
    "#df_meta_train = df_meta[mask_train]\n",
    "#df_meta_test = df_meta[mask_test]\n",
    "#df_meta_unb = df_meta[mask_unlabeled]\n",
    "\n",
    "print(df_meta.shape)\n",
    "df_meta.head()"
   ]
  },
  {
   "cell_type": "code",
   "execution_count": 10,
   "metadata": {},
   "outputs": [
    {
     "data": {
      "text/plain": [
       "Index(['EPIC Name', 'K2 Name', 'K2 Disposition', 'NExScI Disposition',\n",
       "       'Period', 'First Transit Time (BJD)', 'Duration', 'Impact Parameter',\n",
       "       'Inclination', 'a/R', 'r/R', 'Teq', 'Transit Depth', 'Planet Radius',\n",
       "       'Teff', 'log(g)', 'Metallicity', 'Stellar Radius',\n",
       "       'Time of Transit Epoch'],\n",
       "      dtype='object')"
      ]
     },
     "execution_count": 10,
     "metadata": {},
     "output_type": "execute_result"
    }
   ],
   "source": [
    "df_meta.columns"
   ]
  },
  {
   "cell_type": "code",
   "execution_count": 12,
   "metadata": {},
   "outputs": [
    {
     "data": {
      "image/png": "[encoded data removed]",
      "text/plain": [
       "<Figure size 432x288 with 1 Axes>"
      ]
     },
     "metadata": {
      "needs_background": "light"
     },
     "output_type": "display_data"
    }
   ],
   "source": [
    "sns.countplot(data=df_meta, x=\"NExScI Disposition\")\n",
    "plt.show()"
   ]
  },
  {
   "cell_type": "markdown",
   "metadata": {},
   "source": [
    "### Impute median on nulls!\n"
   ]
  },
  {
   "cell_type": "code",
   "execution_count": 13,
   "metadata": {},
   "outputs": [
    {
     "data": {
      "text/html": [
       "<div>\n",
       "<style scoped>\n",
       "    .dataframe tbody tr th:only-of-type {\n",
       "        vertical-align: middle;\n",
       "    }\n",
       "\n",
       "    .dataframe tbody tr th {\n",
       "        vertical-align: top;\n",
       "    }\n",
       "\n",
       "    .dataframe thead th {\n",
       "        text-align: right;\n",
       "    }\n",
       "</style>\n",
       "<table border=\"1\" class=\"dataframe\">\n",
       "  <thead>\n",
       "    <tr style=\"text-align: right;\">\n",
       "      <th></th>\n",
       "      <th>EPIC Name</th>\n",
       "      <th>K2 Name</th>\n",
       "      <th>K2 Disposition</th>\n",
       "      <th>NExScI Disposition</th>\n",
       "      <th>Period</th>\n",
       "      <th>First Transit Time (BJD)</th>\n",
       "      <th>Duration</th>\n",
       "      <th>Impact Parameter</th>\n",
       "      <th>Inclination</th>\n",
       "      <th>a/R</th>\n",
       "      <th>r/R</th>\n",
       "      <th>Teq</th>\n",
       "      <th>Transit Depth</th>\n",
       "      <th>Planet Radius</th>\n",
       "      <th>Teff</th>\n",
       "      <th>log(g)</th>\n",
       "      <th>Metallicity</th>\n",
       "      <th>Stellar Radius</th>\n",
       "      <th>Time of Transit Epoch</th>\n",
       "    </tr>\n",
       "  </thead>\n",
       "  <tbody>\n",
       "    <tr>\n",
       "      <th>0</th>\n",
       "      <td>EPIC 201092629.01</td>\n",
       "      <td>K2-241 b</td>\n",
       "      <td>CONFIRMED</td>\n",
       "      <td>CONFIRMED</td>\n",
       "      <td>26.819900</td>\n",
       "      <td>2.457584e+06</td>\n",
       "      <td>0.170800</td>\n",
       "      <td>0.41</td>\n",
       "      <td>88.113</td>\n",
       "      <td>43.300000</td>\n",
       "      <td>0.03120</td>\n",
       "      <td>507.0</td>\n",
       "      <td>0.090</td>\n",
       "      <td>2.550</td>\n",
       "      <td>5330.0</td>\n",
       "      <td>4.43</td>\n",
       "      <td>-0.02</td>\n",
       "      <td>0.87</td>\n",
       "      <td>2751.20630</td>\n",
       "    </tr>\n",
       "    <tr>\n",
       "      <th>1</th>\n",
       "      <td>EPIC 201102594.01</td>\n",
       "      <td>K2-242 b</td>\n",
       "      <td>CONFIRMED</td>\n",
       "      <td>CONFIRMED</td>\n",
       "      <td>6.513890</td>\n",
       "      <td>2.457586e+06</td>\n",
       "      <td>0.083300</td>\n",
       "      <td>0.42</td>\n",
       "      <td>88.113</td>\n",
       "      <td>22.100000</td>\n",
       "      <td>0.06330</td>\n",
       "      <td>416.0</td>\n",
       "      <td>0.624</td>\n",
       "      <td>2.540</td>\n",
       "      <td>5330.0</td>\n",
       "      <td>4.43</td>\n",
       "      <td>-0.02</td>\n",
       "      <td>0.87</td>\n",
       "      <td>2753.24000</td>\n",
       "    </tr>\n",
       "    <tr>\n",
       "      <th>2</th>\n",
       "      <td>EPIC 201110617.01</td>\n",
       "      <td>K2-156 b</td>\n",
       "      <td>CONFIRMED</td>\n",
       "      <td>CONFIRMED</td>\n",
       "      <td>0.813149</td>\n",
       "      <td>2.457583e+06</td>\n",
       "      <td>0.114100</td>\n",
       "      <td>0.42</td>\n",
       "      <td>84.005</td>\n",
       "      <td>4.420602</td>\n",
       "      <td>0.01704</td>\n",
       "      <td>821.0</td>\n",
       "      <td>0.162</td>\n",
       "      <td>1.144</td>\n",
       "      <td>4460.0</td>\n",
       "      <td>4.68</td>\n",
       "      <td>-0.33</td>\n",
       "      <td>0.62</td>\n",
       "      <td>2750.14093</td>\n",
       "    </tr>\n",
       "    <tr>\n",
       "      <th>3</th>\n",
       "      <td>EPIC 201111557.01</td>\n",
       "      <td>NaN</td>\n",
       "      <td>CANDIDATE</td>\n",
       "      <td>CANDIDATE</td>\n",
       "      <td>2.301830</td>\n",
       "      <td>2.457583e+06</td>\n",
       "      <td>0.079200</td>\n",
       "      <td>0.42</td>\n",
       "      <td>88.113</td>\n",
       "      <td>11.800000</td>\n",
       "      <td>0.01440</td>\n",
       "      <td>1054.0</td>\n",
       "      <td>2.268</td>\n",
       "      <td>1.120</td>\n",
       "      <td>5330.0</td>\n",
       "      <td>4.43</td>\n",
       "      <td>-0.02</td>\n",
       "      <td>0.87</td>\n",
       "      <td>2750.16880</td>\n",
       "    </tr>\n",
       "    <tr>\n",
       "      <th>4</th>\n",
       "      <td>EPIC 201126503.01</td>\n",
       "      <td>NaN</td>\n",
       "      <td>CANDIDATE</td>\n",
       "      <td>CANDIDATE</td>\n",
       "      <td>1.194749</td>\n",
       "      <td>2.456810e+06</td>\n",
       "      <td>0.080417</td>\n",
       "      <td>0.00</td>\n",
       "      <td>88.113</td>\n",
       "      <td>17.225461</td>\n",
       "      <td>0.06005</td>\n",
       "      <td>821.0</td>\n",
       "      <td>0.448</td>\n",
       "      <td>4.190</td>\n",
       "      <td>3919.0</td>\n",
       "      <td>4.43</td>\n",
       "      <td>-0.02</td>\n",
       "      <td>0.57</td>\n",
       "      <td>1977.38200</td>\n",
       "    </tr>\n",
       "  </tbody>\n",
       "</table>\n",
       "</div>"
      ],
      "text/plain": [
       "           EPIC Name   K2 Name K2 Disposition NExScI Disposition     Period  \\\n",
       "0  EPIC 201092629.01  K2-241 b      CONFIRMED          CONFIRMED  26.819900   \n",
       "1  EPIC 201102594.01  K2-242 b      CONFIRMED          CONFIRMED   6.513890   \n",
       "2  EPIC 201110617.01  K2-156 b      CONFIRMED          CONFIRMED   0.813149   \n",
       "3  EPIC 201111557.01       NaN      CANDIDATE          CANDIDATE   2.301830   \n",
       "4  EPIC 201126503.01       NaN      CANDIDATE          CANDIDATE   1.194749   \n",
       "\n",
       "   First Transit Time (BJD)  Duration  Impact Parameter  Inclination  \\\n",
       "0              2.457584e+06  0.170800              0.41       88.113   \n",
       "1              2.457586e+06  0.083300              0.42       88.113   \n",
       "2              2.457583e+06  0.114100              0.42       84.005   \n",
       "3              2.457583e+06  0.079200              0.42       88.113   \n",
       "4              2.456810e+06  0.080417              0.00       88.113   \n",
       "\n",
       "         a/R      r/R     Teq  Transit Depth  Planet Radius    Teff  log(g)  \\\n",
       "0  43.300000  0.03120   507.0          0.090          2.550  5330.0    4.43   \n",
       "1  22.100000  0.06330   416.0          0.624          2.540  5330.0    4.43   \n",
       "2   4.420602  0.01704   821.0          0.162          1.144  4460.0    4.68   \n",
       "3  11.800000  0.01440  1054.0          2.268          1.120  5330.0    4.43   \n",
       "4  17.225461  0.06005   821.0          0.448          4.190  3919.0    4.43   \n",
       "\n",
       "   Metallicity  Stellar Radius  Time of Transit Epoch  \n",
       "0        -0.02            0.87             2751.20630  \n",
       "1        -0.02            0.87             2753.24000  \n",
       "2        -0.33            0.62             2750.14093  \n",
       "3        -0.02            0.87             2750.16880  \n",
       "4        -0.02            0.57             1977.38200  "
      ]
     },
     "execution_count": 13,
     "metadata": {},
     "output_type": "execute_result"
    }
   ],
   "source": [
    "def impute_on_pandas(df):\n",
    "    return df.fillna(df.median(),inplace=False)\n",
    "\n",
    "df_meta = impute_on_pandas(df_meta)\n",
    "df_meta.head()"
   ]
  },
  {
   "cell_type": "markdown",
   "metadata": {},
   "source": [
    "### Set ground truth"
   ]
  },
  {
   "cell_type": "code",
   "execution_count": 14,
   "metadata": {},
   "outputs": [
    {
     "data": {
      "text/plain": [
       "array([1, 1, 1, ..., 0, 0, 0])"
      ]
     },
     "execution_count": 14,
     "metadata": {},
     "output_type": "execute_result"
    }
   ],
   "source": [
    "y = ((df_meta[\"NExScI Disposition\"]==\"CONFIRMED\")*1).values\n",
    "y"
   ]
  },
  {
   "cell_type": "markdown",
   "metadata": {},
   "source": [
    "### Evaluate models"
   ]
  },
  {
   "cell_type": "code",
   "execution_count": 15,
   "metadata": {
    "scrolled": true
   },
   "outputs": [
    {
     "name": "stderr",
     "output_type": "stream",
     "text": [
      "/opt/ohpc/pub/moduledeps/anaconda3/lib/python3.7/site-packages/sklearn/metrics/_classification.py:1268: UndefinedMetricWarning: Precision is ill-defined and being set to 0.0 in labels with no predicted samples. Use `zero_division` parameter to control this behavior.\n",
      "  _warn_prf(average, modifier, msg_start, len(result))\n"
     ]
    },
    {
     "data": {
      "text/html": [
       "<div>\n",
       "<style scoped>\n",
       "    .dataframe tbody tr th:only-of-type {\n",
       "        vertical-align: middle;\n",
       "    }\n",
       "\n",
       "    .dataframe tbody tr th {\n",
       "        vertical-align: top;\n",
       "    }\n",
       "\n",
       "    .dataframe thead th {\n",
       "        text-align: right;\n",
       "    }\n",
       "</style>\n",
       "<table border=\"1\" class=\"dataframe\">\n",
       "  <thead>\n",
       "    <tr style=\"text-align: right;\">\n",
       "      <th></th>\n",
       "      <th>Precision raw</th>\n",
       "      <th>Recall raw</th>\n",
       "      <th>F1 raw</th>\n",
       "      <th>F1 weighted</th>\n",
       "      <th>F1 macro</th>\n",
       "      <th>F1 micro</th>\n",
       "    </tr>\n",
       "  </thead>\n",
       "  <tbody>\n",
       "    <tr>\n",
       "      <th>False Positive</th>\n",
       "      <td>0.000000</td>\n",
       "      <td>0.0</td>\n",
       "      <td>0.000000</td>\n",
       "      <td>0.090933</td>\n",
       "      <td>0.191704</td>\n",
       "      <td>0.237171</td>\n",
       "    </tr>\n",
       "    <tr>\n",
       "      <th>Confirmed</th>\n",
       "      <td>0.237171</td>\n",
       "      <td>1.0</td>\n",
       "      <td>0.383408</td>\n",
       "      <td>0.090933</td>\n",
       "      <td>0.191704</td>\n",
       "      <td>0.237171</td>\n",
       "    </tr>\n",
       "  </tbody>\n",
       "</table>\n",
       "</div>"
      ],
      "text/plain": [
       "                Precision raw  Recall raw    F1 raw  F1 weighted  F1 macro  \\\n",
       "False Positive       0.000000         0.0  0.000000     0.090933  0.191704   \n",
       "Confirmed            0.237171         1.0  0.383408     0.090933  0.191704   \n",
       "\n",
       "                F1 micro  \n",
       "False Positive  0.237171  \n",
       "Confirmed       0.237171  "
      ]
     },
     "metadata": {},
     "output_type": "display_data"
    },
    {
     "data": {
      "image/png": "[encoded data removed]",
      "text/plain": [
       "<Figure size 576x432 with 2 Axes>"
      ]
     },
     "metadata": {
      "needs_background": "light"
     },
     "output_type": "display_data"
    },
    {
     "data": {
      "text/plain": [
       "{'Precision raw': array([0.       , 0.2371706]),\n",
       " 'Recall raw': array([0., 1.]),\n",
       " 'F1 raw': array([0.        , 0.38340807]),\n",
       " 'F1 weighted': 0.09093312103891582,\n",
       " 'F1 macro': 0.1917040358744395,\n",
       " 'F1 micro': 0.23717059639389737,\n",
       " 'Confusion Matrix': array([[   0, 1100],\n",
       "        [   0,  342]])}"
      ]
     },
     "execution_count": 15,
     "metadata": {},
     "output_type": "execute_result"
    }
   ],
   "source": [
    "import os, sys\n",
    "dirpath = os.getcwd().split(\"code\")[0]+\"code/\"\n",
    "sys.path.append(dirpath)\n",
    "\n",
    "from evaluation import calculate_metrics\n",
    "calculate_metrics(y,np.ones((y.shape[0],1)))"
   ]
  },
  {
   "cell_type": "markdown",
   "metadata": {},
   "source": [
    "<a id=\"lightcurve\"></a>\n",
    "# LOAD KEPLER LIGHT CURVES "
   ]
  },
  {
   "cell_type": "code",
   "execution_count": 17,
   "metadata": {},
   "outputs": [
    {
     "data": {
      "text/plain": [
       "1442"
      ]
     },
     "execution_count": 17,
     "metadata": {},
     "output_type": "execute_result"
    }
   ],
   "source": [
    "#curvas originales (coupled)\n",
    "lc_measurements = np.load(folder+\"K2_CAND_lc_detr.npy\", allow_pickle=True)\n",
    "lc_time = np.load(folder+\"K2_CAND_time.npy\", allow_pickle=True)\n",
    "len(lc_time)"
   ]
  },
  {
   "cell_type": "code",
   "execution_count": 18,
   "metadata": {},
   "outputs": [
    {
     "data": {
      "text/plain": [
       "1442"
      ]
     },
     "execution_count": 18,
     "metadata": {},
     "output_type": "execute_result"
    }
   ],
   "source": [
    "#curvas processed by KEpler pipeline (contiene nans)\n",
    "process_lc = np.load(folder+'/K2_CAND_LC_processed.npy', allow_pickle=True)\n",
    "lc_time_aux = np.load(folder+'/K2_CAND_LC_processed_time.npy', allow_pickle=True)\n",
    "len(lc_time_aux)"
   ]
  },
  {
   "cell_type": "code",
   "execution_count": null,
   "metadata": {},
   "outputs": [],
   "source": []
  }
 ],
 "metadata": {
  "kernelspec": {
   "display_name": "Python 3",
   "language": "python",
   "name": "python3"
  },
  "language_info": {
   "codemirror_mode": {
    "name": "ipython",
    "version": 3
   },
   "file_extension": ".py",
   "mimetype": "text/x-python",
   "name": "python",
   "nbconvert_exporter": "python",
   "pygments_lexer": "ipython3",
   "version": "3.7.3"
  }
 },
 "nbformat": 4,
 "nbformat_minor": 2
}

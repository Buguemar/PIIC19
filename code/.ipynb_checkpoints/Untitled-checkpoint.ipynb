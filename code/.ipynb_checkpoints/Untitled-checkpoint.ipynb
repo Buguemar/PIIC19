{
 "cells": [
  {
   "cell_type": "code",
   "execution_count": 3,
   "metadata": {},
   "outputs": [
    {
     "name": "stdout",
     "output_type": "stream",
     "text": [
      "k2_planets_search.txt  k2_search.txt\r\n"
     ]
    }
   ],
   "source": [
    "!ls ../K2_Data/"
   ]
  },
  {
   "cell_type": "code",
   "execution_count": 169,
   "metadata": {},
   "outputs": [
    {
     "name": "stdout",
     "output_type": "stream",
     "text": [
      "(50002, 60)\n"
     ]
    },
    {
     "data": {
      "text/html": [
       "<div>\n",
       "<style scoped>\n",
       "    .dataframe tbody tr th:only-of-type {\n",
       "        vertical-align: middle;\n",
       "    }\n",
       "\n",
       "    .dataframe tbody tr th {\n",
       "        vertical-align: top;\n",
       "    }\n",
       "\n",
       "    .dataframe thead th {\n",
       "        text-align: right;\n",
       "    }\n",
       "</style>\n",
       "<table border=\"1\" class=\"dataframe\">\n",
       "  <thead>\n",
       "    <tr style=\"text-align: right;\">\n",
       "      <th></th>\n",
       "      <th>K2 ID</th>\n",
       "      <th>Dataset Name</th>\n",
       "      <th>Campaign</th>\n",
       "      <th>Object type</th>\n",
       "      <th>Data Release</th>\n",
       "      <th>RA (J2000)</th>\n",
       "      <th>Dec (J2000)</th>\n",
       "      <th>Target Type</th>\n",
       "      <th>Archive Class</th>\n",
       "      <th>Ref</th>\n",
       "      <th>...</th>\n",
       "      <th>flux fraction</th>\n",
       "      <th>cdpp3</th>\n",
       "      <th>cdpp6</th>\n",
       "      <th>cdpp12</th>\n",
       "      <th>Module</th>\n",
       "      <th>Output</th>\n",
       "      <th>Channel</th>\n",
       "      <th>Nearest Neighbor</th>\n",
       "      <th>Nomad ID</th>\n",
       "      <th>High-Level Science Products</th>\n",
       "    </tr>\n",
       "  </thead>\n",
       "  <tbody>\n",
       "    <tr>\n",
       "      <th>49997</th>\n",
       "      <td>200077777</td>\n",
       "      <td>KTWO200077777-C101</td>\n",
       "      <td>101</td>\n",
       "      <td>TNO.2003 FC128</td>\n",
       "      <td>15</td>\n",
       "      <td>12 27 42.414</td>\n",
       "      <td>-00 35 44.84</td>\n",
       "      <td>LC</td>\n",
       "      <td>KTL</td>\n",
       "      <td>NaN</td>\n",
       "      <td>...</td>\n",
       "      <td>NaN</td>\n",
       "      <td>NaN</td>\n",
       "      <td>NaN</td>\n",
       "      <td>NaN</td>\n",
       "      <td>14</td>\n",
       "      <td>3</td>\n",
       "      <td>47</td>\n",
       "      <td>NaN</td>\n",
       "      <td>NaN</td>\n",
       "      <td>NaN</td>\n",
       "    </tr>\n",
       "    <tr>\n",
       "      <th>49998</th>\n",
       "      <td>200077777</td>\n",
       "      <td>KTWO200077777-C102</td>\n",
       "      <td>102</td>\n",
       "      <td>TNO.2003 FC128</td>\n",
       "      <td>15</td>\n",
       "      <td>12 27 42.275</td>\n",
       "      <td>-00 35 57.68</td>\n",
       "      <td>LC</td>\n",
       "      <td>KLC</td>\n",
       "      <td>NaN</td>\n",
       "      <td>...</td>\n",
       "      <td>1.000</td>\n",
       "      <td>NaN</td>\n",
       "      <td>NaN</td>\n",
       "      <td>NaN</td>\n",
       "      <td>14</td>\n",
       "      <td>3</td>\n",
       "      <td>47</td>\n",
       "      <td>NaN</td>\n",
       "      <td>NaN</td>\n",
       "      <td>NaN</td>\n",
       "    </tr>\n",
       "    <tr>\n",
       "      <th>49999</th>\n",
       "      <td>200077778</td>\n",
       "      <td>KTWO200077778-C101</td>\n",
       "      <td>101</td>\n",
       "      <td>TNO.2003 FC128</td>\n",
       "      <td>15</td>\n",
       "      <td>12 27 42.654</td>\n",
       "      <td>-00 35 47.45</td>\n",
       "      <td>LC</td>\n",
       "      <td>KTL</td>\n",
       "      <td>NaN</td>\n",
       "      <td>...</td>\n",
       "      <td>NaN</td>\n",
       "      <td>NaN</td>\n",
       "      <td>NaN</td>\n",
       "      <td>NaN</td>\n",
       "      <td>14</td>\n",
       "      <td>3</td>\n",
       "      <td>47</td>\n",
       "      <td>NaN</td>\n",
       "      <td>NaN</td>\n",
       "      <td>NaN</td>\n",
       "    </tr>\n",
       "    <tr>\n",
       "      <th>50000</th>\n",
       "      <td>200077778</td>\n",
       "      <td>KTWO200077778-C102</td>\n",
       "      <td>102</td>\n",
       "      <td>TNO.2003 FC128</td>\n",
       "      <td>15</td>\n",
       "      <td>12 27 42.640</td>\n",
       "      <td>-00 35 49.02</td>\n",
       "      <td>LC</td>\n",
       "      <td>KLC</td>\n",
       "      <td>NaN</td>\n",
       "      <td>...</td>\n",
       "      <td>1.000</td>\n",
       "      <td>NaN</td>\n",
       "      <td>NaN</td>\n",
       "      <td>NaN</td>\n",
       "      <td>14</td>\n",
       "      <td>3</td>\n",
       "      <td>47</td>\n",
       "      <td>NaN</td>\n",
       "      <td>NaN</td>\n",
       "      <td>NaN</td>\n",
       "    </tr>\n",
       "    <tr>\n",
       "      <th>50001</th>\n",
       "      <td>200077779</td>\n",
       "      <td>KTWO200077779-C101</td>\n",
       "      <td>101</td>\n",
       "      <td>TNO.2003 FC128</td>\n",
       "      <td>15</td>\n",
       "      <td>12 27 42.915</td>\n",
       "      <td>-00 35 48.10</td>\n",
       "      <td>LC</td>\n",
       "      <td>KTL</td>\n",
       "      <td>NaN</td>\n",
       "      <td>...</td>\n",
       "      <td>NaN</td>\n",
       "      <td>NaN</td>\n",
       "      <td>NaN</td>\n",
       "      <td>NaN</td>\n",
       "      <td>14</td>\n",
       "      <td>3</td>\n",
       "      <td>47</td>\n",
       "      <td>NaN</td>\n",
       "      <td>NaN</td>\n",
       "      <td>NaN</td>\n",
       "    </tr>\n",
       "  </tbody>\n",
       "</table>\n",
       "<p>5 rows × 60 columns</p>\n",
       "</div>"
      ],
      "text/plain": [
       "           K2 ID        Dataset Name Campaign     Object type Data Release  \\\n",
       "49997  200077777  KTWO200077777-C101      101  TNO.2003 FC128           15   \n",
       "49998  200077777  KTWO200077777-C102      102  TNO.2003 FC128           15   \n",
       "49999  200077778  KTWO200077778-C101      101  TNO.2003 FC128           15   \n",
       "50000  200077778  KTWO200077778-C102      102  TNO.2003 FC128           15   \n",
       "50001  200077779  KTWO200077779-C101      101  TNO.2003 FC128           15   \n",
       "\n",
       "         RA (J2000)   Dec (J2000) Target Type Archive Class  Ref  \\\n",
       "49997  12 27 42.414  -00 35 44.84          LC           KTL  NaN   \n",
       "49998  12 27 42.275  -00 35 57.68          LC           KLC  NaN   \n",
       "49999  12 27 42.654  -00 35 47.45          LC           KTL  NaN   \n",
       "50000  12 27 42.640  -00 35 49.02          LC           KLC  NaN   \n",
       "50001  12 27 42.915  -00 35 48.10          LC           KTL  NaN   \n",
       "\n",
       "                  ...             flux fraction cdpp3 cdpp6 cdpp12 Module  \\\n",
       "49997             ...                       NaN   NaN   NaN    NaN     14   \n",
       "49998             ...                     1.000   NaN   NaN    NaN     14   \n",
       "49999             ...                       NaN   NaN   NaN    NaN     14   \n",
       "50000             ...                     1.000   NaN   NaN    NaN     14   \n",
       "50001             ...                       NaN   NaN   NaN    NaN     14   \n",
       "\n",
       "      Output Channel Nearest Neighbor Nomad ID High-Level Science Products  \n",
       "49997      3      47              NaN      NaN                         NaN  \n",
       "49998      3      47              NaN      NaN                         NaN  \n",
       "49999      3      47              NaN      NaN                         NaN  \n",
       "50000      3      47              NaN      NaN                         NaN  \n",
       "50001      3      47              NaN      NaN                         NaN  \n",
       "\n",
       "[5 rows x 60 columns]"
      ]
     },
     "execution_count": 169,
     "metadata": {},
     "output_type": "execute_result"
    }
   ],
   "source": [
    "import pandas as pd\n",
    "df_all = pd.read_csv(\"../K2_Data/k2_search.txt\",low_memory=False )\n",
    "print(df_all.shape)\n",
    "df_all.tail()"
   ]
  },
  {
   "cell_type": "code",
   "execution_count": 170,
   "metadata": {
    "scrolled": true
   },
   "outputs": [
    {
     "data": {
      "text/html": [
       "<div>\n",
       "<style scoped>\n",
       "    .dataframe tbody tr th:only-of-type {\n",
       "        vertical-align: middle;\n",
       "    }\n",
       "\n",
       "    .dataframe tbody tr th {\n",
       "        vertical-align: top;\n",
       "    }\n",
       "\n",
       "    .dataframe thead th {\n",
       "        text-align: right;\n",
       "    }\n",
       "</style>\n",
       "<table border=\"1\" class=\"dataframe\">\n",
       "  <thead>\n",
       "    <tr style=\"text-align: right;\">\n",
       "      <th></th>\n",
       "      <th>K2 ID</th>\n",
       "      <th>Dataset Name</th>\n",
       "      <th>Campaign</th>\n",
       "      <th>Object type</th>\n",
       "      <th>Data Release</th>\n",
       "      <th>RA (J2000)</th>\n",
       "      <th>Dec (J2000)</th>\n",
       "      <th>Target Type</th>\n",
       "      <th>Archive Class</th>\n",
       "      <th>Ref</th>\n",
       "      <th>...</th>\n",
       "      <th>flux fraction</th>\n",
       "      <th>cdpp3</th>\n",
       "      <th>cdpp6</th>\n",
       "      <th>cdpp12</th>\n",
       "      <th>Module</th>\n",
       "      <th>Output</th>\n",
       "      <th>Channel</th>\n",
       "      <th>Nearest Neighbor</th>\n",
       "      <th>Nomad ID</th>\n",
       "      <th>High-Level Science Products</th>\n",
       "    </tr>\n",
       "  </thead>\n",
       "  <tbody>\n",
       "    <tr>\n",
       "      <th>155</th>\n",
       "      <td>200001049</td>\n",
       "      <td>KTWO200001049-C01</td>\n",
       "      <td>1</td>\n",
       "      <td>TNO.2002 GV31</td>\n",
       "      <td>32</td>\n",
       "      <td>11 28 39.201</td>\n",
       "      <td>+05 34 19.65</td>\n",
       "      <td>LC</td>\n",
       "      <td>KLC</td>\n",
       "      <td>1</td>\n",
       "      <td>...</td>\n",
       "      <td>1.000</td>\n",
       "      <td>NaN</td>\n",
       "      <td>NaN</td>\n",
       "      <td>NaN</td>\n",
       "      <td>19</td>\n",
       "      <td>1</td>\n",
       "      <td>65</td>\n",
       "      <td>NaN</td>\n",
       "      <td>NaN</td>\n",
       "      <td>8</td>\n",
       "    </tr>\n",
       "  </tbody>\n",
       "</table>\n",
       "<p>1 rows × 60 columns</p>\n",
       "</div>"
      ],
      "text/plain": [
       "         K2 ID       Dataset Name Campaign    Object type Data Release  \\\n",
       "155  200001049  KTWO200001049-C01        1  TNO.2002 GV31           32   \n",
       "\n",
       "       RA (J2000)   Dec (J2000) Target Type Archive Class Ref  \\\n",
       "155  11 28 39.201  +05 34 19.65          LC           KLC   1   \n",
       "\n",
       "                ...             flux fraction cdpp3 cdpp6 cdpp12 Module  \\\n",
       "155             ...                     1.000   NaN   NaN    NaN     19   \n",
       "\n",
       "    Output Channel Nearest Neighbor Nomad ID High-Level Science Products  \n",
       "155      1      65              NaN      NaN                           8  \n",
       "\n",
       "[1 rows x 60 columns]"
      ]
     },
     "execution_count": 170,
     "metadata": {},
     "output_type": "execute_result"
    }
   ],
   "source": [
    "df_all[df_all[\"K2 ID\"] == \"200001049\"]"
   ]
  },
  {
   "cell_type": "code",
   "execution_count": 10,
   "metadata": {
    "scrolled": true
   },
   "outputs": [
    {
     "data": {
      "text/plain": [
       "array(['substring', 'CLUSTER.M35', 'TNO.2002 GV31',\n",
       "       'TNO.(278361) 2007 JJ43', 'COMET.C/2013 A1 (Siding Springs)',\n",
       "       'CLUSTER.M4', 'CLUSTER.M80', 'TNO.(225088) 2007 OR10',\n",
       "       'PLANET.Neptune', 'TNO.(250112) 2002 KY14', 'STAR.Pleiades&Hyades',\n",
       "       'CLUSTER.M67', 'TNO.(126154) 2001 YH140', 'TROJAN.TROJAN (10989)',\n",
       "       'TROJAN.TROJAN (11251)', 'TROJAN.TROJAN (113224)',\n",
       "       'TROJAN.TROJAN (1143)', 'TROJAN.TROJAN (12238)',\n",
       "       'TROJAN.TROJAN (129602)', 'TROJAN.TROJAN (12974)',\n",
       "       'TROJAN.TROJAN (13184)', 'TROJAN.TROJAN (13185)',\n",
       "       'TROJAN.TROJAN (13331)', 'TROJAN.TROJAN (13366)',\n",
       "       'TROJAN.TROJAN (13372)', 'TROJAN.TROJAN (13379)',\n",
       "       'TROJAN.TROJAN (14690)', 'TROJAN.TROJAN (14791)',\n",
       "       'TROJAN.TROJAN (15529)', 'TROJAN.TROJAN (15626)',\n",
       "       'TROJAN.TROJAN (16152)', 'TROJAN.TROJAN (1749)',\n",
       "       'TROJAN.TROJAN (21593)', 'TROJAN.TROJAN (21599)',\n",
       "       'TROJAN.TROJAN (22056)', 'TROJAN.TROJAN (228102)',\n",
       "       'TROJAN.TROJAN (23939)', 'TROJAN.TROJAN (23947)',\n",
       "       'TROJAN.TROJAN (23958)', 'TROJAN.TROJAN (24357)',\n",
       "       'TROJAN.TROJAN (24534)', 'TROJAN.TROJAN (24537)',\n",
       "       'TROJAN.TROJAN (353363)', 'TROJAN.TROJAN (35363)',\n",
       "       'TROJAN.TROJAN (3655)', 'TROJAN.TROJAN (3801)',\n",
       "       'TROJAN.TROJAN (38574)', 'TROJAN.TROJAN (39270)',\n",
       "       'TROJAN.TROJAN (39286)', 'TROJAN.TROJAN (39289)',\n",
       "       'TROJAN.TROJAN (39301)', 'TROJAN.TROJAN (4035)',\n",
       "       'TROJAN.TROJAN (4057)', 'TROJAN.TROJAN (4138)',\n",
       "       'TROJAN.TROJAN (46302)', 'TROJAN.TROJAN (5028)',\n",
       "       'TROJAN.TROJAN (5123)', 'TROJAN.TROJAN (51930)',\n",
       "       'TROJAN.TROJAN (5244)', 'TROJAN.TROJAN (5436)',\n",
       "       'TROJAN.TROJAN (5652)', 'TROJAN.TROJAN (57041)',\n",
       "       'TROJAN.TROJAN (58480)', 'TROJAN.TROJAN (59049)',\n",
       "       'TROJAN.TROJAN (63239)', 'TROJAN.TROJAN (65210)',\n",
       "       'TROJAN.TROJAN (65223)', 'TROJAN.TROJAN (65227)',\n",
       "       'TROJAN.TROJAN (65240)', 'TROJAN.TROJAN (65257)',\n",
       "       'TROJAN.TROJAN (78159)', 'TROJAN.TROJAN (8241)',\n",
       "       'TROJAN.TROJAN (83984)', 'TROJAN.TROJAN (8550)',\n",
       "       'TROJAN.TROJAN (88227)', 'TROJAN.TROJAN (88241)',\n",
       "       'TROJAN.TROJAN (9807)', 'TROJAN.TROJAN (99276)',\n",
       "       'TROJAN.Trojan 2000 QG199', 'TROJAN.Trojan 2001 SM251',\n",
       "       'TROJAN.Trojan 2005 CB68', 'CLUSTER.Ruprecht 147', nan,\n",
       "       'TNO.Pluto', 'TNO.1998 SN165', 'TNO.1999 TJ90', 'TNO.1999 TS40',\n",
       "       'TNO.1999 VG135', 'TNO.2000 WC140', 'TNO.2001 QT322',\n",
       "       'TNO.2003 QW90', 'TNO.2005 RS43', 'TNO.2006 UB219',\n",
       "       'TNO.2007 RY194', 'MOON.Caliban', 'MOON.Prospero', 'MOON.Setebos',\n",
       "       'MOON.Sycorax', 'PLANET.Uranus', 'EXTENDED', 'TNO.Quaoar',\n",
       "       'ISM.Dark Clouds', 'STAR.Isolated', 'SURVEY.C9 Microlense',\n",
       "       'NEBULA.M8 Lagoon', 'DMT.OGLE-2016-BLG-0021',\n",
       "       'DMT.OGLE-2016-BLG-0022', 'DMT.OGLE-2016-BLG-0027',\n",
       "       'DMT.OGLE-2016-BLG-0037', 'DMT.OGLE-2016-BLG-0041',\n",
       "       'DMT.OGLE-2016-BLG-0052', 'DMT.OGLE-2016-BLG-0053',\n",
       "       'DMT.OGLE-2016-BLG-0056', 'DMT.OGLE-2016-BLG-0065',\n",
       "       'DMT.OGLE-2016-BLG-0066', 'DMT.OGLE-2016-BLG-0068',\n",
       "       'DMT.OGLE-2016-BLG-0077', 'DMT.OGLE-2016-BLG-0078',\n",
       "       'DMT.OGLE-2016-BLG-0079', 'DMT.OGLE-2016-BLG-0083',\n",
       "       'DMT.OGLE-2016-BLG-0086', 'DMT.OGLE-2016-BLG-0089',\n",
       "       'DMT.OGLE-2016-BLG-0091', 'DMT.OGLE-2016-BLG-0111',\n",
       "       'DMT.OGLE-2016-BLG-0114', 'DMT.OGLE-2016-BLG-0117',\n",
       "       'DMT.OGLE-2016-BLG-0119', 'DMT.OGLE-2016-BLG-0127',\n",
       "       'DMT.OGLE-2016-BLG-0129', 'DMT.OGLE-2016-BLG-0136',\n",
       "       'DMT.OGLE-2016-BLG-0141', 'DMT.OGLE-2016-BLG-0144',\n",
       "       'DMT.OGLE-2016-BLG-0193', 'DMT.OGLE-2016-BLG-0211',\n",
       "       'DMT.OGLE-2016-BLG-0230', 'DMT.OGLE-2016-BLG-0244',\n",
       "       'DMT.OGLE-2016-BLG-0082', 'DMT.OGLE-2015-BLG-2112',\n",
       "       'DMT.OGLE-2016-BLG-0122', 'DMT.MOA-2016-BLG-023',\n",
       "       'DMT.OGLE-2016-BLG-0324', 'DMT.OGLE-2016-BLG-0367',\n",
       "       'DMT.OGLE-2016-BLG-0401', 'DMT.OGLE-2016-BLG-0422',\n",
       "       'DMT.OGLE-2016-BLG-0445', 'DMT.OGLE-2016-BLG-0446',\n",
       "       'DMT.OGLE-2016-BLG-0476', 'DMT.OGLE-2016-BLG-0497',\n",
       "       'DMT.OGLE-2016-BLG-0500', 'DMT.OGLE-2016-BLG-0515',\n",
       "       'DMT.OGLE-2016-BLG-0531', 'DMT.OGLE-2016-BLG-0535',\n",
       "       'DMT.OGLE-2016-BLG-0570', 'DMT.OGLE-2016-BLG-0586',\n",
       "       'DMT.OGLE-2016-BLG-0620', 'DMT.OGLE-2016-BLG-0621',\n",
       "       'DMT.OGLE-2016-BLG-0651', 'DMT.OGLE-2016-BLG-0654',\n",
       "       'DMT.OGLE-2016-BLG-0679', 'DMT.OGLE-2016-BLG-0685',\n",
       "       'DMT.OGLE-2016-BLG-0691', 'DMT.OGLE-2016-BLG-0697',\n",
       "       'DMT.OGLE-2016-BLG-0720', 'DMT.OGLE-2016-BLG-0742',\n",
       "       'DMT.OGLE-2016-BLG-0746', 'DMT.OGLE-2016-BLG-0753',\n",
       "       'DMT.OGLE-2016-BLG-0759', 'DMT.MOA-2016-BLG-197',\n",
       "       'DMT.OGLE-2016-BLG-0483', 'DMT.OGLE-2016-BLG-0545',\n",
       "       'DMT.OGLE-2016-BLG-0313', 'DMT.OGLE-2016-BLG-0335',\n",
       "       'DMT.OGLE-2016-BLG-0463', 'DMT.OGLE-2016-BLG-0711',\n",
       "       'DMT.OGLE-2016-BLG-0728', 'DMT.OGLE-2016-BLG-0757',\n",
       "       'DMT.OGLE-2016-BLG-0118', 'Asteroid.Hilda.1988 RO12',\n",
       "       'Asteroid.Hilda.1989 VW', 'Asteroid.Hilda.1992 ET32',\n",
       "       'TNO.1999 DE9', 'Asteroid.Hilda.2000 DP99',\n",
       "       'Asteroid.Hilda.2000 DS8', 'Asteroid.Hilda.2000 DV76',\n",
       "       'TNO.2003 FC128'], dtype=object)"
      ]
     },
     "execution_count": 10,
     "metadata": {},
     "output_type": "execute_result"
    }
   ],
   "source": [
    "df_all[\"Object type\"].unique()"
   ]
  },
  {
   "cell_type": "code",
   "execution_count": 7,
   "metadata": {},
   "outputs": [
    {
     "data": {
      "text/html": [
       "<div>\n",
       "<style scoped>\n",
       "    .dataframe tbody tr th:only-of-type {\n",
       "        vertical-align: middle;\n",
       "    }\n",
       "\n",
       "    .dataframe tbody tr th {\n",
       "        vertical-align: top;\n",
       "    }\n",
       "\n",
       "    .dataframe thead th {\n",
       "        text-align: right;\n",
       "    }\n",
       "</style>\n",
       "<table border=\"1\" class=\"dataframe\">\n",
       "  <thead>\n",
       "    <tr style=\"text-align: right;\">\n",
       "      <th></th>\n",
       "      <th>K2 ID</th>\n",
       "      <th>Dataset Name</th>\n",
       "      <th>Campaign</th>\n",
       "      <th>Object type</th>\n",
       "      <th>Data Release</th>\n",
       "      <th>RA (J2000)</th>\n",
       "      <th>Dec (J2000)</th>\n",
       "      <th>Target Type</th>\n",
       "      <th>Archive Class</th>\n",
       "      <th>Ref</th>\n",
       "      <th>...</th>\n",
       "      <th>flux fraction</th>\n",
       "      <th>cdpp3</th>\n",
       "      <th>cdpp6</th>\n",
       "      <th>cdpp12</th>\n",
       "      <th>Module</th>\n",
       "      <th>Output</th>\n",
       "      <th>Channel</th>\n",
       "      <th>Nearest Neighbor</th>\n",
       "      <th>Nomad ID</th>\n",
       "      <th>High-Level Science Products</th>\n",
       "    </tr>\n",
       "  </thead>\n",
       "  <tbody>\n",
       "  </tbody>\n",
       "</table>\n",
       "<p>0 rows × 60 columns</p>\n",
       "</div>"
      ],
      "text/plain": [
       "Empty DataFrame\n",
       "Columns: [K2 ID, Dataset Name, Campaign, Object type, Data Release, RA (J2000), Dec (J2000), Target Type, Archive Class, Ref, Actual Start Time, Actual End Time, Investigation ID, RA PM, RA PM Err, Dec PM, Dec PM Err, Plx, Plx Err, U Mag, U Mag Err, B Mag, B Mag Err, V Mag, V Mag Err, G Mag, G Mag Err, R Mag, R Mag Err, I Mag, I Mag Err, Z Mag, Z Mag Err, J Mag, J Mag Err, H Mag, H Mag Err, K Mag, K Mag Err, KEP Mag, Kep Flag, Hip ID, Tyc ID, SDSS ID, UCAC ID, 2MASS ID, 2MASS Flag, Processing Date, crowding, contamination, flux fraction, cdpp3, cdpp6, cdpp12, Module, Output, Channel, Nearest Neighbor, Nomad ID, High-Level Science Products]\n",
       "Index: []\n",
       "\n",
       "[0 rows x 60 columns]"
      ]
     },
     "execution_count": 7,
     "metadata": {},
     "output_type": "execute_result"
    }
   ],
   "source": [
    "df_all[df_all[\"Object type\"] == \"STAR.Exoplanet\"]"
   ]
  },
  {
   "cell_type": "code",
   "execution_count": 139,
   "metadata": {},
   "outputs": [
    {
     "data": {
      "text/html": [
       "<div>\n",
       "<style scoped>\n",
       "    .dataframe tbody tr th:only-of-type {\n",
       "        vertical-align: middle;\n",
       "    }\n",
       "\n",
       "    .dataframe tbody tr th {\n",
       "        vertical-align: top;\n",
       "    }\n",
       "\n",
       "    .dataframe thead th {\n",
       "        text-align: right;\n",
       "    }\n",
       "</style>\n",
       "<table border=\"1\" class=\"dataframe\">\n",
       "  <thead>\n",
       "    <tr style=\"text-align: right;\">\n",
       "      <th></th>\n",
       "      <th>Row ID</th>\n",
       "      <th>K2 Name</th>\n",
       "      <th>K2 ID</th>\n",
       "      <th>Alt Name</th>\n",
       "      <th>RA (J2000)</th>\n",
       "      <th>RA Error</th>\n",
       "      <th>Dec (J2000)</th>\n",
       "      <th>Dec Error</th>\n",
       "      <th>Disc Method</th>\n",
       "      <th>Number of Planets</th>\n",
       "      <th>...</th>\n",
       "      <th>Stellar Teff Limit Flag</th>\n",
       "      <th># Stellar Teff Measurements</th>\n",
       "      <th># of Planet Notes</th>\n",
       "      <th>Last Update</th>\n",
       "      <th>Gaia gmag</th>\n",
       "      <th>Gaia gmag Err</th>\n",
       "      <th>Gaia gmag Limit Flag</th>\n",
       "      <th>Kepmag</th>\n",
       "      <th>K2 Campaign</th>\n",
       "      <th>Discovery Facility</th>\n",
       "    </tr>\n",
       "  </thead>\n",
       "  <tbody>\n",
       "    <tr>\n",
       "      <th>1</th>\n",
       "      <td>1</td>\n",
       "      <td>K2-1 b</td>\n",
       "      <td>60017806</td>\n",
       "      <td>WASP-28 b</td>\n",
       "      <td>23 34 27.876</td>\n",
       "      <td>0.0</td>\n",
       "      <td>-01 34 48.23</td>\n",
       "      <td>0.0</td>\n",
       "      <td>Transit</td>\n",
       "      <td>1</td>\n",
       "      <td>...</td>\n",
       "      <td>0</td>\n",
       "      <td>3</td>\n",
       "      <td>0</td>\n",
       "      <td>2015-03-05</td>\n",
       "      <td>NaN</td>\n",
       "      <td>NaN</td>\n",
       "      <td>NaN</td>\n",
       "      <td>11.500</td>\n",
       "      <td>E</td>\n",
       "      <td>SuperWASP</td>\n",
       "    </tr>\n",
       "    <tr>\n",
       "      <th>2</th>\n",
       "      <td>2</td>\n",
       "      <td>K2-2 b</td>\n",
       "      <td>60021410</td>\n",
       "      <td>HIP 116454 b</td>\n",
       "      <td>23 35 49.285</td>\n",
       "      <td>0.0</td>\n",
       "      <td>+00 26 43.86</td>\n",
       "      <td>0.0</td>\n",
       "      <td>Transit</td>\n",
       "      <td>1</td>\n",
       "      <td>...</td>\n",
       "      <td>0</td>\n",
       "      <td>2</td>\n",
       "      <td>0</td>\n",
       "      <td>2018-04-26</td>\n",
       "      <td>9.861</td>\n",
       "      <td>NaN</td>\n",
       "      <td>0</td>\n",
       "      <td>9.507</td>\n",
       "      <td>E</td>\n",
       "      <td>K2</td>\n",
       "    </tr>\n",
       "    <tr>\n",
       "      <th>3</th>\n",
       "      <td>3</td>\n",
       "      <td>K2-3 b</td>\n",
       "      <td>201367065</td>\n",
       "      <td>K2-3 b</td>\n",
       "      <td>11 29 20.387</td>\n",
       "      <td>0.0</td>\n",
       "      <td>-01 27 17.23</td>\n",
       "      <td>0.0</td>\n",
       "      <td>Transit</td>\n",
       "      <td>3</td>\n",
       "      <td>...</td>\n",
       "      <td>0</td>\n",
       "      <td>5</td>\n",
       "      <td>0</td>\n",
       "      <td>2016-07-07</td>\n",
       "      <td>NaN</td>\n",
       "      <td>NaN</td>\n",
       "      <td>NaN</td>\n",
       "      <td>11.574</td>\n",
       "      <td>1</td>\n",
       "      <td>K2</td>\n",
       "    </tr>\n",
       "    <tr>\n",
       "      <th>4</th>\n",
       "      <td>4</td>\n",
       "      <td>K2-3 c</td>\n",
       "      <td>201367065</td>\n",
       "      <td>K2-3 c</td>\n",
       "      <td>11 29 20.387</td>\n",
       "      <td>0.0</td>\n",
       "      <td>-01 27 17.23</td>\n",
       "      <td>0.0</td>\n",
       "      <td>Transit</td>\n",
       "      <td>3</td>\n",
       "      <td>...</td>\n",
       "      <td>0</td>\n",
       "      <td>5</td>\n",
       "      <td>1</td>\n",
       "      <td>2016-07-07</td>\n",
       "      <td>NaN</td>\n",
       "      <td>NaN</td>\n",
       "      <td>NaN</td>\n",
       "      <td>11.574</td>\n",
       "      <td>1</td>\n",
       "      <td>K2</td>\n",
       "    </tr>\n",
       "    <tr>\n",
       "      <th>5</th>\n",
       "      <td>5</td>\n",
       "      <td>K2-3 d</td>\n",
       "      <td>201367065</td>\n",
       "      <td>K2-3 d</td>\n",
       "      <td>11 29 20.387</td>\n",
       "      <td>0.0</td>\n",
       "      <td>-01 27 17.23</td>\n",
       "      <td>0.0</td>\n",
       "      <td>Transit</td>\n",
       "      <td>3</td>\n",
       "      <td>...</td>\n",
       "      <td>0</td>\n",
       "      <td>5</td>\n",
       "      <td>3</td>\n",
       "      <td>2016-07-07</td>\n",
       "      <td>NaN</td>\n",
       "      <td>NaN</td>\n",
       "      <td>NaN</td>\n",
       "      <td>11.574</td>\n",
       "      <td>1</td>\n",
       "      <td>K2</td>\n",
       "    </tr>\n",
       "  </tbody>\n",
       "</table>\n",
       "<p>5 rows × 80 columns</p>\n",
       "</div>"
      ],
      "text/plain": [
       "  Row ID K2 Name      K2 ID      Alt Name    RA (J2000) RA Error  \\\n",
       "1      1  K2-1 b   60017806     WASP-28 b  23 34 27.876      0.0   \n",
       "2      2  K2-2 b   60021410  HIP 116454 b  23 35 49.285      0.0   \n",
       "3      3  K2-3 b  201367065        K2-3 b  11 29 20.387      0.0   \n",
       "4      4  K2-3 c  201367065        K2-3 c  11 29 20.387      0.0   \n",
       "5      5  K2-3 d  201367065        K2-3 d  11 29 20.387      0.0   \n",
       "\n",
       "    Dec (J2000) Dec Error Disc Method Number of Planets        ...          \\\n",
       "1  -01 34 48.23       0.0     Transit                 1        ...           \n",
       "2  +00 26 43.86       0.0     Transit                 1        ...           \n",
       "3  -01 27 17.23       0.0     Transit                 3        ...           \n",
       "4  -01 27 17.23       0.0     Transit                 3        ...           \n",
       "5  -01 27 17.23       0.0     Transit                 3        ...           \n",
       "\n",
       "  Stellar Teff Limit Flag # Stellar Teff Measurements # of Planet Notes  \\\n",
       "1                       0                           3                 0   \n",
       "2                       0                           2                 0   \n",
       "3                       0                           5                 0   \n",
       "4                       0                           5                 1   \n",
       "5                       0                           5                 3   \n",
       "\n",
       "  Last Update Gaia gmag Gaia gmag Err Gaia gmag Limit Flag  Kepmag  \\\n",
       "1  2015-03-05       NaN           NaN                  NaN  11.500   \n",
       "2  2018-04-26     9.861           NaN                    0   9.507   \n",
       "3  2016-07-07       NaN           NaN                  NaN  11.574   \n",
       "4  2016-07-07       NaN           NaN                  NaN  11.574   \n",
       "5  2016-07-07       NaN           NaN                  NaN  11.574   \n",
       "\n",
       "  K2 Campaign Discovery Facility  \n",
       "1           E          SuperWASP  \n",
       "2           E                 K2  \n",
       "3           1                 K2  \n",
       "4           1                 K2  \n",
       "5           1                 K2  \n",
       "\n",
       "[5 rows x 80 columns]"
      ]
     },
     "execution_count": 139,
     "metadata": {},
     "output_type": "execute_result"
    }
   ],
   "source": [
    "df_planet = pd.read_csv(\"../K2_Data/k2_planets_search.txt\")\n",
    "df_planet.drop(0,axis=0, inplace=True)\n",
    "df_planet.head()"
   ]
  },
  {
   "cell_type": "code",
   "execution_count": 143,
   "metadata": {},
   "outputs": [
    {
     "data": {
      "text/plain": [
       "(182, 80)"
      ]
     },
     "execution_count": 143,
     "metadata": {},
     "output_type": "execute_result"
    }
   ],
   "source": [
    "one_pl = df_planet[ (df_planet[\"Number of Planets\"] ==\"1\" )& (df_planet[\"Discovery Facility\"] == \"K2\") ]\n",
    "one_pl.shape"
   ]
  },
  {
   "cell_type": "code",
   "execution_count": 14,
   "metadata": {},
   "outputs": [
    {
     "data": {
      "text/plain": [
       "(322, 80)"
      ]
     },
     "execution_count": 14,
     "metadata": {},
     "output_type": "execute_result"
    }
   ],
   "source": [
    "k2_planets = df_planet[df_planet[\"Discovery Facility\"] == \"K2\"]\n",
    "k2_planets.shape"
   ]
  },
  {
   "cell_type": "code",
   "execution_count": null,
   "metadata": {},
   "outputs": [],
   "source": []
  },
  {
   "cell_type": "code",
   "execution_count": null,
   "metadata": {},
   "outputs": [],
   "source": [
    "wget -q http://archive.stsci.edu/missions/hlsp/k2sff/c01/201100000/32630/hlsp_k2sff_k2_lightcurve_201132630-c01_kepler_v1_llc-default-aper.txt"
   ]
  },
  {
   "cell_type": "code",
   "execution_count": null,
   "metadata": {},
   "outputs": [],
   "source": [
    "df_planet"
   ]
  },
  {
   "cell_type": "code",
   "execution_count": null,
   "metadata": {},
   "outputs": [],
   "source": []
  },
  {
   "cell_type": "code",
   "execution_count": 149,
   "metadata": {
    "scrolled": true
   },
   "outputs": [
    {
     "name": "stdout",
     "output_type": "stream",
     "text": [
      "DEBUG [matplotlib.backends.pylab_setup()]: backend module://ipykernel.pylab.backend_inline version unknown\n",
      "INFO  [everest.user.DownloadFile()]: Found cached file.\n",
      "INFO  [everest.user.load_fits()]: Loading FITS file for 201367065.\n"
     ]
    }
   ],
   "source": [
    "%matplotlib inline\n",
    "import everest\n",
    "\n",
    "#https://rodluger.github.io/everest/fitsfiles.html\n",
    "star = everest.Everest(201367065)\n",
    "\n",
    "time = star.time\n",
    "lc_detr = star.flux #SAP\n",
    "lc_init = star.fraw #SAP\n",
    "\n",
    "\n",
    "fcor = star.fcor\n"
   ]
  },
  {
   "cell_type": "code",
   "execution_count": 151,
   "metadata": {},
   "outputs": [
    {
     "data": {
      "text/plain": [
       "array([4194313, 4194305, 4194305, ...,       0,       0,       0],\n",
       "      dtype=int32)"
      ]
     },
     "execution_count": 151,
     "metadata": {},
     "output_type": "execute_result"
    }
   ],
   "source": [
    "star.quality"
   ]
  },
  {
   "cell_type": "code",
   "execution_count": 150,
   "metadata": {
    "scrolled": true
   },
   "outputs": [
    {
     "data": {
      "text/plain": [
       "(array([], dtype=int64),)"
      ]
     },
     "execution_count": 150,
     "metadata": {},
     "output_type": "execute_result"
    }
   ],
   "source": [
    "inds"
   ]
  },
  {
   "cell_type": "code",
   "execution_count": 94,
   "metadata": {},
   "outputs": [],
   "source": [
    "import os, sys\n",
    "dirpath = os.getcwd().split(\"code\")[0]+\"code/\"\n",
    "sys.path.append(dirpath)\n",
    "from pre_process import clean_LC, median_view, mask_values,process_found, generate_representation"
   ]
  },
  {
   "cell_type": "code",
   "execution_count": null,
   "metadata": {},
   "outputs": [],
   "source": [
    "#lo de arriba ahora en funcion\n",
    "time_rep, lc_rep = generate_representation(df[\"HJD\"], df[\"FLUX2\"], sample_time=0, kepler_view=True)"
   ]
  },
  {
   "cell_type": "code",
   "execution_count": 106,
   "metadata": {
    "scrolled": true
   },
   "outputs": [
    {
     "name": "stderr",
     "output_type": "stream",
     "text": [
      "/users/fmena/.local/lib/python3.5/site-packages/scipy/signal/_arraytools.py:45: FutureWarning: Using a non-tuple sequence for multidimensional indexing is deprecated; use `arr[tuple(seq)]` instead of `arr[seq]`. In the future this will be interpreted as an array index, `arr[np.array(seq)]`, which will result either in an error or a different result.\n",
      "  b = a[a_slice]\n"
     ]
    },
    {
     "name": "stdout",
     "output_type": "stream",
     "text": [
      "Clean done (remove outliers iterativetly), erase 8 values\n"
     ]
    },
    {
     "name": "stderr",
     "output_type": "stream",
     "text": [
      "/users/fmena/PIIC19/code/pre_process.py:123: RuntimeWarning: invalid value encountered in less\n",
      "  mask_nan = (f_clean - med < -sigm_low * MAD) | (f_clean - med > sigm_up * MAD)\n",
      "/users/fmena/PIIC19/code/pre_process.py:123: RuntimeWarning: invalid value encountered in greater\n",
      "  mask_nan = (f_clean - med < -sigm_low * MAD) | (f_clean - med > sigm_up * MAD)\n"
     ]
    },
    {
     "data": {
      "text/plain": [
       "[<matplotlib.lines.Line2D at 0x7f665d3dc518>]"
      ]
     },
     "execution_count": 106,
     "metadata": {},
     "output_type": "execute_result"
    },
    {
     "data": {
      "image/png": "[encoded data removed]",
      "text/plain": [
       "<Figure size 432x288 with 1 Axes>"
      ]
     },
     "metadata": {},
     "output_type": "display_data"
    }
   ],
   "source": [
    "#DETREND AND MEDIAN FILTER\n",
    "flux_processed = clean_LC(lc_init,plot=False )\n",
    "plt.plot(flux_processed)"
   ]
  },
  {
   "cell_type": "code",
   "execution_count": 105,
   "metadata": {},
   "outputs": [
    {
     "data": {
      "text/plain": [
       "(-0.0005, 0.0005)"
      ]
     },
     "execution_count": 105,
     "metadata": {},
     "output_type": "execute_result"
    },
    {
     "data": {
      "image/png": "[encoded data removed]",
      "text/plain": [
       "<Figure size 432x288 with 1 Axes>"
      ]
     },
     "metadata": {},
     "output_type": "display_data"
    }
   ],
   "source": [
    "plt.plot(flux_processed)\n",
    "plt.ylim(-0.0005,0.0005)"
   ]
  },
  {
   "cell_type": "code",
   "execution_count": 159,
   "metadata": {},
   "outputs": [
    {
     "data": {
      "text/plain": [
       "[<matplotlib.lines.Line2D at 0x7f665a8ab048>]"
      ]
     },
     "execution_count": 159,
     "metadata": {},
     "output_type": "execute_result"
    },
    {
     "data": {
      "image/png": "[encoded data removed]",
      "text/plain": [
       "<Figure size 432x288 with 1 Axes>"
      ]
     },
     "metadata": {},
     "output_type": "display_data"
    }
   ],
   "source": [
    "plt.plot(time[inds],lc_detr[inds]) #<< necesita procesar"
   ]
  },
  {
   "cell_type": "code",
   "execution_count": 91,
   "metadata": {},
   "outputs": [
    {
     "data": {
      "text/plain": [
       "[<matplotlib.lines.Line2D at 0x7f6658638c50>]"
      ]
     },
     "execution_count": 91,
     "metadata": {},
     "output_type": "execute_result"
    },
    {
     "data": {
      "image/png": "[encoded data removed]",
      "text/plain": [
       "<Figure size 432x288 with 1 Axes>"
      ]
     },
     "metadata": {},
     "output_type": "display_data"
    }
   ],
   "source": [
    "plt.plot(time,lc_init) #<< necesita procesar"
   ]
  },
  {
   "cell_type": "code",
   "execution_count": null,
   "metadata": {},
   "outputs": [],
   "source": []
  },
  {
   "cell_type": "code",
   "execution_count": 107,
   "metadata": {},
   "outputs": [],
   "source": [
    "!wget -q http://archive.stsci.edu/missions/hlsp/k2sff/c01/201300000/67065/hlsp_k2sff_k2_lightcurve_201367065-c01_kepler_v1_llc-default-aper.txt"
   ]
  },
  {
   "cell_type": "code",
   "execution_count": 162,
   "metadata": {},
   "outputs": [],
   "source": [
    "!wget -q http://archive.stsci.edu/missions/hlsp/k2sff/c01/200000000/01049/hlsp_k2sff_k2_lightcurve_200001049-c01_kepler_v1_llc-default-aper.txt"
   ]
  },
  {
   "cell_type": "code",
   "execution_count": 111,
   "metadata": {},
   "outputs": [
    {
     "data": {
      "text/html": [
       "<div>\n",
       "<style scoped>\n",
       "    .dataframe tbody tr th:only-of-type {\n",
       "        vertical-align: middle;\n",
       "    }\n",
       "\n",
       "    .dataframe tbody tr th {\n",
       "        vertical-align: top;\n",
       "    }\n",
       "\n",
       "    .dataframe thead th {\n",
       "        text-align: right;\n",
       "    }\n",
       "</style>\n",
       "<table border=\"1\" class=\"dataframe\">\n",
       "  <thead>\n",
       "    <tr style=\"text-align: right;\">\n",
       "      <th></th>\n",
       "      <th>BJD - 2454833</th>\n",
       "      <th>Corrected Flux</th>\n",
       "    </tr>\n",
       "  </thead>\n",
       "  <tbody>\n",
       "    <tr>\n",
       "      <th>0</th>\n",
       "      <td>1977.262449</td>\n",
       "      <td>1.001520</td>\n",
       "    </tr>\n",
       "    <tr>\n",
       "      <th>1</th>\n",
       "      <td>1977.282882</td>\n",
       "      <td>1.001578</td>\n",
       "    </tr>\n",
       "    <tr>\n",
       "      <th>2</th>\n",
       "      <td>1977.303314</td>\n",
       "      <td>1.001476</td>\n",
       "    </tr>\n",
       "    <tr>\n",
       "      <th>3</th>\n",
       "      <td>1977.364611</td>\n",
       "      <td>1.001530</td>\n",
       "    </tr>\n",
       "    <tr>\n",
       "      <th>4</th>\n",
       "      <td>1977.385043</td>\n",
       "      <td>1.001688</td>\n",
       "    </tr>\n",
       "    <tr>\n",
       "      <th>5</th>\n",
       "      <td>1977.405475</td>\n",
       "      <td>1.001429</td>\n",
       "    </tr>\n",
       "    <tr>\n",
       "      <th>6</th>\n",
       "      <td>1977.425908</td>\n",
       "      <td>1.001482</td>\n",
       "    </tr>\n",
       "    <tr>\n",
       "      <th>7</th>\n",
       "      <td>1977.446340</td>\n",
       "      <td>1.001420</td>\n",
       "    </tr>\n",
       "    <tr>\n",
       "      <th>8</th>\n",
       "      <td>1977.466772</td>\n",
       "      <td>1.001434</td>\n",
       "    </tr>\n",
       "    <tr>\n",
       "      <th>9</th>\n",
       "      <td>1977.487204</td>\n",
       "      <td>1.001491</td>\n",
       "    </tr>\n",
       "    <tr>\n",
       "      <th>10</th>\n",
       "      <td>1977.507637</td>\n",
       "      <td>1.001528</td>\n",
       "    </tr>\n",
       "    <tr>\n",
       "      <th>11</th>\n",
       "      <td>1977.528069</td>\n",
       "      <td>1.001680</td>\n",
       "    </tr>\n",
       "    <tr>\n",
       "      <th>12</th>\n",
       "      <td>1977.548501</td>\n",
       "      <td>1.001620</td>\n",
       "    </tr>\n",
       "    <tr>\n",
       "      <th>13</th>\n",
       "      <td>1977.568933</td>\n",
       "      <td>1.001575</td>\n",
       "    </tr>\n",
       "    <tr>\n",
       "      <th>14</th>\n",
       "      <td>1977.589366</td>\n",
       "      <td>1.001516</td>\n",
       "    </tr>\n",
       "    <tr>\n",
       "      <th>15</th>\n",
       "      <td>1977.609798</td>\n",
       "      <td>1.001576</td>\n",
       "    </tr>\n",
       "    <tr>\n",
       "      <th>16</th>\n",
       "      <td>1977.630230</td>\n",
       "      <td>1.001455</td>\n",
       "    </tr>\n",
       "    <tr>\n",
       "      <th>17</th>\n",
       "      <td>1977.650662</td>\n",
       "      <td>1.001438</td>\n",
       "    </tr>\n",
       "    <tr>\n",
       "      <th>18</th>\n",
       "      <td>1977.671095</td>\n",
       "      <td>1.001492</td>\n",
       "    </tr>\n",
       "    <tr>\n",
       "      <th>19</th>\n",
       "      <td>1977.691527</td>\n",
       "      <td>1.001538</td>\n",
       "    </tr>\n",
       "    <tr>\n",
       "      <th>20</th>\n",
       "      <td>1977.711959</td>\n",
       "      <td>1.001445</td>\n",
       "    </tr>\n",
       "    <tr>\n",
       "      <th>21</th>\n",
       "      <td>1977.732392</td>\n",
       "      <td>1.001527</td>\n",
       "    </tr>\n",
       "    <tr>\n",
       "      <th>22</th>\n",
       "      <td>1977.752824</td>\n",
       "      <td>1.001495</td>\n",
       "    </tr>\n",
       "    <tr>\n",
       "      <th>23</th>\n",
       "      <td>1977.773256</td>\n",
       "      <td>1.001496</td>\n",
       "    </tr>\n",
       "    <tr>\n",
       "      <th>24</th>\n",
       "      <td>1977.793688</td>\n",
       "      <td>1.001361</td>\n",
       "    </tr>\n",
       "    <tr>\n",
       "      <th>25</th>\n",
       "      <td>1977.814121</td>\n",
       "      <td>1.001417</td>\n",
       "    </tr>\n",
       "    <tr>\n",
       "      <th>26</th>\n",
       "      <td>1977.834553</td>\n",
       "      <td>1.001312</td>\n",
       "    </tr>\n",
       "    <tr>\n",
       "      <th>27</th>\n",
       "      <td>1977.854985</td>\n",
       "      <td>1.001408</td>\n",
       "    </tr>\n",
       "    <tr>\n",
       "      <th>28</th>\n",
       "      <td>1977.875417</td>\n",
       "      <td>1.001295</td>\n",
       "    </tr>\n",
       "    <tr>\n",
       "      <th>29</th>\n",
       "      <td>1977.895850</td>\n",
       "      <td>1.001330</td>\n",
       "    </tr>\n",
       "    <tr>\n",
       "      <th>...</th>\n",
       "      <td>...</td>\n",
       "      <td>...</td>\n",
       "    </tr>\n",
       "    <tr>\n",
       "      <th>3307</th>\n",
       "      <td>2056.660499</td>\n",
       "      <td>1.000847</td>\n",
       "    </tr>\n",
       "    <tr>\n",
       "      <th>3308</th>\n",
       "      <td>2056.680931</td>\n",
       "      <td>1.001094</td>\n",
       "    </tr>\n",
       "    <tr>\n",
       "      <th>3309</th>\n",
       "      <td>2056.701363</td>\n",
       "      <td>1.000972</td>\n",
       "    </tr>\n",
       "    <tr>\n",
       "      <th>3310</th>\n",
       "      <td>2056.721795</td>\n",
       "      <td>1.000984</td>\n",
       "    </tr>\n",
       "    <tr>\n",
       "      <th>3311</th>\n",
       "      <td>2056.742226</td>\n",
       "      <td>1.001060</td>\n",
       "    </tr>\n",
       "    <tr>\n",
       "      <th>3312</th>\n",
       "      <td>2056.783090</td>\n",
       "      <td>1.001016</td>\n",
       "    </tr>\n",
       "    <tr>\n",
       "      <th>3313</th>\n",
       "      <td>2056.803522</td>\n",
       "      <td>1.000862</td>\n",
       "    </tr>\n",
       "    <tr>\n",
       "      <th>3314</th>\n",
       "      <td>2056.823954</td>\n",
       "      <td>1.001037</td>\n",
       "    </tr>\n",
       "    <tr>\n",
       "      <th>3315</th>\n",
       "      <td>2056.844386</td>\n",
       "      <td>1.000945</td>\n",
       "    </tr>\n",
       "    <tr>\n",
       "      <th>3316</th>\n",
       "      <td>2056.864818</td>\n",
       "      <td>1.001124</td>\n",
       "    </tr>\n",
       "    <tr>\n",
       "      <th>3317</th>\n",
       "      <td>2056.885250</td>\n",
       "      <td>1.000854</td>\n",
       "    </tr>\n",
       "    <tr>\n",
       "      <th>3318</th>\n",
       "      <td>2056.905682</td>\n",
       "      <td>1.001076</td>\n",
       "    </tr>\n",
       "    <tr>\n",
       "      <th>3319</th>\n",
       "      <td>2056.926114</td>\n",
       "      <td>1.001124</td>\n",
       "    </tr>\n",
       "    <tr>\n",
       "      <th>3320</th>\n",
       "      <td>2056.946545</td>\n",
       "      <td>1.001056</td>\n",
       "    </tr>\n",
       "    <tr>\n",
       "      <th>3321</th>\n",
       "      <td>2056.966977</td>\n",
       "      <td>1.000963</td>\n",
       "    </tr>\n",
       "    <tr>\n",
       "      <th>3322</th>\n",
       "      <td>2056.987409</td>\n",
       "      <td>1.000975</td>\n",
       "    </tr>\n",
       "    <tr>\n",
       "      <th>3323</th>\n",
       "      <td>2057.028273</td>\n",
       "      <td>1.000852</td>\n",
       "    </tr>\n",
       "    <tr>\n",
       "      <th>3324</th>\n",
       "      <td>2057.048705</td>\n",
       "      <td>1.000899</td>\n",
       "    </tr>\n",
       "    <tr>\n",
       "      <th>3325</th>\n",
       "      <td>2057.069137</td>\n",
       "      <td>1.001102</td>\n",
       "    </tr>\n",
       "    <tr>\n",
       "      <th>3326</th>\n",
       "      <td>2057.089568</td>\n",
       "      <td>1.000931</td>\n",
       "    </tr>\n",
       "    <tr>\n",
       "      <th>3327</th>\n",
       "      <td>2057.110000</td>\n",
       "      <td>1.001052</td>\n",
       "    </tr>\n",
       "    <tr>\n",
       "      <th>3328</th>\n",
       "      <td>2057.130432</td>\n",
       "      <td>1.001044</td>\n",
       "    </tr>\n",
       "    <tr>\n",
       "      <th>3329</th>\n",
       "      <td>2057.150864</td>\n",
       "      <td>1.001082</td>\n",
       "    </tr>\n",
       "    <tr>\n",
       "      <th>3330</th>\n",
       "      <td>2057.171296</td>\n",
       "      <td>1.001067</td>\n",
       "    </tr>\n",
       "    <tr>\n",
       "      <th>3331</th>\n",
       "      <td>2057.191728</td>\n",
       "      <td>1.001205</td>\n",
       "    </tr>\n",
       "    <tr>\n",
       "      <th>3332</th>\n",
       "      <td>2057.212160</td>\n",
       "      <td>1.001141</td>\n",
       "    </tr>\n",
       "    <tr>\n",
       "      <th>3333</th>\n",
       "      <td>2057.232592</td>\n",
       "      <td>1.001048</td>\n",
       "    </tr>\n",
       "    <tr>\n",
       "      <th>3334</th>\n",
       "      <td>2057.293887</td>\n",
       "      <td>1.000835</td>\n",
       "    </tr>\n",
       "    <tr>\n",
       "      <th>3335</th>\n",
       "      <td>2057.314319</td>\n",
       "      <td>1.000761</td>\n",
       "    </tr>\n",
       "    <tr>\n",
       "      <th>3336</th>\n",
       "      <td>2057.334751</td>\n",
       "      <td>1.000915</td>\n",
       "    </tr>\n",
       "  </tbody>\n",
       "</table>\n",
       "<p>3337 rows × 2 columns</p>\n",
       "</div>"
      ],
      "text/plain": [
       "      BJD - 2454833   Corrected Flux\n",
       "0       1977.262449         1.001520\n",
       "1       1977.282882         1.001578\n",
       "2       1977.303314         1.001476\n",
       "3       1977.364611         1.001530\n",
       "4       1977.385043         1.001688\n",
       "5       1977.405475         1.001429\n",
       "6       1977.425908         1.001482\n",
       "7       1977.446340         1.001420\n",
       "8       1977.466772         1.001434\n",
       "9       1977.487204         1.001491\n",
       "10      1977.507637         1.001528\n",
       "11      1977.528069         1.001680\n",
       "12      1977.548501         1.001620\n",
       "13      1977.568933         1.001575\n",
       "14      1977.589366         1.001516\n",
       "15      1977.609798         1.001576\n",
       "16      1977.630230         1.001455\n",
       "17      1977.650662         1.001438\n",
       "18      1977.671095         1.001492\n",
       "19      1977.691527         1.001538\n",
       "20      1977.711959         1.001445\n",
       "21      1977.732392         1.001527\n",
       "22      1977.752824         1.001495\n",
       "23      1977.773256         1.001496\n",
       "24      1977.793688         1.001361\n",
       "25      1977.814121         1.001417\n",
       "26      1977.834553         1.001312\n",
       "27      1977.854985         1.001408\n",
       "28      1977.875417         1.001295\n",
       "29      1977.895850         1.001330\n",
       "...             ...              ...\n",
       "3307    2056.660499         1.000847\n",
       "3308    2056.680931         1.001094\n",
       "3309    2056.701363         1.000972\n",
       "3310    2056.721795         1.000984\n",
       "3311    2056.742226         1.001060\n",
       "3312    2056.783090         1.001016\n",
       "3313    2056.803522         1.000862\n",
       "3314    2056.823954         1.001037\n",
       "3315    2056.844386         1.000945\n",
       "3316    2056.864818         1.001124\n",
       "3317    2056.885250         1.000854\n",
       "3318    2056.905682         1.001076\n",
       "3319    2056.926114         1.001124\n",
       "3320    2056.946545         1.001056\n",
       "3321    2056.966977         1.000963\n",
       "3322    2056.987409         1.000975\n",
       "3323    2057.028273         1.000852\n",
       "3324    2057.048705         1.000899\n",
       "3325    2057.069137         1.001102\n",
       "3326    2057.089568         1.000931\n",
       "3327    2057.110000         1.001052\n",
       "3328    2057.130432         1.001044\n",
       "3329    2057.150864         1.001082\n",
       "3330    2057.171296         1.001067\n",
       "3331    2057.191728         1.001205\n",
       "3332    2057.212160         1.001141\n",
       "3333    2057.232592         1.001048\n",
       "3334    2057.293887         1.000835\n",
       "3335    2057.314319         1.000761\n",
       "3336    2057.334751         1.000915\n",
       "\n",
       "[3337 rows x 2 columns]"
      ]
     },
     "execution_count": 111,
     "metadata": {},
     "output_type": "execute_result"
    }
   ],
   "source": [
    "aux = pd.read_csv(\"hlsp_k2sff_k2_lightcurve_201367065-c01_kepler_v1_llc-default-aper.txt\",index_col=False)\n",
    "aux"
   ]
  },
  {
   "cell_type": "code",
   "execution_count": 166,
   "metadata": {},
   "outputs": [
    {
     "data": {
      "text/html": [
       "<div>\n",
       "<style scoped>\n",
       "    .dataframe tbody tr th:only-of-type {\n",
       "        vertical-align: middle;\n",
       "    }\n",
       "\n",
       "    .dataframe tbody tr th {\n",
       "        vertical-align: top;\n",
       "    }\n",
       "\n",
       "    .dataframe thead th {\n",
       "        text-align: right;\n",
       "    }\n",
       "</style>\n",
       "<table border=\"1\" class=\"dataframe\">\n",
       "  <thead>\n",
       "    <tr style=\"text-align: right;\">\n",
       "      <th></th>\n",
       "      <th>BJD - 2454833</th>\n",
       "      <th>Corrected Flux</th>\n",
       "    </tr>\n",
       "  </thead>\n",
       "  <tbody>\n",
       "    <tr>\n",
       "      <th>0</th>\n",
       "      <td>1977.262244</td>\n",
       "      <td>0.797703</td>\n",
       "    </tr>\n",
       "    <tr>\n",
       "      <th>1</th>\n",
       "      <td>1977.282676</td>\n",
       "      <td>0.337489</td>\n",
       "    </tr>\n",
       "    <tr>\n",
       "      <th>2</th>\n",
       "      <td>1977.303108</td>\n",
       "      <td>1.070445</td>\n",
       "    </tr>\n",
       "    <tr>\n",
       "      <th>3</th>\n",
       "      <td>1977.364405</td>\n",
       "      <td>0.791782</td>\n",
       "    </tr>\n",
       "    <tr>\n",
       "      <th>4</th>\n",
       "      <td>1977.384837</td>\n",
       "      <td>1.093755</td>\n",
       "    </tr>\n",
       "    <tr>\n",
       "      <th>5</th>\n",
       "      <td>1977.405269</td>\n",
       "      <td>1.064029</td>\n",
       "    </tr>\n",
       "    <tr>\n",
       "      <th>6</th>\n",
       "      <td>1977.425702</td>\n",
       "      <td>1.329841</td>\n",
       "    </tr>\n",
       "    <tr>\n",
       "      <th>7</th>\n",
       "      <td>1977.446134</td>\n",
       "      <td>1.146246</td>\n",
       "    </tr>\n",
       "    <tr>\n",
       "      <th>8</th>\n",
       "      <td>1977.466566</td>\n",
       "      <td>0.958457</td>\n",
       "    </tr>\n",
       "    <tr>\n",
       "      <th>9</th>\n",
       "      <td>1977.507430</td>\n",
       "      <td>0.162724</td>\n",
       "    </tr>\n",
       "    <tr>\n",
       "      <th>10</th>\n",
       "      <td>1977.527863</td>\n",
       "      <td>0.431680</td>\n",
       "    </tr>\n",
       "    <tr>\n",
       "      <th>11</th>\n",
       "      <td>1977.548295</td>\n",
       "      <td>0.792394</td>\n",
       "    </tr>\n",
       "    <tr>\n",
       "      <th>12</th>\n",
       "      <td>1977.568727</td>\n",
       "      <td>1.151181</td>\n",
       "    </tr>\n",
       "    <tr>\n",
       "      <th>13</th>\n",
       "      <td>1977.589159</td>\n",
       "      <td>0.831747</td>\n",
       "    </tr>\n",
       "    <tr>\n",
       "      <th>14</th>\n",
       "      <td>1977.609591</td>\n",
       "      <td>1.218323</td>\n",
       "    </tr>\n",
       "    <tr>\n",
       "      <th>15</th>\n",
       "      <td>1977.630024</td>\n",
       "      <td>0.944077</td>\n",
       "    </tr>\n",
       "    <tr>\n",
       "      <th>16</th>\n",
       "      <td>1977.670888</td>\n",
       "      <td>0.946673</td>\n",
       "    </tr>\n",
       "    <tr>\n",
       "      <th>17</th>\n",
       "      <td>1977.711752</td>\n",
       "      <td>1.196333</td>\n",
       "    </tr>\n",
       "    <tr>\n",
       "      <th>18</th>\n",
       "      <td>1977.732184</td>\n",
       "      <td>0.425626</td>\n",
       "    </tr>\n",
       "    <tr>\n",
       "      <th>19</th>\n",
       "      <td>1977.752617</td>\n",
       "      <td>1.068124</td>\n",
       "    </tr>\n",
       "    <tr>\n",
       "      <th>20</th>\n",
       "      <td>1977.773049</td>\n",
       "      <td>0.809290</td>\n",
       "    </tr>\n",
       "    <tr>\n",
       "      <th>21</th>\n",
       "      <td>1977.793481</td>\n",
       "      <td>0.372134</td>\n",
       "    </tr>\n",
       "    <tr>\n",
       "      <th>22</th>\n",
       "      <td>1977.813913</td>\n",
       "      <td>0.458394</td>\n",
       "    </tr>\n",
       "    <tr>\n",
       "      <th>23</th>\n",
       "      <td>1977.834345</td>\n",
       "      <td>0.981489</td>\n",
       "    </tr>\n",
       "    <tr>\n",
       "      <th>24</th>\n",
       "      <td>1977.854778</td>\n",
       "      <td>-0.551311</td>\n",
       "    </tr>\n",
       "    <tr>\n",
       "      <th>25</th>\n",
       "      <td>1977.875210</td>\n",
       "      <td>0.734800</td>\n",
       "    </tr>\n",
       "    <tr>\n",
       "      <th>26</th>\n",
       "      <td>1977.895642</td>\n",
       "      <td>1.032596</td>\n",
       "    </tr>\n",
       "    <tr>\n",
       "      <th>27</th>\n",
       "      <td>1977.916074</td>\n",
       "      <td>0.746799</td>\n",
       "    </tr>\n",
       "    <tr>\n",
       "      <th>28</th>\n",
       "      <td>1977.936506</td>\n",
       "      <td>1.103838</td>\n",
       "    </tr>\n",
       "    <tr>\n",
       "      <th>29</th>\n",
       "      <td>1977.956938</td>\n",
       "      <td>0.651081</td>\n",
       "    </tr>\n",
       "    <tr>\n",
       "      <th>...</th>\n",
       "      <td>...</td>\n",
       "      <td>...</td>\n",
       "    </tr>\n",
       "    <tr>\n",
       "      <th>3143</th>\n",
       "      <td>2056.496767</td>\n",
       "      <td>0.019874</td>\n",
       "    </tr>\n",
       "    <tr>\n",
       "      <th>3144</th>\n",
       "      <td>2056.537631</td>\n",
       "      <td>1.013653</td>\n",
       "    </tr>\n",
       "    <tr>\n",
       "      <th>3145</th>\n",
       "      <td>2056.558063</td>\n",
       "      <td>0.421253</td>\n",
       "    </tr>\n",
       "    <tr>\n",
       "      <th>3146</th>\n",
       "      <td>2056.578495</td>\n",
       "      <td>0.552237</td>\n",
       "    </tr>\n",
       "    <tr>\n",
       "      <th>3147</th>\n",
       "      <td>2056.598927</td>\n",
       "      <td>0.544333</td>\n",
       "    </tr>\n",
       "    <tr>\n",
       "      <th>3148</th>\n",
       "      <td>2056.619359</td>\n",
       "      <td>0.801989</td>\n",
       "    </tr>\n",
       "    <tr>\n",
       "      <th>3149</th>\n",
       "      <td>2056.639791</td>\n",
       "      <td>0.668810</td>\n",
       "    </tr>\n",
       "    <tr>\n",
       "      <th>3150</th>\n",
       "      <td>2056.680654</td>\n",
       "      <td>0.970421</td>\n",
       "    </tr>\n",
       "    <tr>\n",
       "      <th>3151</th>\n",
       "      <td>2056.701086</td>\n",
       "      <td>0.588739</td>\n",
       "    </tr>\n",
       "    <tr>\n",
       "      <th>3152</th>\n",
       "      <td>2056.721518</td>\n",
       "      <td>-2.724505</td>\n",
       "    </tr>\n",
       "    <tr>\n",
       "      <th>3153</th>\n",
       "      <td>2056.741950</td>\n",
       "      <td>-0.477963</td>\n",
       "    </tr>\n",
       "    <tr>\n",
       "      <th>3154</th>\n",
       "      <td>2056.803246</td>\n",
       "      <td>0.539058</td>\n",
       "    </tr>\n",
       "    <tr>\n",
       "      <th>3155</th>\n",
       "      <td>2056.844110</td>\n",
       "      <td>0.843660</td>\n",
       "    </tr>\n",
       "    <tr>\n",
       "      <th>3156</th>\n",
       "      <td>2056.864542</td>\n",
       "      <td>0.122760</td>\n",
       "    </tr>\n",
       "    <tr>\n",
       "      <th>3157</th>\n",
       "      <td>2056.884974</td>\n",
       "      <td>0.143033</td>\n",
       "    </tr>\n",
       "    <tr>\n",
       "      <th>3158</th>\n",
       "      <td>2056.905406</td>\n",
       "      <td>0.557716</td>\n",
       "    </tr>\n",
       "    <tr>\n",
       "      <th>3159</th>\n",
       "      <td>2056.925838</td>\n",
       "      <td>-0.201536</td>\n",
       "    </tr>\n",
       "    <tr>\n",
       "      <th>3160</th>\n",
       "      <td>2056.946269</td>\n",
       "      <td>0.470959</td>\n",
       "    </tr>\n",
       "    <tr>\n",
       "      <th>3161</th>\n",
       "      <td>2056.987133</td>\n",
       "      <td>0.114869</td>\n",
       "    </tr>\n",
       "    <tr>\n",
       "      <th>3162</th>\n",
       "      <td>2057.048429</td>\n",
       "      <td>0.967352</td>\n",
       "    </tr>\n",
       "    <tr>\n",
       "      <th>3163</th>\n",
       "      <td>2057.068861</td>\n",
       "      <td>0.756497</td>\n",
       "    </tr>\n",
       "    <tr>\n",
       "      <th>3164</th>\n",
       "      <td>2057.089293</td>\n",
       "      <td>-0.793301</td>\n",
       "    </tr>\n",
       "    <tr>\n",
       "      <th>3165</th>\n",
       "      <td>2057.109725</td>\n",
       "      <td>0.795812</td>\n",
       "    </tr>\n",
       "    <tr>\n",
       "      <th>3166</th>\n",
       "      <td>2057.130157</td>\n",
       "      <td>0.827575</td>\n",
       "    </tr>\n",
       "    <tr>\n",
       "      <th>3167</th>\n",
       "      <td>2057.171021</td>\n",
       "      <td>0.168995</td>\n",
       "    </tr>\n",
       "    <tr>\n",
       "      <th>3168</th>\n",
       "      <td>2057.191452</td>\n",
       "      <td>0.237025</td>\n",
       "    </tr>\n",
       "    <tr>\n",
       "      <th>3169</th>\n",
       "      <td>2057.211884</td>\n",
       "      <td>0.655039</td>\n",
       "    </tr>\n",
       "    <tr>\n",
       "      <th>3170</th>\n",
       "      <td>2057.293612</td>\n",
       "      <td>0.384001</td>\n",
       "    </tr>\n",
       "    <tr>\n",
       "      <th>3171</th>\n",
       "      <td>2057.314044</td>\n",
       "      <td>0.179198</td>\n",
       "    </tr>\n",
       "    <tr>\n",
       "      <th>3172</th>\n",
       "      <td>2057.334476</td>\n",
       "      <td>0.430394</td>\n",
       "    </tr>\n",
       "  </tbody>\n",
       "</table>\n",
       "<p>3173 rows × 2 columns</p>\n",
       "</div>"
      ],
      "text/plain": [
       "      BJD - 2454833   Corrected Flux\n",
       "0       1977.262244         0.797703\n",
       "1       1977.282676         0.337489\n",
       "2       1977.303108         1.070445\n",
       "3       1977.364405         0.791782\n",
       "4       1977.384837         1.093755\n",
       "5       1977.405269         1.064029\n",
       "6       1977.425702         1.329841\n",
       "7       1977.446134         1.146246\n",
       "8       1977.466566         0.958457\n",
       "9       1977.507430         0.162724\n",
       "10      1977.527863         0.431680\n",
       "11      1977.548295         0.792394\n",
       "12      1977.568727         1.151181\n",
       "13      1977.589159         0.831747\n",
       "14      1977.609591         1.218323\n",
       "15      1977.630024         0.944077\n",
       "16      1977.670888         0.946673\n",
       "17      1977.711752         1.196333\n",
       "18      1977.732184         0.425626\n",
       "19      1977.752617         1.068124\n",
       "20      1977.773049         0.809290\n",
       "21      1977.793481         0.372134\n",
       "22      1977.813913         0.458394\n",
       "23      1977.834345         0.981489\n",
       "24      1977.854778        -0.551311\n",
       "25      1977.875210         0.734800\n",
       "26      1977.895642         1.032596\n",
       "27      1977.916074         0.746799\n",
       "28      1977.936506         1.103838\n",
       "29      1977.956938         0.651081\n",
       "...             ...              ...\n",
       "3143    2056.496767         0.019874\n",
       "3144    2056.537631         1.013653\n",
       "3145    2056.558063         0.421253\n",
       "3146    2056.578495         0.552237\n",
       "3147    2056.598927         0.544333\n",
       "3148    2056.619359         0.801989\n",
       "3149    2056.639791         0.668810\n",
       "3150    2056.680654         0.970421\n",
       "3151    2056.701086         0.588739\n",
       "3152    2056.721518        -2.724505\n",
       "3153    2056.741950        -0.477963\n",
       "3154    2056.803246         0.539058\n",
       "3155    2056.844110         0.843660\n",
       "3156    2056.864542         0.122760\n",
       "3157    2056.884974         0.143033\n",
       "3158    2056.905406         0.557716\n",
       "3159    2056.925838        -0.201536\n",
       "3160    2056.946269         0.470959\n",
       "3161    2056.987133         0.114869\n",
       "3162    2057.048429         0.967352\n",
       "3163    2057.068861         0.756497\n",
       "3164    2057.089293        -0.793301\n",
       "3165    2057.109725         0.795812\n",
       "3166    2057.130157         0.827575\n",
       "3167    2057.171021         0.168995\n",
       "3168    2057.191452         0.237025\n",
       "3169    2057.211884         0.655039\n",
       "3170    2057.293612         0.384001\n",
       "3171    2057.314044         0.179198\n",
       "3172    2057.334476         0.430394\n",
       "\n",
       "[3173 rows x 2 columns]"
      ]
     },
     "execution_count": 166,
     "metadata": {},
     "output_type": "execute_result"
    }
   ],
   "source": [
    "algo = pd.read_csv(\"hlsp_k2sff_k2_lightcurve_200001049-c01_kepler_v1_llc-default-aper.txt\", index_col=False)\n",
    "algo"
   ]
  },
  {
   "cell_type": "code",
   "execution_count": 114,
   "metadata": {},
   "outputs": [
    {
     "data": {
      "text/plain": [
       "[<matplotlib.lines.Line2D at 0x7f6655c9a0f0>]"
      ]
     },
     "execution_count": 114,
     "metadata": {},
     "output_type": "execute_result"
    },
    {
     "data": {
      "image/png": "[encoded data removed]",
      "text/plain": [
       "<Figure size 432x288 with 1 Axes>"
      ]
     },
     "metadata": {},
     "output_type": "display_data"
    }
   ],
   "source": [
    "plt.plot(aux[\" Corrected Flux\"])"
   ]
  },
  {
   "cell_type": "code",
   "execution_count": 167,
   "metadata": {},
   "outputs": [
    {
     "data": {
      "text/plain": [
       "[<matplotlib.lines.Line2D at 0x7f665fdd0a90>]"
      ]
     },
     "execution_count": 167,
     "metadata": {},
     "output_type": "execute_result"
    },
    {
     "data": {
      "image/png": "[encoded data removed]",
      "text/plain": [
       "<Figure size 432x288 with 1 Axes>"
      ]
     },
     "metadata": {},
     "output_type": "display_data"
    }
   ],
   "source": [
    "plt.plot(algo[\" Corrected Flux\"])"
   ]
  },
  {
   "cell_type": "code",
   "execution_count": 137,
   "metadata": {},
   "outputs": [
    {
     "name": "stderr",
     "output_type": "stream",
     "text": [
      "/users/fmena/.local/lib/python3.5/site-packages/scipy/signal/_arraytools.py:45: FutureWarning: Using a non-tuple sequence for multidimensional indexing is deprecated; use `arr[tuple(seq)]` instead of `arr[seq]`. In the future this will be interpreted as an array index, `arr[np.array(seq)]`, which will result either in an error or a different result.\n",
      "  b = a[a_slice]\n"
     ]
    },
    {
     "name": "stdout",
     "output_type": "stream",
     "text": [
      "Clean done (remove outliers iterativetly), erase 1 values\n"
     ]
    },
    {
     "name": "stderr",
     "output_type": "stream",
     "text": [
      "/users/fmena/PIIC19/code/pre_process.py:123: RuntimeWarning: invalid value encountered in less\n",
      "  mask_nan = (f_clean - med < -sigm_low * MAD) | (f_clean - med > sigm_up * MAD)\n",
      "/users/fmena/PIIC19/code/pre_process.py:123: RuntimeWarning: invalid value encountered in greater\n",
      "  mask_nan = (f_clean - med < -sigm_low * MAD) | (f_clean - med > sigm_up * MAD)\n"
     ]
    },
    {
     "data": {
      "text/plain": [
       "[<matplotlib.lines.Line2D at 0x7f6668826f28>]"
      ]
     },
     "execution_count": 137,
     "metadata": {},
     "output_type": "execute_result"
    },
    {
     "data": {
      "image/png": "[encoded data removed]",
      "text/plain": [
       "<Figure size 432x288 with 1 Axes>"
      ]
     },
     "metadata": {},
     "output_type": "display_data"
    }
   ],
   "source": [
    "plt.plot(clean_LC(aux[\" Corrected Flux\"],plot=False))"
   ]
  },
  {
   "cell_type": "code",
   "execution_count": 165,
   "metadata": {},
   "outputs": [
    {
     "name": "stderr",
     "output_type": "stream",
     "text": [
      "/users/fmena/.local/lib/python3.5/site-packages/scipy/signal/_arraytools.py:45: FutureWarning: Using a non-tuple sequence for multidimensional indexing is deprecated; use `arr[tuple(seq)]` instead of `arr[seq]`. In the future this will be interpreted as an array index, `arr[np.array(seq)]`, which will result either in an error or a different result.\n",
      "  b = a[a_slice]\n"
     ]
    },
    {
     "name": "stdout",
     "output_type": "stream",
     "text": [
      "Clean done (remove outliers iterativetly), erase 1 values\n"
     ]
    },
    {
     "name": "stderr",
     "output_type": "stream",
     "text": [
      "/users/fmena/PIIC19/code/pre_process.py:123: RuntimeWarning: invalid value encountered in less\n",
      "  mask_nan = (f_clean - med < -sigm_low * MAD) | (f_clean - med > sigm_up * MAD)\n",
      "/users/fmena/PIIC19/code/pre_process.py:123: RuntimeWarning: invalid value encountered in greater\n",
      "  mask_nan = (f_clean - med < -sigm_low * MAD) | (f_clean - med > sigm_up * MAD)\n"
     ]
    },
    {
     "data": {
      "text/plain": [
       "[<matplotlib.lines.Line2D at 0x7f665fceee48>]"
      ]
     },
     "execution_count": 165,
     "metadata": {},
     "output_type": "execute_result"
    },
    {
     "data": {
      "image/png": "[encoded data removed]",
      "text/plain": [
       "<Figure size 432x288 with 1 Axes>"
      ]
     },
     "metadata": {},
     "output_type": "display_data"
    }
   ],
   "source": [
    "plt.plot(clean_LC(algo[\" Corrected Flux\"],plot=False))"
   ]
  },
  {
   "cell_type": "code",
   "execution_count": null,
   "metadata": {},
   "outputs": [],
   "source": []
  },
  {
   "cell_type": "code",
   "execution_count": 49,
   "metadata": {},
   "outputs": [
    {
     "name": "stdout",
     "output_type": "stream",
     "text": [
      "--2019-06-30 22:35:01--  https://archive.stsci.edu/hlsps/k2sff/c01/201300000/67065/hlsp_k2sff_k2_lightcurve_201367065-c01_kepler_v1_llc.fits\n",
      "Resolving archive.stsci.edu (archive.stsci.edu)... 130.167.252.39\n",
      "Connecting to archive.stsci.edu (archive.stsci.edu)|130.167.252.39|:443... connected.\n",
      "HTTP request sent, awaiting response... 200 OK\n",
      "Length: 3372480 (3,2M) [image/fits]\n",
      "Saving to: ‘hlsp_k2sff_k2_lightcurve_201367065-c01_kepler_v1_llc.fits’\n",
      "\n",
      "100%[======================================>] 3.372.480   3,38MB/s   in 1,0s   \n",
      "\n",
      "2019-06-30 22:35:03 (3,38 MB/s) - ‘hlsp_k2sff_k2_lightcurve_201367065-c01_kepler_v1_llc.fits’ saved [3372480/3372480]\n",
      "\n"
     ]
    }
   ],
   "source": [
    "!wget https://archive.stsci.edu/hlsps/k2sff/c01/201300000/67065/hlsp_k2sff_k2_lightcurve_201367065-c01_kepler_v1_llc.fits"
   ]
  },
  {
   "cell_type": "code",
   "execution_count": 50,
   "metadata": {},
   "outputs": [
    {
     "name": "stdout",
     "output_type": "stream",
     "text": [
      "Filename: hlsp_k2sff_k2_lightcurve_201367065-c01_kepler_v1_llc.fits\n",
      "No.    Name      Ver    Type      Cards   Dimensions   Format\n",
      "  0  PRIMARY       1 PrimaryHDU      25   ()      \n",
      "  1  BESTAPER      1 BinTableHDU    239   3632R x 6C   [D, D, D, D, I, J]   \n",
      "  2  CIRC_APER0    1 BinTableHDU    239   3632R x 6C   [D, D, D, D, I, J]   \n",
      "  3  CIRC_APER1    1 BinTableHDU    239   3632R x 6C   [D, D, D, D, I, J]   \n",
      "  4  CIRC_APER2    1 BinTableHDU    239   3632R x 6C   [D, D, D, D, I, J]   \n",
      "  5  CIRC_APER3    1 BinTableHDU    239   3632R x 6C   [D, D, D, D, I, J]   \n",
      "  6  CIRC_APER4    1 BinTableHDU    239   3632R x 6C   [D, D, D, D, I, J]   \n",
      "  7  CIRC_APER5    1 BinTableHDU    239   3632R x 6C   [D, D, D, D, I, J]   \n",
      "  8  CIRC_APER6    1 BinTableHDU    239   3632R x 6C   [D, D, D, D, I, J]   \n",
      "  9  CIRC_APER7    1 BinTableHDU    239   3632R x 6C   [D, D, D, D, I, J]   \n",
      " 10  CIRC_APER8    1 BinTableHDU    239   3632R x 6C   [D, D, D, D, I, J]   \n",
      " 11  CIRC_APER9    1 BinTableHDU    239   3632R x 6C   [D, D, D, D, I, J]   \n",
      " 12  PRF_APER0     1 BinTableHDU    239   3632R x 6C   [D, D, D, D, I, J]   \n",
      " 13  PRF_APER1     1 BinTableHDU    239   3632R x 6C   [D, D, D, D, I, J]   \n",
      " 14  PRF_APER2     1 BinTableHDU    239   3632R x 6C   [D, D, D, D, I, J]   \n",
      " 15  PRF_APER3     1 BinTableHDU    239   3632R x 6C   [D, D, D, D, I, J]   \n",
      " 16  PRF_APER4     1 BinTableHDU    239   3632R x 6C   [D, D, D, D, I, J]   \n",
      " 17  PRF_APER5     1 BinTableHDU    239   3632R x 6C   [D, D, D, D, I, J]   \n",
      " 18  PRF_APER6     1 BinTableHDU    239   3632R x 6C   [D, D, D, D, I, J]   \n",
      " 19  PRF_APER7     1 BinTableHDU    239   3632R x 6C   [D, D, D, D, I, J]   \n",
      " 20  PRF_APER8     1 BinTableHDU    239   3632R x 6C   [D, D, D, D, I, J]   \n",
      " 21  PRF_APER9     1 BinTableHDU    239   3632R x 6C   [D, D, D, D, I, J]   \n",
      " 22  CIRC_APER_TBL    1 ImageHDU        46   (18, 16, 10)   float32   \n",
      " 23  PRF_APER_TBL    1 ImageHDU        46   (18, 16, 10)   float32   \n",
      " 24  STACKED_IMG    1 ImageHDU        44   (18, 16)   float64   \n"
     ]
    }
   ],
   "source": [
    "from astropy.io import fits\n",
    "\n",
    "hdulist = fits.open(\"hlsp_k2sff_k2_lightcurve_201367065-c01_kepler_v1_llc.fits\")\n",
    "\n",
    "hdulist.info()\n"
   ]
  },
  {
   "cell_type": "code",
   "execution_count": 48,
   "metadata": {
    "scrolled": true
   },
   "outputs": [
    {
     "data": {
      "text/plain": [
       "XTENSION= 'IMAGE   '           / Image extension                                \n",
       "BITPIX  =                   64 / array data type                                \n",
       "NAXIS   =                    2 / number of array dimensions                     \n",
       "NAXIS1  =                   18                                                  \n",
       "NAXIS2  =                   16                                                  \n",
       "PCOUNT  =                    0 / number of parameters                           \n",
       "GCOUNT  =                    1 / number of groups                               \n",
       "COMMENT ************************                                                \n",
       "COMMENT *     MISSION INFO     *                                                \n",
       "COMMENT ************************                                                \n",
       "TELESCOP= 'Kepler  '           / telescope                                      \n",
       "INSTRUME= 'Kepler Photometer'  / detector type                                  \n",
       "OBJECT  = 'EPIC 201367065'     / string version of target id                    \n",
       "KEPLERID=            201367065 / unique Kepler target identifier                \n",
       "RADESYS = 'ICRS    '           / reference frame of celestial coordinates       \n",
       "RA_OBJ  =           172.334955 / [deg] right ascension                          \n",
       "DEC_OBJ =            -1.454787 / [deg] declination                              \n",
       "EQUINOX =               2000.0 / equinox of celestial coordinate system         \n",
       "WCSAXES =                    2 / number of WCS axes                             \n",
       "CTYPE1  = 'RA---TAN'           / right ascension coordinate type                \n",
       "CTYPE2  = 'DEC--TAN'           / declination coordinate type                    \n",
       "CRPIX1  =    9.578400523830851 / [pixel] reference pixel along image axis 1     \n",
       "CRPIX2  =    8.418141083820615 / [pixel] reference pixel along image axis 2     \n",
       "CRVAL1  =           172.334955 / [deg] right ascension at reference pixel       \n",
       "CRVAL2  =            -1.454787 / [deg] declination at reference pixel           \n",
       "CUNIT1  = 'deg     '           / physical unit in column dimension              \n",
       "CUNIT2  = 'deg     '           / physical unit in row dimension                 \n",
       "CDELT1  =   -0.001104141330658 / [deg] pixel scale in RA dimension              \n",
       "CDELT2  = 0.001104141330658244 / [deg] pixel scale in Dec dimension             \n",
       "PC1_1   =  -0.9860272487861899 / linear transformation element cos(th)          \n",
       "PC1_2   =  -0.1633974484504813 / linear transformation element -sin(th)         \n",
       "PC2_1   =  -0.1635673651158496 / linear transformation element sin(th)          \n",
       "PC2_2   =   0.9870655309865036 / linear transformation element cos(th)          \n",
       "WCSNAMEP= 'PHYSICAL'           / name of world coordinate system alternate P    \n",
       "WCSAXESP=                    2 / number of WCS physical axes                    \n",
       "CTYPE1P = 'RAWX    '           / physical WCS axis 1 type CCD col               \n",
       "CUNIT1P = 'PIXEL   '           / physical WCS axis 1 unit                       \n",
       "CRPIX1P =                    1 / reference CCD column                           \n",
       "CRVAL1P =                   95 / value at reference CCD column                  \n",
       "CDELT1P =                  1.0 / physical WCS axis 1 step                       \n",
       "CTYPE2P = 'RAWY    '           / physical WCS axis 2 type CCD row               \n",
       "CUNIT2P = 'PIXEL   '           / physical WCS axis 2 units                      \n",
       "CRPIX2P =                    1 / reference CCD row                              \n",
       "CRVAL2P =                  862 / value at reference CCD row                     \n",
       "CDELT2P =                  1.0 / physical WCS axis 2 step                       \n",
       "NPIXSAP =                   11 / Number of pixels in optimal aperture           \n",
       "NPIXMISS=                    0 / Number of op. aperture pixels not collected    \n",
       "COMMENT ************************                                                \n",
       "COMMENT *     EVEREST INFO     *                                                \n",
       "COMMENT ************************                                                \n",
       "MISSION = 'k2      '           / Mission name                                   \n",
       "VERSION = '2.0     '           / EVEREST pipeline version                       \n",
       "DATE    = '2017-01-06'         / EVEREST file creation date (YYYY-MM-DD)        \n",
       "EXTNAME = 'APERTURE MASK'      / extension name                                 "
      ]
     },
     "execution_count": 48,
     "metadata": {},
     "output_type": "execute_result"
    }
   ],
   "source": [
    "hdulist[3].header"
   ]
  },
  {
   "cell_type": "code",
   "execution_count": 43,
   "metadata": {
    "scrolled": true
   },
   "outputs": [
    {
     "ename": "ValueError",
     "evalue": "setting an array element with a sequence.",
     "output_type": "error",
     "traceback": [
      "\u001b[0;31m---------------------------------------------------------------------------\u001b[0m",
      "\u001b[0;31mValueError\u001b[0m                                Traceback (most recent call last)",
      "\u001b[0;32m<ipython-input-43-7c2d8fabb8bf>\u001b[0m in \u001b[0;36m<module>\u001b[0;34m()\u001b[0m\n\u001b[0;32m----> 1\u001b[0;31m \u001b[0mplt\u001b[0m\u001b[0;34m.\u001b[0m\u001b[0mplot\u001b[0m\u001b[0;34m(\u001b[0m\u001b[0mhdulist\u001b[0m\u001b[0;34m[\u001b[0m\u001b[0;36m2\u001b[0m\u001b[0;34m]\u001b[0m\u001b[0;34m.\u001b[0m\u001b[0mdata\u001b[0m\u001b[0;34m[\u001b[0m\u001b[0;36m0\u001b[0m\u001b[0;34m]\u001b[0m\u001b[0;34m)\u001b[0m\u001b[0;34m\u001b[0m\u001b[0m\n\u001b[0m",
      "\u001b[0;32m~/anaconda3/envs/tesis/lib/python3.5/site-packages/matplotlib/pyplot.py\u001b[0m in \u001b[0;36mplot\u001b[0;34m(*args, **kwargs)\u001b[0m\n\u001b[1;32m   3356\u001b[0m                       mplDeprecation)\n\u001b[1;32m   3357\u001b[0m     \u001b[0;32mtry\u001b[0m\u001b[0;34m:\u001b[0m\u001b[0;34m\u001b[0m\u001b[0m\n\u001b[0;32m-> 3358\u001b[0;31m         \u001b[0mret\u001b[0m \u001b[0;34m=\u001b[0m \u001b[0max\u001b[0m\u001b[0;34m.\u001b[0m\u001b[0mplot\u001b[0m\u001b[0;34m(\u001b[0m\u001b[0;34m*\u001b[0m\u001b[0margs\u001b[0m\u001b[0;34m,\u001b[0m \u001b[0;34m**\u001b[0m\u001b[0mkwargs\u001b[0m\u001b[0;34m)\u001b[0m\u001b[0;34m\u001b[0m\u001b[0m\n\u001b[0m\u001b[1;32m   3359\u001b[0m     \u001b[0;32mfinally\u001b[0m\u001b[0;34m:\u001b[0m\u001b[0;34m\u001b[0m\u001b[0m\n\u001b[1;32m   3360\u001b[0m         \u001b[0max\u001b[0m\u001b[0;34m.\u001b[0m\u001b[0m_hold\u001b[0m \u001b[0;34m=\u001b[0m \u001b[0mwashold\u001b[0m\u001b[0;34m\u001b[0m\u001b[0m\n",
      "\u001b[0;32m~/anaconda3/envs/tesis/lib/python3.5/site-packages/matplotlib/__init__.py\u001b[0m in \u001b[0;36minner\u001b[0;34m(ax, *args, **kwargs)\u001b[0m\n\u001b[1;32m   1853\u001b[0m                         \u001b[0;34m\"the Matplotlib list!)\"\u001b[0m \u001b[0;34m%\u001b[0m \u001b[0;34m(\u001b[0m\u001b[0mlabel_namer\u001b[0m\u001b[0;34m,\u001b[0m \u001b[0mfunc\u001b[0m\u001b[0;34m.\u001b[0m\u001b[0m__name__\u001b[0m\u001b[0;34m)\u001b[0m\u001b[0;34m,\u001b[0m\u001b[0;34m\u001b[0m\u001b[0m\n\u001b[1;32m   1854\u001b[0m                         RuntimeWarning, stacklevel=2)\n\u001b[0;32m-> 1855\u001b[0;31m             \u001b[0;32mreturn\u001b[0m \u001b[0mfunc\u001b[0m\u001b[0;34m(\u001b[0m\u001b[0max\u001b[0m\u001b[0;34m,\u001b[0m \u001b[0;34m*\u001b[0m\u001b[0margs\u001b[0m\u001b[0;34m,\u001b[0m \u001b[0;34m**\u001b[0m\u001b[0mkwargs\u001b[0m\u001b[0;34m)\u001b[0m\u001b[0;34m\u001b[0m\u001b[0m\n\u001b[0m\u001b[1;32m   1856\u001b[0m \u001b[0;34m\u001b[0m\u001b[0m\n\u001b[1;32m   1857\u001b[0m         inner.__doc__ = _add_data_doc(inner.__doc__,\n",
      "\u001b[0;32m~/anaconda3/envs/tesis/lib/python3.5/site-packages/matplotlib/axes/_axes.py\u001b[0m in \u001b[0;36mplot\u001b[0;34m(self, *args, **kwargs)\u001b[0m\n\u001b[1;32m   1526\u001b[0m \u001b[0;34m\u001b[0m\u001b[0m\n\u001b[1;32m   1527\u001b[0m         \u001b[0;32mfor\u001b[0m \u001b[0mline\u001b[0m \u001b[0;32min\u001b[0m \u001b[0mself\u001b[0m\u001b[0;34m.\u001b[0m\u001b[0m_get_lines\u001b[0m\u001b[0;34m(\u001b[0m\u001b[0;34m*\u001b[0m\u001b[0margs\u001b[0m\u001b[0;34m,\u001b[0m \u001b[0;34m**\u001b[0m\u001b[0mkwargs\u001b[0m\u001b[0;34m)\u001b[0m\u001b[0;34m:\u001b[0m\u001b[0;34m\u001b[0m\u001b[0m\n\u001b[0;32m-> 1528\u001b[0;31m             \u001b[0mself\u001b[0m\u001b[0;34m.\u001b[0m\u001b[0madd_line\u001b[0m\u001b[0;34m(\u001b[0m\u001b[0mline\u001b[0m\u001b[0;34m)\u001b[0m\u001b[0;34m\u001b[0m\u001b[0m\n\u001b[0m\u001b[1;32m   1529\u001b[0m             \u001b[0mlines\u001b[0m\u001b[0;34m.\u001b[0m\u001b[0mappend\u001b[0m\u001b[0;34m(\u001b[0m\u001b[0mline\u001b[0m\u001b[0;34m)\u001b[0m\u001b[0;34m\u001b[0m\u001b[0m\n\u001b[1;32m   1530\u001b[0m \u001b[0;34m\u001b[0m\u001b[0m\n",
      "\u001b[0;32m~/anaconda3/envs/tesis/lib/python3.5/site-packages/matplotlib/axes/_base.py\u001b[0m in \u001b[0;36madd_line\u001b[0;34m(self, line)\u001b[0m\n\u001b[1;32m   1930\u001b[0m             \u001b[0mline\u001b[0m\u001b[0;34m.\u001b[0m\u001b[0mset_clip_path\u001b[0m\u001b[0;34m(\u001b[0m\u001b[0mself\u001b[0m\u001b[0;34m.\u001b[0m\u001b[0mpatch\u001b[0m\u001b[0;34m)\u001b[0m\u001b[0;34m\u001b[0m\u001b[0m\n\u001b[1;32m   1931\u001b[0m \u001b[0;34m\u001b[0m\u001b[0m\n\u001b[0;32m-> 1932\u001b[0;31m         \u001b[0mself\u001b[0m\u001b[0;34m.\u001b[0m\u001b[0m_update_line_limits\u001b[0m\u001b[0;34m(\u001b[0m\u001b[0mline\u001b[0m\u001b[0;34m)\u001b[0m\u001b[0;34m\u001b[0m\u001b[0m\n\u001b[0m\u001b[1;32m   1933\u001b[0m         \u001b[0;32mif\u001b[0m \u001b[0;32mnot\u001b[0m \u001b[0mline\u001b[0m\u001b[0;34m.\u001b[0m\u001b[0mget_label\u001b[0m\u001b[0;34m(\u001b[0m\u001b[0;34m)\u001b[0m\u001b[0;34m:\u001b[0m\u001b[0;34m\u001b[0m\u001b[0m\n\u001b[1;32m   1934\u001b[0m             \u001b[0mline\u001b[0m\u001b[0;34m.\u001b[0m\u001b[0mset_label\u001b[0m\u001b[0;34m(\u001b[0m\u001b[0;34m'_line%d'\u001b[0m \u001b[0;34m%\u001b[0m \u001b[0mlen\u001b[0m\u001b[0;34m(\u001b[0m\u001b[0mself\u001b[0m\u001b[0;34m.\u001b[0m\u001b[0mlines\u001b[0m\u001b[0;34m)\u001b[0m\u001b[0;34m)\u001b[0m\u001b[0;34m\u001b[0m\u001b[0m\n",
      "\u001b[0;32m~/anaconda3/envs/tesis/lib/python3.5/site-packages/matplotlib/axes/_base.py\u001b[0m in \u001b[0;36m_update_line_limits\u001b[0;34m(self, line)\u001b[0m\n\u001b[1;32m   1952\u001b[0m         \u001b[0mFigures\u001b[0m \u001b[0mout\u001b[0m \u001b[0mthe\u001b[0m \u001b[0mdata\u001b[0m \u001b[0mlimit\u001b[0m \u001b[0mof\u001b[0m \u001b[0mthe\u001b[0m \u001b[0mgiven\u001b[0m \u001b[0mline\u001b[0m\u001b[0;34m,\u001b[0m \u001b[0mupdating\u001b[0m \u001b[0mself\u001b[0m\u001b[0;34m.\u001b[0m\u001b[0mdataLim\u001b[0m\u001b[0;34m.\u001b[0m\u001b[0;34m\u001b[0m\u001b[0m\n\u001b[1;32m   1953\u001b[0m         \"\"\"\n\u001b[0;32m-> 1954\u001b[0;31m         \u001b[0mpath\u001b[0m \u001b[0;34m=\u001b[0m \u001b[0mline\u001b[0m\u001b[0;34m.\u001b[0m\u001b[0mget_path\u001b[0m\u001b[0;34m(\u001b[0m\u001b[0;34m)\u001b[0m\u001b[0;34m\u001b[0m\u001b[0m\n\u001b[0m\u001b[1;32m   1955\u001b[0m         \u001b[0;32mif\u001b[0m \u001b[0mpath\u001b[0m\u001b[0;34m.\u001b[0m\u001b[0mvertices\u001b[0m\u001b[0;34m.\u001b[0m\u001b[0msize\u001b[0m \u001b[0;34m==\u001b[0m \u001b[0;36m0\u001b[0m\u001b[0;34m:\u001b[0m\u001b[0;34m\u001b[0m\u001b[0m\n\u001b[1;32m   1956\u001b[0m             \u001b[0;32mreturn\u001b[0m\u001b[0;34m\u001b[0m\u001b[0m\n",
      "\u001b[0;32m~/anaconda3/envs/tesis/lib/python3.5/site-packages/matplotlib/lines.py\u001b[0m in \u001b[0;36mget_path\u001b[0;34m(self)\u001b[0m\n\u001b[1;32m    949\u001b[0m         \"\"\"\n\u001b[1;32m    950\u001b[0m         \u001b[0;32mif\u001b[0m \u001b[0mself\u001b[0m\u001b[0;34m.\u001b[0m\u001b[0m_invalidy\u001b[0m \u001b[0;32mor\u001b[0m \u001b[0mself\u001b[0m\u001b[0;34m.\u001b[0m\u001b[0m_invalidx\u001b[0m\u001b[0;34m:\u001b[0m\u001b[0;34m\u001b[0m\u001b[0m\n\u001b[0;32m--> 951\u001b[0;31m             \u001b[0mself\u001b[0m\u001b[0;34m.\u001b[0m\u001b[0mrecache\u001b[0m\u001b[0;34m(\u001b[0m\u001b[0;34m)\u001b[0m\u001b[0;34m\u001b[0m\u001b[0m\n\u001b[0m\u001b[1;32m    952\u001b[0m         \u001b[0;32mreturn\u001b[0m \u001b[0mself\u001b[0m\u001b[0;34m.\u001b[0m\u001b[0m_path\u001b[0m\u001b[0;34m\u001b[0m\u001b[0m\n\u001b[1;32m    953\u001b[0m \u001b[0;34m\u001b[0m\u001b[0m\n",
      "\u001b[0;32m~/anaconda3/envs/tesis/lib/python3.5/site-packages/matplotlib/lines.py\u001b[0m in \u001b[0;36mrecache\u001b[0;34m(self, always)\u001b[0m\n\u001b[1;32m    655\u001b[0m         \u001b[0;32mif\u001b[0m \u001b[0malways\u001b[0m \u001b[0;32mor\u001b[0m \u001b[0mself\u001b[0m\u001b[0;34m.\u001b[0m\u001b[0m_invalidy\u001b[0m\u001b[0;34m:\u001b[0m\u001b[0;34m\u001b[0m\u001b[0m\n\u001b[1;32m    656\u001b[0m             \u001b[0myconv\u001b[0m \u001b[0;34m=\u001b[0m \u001b[0mself\u001b[0m\u001b[0;34m.\u001b[0m\u001b[0mconvert_yunits\u001b[0m\u001b[0;34m(\u001b[0m\u001b[0mself\u001b[0m\u001b[0;34m.\u001b[0m\u001b[0m_yorig\u001b[0m\u001b[0;34m)\u001b[0m\u001b[0;34m\u001b[0m\u001b[0m\n\u001b[0;32m--> 657\u001b[0;31m             \u001b[0my\u001b[0m \u001b[0;34m=\u001b[0m \u001b[0m_to_unmasked_float_array\u001b[0m\u001b[0;34m(\u001b[0m\u001b[0myconv\u001b[0m\u001b[0;34m)\u001b[0m\u001b[0;34m.\u001b[0m\u001b[0mravel\u001b[0m\u001b[0;34m(\u001b[0m\u001b[0;34m)\u001b[0m\u001b[0;34m\u001b[0m\u001b[0m\n\u001b[0m\u001b[1;32m    658\u001b[0m         \u001b[0;32melse\u001b[0m\u001b[0;34m:\u001b[0m\u001b[0;34m\u001b[0m\u001b[0m\n\u001b[1;32m    659\u001b[0m             \u001b[0my\u001b[0m \u001b[0;34m=\u001b[0m \u001b[0mself\u001b[0m\u001b[0;34m.\u001b[0m\u001b[0m_y\u001b[0m\u001b[0;34m\u001b[0m\u001b[0m\n",
      "\u001b[0;32m~/anaconda3/envs/tesis/lib/python3.5/site-packages/matplotlib/cbook/__init__.py\u001b[0m in \u001b[0;36m_to_unmasked_float_array\u001b[0;34m(x)\u001b[0m\n\u001b[1;32m   2048\u001b[0m         \u001b[0;32mreturn\u001b[0m \u001b[0mnp\u001b[0m\u001b[0;34m.\u001b[0m\u001b[0mma\u001b[0m\u001b[0;34m.\u001b[0m\u001b[0masarray\u001b[0m\u001b[0;34m(\u001b[0m\u001b[0mx\u001b[0m\u001b[0;34m,\u001b[0m \u001b[0mfloat\u001b[0m\u001b[0;34m)\u001b[0m\u001b[0;34m.\u001b[0m\u001b[0mfilled\u001b[0m\u001b[0;34m(\u001b[0m\u001b[0mnp\u001b[0m\u001b[0;34m.\u001b[0m\u001b[0mnan\u001b[0m\u001b[0;34m)\u001b[0m\u001b[0;34m\u001b[0m\u001b[0m\n\u001b[1;32m   2049\u001b[0m     \u001b[0;32melse\u001b[0m\u001b[0;34m:\u001b[0m\u001b[0;34m\u001b[0m\u001b[0m\n\u001b[0;32m-> 2050\u001b[0;31m         \u001b[0;32mreturn\u001b[0m \u001b[0mnp\u001b[0m\u001b[0;34m.\u001b[0m\u001b[0masarray\u001b[0m\u001b[0;34m(\u001b[0m\u001b[0mx\u001b[0m\u001b[0;34m,\u001b[0m \u001b[0mfloat\u001b[0m\u001b[0;34m)\u001b[0m\u001b[0;34m\u001b[0m\u001b[0m\n\u001b[0m\u001b[1;32m   2051\u001b[0m \u001b[0;34m\u001b[0m\u001b[0m\n\u001b[1;32m   2052\u001b[0m \u001b[0;34m\u001b[0m\u001b[0m\n",
      "\u001b[0;32m~/anaconda3/envs/tesis/lib/python3.5/site-packages/numpy/core/numeric.py\u001b[0m in \u001b[0;36masarray\u001b[0;34m(a, dtype, order)\u001b[0m\n\u001b[1;32m    536\u001b[0m \u001b[0;34m\u001b[0m\u001b[0m\n\u001b[1;32m    537\u001b[0m     \"\"\"\n\u001b[0;32m--> 538\u001b[0;31m     \u001b[0;32mreturn\u001b[0m \u001b[0marray\u001b[0m\u001b[0;34m(\u001b[0m\u001b[0ma\u001b[0m\u001b[0;34m,\u001b[0m \u001b[0mdtype\u001b[0m\u001b[0;34m,\u001b[0m \u001b[0mcopy\u001b[0m\u001b[0;34m=\u001b[0m\u001b[0;32mFalse\u001b[0m\u001b[0;34m,\u001b[0m \u001b[0morder\u001b[0m\u001b[0;34m=\u001b[0m\u001b[0morder\u001b[0m\u001b[0;34m)\u001b[0m\u001b[0;34m\u001b[0m\u001b[0m\n\u001b[0m\u001b[1;32m    539\u001b[0m \u001b[0;34m\u001b[0m\u001b[0m\n\u001b[1;32m    540\u001b[0m \u001b[0;34m\u001b[0m\u001b[0m\n",
      "\u001b[0;31mValueError\u001b[0m: setting an array element with a sequence."
     ]
    },
    {
     "data": {
      "image/png": "[encoded data removed]",
      "text/plain": [
       "<Figure size 432x288 with 1 Axes>"
      ]
     },
     "metadata": {},
     "output_type": "display_data"
    }
   ],
   "source": [
    "plt.plot(hdulist[2].data[0])"
   ]
  },
  {
   "cell_type": "code",
   "execution_count": 26,
   "metadata": {},
   "outputs": [],
   "source": [
    "time = hdulist[1].data.field(\"TIME\")\n",
    "lc = hdulist[1].data.field(\"SAP_FLUX\")\n",
    "lc_aux = hdulist[1].data.field(\"PDCSAP_FLUX\")"
   ]
  },
  {
   "cell_type": "code",
   "execution_count": 32,
   "metadata": {},
   "outputs": [
    {
     "data": {
      "image/png": "[encoded data removed]",
      "text/plain": [
       "<Figure size 432x288 with 1 Axes>"
      ]
     },
     "metadata": {},
     "output_type": "display_data"
    }
   ],
   "source": [
    "import matplotlib.pyplot as plt\n",
    "plt.plot(time,lc)\n",
    "plt.ylim(310000)\n",
    "plt.show()"
   ]
  },
  {
   "cell_type": "code",
   "execution_count": 30,
   "metadata": {},
   "outputs": [
    {
     "data": {
      "text/plain": [
       "[<matplotlib.lines.Line2D at 0x7f6668a29eb8>]"
      ]
     },
     "execution_count": 30,
     "metadata": {},
     "output_type": "execute_result"
    },
    {
     "data": {
      "image/png": "[encoded data removed]",
      "text/plain": [
       "<Figure size 432x288 with 1 Axes>"
      ]
     },
     "metadata": {},
     "output_type": "display_data"
    }
   ],
   "source": [
    "plt.plot(lc[:2000])"
   ]
  },
  {
   "cell_type": "code",
   "execution_count": 35,
   "metadata": {},
   "outputs": [
    {
     "data": {
      "image/png": "[encoded data removed]",
      "text/plain": [
       "<Figure size 432x288 with 1 Axes>"
      ]
     },
     "metadata": {},
     "output_type": "display_data"
    }
   ],
   "source": [
    "plt.plot(time,lc_aux)\n",
    "plt.ylim(350000)\n",
    "plt.show()"
   ]
  },
  {
   "cell_type": "code",
   "execution_count": null,
   "metadata": {},
   "outputs": [],
   "source": []
  }
 ],
 "metadata": {
  "kernelspec": {
   "display_name": "Python [conda env:tesis]",
   "language": "python",
   "name": "conda-env-tesis-py"
  },
  "language_info": {
   "codemirror_mode": {
    "name": "ipython",
    "version": 3
   },
   "file_extension": ".py",
   "mimetype": "text/x-python",
   "name": "python",
   "nbconvert_exporter": "python",
   "pygments_lexer": "ipython3",
   "version": "3.5.5"
  }
 },
 "nbformat": 4,
 "nbformat_minor": 2
}

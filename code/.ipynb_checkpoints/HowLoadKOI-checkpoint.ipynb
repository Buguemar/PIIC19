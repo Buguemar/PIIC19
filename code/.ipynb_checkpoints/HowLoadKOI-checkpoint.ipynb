{
 "cells": [
  {
   "cell_type": "markdown",
   "metadata": {},
   "source": [
    "### Documentación útil sobre KOI\n",
    "Documentación para leer los datos de KOI (*Kepler Object of Interest*).\n",
    "\n",
    "[GoTo_Metadata](#metadata)  \n",
    "[GoTo_LightCurve](#lightcurve)"
   ]
  },
  {
   "cell_type": "code",
   "execution_count": 1,
   "metadata": {},
   "outputs": [],
   "source": [
    "### imports\n",
    "import pandas as pd\n",
    "import seaborn as sns\n",
    "import matplotlib.pyplot as plt\n",
    "import numpy as np"
   ]
  },
  {
   "cell_type": "markdown",
   "metadata": {},
   "source": [
    "<a id=\"metadata\"></a>\n",
    "# LOAD METADATA"
   ]
  },
  {
   "cell_type": "markdown",
   "metadata": {},
   "source": [
    "### set folder"
   ]
  },
  {
   "cell_type": "code",
   "execution_count": 1,
   "metadata": {},
   "outputs": [],
   "source": [
    "folder = \"../KOI_Data/\"\n",
    "\n",
    "#si estas dentro de tu carpeta \"obj\" el folder debe ser:\n",
    "#folder = \"../../KOI_Data/\""
   ]
  },
  {
   "cell_type": "markdown",
   "metadata": {},
   "source": [
    "### read mask of sets"
   ]
  },
  {
   "cell_type": "code",
   "execution_count": 2,
   "metadata": {},
   "outputs": [
    {
     "data": {
      "text/html": [
       "<div>\n",
       "<style scoped>\n",
       "    .dataframe tbody tr th:only-of-type {\n",
       "        vertical-align: middle;\n",
       "    }\n",
       "\n",
       "    .dataframe tbody tr th {\n",
       "        vertical-align: top;\n",
       "    }\n",
       "\n",
       "    .dataframe thead th {\n",
       "        text-align: right;\n",
       "    }\n",
       "</style>\n",
       "<table border=\"1\" class=\"dataframe\">\n",
       "  <thead>\n",
       "    <tr style=\"text-align: right;\">\n",
       "      <th></th>\n",
       "      <th>KOI Name</th>\n",
       "      <th>Set</th>\n",
       "    </tr>\n",
       "  </thead>\n",
       "  <tbody>\n",
       "    <tr>\n",
       "      <th>0</th>\n",
       "      <td>K00889.01</td>\n",
       "      <td>Test</td>\n",
       "    </tr>\n",
       "    <tr>\n",
       "      <th>1</th>\n",
       "      <td>K01009.01</td>\n",
       "      <td>Train</td>\n",
       "    </tr>\n",
       "    <tr>\n",
       "      <th>2</th>\n",
       "      <td>K07621.01</td>\n",
       "      <td>Train</td>\n",
       "    </tr>\n",
       "    <tr>\n",
       "      <th>3</th>\n",
       "      <td>K06252.01</td>\n",
       "      <td>Train</td>\n",
       "    </tr>\n",
       "    <tr>\n",
       "      <th>4</th>\n",
       "      <td>K00958.01</td>\n",
       "      <td>Unlabeled</td>\n",
       "    </tr>\n",
       "  </tbody>\n",
       "</table>\n",
       "</div>"
      ],
      "text/plain": [
       "    KOI Name        Set\n",
       "0  K00889.01       Test\n",
       "1  K01009.01      Train\n",
       "2  K07621.01      Train\n",
       "3  K06252.01      Train\n",
       "4  K00958.01  Unlabeled"
      ]
     },
     "execution_count": 2,
     "metadata": {},
     "output_type": "execute_result"
    }
   ],
   "source": [
    "df_sets = pd.read_csv(folder+\"/koi_sets_unb.csv\") \n",
    "mask_train = (df_sets[\"Set\"] == \"Train\").values\n",
    "mask_test = (df_sets[\"Set\"] == \"Test\").values\n",
    "mask_unlabeled = (df_sets[\"Set\"] == \"Unlabeled\").values\n",
    "df_sets.head()"
   ]
  },
  {
   "cell_type": "markdown",
   "metadata": {},
   "source": [
    "### read metadata and apply mask"
   ]
  },
  {
   "cell_type": "code",
   "execution_count": 3,
   "metadata": {},
   "outputs": [
    {
     "data": {
      "text/html": [
       "<div>\n",
       "<style scoped>\n",
       "    .dataframe tbody tr th:only-of-type {\n",
       "        vertical-align: middle;\n",
       "    }\n",
       "\n",
       "    .dataframe tbody tr th {\n",
       "        vertical-align: top;\n",
       "    }\n",
       "\n",
       "    .dataframe thead th {\n",
       "        text-align: right;\n",
       "    }\n",
       "</style>\n",
       "<table border=\"1\" class=\"dataframe\">\n",
       "  <thead>\n",
       "    <tr style=\"text-align: right;\">\n",
       "      <th></th>\n",
       "      <th>KOI Name</th>\n",
       "      <th>NExScI Disposition</th>\n",
       "      <th>Kepler Name</th>\n",
       "      <th>Period</th>\n",
       "      <th>Time of Transit Epoch</th>\n",
       "      <th>First Transit Time (BJD)</th>\n",
       "      <th>Impact Parameter</th>\n",
       "      <th>Duration</th>\n",
       "      <th>Transit Depth</th>\n",
       "      <th>r/R</th>\n",
       "      <th>...</th>\n",
       "      <th>Teff</th>\n",
       "      <th>log(g)</th>\n",
       "      <th>Metallicity</th>\n",
       "      <th>Stellar Radius</th>\n",
       "      <th>Stellar Mass</th>\n",
       "      <th>Max single event sigma</th>\n",
       "      <th>Max Multievent sigma</th>\n",
       "      <th>Transit Model SNR</th>\n",
       "      <th>KOI count</th>\n",
       "      <th>Transit Number</th>\n",
       "    </tr>\n",
       "  </thead>\n",
       "  <tbody>\n",
       "    <tr>\n",
       "      <th>1</th>\n",
       "      <td>K01009.01</td>\n",
       "      <td>FALSE POSITIVE</td>\n",
       "      <td>NaN</td>\n",
       "      <td>5.092465</td>\n",
       "      <td>357.53594</td>\n",
       "      <td>2455190.536</td>\n",
       "      <td>0.161</td>\n",
       "      <td>3.65900</td>\n",
       "      <td>254.0</td>\n",
       "      <td>0.014</td>\n",
       "      <td>...</td>\n",
       "      <td>5037.0</td>\n",
       "      <td>4.547</td>\n",
       "      <td>-0.20</td>\n",
       "      <td>0.751</td>\n",
       "      <td>0.727</td>\n",
       "      <td>3.648</td>\n",
       "      <td>15.175</td>\n",
       "      <td>17.1</td>\n",
       "      <td>1</td>\n",
       "      <td>225</td>\n",
       "    </tr>\n",
       "    <tr>\n",
       "      <th>2</th>\n",
       "      <td>K07621.01</td>\n",
       "      <td>FALSE POSITIVE</td>\n",
       "      <td>NaN</td>\n",
       "      <td>275.073650</td>\n",
       "      <td>315.24860</td>\n",
       "      <td>2455148.249</td>\n",
       "      <td>0.595</td>\n",
       "      <td>3.37000</td>\n",
       "      <td>228.9</td>\n",
       "      <td>0.014</td>\n",
       "      <td>...</td>\n",
       "      <td>5604.0</td>\n",
       "      <td>4.226</td>\n",
       "      <td>-0.12</td>\n",
       "      <td>1.187</td>\n",
       "      <td>0.864</td>\n",
       "      <td>5.909</td>\n",
       "      <td>8.012</td>\n",
       "      <td>7.5</td>\n",
       "      <td>1</td>\n",
       "      <td>4</td>\n",
       "    </tr>\n",
       "    <tr>\n",
       "      <th>3</th>\n",
       "      <td>K06252.01</td>\n",
       "      <td>FALSE POSITIVE</td>\n",
       "      <td>NaN</td>\n",
       "      <td>8.460439</td>\n",
       "      <td>133.77449</td>\n",
       "      <td>2454966.774</td>\n",
       "      <td>1.061</td>\n",
       "      <td>4.73492</td>\n",
       "      <td>76412.9</td>\n",
       "      <td>0.478</td>\n",
       "      <td>...</td>\n",
       "      <td>5951.0</td>\n",
       "      <td>4.638</td>\n",
       "      <td>-1.06</td>\n",
       "      <td>0.702</td>\n",
       "      <td>0.796</td>\n",
       "      <td>452.526</td>\n",
       "      <td>3704.503</td>\n",
       "      <td>1797.4</td>\n",
       "      <td>1</td>\n",
       "      <td>164</td>\n",
       "    </tr>\n",
       "    <tr>\n",
       "      <th>6</th>\n",
       "      <td>K04162.01</td>\n",
       "      <td>FALSE POSITIVE</td>\n",
       "      <td>NaN</td>\n",
       "      <td>0.539366</td>\n",
       "      <td>131.97457</td>\n",
       "      <td>2454964.975</td>\n",
       "      <td>0.988</td>\n",
       "      <td>5.43400</td>\n",
       "      <td>145.0</td>\n",
       "      <td>0.016</td>\n",
       "      <td>...</td>\n",
       "      <td>6341.0</td>\n",
       "      <td>3.301</td>\n",
       "      <td>-0.10</td>\n",
       "      <td>5.302</td>\n",
       "      <td>2.050</td>\n",
       "      <td>4.847</td>\n",
       "      <td>9.076</td>\n",
       "      <td>57.6</td>\n",
       "      <td>1</td>\n",
       "      <td>1239</td>\n",
       "    </tr>\n",
       "    <tr>\n",
       "      <th>9</th>\n",
       "      <td>K00998.01</td>\n",
       "      <td>FALSE POSITIVE</td>\n",
       "      <td>NaN</td>\n",
       "      <td>161.788327</td>\n",
       "      <td>214.03900</td>\n",
       "      <td>2455047.039</td>\n",
       "      <td>0.267</td>\n",
       "      <td>5.31000</td>\n",
       "      <td>87750.0</td>\n",
       "      <td>0.273</td>\n",
       "      <td>...</td>\n",
       "      <td>6018.0</td>\n",
       "      <td>4.327</td>\n",
       "      <td>0.18</td>\n",
       "      <td>1.212</td>\n",
       "      <td>1.142</td>\n",
       "      <td>341.666</td>\n",
       "      <td>806.993</td>\n",
       "      <td>704.5</td>\n",
       "      <td>1</td>\n",
       "      <td>9</td>\n",
       "    </tr>\n",
       "  </tbody>\n",
       "</table>\n",
       "<p>5 rows × 31 columns</p>\n",
       "</div>"
      ],
      "text/plain": [
       "    KOI Name NExScI Disposition Kepler Name      Period  \\\n",
       "1  K01009.01     FALSE POSITIVE         NaN    5.092465   \n",
       "2  K07621.01     FALSE POSITIVE         NaN  275.073650   \n",
       "3  K06252.01     FALSE POSITIVE         NaN    8.460439   \n",
       "6  K04162.01     FALSE POSITIVE         NaN    0.539366   \n",
       "9  K00998.01     FALSE POSITIVE         NaN  161.788327   \n",
       "\n",
       "   Time of Transit Epoch  First Transit Time (BJD)  Impact Parameter  \\\n",
       "1              357.53594               2455190.536             0.161   \n",
       "2              315.24860               2455148.249             0.595   \n",
       "3              133.77449               2454966.774             1.061   \n",
       "6              131.97457               2454964.975             0.988   \n",
       "9              214.03900               2455047.039             0.267   \n",
       "\n",
       "   Duration  Transit Depth    r/R  ...    Teff  log(g)  Metallicity  \\\n",
       "1   3.65900          254.0  0.014  ...  5037.0   4.547        -0.20   \n",
       "2   3.37000          228.9  0.014  ...  5604.0   4.226        -0.12   \n",
       "3   4.73492        76412.9  0.478  ...  5951.0   4.638        -1.06   \n",
       "6   5.43400          145.0  0.016  ...  6341.0   3.301        -0.10   \n",
       "9   5.31000        87750.0  0.273  ...  6018.0   4.327         0.18   \n",
       "\n",
       "   Stellar Radius  Stellar Mass  Max single event sigma  Max Multievent sigma  \\\n",
       "1           0.751         0.727                   3.648                15.175   \n",
       "2           1.187         0.864                   5.909                 8.012   \n",
       "3           0.702         0.796                 452.526              3704.503   \n",
       "6           5.302         2.050                   4.847                 9.076   \n",
       "9           1.212         1.142                 341.666               806.993   \n",
       "\n",
       "   Transit Model SNR  KOI count  Transit Number  \n",
       "1               17.1          1             225  \n",
       "2                7.5          1               4  \n",
       "3             1797.4          1             164  \n",
       "6               57.6          1            1239  \n",
       "9              704.5          1               9  \n",
       "\n",
       "[5 rows x 31 columns]"
      ]
     },
     "execution_count": 3,
     "metadata": {},
     "output_type": "execute_result"
    }
   ],
   "source": [
    "df_meta = pd.read_csv(folder+\"/koi_metadata.csv\")\n",
    "df_meta_train = df_meta[mask_train]\n",
    "df_meta_test = df_meta[mask_test]\n",
    "df_meta_unb = df_meta[mask_unlabeled]\n",
    "\n",
    "df_meta_train.head()"
   ]
  },
  {
   "cell_type": "code",
   "execution_count": 20,
   "metadata": {},
   "outputs": [
    {
     "data": {
      "image/png": "[encoded data removed]",
      "text/plain": [
       "<Figure size 432x288 with 1 Axes>"
      ]
     },
     "metadata": {},
     "output_type": "display_data"
    }
   ],
   "source": [
    "sns.countplot(data=df_meta_train, x=\"NExScI Disposition\")\n",
    "plt.show()"
   ]
  },
  {
   "cell_type": "markdown",
   "metadata": {},
   "source": [
    "### Impute median on nulls!\n"
   ]
  },
  {
   "cell_type": "code",
   "execution_count": 4,
   "metadata": {},
   "outputs": [
    {
     "data": {
      "text/html": [
       "<div>\n",
       "<style scoped>\n",
       "    .dataframe tbody tr th:only-of-type {\n",
       "        vertical-align: middle;\n",
       "    }\n",
       "\n",
       "    .dataframe tbody tr th {\n",
       "        vertical-align: top;\n",
       "    }\n",
       "\n",
       "    .dataframe thead th {\n",
       "        text-align: right;\n",
       "    }\n",
       "</style>\n",
       "<table border=\"1\" class=\"dataframe\">\n",
       "  <thead>\n",
       "    <tr style=\"text-align: right;\">\n",
       "      <th></th>\n",
       "      <th>KOI Name</th>\n",
       "      <th>NExScI Disposition</th>\n",
       "      <th>Kepler Name</th>\n",
       "      <th>Period</th>\n",
       "      <th>Time of Transit Epoch</th>\n",
       "      <th>First Transit Time (BJD)</th>\n",
       "      <th>Impact Parameter</th>\n",
       "      <th>Duration</th>\n",
       "      <th>Transit Depth</th>\n",
       "      <th>r/R</th>\n",
       "      <th>...</th>\n",
       "      <th>Teff</th>\n",
       "      <th>log(g)</th>\n",
       "      <th>Metallicity</th>\n",
       "      <th>Stellar Radius</th>\n",
       "      <th>Stellar Mass</th>\n",
       "      <th>Max single event sigma</th>\n",
       "      <th>Max Multievent sigma</th>\n",
       "      <th>Transit Model SNR</th>\n",
       "      <th>KOI count</th>\n",
       "      <th>Transit Number</th>\n",
       "    </tr>\n",
       "  </thead>\n",
       "  <tbody>\n",
       "    <tr>\n",
       "      <th>1</th>\n",
       "      <td>K01009.01</td>\n",
       "      <td>FALSE POSITIVE</td>\n",
       "      <td>NaN</td>\n",
       "      <td>5.092465</td>\n",
       "      <td>357.53594</td>\n",
       "      <td>2455190.536</td>\n",
       "      <td>0.161</td>\n",
       "      <td>3.65900</td>\n",
       "      <td>254.0</td>\n",
       "      <td>0.014</td>\n",
       "      <td>...</td>\n",
       "      <td>5037.0</td>\n",
       "      <td>4.547</td>\n",
       "      <td>-0.20</td>\n",
       "      <td>0.751</td>\n",
       "      <td>0.727</td>\n",
       "      <td>3.648</td>\n",
       "      <td>15.175</td>\n",
       "      <td>17.1</td>\n",
       "      <td>1</td>\n",
       "      <td>225</td>\n",
       "    </tr>\n",
       "    <tr>\n",
       "      <th>2</th>\n",
       "      <td>K07621.01</td>\n",
       "      <td>FALSE POSITIVE</td>\n",
       "      <td>NaN</td>\n",
       "      <td>275.073650</td>\n",
       "      <td>315.24860</td>\n",
       "      <td>2455148.249</td>\n",
       "      <td>0.595</td>\n",
       "      <td>3.37000</td>\n",
       "      <td>228.9</td>\n",
       "      <td>0.014</td>\n",
       "      <td>...</td>\n",
       "      <td>5604.0</td>\n",
       "      <td>4.226</td>\n",
       "      <td>-0.12</td>\n",
       "      <td>1.187</td>\n",
       "      <td>0.864</td>\n",
       "      <td>5.909</td>\n",
       "      <td>8.012</td>\n",
       "      <td>7.5</td>\n",
       "      <td>1</td>\n",
       "      <td>4</td>\n",
       "    </tr>\n",
       "    <tr>\n",
       "      <th>3</th>\n",
       "      <td>K06252.01</td>\n",
       "      <td>FALSE POSITIVE</td>\n",
       "      <td>NaN</td>\n",
       "      <td>8.460439</td>\n",
       "      <td>133.77449</td>\n",
       "      <td>2454966.774</td>\n",
       "      <td>1.061</td>\n",
       "      <td>4.73492</td>\n",
       "      <td>76412.9</td>\n",
       "      <td>0.478</td>\n",
       "      <td>...</td>\n",
       "      <td>5951.0</td>\n",
       "      <td>4.638</td>\n",
       "      <td>-1.06</td>\n",
       "      <td>0.702</td>\n",
       "      <td>0.796</td>\n",
       "      <td>452.526</td>\n",
       "      <td>3704.503</td>\n",
       "      <td>1797.4</td>\n",
       "      <td>1</td>\n",
       "      <td>164</td>\n",
       "    </tr>\n",
       "    <tr>\n",
       "      <th>6</th>\n",
       "      <td>K04162.01</td>\n",
       "      <td>FALSE POSITIVE</td>\n",
       "      <td>NaN</td>\n",
       "      <td>0.539366</td>\n",
       "      <td>131.97457</td>\n",
       "      <td>2454964.975</td>\n",
       "      <td>0.988</td>\n",
       "      <td>5.43400</td>\n",
       "      <td>145.0</td>\n",
       "      <td>0.016</td>\n",
       "      <td>...</td>\n",
       "      <td>6341.0</td>\n",
       "      <td>3.301</td>\n",
       "      <td>-0.10</td>\n",
       "      <td>5.302</td>\n",
       "      <td>2.050</td>\n",
       "      <td>4.847</td>\n",
       "      <td>9.076</td>\n",
       "      <td>57.6</td>\n",
       "      <td>1</td>\n",
       "      <td>1239</td>\n",
       "    </tr>\n",
       "    <tr>\n",
       "      <th>9</th>\n",
       "      <td>K00998.01</td>\n",
       "      <td>FALSE POSITIVE</td>\n",
       "      <td>NaN</td>\n",
       "      <td>161.788327</td>\n",
       "      <td>214.03900</td>\n",
       "      <td>2455047.039</td>\n",
       "      <td>0.267</td>\n",
       "      <td>5.31000</td>\n",
       "      <td>87750.0</td>\n",
       "      <td>0.273</td>\n",
       "      <td>...</td>\n",
       "      <td>6018.0</td>\n",
       "      <td>4.327</td>\n",
       "      <td>0.18</td>\n",
       "      <td>1.212</td>\n",
       "      <td>1.142</td>\n",
       "      <td>341.666</td>\n",
       "      <td>806.993</td>\n",
       "      <td>704.5</td>\n",
       "      <td>1</td>\n",
       "      <td>9</td>\n",
       "    </tr>\n",
       "  </tbody>\n",
       "</table>\n",
       "<p>5 rows × 31 columns</p>\n",
       "</div>"
      ],
      "text/plain": [
       "    KOI Name NExScI Disposition Kepler Name      Period  \\\n",
       "1  K01009.01     FALSE POSITIVE         NaN    5.092465   \n",
       "2  K07621.01     FALSE POSITIVE         NaN  275.073650   \n",
       "3  K06252.01     FALSE POSITIVE         NaN    8.460439   \n",
       "6  K04162.01     FALSE POSITIVE         NaN    0.539366   \n",
       "9  K00998.01     FALSE POSITIVE         NaN  161.788327   \n",
       "\n",
       "   Time of Transit Epoch  First Transit Time (BJD)  Impact Parameter  \\\n",
       "1              357.53594               2455190.536             0.161   \n",
       "2              315.24860               2455148.249             0.595   \n",
       "3              133.77449               2454966.774             1.061   \n",
       "6              131.97457               2454964.975             0.988   \n",
       "9              214.03900               2455047.039             0.267   \n",
       "\n",
       "   Duration  Transit Depth    r/R  ...    Teff  log(g)  Metallicity  \\\n",
       "1   3.65900          254.0  0.014  ...  5037.0   4.547        -0.20   \n",
       "2   3.37000          228.9  0.014  ...  5604.0   4.226        -0.12   \n",
       "3   4.73492        76412.9  0.478  ...  5951.0   4.638        -1.06   \n",
       "6   5.43400          145.0  0.016  ...  6341.0   3.301        -0.10   \n",
       "9   5.31000        87750.0  0.273  ...  6018.0   4.327         0.18   \n",
       "\n",
       "   Stellar Radius  Stellar Mass  Max single event sigma  Max Multievent sigma  \\\n",
       "1           0.751         0.727                   3.648                15.175   \n",
       "2           1.187         0.864                   5.909                 8.012   \n",
       "3           0.702         0.796                 452.526              3704.503   \n",
       "6           5.302         2.050                   4.847                 9.076   \n",
       "9           1.212         1.142                 341.666               806.993   \n",
       "\n",
       "   Transit Model SNR  KOI count  Transit Number  \n",
       "1               17.1          1             225  \n",
       "2                7.5          1               4  \n",
       "3             1797.4          1             164  \n",
       "6               57.6          1            1239  \n",
       "9              704.5          1               9  \n",
       "\n",
       "[5 rows x 31 columns]"
      ]
     },
     "execution_count": 4,
     "metadata": {},
     "output_type": "execute_result"
    }
   ],
   "source": [
    "def impute_on_pandas(df):\n",
    "    return df.fillna(df.median(),inplace=False)\n",
    "\n",
    "df_meta_train = impute_on_pandas(df_meta_train)\n",
    "df_meta_test = impute_on_pandas(df_meta_test)\n",
    "df_meta_train.head()"
   ]
  },
  {
   "cell_type": "markdown",
   "metadata": {},
   "source": [
    "### Set ground truth"
   ]
  },
  {
   "cell_type": "code",
   "execution_count": 6,
   "metadata": {},
   "outputs": [
    {
     "data": {
      "text/plain": [
       "array([0, 0, 0, ..., 1, 1, 0])"
      ]
     },
     "execution_count": 6,
     "metadata": {},
     "output_type": "execute_result"
    }
   ],
   "source": [
    "y_train = ((df_meta_train[\"NExScI Disposition\"]==\"CONFIRMED\")*1).values\n",
    "y_test = ((df_meta_test[\"NExScI Disposition\"]==\"CONFIRMED\")*1).values\n",
    "y_train"
   ]
  },
  {
   "cell_type": "markdown",
   "metadata": {},
   "source": [
    "### Evaluate models"
   ]
  },
  {
   "cell_type": "code",
   "execution_count": 9,
   "metadata": {},
   "outputs": [
    {
     "name": "stdout",
     "output_type": "stream",
     "text": [
      "                F1 macro  F1 micro    F1 raw  F1 weighted  Precision raw  \\\n",
      "False Positive  0.274583  0.274583  0.000000     0.207868       0.000000   \n",
      "Confirmed       0.274583  0.274583  0.549165     0.207868       0.378517   \n",
      "\n",
      "                Recall raw  \n",
      "False Positive         0.0  \n",
      "Confirmed              1.0  \n"
     ]
    },
    {
     "name": "stderr",
     "output_type": "stream",
     "text": [
      "/users/fmena/anaconda3/envs/tesis/lib/python3.5/site-packages/sklearn/metrics/classification.py:1135: UndefinedMetricWarning: Precision is ill-defined and being set to 0.0 in labels with no predicted samples.\n",
      "  'precision', 'predicted', average, warn_for)\n",
      "/users/fmena/anaconda3/envs/tesis/lib/python3.5/site-packages/sklearn/metrics/classification.py:1135: UndefinedMetricWarning: F-score is ill-defined and being set to 0.0 in labels with no predicted samples.\n",
      "  'precision', 'predicted', average, warn_for)\n"
     ]
    },
    {
     "data": {
      "text/plain": [
       "{'F1 macro': 0.274582560296846,\n",
       " 'F1 micro': 0.274582560296846,\n",
       " 'F1 raw': array([0.        , 0.54916512]),\n",
       " 'F1 weighted': 0.2078681274881494,\n",
       " 'Precision raw': array([0.        , 0.37851662]),\n",
       " 'Recall raw': array([0., 1.])}"
      ]
     },
     "execution_count": 9,
     "metadata": {},
     "output_type": "execute_result"
    }
   ],
   "source": [
    "import os, sys\n",
    "dirpath = os.getcwd().split(\"code\")[0]+\"code/\"\n",
    "sys.path.append(dirpath)\n",
    "\n",
    "from evaluation import calculate_metrics\n",
    "calculate_metrics(y_train,np.ones((y_train.shape[0],1)))"
   ]
  },
  {
   "cell_type": "markdown",
   "metadata": {},
   "source": [
    "<a id=\"lightcurve\"></a>\n",
    "# LOAD KEPLER LIGHT CURVES "
   ]
  },
  {
   "cell_type": "markdown",
   "metadata": {},
   "source": [
    "### set folder"
   ]
  },
  {
   "cell_type": "code",
   "execution_count": 2,
   "metadata": {},
   "outputs": [],
   "source": [
    "folder_lc = \"/work/work_teamEXOPLANET/KOI_LC/\""
   ]
  },
  {
   "cell_type": "code",
   "execution_count": 3,
   "metadata": {},
   "outputs": [
    {
     "data": {
      "text/plain": [
       "(8054, 71427)"
      ]
     },
     "execution_count": 3,
     "metadata": {},
     "output_type": "execute_result"
    }
   ],
   "source": [
    "time_kepler = np.load(folder_lc+\"npy/KOI_LC_time.npy\") #no contiene nans\n",
    "lc_kepler = np.load(folder_lc+\"npy/KOI_LC_init.npy\" ) #contiene nans!\n",
    "lc_kepler.shape"
   ]
  },
  {
   "cell_type": "markdown",
   "metadata": {},
   "source": [
    "### read mask of sets"
   ]
  },
  {
   "cell_type": "code",
   "execution_count": 11,
   "metadata": {},
   "outputs": [
    {
     "data": {
      "text/html": [
       "<div>\n",
       "<style scoped>\n",
       "    .dataframe tbody tr th:only-of-type {\n",
       "        vertical-align: middle;\n",
       "    }\n",
       "\n",
       "    .dataframe tbody tr th {\n",
       "        vertical-align: top;\n",
       "    }\n",
       "\n",
       "    .dataframe thead th {\n",
       "        text-align: right;\n",
       "    }\n",
       "</style>\n",
       "<table border=\"1\" class=\"dataframe\">\n",
       "  <thead>\n",
       "    <tr style=\"text-align: right;\">\n",
       "      <th></th>\n",
       "      <th>KOI Name</th>\n",
       "      <th>Set</th>\n",
       "    </tr>\n",
       "  </thead>\n",
       "  <tbody>\n",
       "    <tr>\n",
       "      <th>0</th>\n",
       "      <td>K00889.01</td>\n",
       "      <td>Test</td>\n",
       "    </tr>\n",
       "    <tr>\n",
       "      <th>1</th>\n",
       "      <td>K01009.01</td>\n",
       "      <td>Train</td>\n",
       "    </tr>\n",
       "    <tr>\n",
       "      <th>2</th>\n",
       "      <td>K07621.01</td>\n",
       "      <td>Train</td>\n",
       "    </tr>\n",
       "    <tr>\n",
       "      <th>3</th>\n",
       "      <td>K06252.01</td>\n",
       "      <td>Train</td>\n",
       "    </tr>\n",
       "    <tr>\n",
       "      <th>4</th>\n",
       "      <td>K00958.01</td>\n",
       "      <td>Unlabeled</td>\n",
       "    </tr>\n",
       "  </tbody>\n",
       "</table>\n",
       "</div>"
      ],
      "text/plain": [
       "    KOI Name        Set\n",
       "0  K00889.01       Test\n",
       "1  K01009.01      Train\n",
       "2  K07621.01      Train\n",
       "3  K06252.01      Train\n",
       "4  K00958.01  Unlabeled"
      ]
     },
     "execution_count": 11,
     "metadata": {},
     "output_type": "execute_result"
    }
   ],
   "source": [
    "df_sets = pd.read_csv(folder+\"/koi_sets_unb.csv\") \n",
    "mask_train = (df_sets[\"Set\"] == \"Train\").values\n",
    "mask_test = (df_sets[\"Set\"] == \"Test\").values\n",
    "mask_unlabeled = (df_sets[\"Set\"] == \"Unlabeled\").values\n",
    "df_sets.head()"
   ]
  },
  {
   "cell_type": "markdown",
   "metadata": {},
   "source": [
    "### apply mask of sets"
   ]
  },
  {
   "cell_type": "code",
   "execution_count": 12,
   "metadata": {},
   "outputs": [
    {
     "data": {
      "text/plain": [
       "array([[ 7.7190e-04,  4.8390e-04,  5.3410e-04, ...,  1.6400e-05,\n",
       "        -1.6060e-04,  1.5900e-04],\n",
       "       [-5.9321e-03, -5.6883e-03, -5.3598e-03, ...,  2.0195e-03,\n",
       "         2.0839e-03,  2.4260e-03],\n",
       "       [-4.7540e-04, -2.8200e-04, -7.9500e-05, ..., -1.8650e-04,\n",
       "         6.1000e-06,  3.3810e-04],\n",
       "       ...,\n",
       "       [-9.8770e-04, -3.0760e-04, -2.9730e-04, ...,  2.8480e-04,\n",
       "        -2.1460e-04,  1.2520e-04],\n",
       "       [-1.3870e-04,  1.0350e-04,  2.8300e-05, ...,  4.3000e-06,\n",
       "         8.4600e-05,  1.2980e-04],\n",
       "       [-3.1820e-04,  7.7890e-04, -4.0230e-04, ...,  7.8900e-05,\n",
       "         5.2180e-04, -9.2220e-04]])"
      ]
     },
     "execution_count": 12,
     "metadata": {},
     "output_type": "execute_result"
    }
   ],
   "source": [
    "lc_kepler_train = lc_kepler[mask_train]\n",
    "lc_kepler_test = lc_kepler[mask_test]\n",
    "lc_kepler_unl = lc_kepler[mask_unlabeled]\n",
    "lc_kepler_unl"
   ]
  }
 ],
 "metadata": {
  "kernelspec": {
   "display_name": "Python [default]",
   "language": "python",
   "name": "python3"
  },
  "language_info": {
   "codemirror_mode": {
    "name": "ipython",
    "version": 3
   },
   "file_extension": ".py",
   "mimetype": "text/x-python",
   "name": "python",
   "nbconvert_exporter": "python",
   "pygments_lexer": "ipython3",
   "version": "3.5.5"
  }
 },
 "nbformat": 4,
 "nbformat_minor": 2
}

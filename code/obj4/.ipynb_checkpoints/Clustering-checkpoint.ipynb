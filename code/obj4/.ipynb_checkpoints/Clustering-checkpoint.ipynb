{
 "cells": [
  {
   "cell_type": "markdown",
   "metadata": {},
   "source": [
    "## comparar todos lo que pueda..\n",
    "load feats like baseline file\n",
    "\n",
    "* metadata\n",
    "* Fold-Glo\n",
    "* AE\n",
    "* VAE\n",
    "* VAE-scale"
   ]
  },
  {
   "cell_type": "code",
   "execution_count": null,
   "metadata": {},
   "outputs": [],
   "source": []
  },
  {
   "cell_type": "code",
   "execution_count": null,
   "metadata": {},
   "outputs": [],
   "source": []
  },
  {
   "cell_type": "code",
   "execution_count": null,
   "metadata": {},
   "outputs": [],
   "source": [
    "def transform_plot(model, data, just_plot=False):\n",
    "    if just_plot:\n",
    "        to_plot = data\n",
    "    else:\n",
    "        to_plot = model.fit_transform(data)\n",
    "        \n",
    "    plt.figure(figsize=(10,7))\n",
    "    plt.scatter(to_plot[:,0],to_plot[:,1])\n",
    "    plt.show()\n",
    "    return to_plot\n",
    "\n",
    "df_meta = pd.read_csv(\"../../KOI_Data/kepler_dataset.csv\")\n",
    "labels_transit = df_meta[\"NExScI Disposition\"].values[mask_transit]\n",
    "all_labels = df_meta[\"NExScI Disposition\"].values\n",
    "\n",
    "\n",
    "\n",
    "\n",
    "from sklearn.decomposition import KernelPCA\n",
    "model = KernelPCA(2, kernel='rbf', gamma=None, n_jobs=-1)\n",
    "    \n",
    "to_plot = transform_plot(model, z_aux)\n",
    "\n",
    "plt.figure(figsize=(10,7))\n",
    "mask_ = (all_labels==\"CONFIRMED\")\n",
    "plt.scatter(to_plot[:,0][mask_],to_plot[:,1][mask_], label=\"CONFIRMED\", alpha=0.7)\n",
    "\n",
    "mask_ = (all_labels==\"FALSE POSITIVE\")\n",
    "plt.scatter(to_plot[:,0][mask_],to_plot[:,1][mask_], label=\"FALSE\", alpha=0.3)\n",
    "\n",
    "plt.legend()\n",
    "plt.show()"
   ]
  },
  {
   "cell_type": "code",
   "execution_count": null,
   "metadata": {},
   "outputs": [],
   "source": [
    "#tsne\n",
    "from sklearn.manifold import TSNE\n",
    "model = TSNE(2, metric='euclidean', n_jobs=-1)\n",
    "\n",
    "to_plot = transform_plot(model, z_aux)\n",
    "\n",
    "plt.figure(figsize=(10,7))\n",
    "mask_ = (all_labels==\"CONFIRMED\")\n",
    "plt.scatter(to_plot[:,0][mask_],to_plot[:,1][mask_], label=\"CONFIRMED\", alpha=0.7)\n",
    "\n",
    "mask_ = (all_labels==\"FALSE POSITIVE\")\n",
    "plt.scatter(to_plot[:,0][mask_],to_plot[:,1][mask_], label=\"FALSE\", alpha=0.3)\n",
    "\n",
    "plt.legend()\n",
    "plt.show()"
   ]
  },
  {
   "cell_type": "code",
   "execution_count": null,
   "metadata": {},
   "outputs": [],
   "source": []
  },
  {
   "cell_type": "code",
   "execution_count": null,
   "metadata": {},
   "outputs": [],
   "source": [
    "z_aux = np.load(\"./LC_features/VAE_S_%dT_%dD.npy\"%(T,latent_dim))\n"
   ]
  },
  {
   "cell_type": "markdown",
   "metadata": {},
   "source": [
    "### clustering"
   ]
  },
  {
   "cell_type": "code",
   "execution_count": null,
   "metadata": {},
   "outputs": [],
   "source": [
    "#NEW METADATA SELECTED!\n",
    "metadata_used = [\"Period\", \"Duration\", \"Time of Transit Epoch\", \"r/R\", \"a/R\",\n",
    "                 \"Inclination\", \"Impact Parameter\", \n",
    "                 \"Fitted Stellar Density\",\"Teq\",\n",
    "                 \"Limb Darkening Coeff1\", \"Limb Darkening Coeff2\",\n",
    "                \"Teff\",\"Stellar Radius\", \"Stellar Mass\"]\n",
    "df_meta[\"Duration\"] = df_meta[\"Duration\"]/24\n",
    "\n",
    "df_meta_obj = df_meta[metadata_used]\n",
    "\n",
    "#df_meta_obj = impute_on_pandas(df_meta_obj)\n",
    "\n",
    "from sklearn.preprocessing import StandardScaler, RobustScaler\n",
    "scaler_meta = StandardScaler()\n",
    "scaler_meta.fit(df_meta_obj.values[mask_transit])"
   ]
  },
  {
   "cell_type": "code",
   "execution_count": null,
   "metadata": {},
   "outputs": [],
   "source": [
    "from sklearn.preprocessing import StandardScaler\n",
    "from sklearn.decomposition import KernelPCA\n",
    "from sklearn.manifold import TSNE\n",
    "\n",
    "to_clu = StandardScaler().fit_transform(z_aux)\n",
    "\n",
    "model = TSNE(2, metric='euclidean', n_jobs=-1)\n",
    "#model = KernelPCA(2, kernel='rbf', gamma=None, n_jobs=-1)\n",
    "\n",
    "to_plot = transform_plot(model, to_clu)\n",
    "\n",
    "\n",
    "plt.figure(figsize=(10,7))\n",
    "mask_ = (all_labels==\"CONFIRMED\")\n",
    "plt.scatter(to_plot[:,0][mask_],to_plot[:,1][mask_], label=\"CONFIRMED\", alpha=0.7)\n",
    "\n",
    "mask_ = (all_labels==\"FALSE POSITIVE\")\n",
    "plt.scatter(to_plot[:,0][mask_],to_plot[:,1][mask_], label=\"FALSE\", alpha=0.3)\n",
    "\n",
    "plt.legend()\n",
    "plt.show()"
   ]
  },
  {
   "cell_type": "code",
   "execution_count": null,
   "metadata": {},
   "outputs": [],
   "source": []
  },
  {
   "cell_type": "code",
   "execution_count": null,
   "metadata": {},
   "outputs": [],
   "source": [
    "from sklearn.cluster import DBSCAN\n",
    "#model = DBSCAN(eps=0.8, min_samples=10, metric='euclidean', n_jobs=-1)\n",
    "model = DBSCAN(eps=0.1, min_samples=10, metric='cosine', n_jobs=-1)\n",
    "\n",
    "model.fit(to_clu)\n",
    "clus_l = model.labels_\n",
    "K = clus_l.max()+1\n",
    "\n",
    "print(\"Cluster encontrados =\",K)\n",
    "clus_l"
   ]
  },
  {
   "cell_type": "code",
   "execution_count": null,
   "metadata": {},
   "outputs": [],
   "source": [
    "#K-means\n",
    "#Spectrla clus"
   ]
  },
  {
   "cell_type": "code",
   "execution_count": null,
   "metadata": {},
   "outputs": [],
   "source": [
    "plt.figure(figsize=(12,8))\n",
    "mask_ = (clus_l==-1)\n",
    "plt.scatter(to_plot[:,0][mask_],to_plot[:,1][mask_], label=\"Noise\", s=5, c='black')\n",
    "\n",
    "for i in range(K):\n",
    "    mask_ = (clus_l==i)\n",
    "    plt.scatter(to_plot[:,0][mask_],to_plot[:,1][mask_], label=\"Clustering \"+str(i))\n",
    "plt.legend()\n",
    "plt.show() ## euclidean"
   ]
  },
  {
   "cell_type": "code",
   "execution_count": null,
   "metadata": {},
   "outputs": [],
   "source": [
    "plt.figure(figsize=(12,8))\n",
    "mask_ = (clus_l==-1)\n",
    "plt.scatter(to_plot[:,0][mask_],to_plot[:,1][mask_], label=\"Noise\", s=5, c='black')\n",
    "\n",
    "for i in range(K):\n",
    "    mask_ = (clus_l==i)\n",
    "    plt.scatter(to_plot[:,0][mask_],to_plot[:,1][mask_], label=\"Clustering \"+str(i))\n",
    "plt.legend()\n",
    "plt.show() ## COSINE"
   ]
  },
  {
   "cell_type": "code",
   "execution_count": null,
   "metadata": {},
   "outputs": [],
   "source": [
    "from sklearn.cluster import DBSCAN\n",
    "model = DBSCAN(eps=2.5, min_samples=10, metric='euclidean', n_jobs=-1)\n",
    "\n",
    "model.fit(to_clu)\n",
    "clus_l = model.labels_\n",
    "K = clus_l.max()+1\n",
    "\n",
    "print(\"Cluster encontrados =\",K)\n",
    "clus_l"
   ]
  },
  {
   "cell_type": "code",
   "execution_count": null,
   "metadata": {},
   "outputs": [],
   "source": []
  },
  {
   "cell_type": "code",
   "execution_count": null,
   "metadata": {},
   "outputs": [],
   "source": [
    "mask_FP = df_meta[\"NExScI Disposition\"].values ==  \"FALSE POSITIVE\"\n",
    "z_FP = z_aux[mask_FP]\n",
    "aux = StandardScaler().fit_transform(z_FP)\n",
    "\n",
    "Ks = []\n",
    "for e in np.arange(0.1,3, 0.1):\n",
    "    model = DBSCAN(eps=e, min_samples=5, metric='euclidean', n_jobs=-1)\n",
    "\n",
    "    clus_l = model.fit(aux).labels_\n",
    "    K = clus_l.max()+1\n",
    "    Ks.append(K)"
   ]
  },
  {
   "cell_type": "code",
   "execution_count": null,
   "metadata": {},
   "outputs": [],
   "source": [
    "plt.plot(np.arange(0.1,3, 0.1),Ks , 'bo-')\n",
    "plt.ylabel(\"Cantidad de cluster\")\n",
    "plt.xlabel(\"eps (radio)\")\n",
    "plt.title(\"FALSE POSITIVE\")\n",
    "plt.show()"
   ]
  },
  {
   "cell_type": "code",
   "execution_count": null,
   "metadata": {},
   "outputs": [],
   "source": [
    "plt.plot(np.arange(0.1,3, 0.1),Ks, 'bo-')\n",
    "plt.ylabel(\"Cantidad de cluster\")\n",
    "plt.xlabel(\"eps (radio)\")\n",
    "plt.title(\"CONFIRMED\")\n",
    "plt.show()"
   ]
  },
  {
   "cell_type": "code",
   "execution_count": null,
   "metadata": {},
   "outputs": [],
   "source": [
    "mask_noise = (clus_l==-1)\n",
    "\n",
    "\n",
    "n_s = 5\n",
    "\n",
    "N_is = []\n",
    "conf_ratios = []\n",
    "cand_ratios = []\n",
    "mean_metadatas = []\n",
    "for i in range(K):\n",
    "    mask_i = (clus_l==i)\n",
    "\n",
    "    N_i = np.sum(mask_i*1)\n",
    "    N_is.append(N_i)\n",
    "    conf_ratio = np.sum(all_labels[mask_i]==\"CONFIRMED\") \n",
    "    CONF_ratio = conf_ratio/(conf_ratio+np.sum(all_labels[mask_i]==\"FALSE POSITIVE\")) #over conf and FP\n",
    "    conf_ratios.append(CONF_ratio)\n",
    "    CAND_ratio = np.sum(all_labels[mask_i]==\"CANDIDATE\")/N_i #total\n",
    "    cand_ratios.append(CAND_ratio)\n",
    "    metadata_i = df_meta_obj[mask_i]\n",
    "    mean_metadata = metadata_i.mean().to_frame().T\n",
    "    mean_metadatas.append(mean_metadata)\n",
    "\n",
    "    #display(df_clus_i)\n",
    "\n",
    "    aux = metadata_i.copy()\n",
    "    aux[:] = scaler_meta.transform(metadata_i)\n",
    "    plt.figure(figsize=(17,5))\n",
    "    sns.boxplot(data=aux)\n",
    "    plt.title(\"Metadata normalized boxplot of cluster \"+str(i))\n",
    "    plt.show()\n",
    "\n",
    "    idx_i = np.arange(X_train_all.shape[0])[mask_i]\n",
    "    idx_i_sampled = np.random.choice(idx_i,size=n_s,replace=False)\n",
    "\n",
    "    f, axx = plt.subplots(1, n_s, sharex=False, sharey=True,figsize= (17,5))\n",
    "    for n in range(n_s):\n",
    "        axx[n].plot(X_train_all[idx_i_sampled[n]])\n",
    "    #plt.ylim(-1)\n",
    "    f.suptitle(\"Curvas de luz muestreadas (RAW) - cluster \"+str(i), fontsize=\"x-large\")\n",
    "    plt.show()\n",
    "\n",
    "    X_aux = X_train_all[:,:,0]/S_train_all[:,None]\n",
    "    f, axx = plt.subplots(1, n_s, sharex=False, sharey=True,figsize= (17,5))\n",
    "    for n in range(n_s):\n",
    "        axx[n].plot(X_aux[idx_i_sampled[n]])\n",
    "    f.suptitle(\"Curvas de luz muestreadas normalizadas - cluster \"+str(i), fontsize=\"x-large\")\n",
    "    plt.show()"
   ]
  },
  {
   "cell_type": "code",
   "execution_count": null,
   "metadata": {},
   "outputs": [],
   "source": [
    "df_clus_i = pd.DataFrame({'#data':N_is, 'CONF_ratio':conf_ratios,'CAND_ratio':cand_ratios})\n",
    "df_clus_i = pd.concat([df_clus_i, pd.concat(mean_metadatas,ignore_index=True)], axis=1)\n",
    "df_clus_i"
   ]
  },
  {
   "cell_type": "code",
   "execution_count": null,
   "metadata": {},
   "outputs": [],
   "source": []
  }
 ],
 "metadata": {
  "kernelspec": {
   "display_name": "Python 3",
   "language": "python",
   "name": "python3"
  },
  "language_info": {
   "codemirror_mode": {
    "name": "ipython",
    "version": 3
   },
   "file_extension": ".py",
   "mimetype": "text/x-python",
   "name": "python",
   "nbconvert_exporter": "python",
   "pygments_lexer": "ipython3",
   "version": "3.7.3"
  }
 },
 "nbformat": 4,
 "nbformat_minor": 2
}

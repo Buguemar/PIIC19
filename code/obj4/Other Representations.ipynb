{
 "cells": [
  {
   "cell_type": "markdown",
   "metadata": {},
   "source": [
    "### SOM\n",
    "> Armstrong et al. *Transit shapes and self-organizing maps as a tool for ranking planetary candidates: application to Kepler and K2*\n",
    "\n",
    "https://github.com/DJArmstrong/TransitSOM\n",
    "\n",
    "sino\n",
    "https://github.com/JustGlowing/minisom"
   ]
  },
  {
   "cell_type": "code",
   "execution_count": 4,
   "metadata": {},
   "outputs": [
    {
     "ename": "NameError",
     "evalue": "name 'Mapper' is not defined",
     "output_type": "error",
     "traceback": [
      "\u001b[0;31m---------------------------------------------------------------------------\u001b[0m",
      "\u001b[0;31mNameError\u001b[0m                                 Traceback (most recent call last)",
      "\u001b[0;32m<ipython-input-4-851081aae78b>\u001b[0m in \u001b[0;36m<module>\u001b[0;34m\u001b[0m\n\u001b[0;32m----> 1\u001b[0;31m \u001b[0;32mimport\u001b[0m \u001b[0mselfsom\u001b[0m\u001b[0;34m\u001b[0m\u001b[0;34m\u001b[0m\u001b[0m\n\u001b[0m",
      "\u001b[0;32m~/PIIC19/code/obj4/selfsom.py\u001b[0m in \u001b[0;36m<module>\u001b[0;34m\u001b[0m\n\u001b[1;32m     36\u001b[0m \u001b[0;31m#    from mvpa2.base import debug\u001b[0m\u001b[0;34m\u001b[0m\u001b[0;34m\u001b[0m\u001b[0;34m\u001b[0m\u001b[0m\n\u001b[1;32m     37\u001b[0m \u001b[0;34m\u001b[0m\u001b[0m\n\u001b[0;32m---> 38\u001b[0;31m \u001b[0;32mclass\u001b[0m \u001b[0mSimpleSOMMapper\u001b[0m\u001b[0;34m(\u001b[0m\u001b[0mMapper\u001b[0m\u001b[0;34m)\u001b[0m\u001b[0;34m:\u001b[0m\u001b[0;34m\u001b[0m\u001b[0;34m\u001b[0m\u001b[0m\n\u001b[0m\u001b[1;32m     39\u001b[0m     \"\"\"Mapper using a self-organizing map (SOM) for dimensionality reduction.\n\u001b[1;32m     40\u001b[0m \u001b[0;34m\u001b[0m\u001b[0m\n",
      "\u001b[0;31mNameError\u001b[0m: name 'Mapper' is not defined"
     ]
    }
   ],
   "source": [
    "import selfsom"
   ]
  },
  {
   "cell_type": "code",
   "execution_count": null,
   "metadata": {},
   "outputs": [],
   "source": []
  },
  {
   "cell_type": "code",
   "execution_count": null,
   "metadata": {},
   "outputs": [],
   "source": []
  },
  {
   "cell_type": "code",
   "execution_count": null,
   "metadata": {},
   "outputs": [],
   "source": [
    "def CreateSOM(SOMarray,niter=500,learningrate=0.1,learningradius=None,somshape=(20,20),outfile=None):\n",
    "    \"\"\"\n",
    "        Trains a SOM, using an array of pre-prepared lightcurves. Can save the SOM to text file.\n",
    "        Saved SOM can be reloaded using LoadSOM() function.\n",
    "    \n",
    "            Args:\n",
    "                SOMarray: Array of normalised inputs (e.g. binned transits), of shape [n_inputs,n_bins]. n_inputs > 1\n",
    "                niter: number of training iterations, default 500. Must be positive integer.\n",
    "                learningrate: alpha parameter, default 0.1. Must be positive.\n",
    "                learningradius: sigma parameter, default the largest input SOM dimension. Must be positive.\n",
    "                somshape: shape of SOM to train, default (20,20). Currently must be 2 dimensional tuple (int, int). Need not be square.\n",
    "                outfile: File path to save SOM Kohonen Layer to. If None will not save.\n",
    "    \n",
    "            Returns:\n",
    "                The trained SOM object\n",
    "    \"\"\"   \n",
    "    try:\n",
    "        import somtools\n",
    "        import selfsom\n",
    "    except:\n",
    "        print 'Accompanying libraries not in PYTHONPATH or current directory'\n",
    "        return 0\n",
    "        \n",
    "    try:\n",
    "        assert niter >= 1, 'niter must be >= 1.'\n",
    "        assert type(niter) is IntType, 'niter must be integer.'\n",
    "        assert learningrate > 0, 'learningrate must be positive.'\n",
    "        if learningradius:\n",
    "            assert learningradius > 0, 'learningradius must be positive.'\n",
    "        assert len(somshape)==2, 'SOM must have 2 dimensions.'\n",
    "        assert type(somshape[0]) is IntType and type(somshape[1]) is IntType, 'somshape must contain integers.'\n",
    "        assert len(SOMarray.shape)==2, 'Input array must be 2D of shape [ninputs, nbins].'\n",
    "        assert SOMarray.shape[0]>1, 'ninputs must be greater than 1.'\n",
    "    except AssertionError as error:\n",
    "        print error\n",
    "        print 'Inputs do not meet requirements. See help'\n",
    "        return 0\n",
    "        \n",
    "    nbins = SOMarray.shape[1]\n",
    "    \n",
    "    #default learning radius\n",
    "    if not learningradius:\n",
    "        learningradius = np.max(somshape)\n",
    "    \n",
    "    #define som initialisation function\n",
    "    def Init(sample):\n",
    "        return np.random.uniform(0,2,size=(somshape[0],somshape[1],nbins))\n",
    "    \n",
    "    #initialise som\n",
    "    som = selfsom.SimpleSOMMapper(somshape,niter,initialization_func=Init,learning_rate=learningrate,iradius=learningradius)\n",
    "\n",
    "    #train som\n",
    "    som.train(SOMarray)\n",
    "\n",
    "    #save\n",
    "    if outfile:\n",
    "        somtools.KohonenSave(som.K,outfile)\n",
    "    \n",
    "    #return trained som\n",
    "    return som"
   ]
  },
  {
   "cell_type": "markdown",
   "metadata": {},
   "source": [
    "## LLP\n",
    "> Thompson et al. *A MACHINE LEARNING TECHNIQUE TO IDENTIFY TRANSIT SHAPED SIGNALS*\n",
    "\n",
    "https://github.com/jakevdp/lpproj\n",
    "\n",
    "otra opcion https://github.com/ixjlyons/sklearn-lpp/blob/master/lpp.ipynb"
   ]
  },
  {
   "cell_type": "code",
   "execution_count": null,
   "metadata": {},
   "outputs": [],
   "source": [
    "from lpproj import LocalityPreservingProjection \n",
    "lpp = LocalityPreservingProjection(n_components=20) #LLP\n",
    "\n",
    "X_2D = lpp.fit_transform(X)"
   ]
  },
  {
   "cell_type": "code",
   "execution_count": null,
   "metadata": {},
   "outputs": [],
   "source": []
  },
  {
   "cell_type": "markdown",
   "metadata": {},
   "source": [
    "## Afiiny Propagation based\n",
    "https://github.com/cmackenziek/tsfl"
   ]
  }
 ],
 "metadata": {
  "kernelspec": {
   "display_name": "Python 3",
   "language": "python",
   "name": "python3"
  },
  "language_info": {
   "codemirror_mode": {
    "name": "ipython",
    "version": 3
   },
   "file_extension": ".py",
   "mimetype": "text/x-python",
   "name": "python",
   "nbconvert_exporter": "python",
   "pygments_lexer": "ipython3",
   "version": "3.7.3"
  }
 },
 "nbformat": 4,
 "nbformat_minor": 2
}

{
 "cells": [
  {
   "cell_type": "markdown",
   "metadata": {},
   "source": [
    "### Carga de modulos en headnode"
   ]
  },
  {
   "cell_type": "markdown",
   "metadata": {},
   "source": [
    "El paquete de **module** permite a los usuarios acceder a herramientas no estándar o versiones alternativas de paquetes estándar. Esta también es una forma alternativa de configurar el entorno según se requiera.  \n",
    "Los módulos específicos se pueden cargar y descargar según sea necesario.\n",
    "\n",
    "Para mayor información visite: http://www.bu.edu/tech/support/research/software-and-programming/software-and-applications/modules/"
   ]
  },
  {
   "cell_type": "markdown",
   "metadata": {},
   "source": [
    "|Comando|Descripción|\n",
    "|---|---\n",
    "|**module list**| List currently loaded modules.  |\n",
    "|**module avail**| List available packages.   |\n",
    "|**module help [modulefile]**| Description of specified module.  |\n",
    "|**module show [modulefile]**| Displays information about specified module.  |\n",
    "|**module load [modulefile]**| Loads module or specifies which dependencies have not been loaded.  |\n",
    "|**module unload [modulefile]**| Unloads specified module from environment.   |\n",
    "|**module purge**| Unloads all loaded modules.  |"
   ]
  }
 ],
 "metadata": {
  "kernelspec": {
   "display_name": "Python 3",
   "language": "python",
   "name": "python3"
  },
  "language_info": {
   "codemirror_mode": {
    "name": "ipython",
    "version": 3
   },
   "file_extension": ".py",
   "mimetype": "text/x-python",
   "name": "python",
   "nbconvert_exporter": "python",
   "pygments_lexer": "ipython3",
   "version": "3.6.3"
  }
 },
 "nbformat": 4,
 "nbformat_minor": 2
}

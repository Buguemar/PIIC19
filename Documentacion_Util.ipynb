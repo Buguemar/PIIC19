{
 "cells": [
  {
   "cell_type": "markdown",
   "metadata": {},
   "source": [
    "## Información a compartir \n",
    "---\n",
    "Todo lo útil encontrado dejarlo registrado en este Jupyter.\n",
    "\n",
    "[conceptos](#conceptos), [trabajos](#trabajos) y [data](#data)"
   ]
  },
  {
   "cell_type": "markdown",
   "metadata": {},
   "source": [
    "<a id=\"conceptos\"></a>\n",
    "### Conceptos\n",
    "---\n",
    "* Estrella variable: ..\n",
    "\n",
    "* LombScargle: Least-squares frequency analysis of unequally spaced data. Encuentra el periodo que minimiza el error de un modelo sinosoidal sobre la curva\n",
    "\n",
    "* Mandel-Agol: trabajo del año 2002 (https://arxiv.org/abs/astro-ph/0210099) donde presenta una función para modelar una curva de luz de una manera bastante smooth y simple (cuando el planeta no eclispa a la estrella la intensidad es máxima, cero, cuando el planeta eclipsa a la estrella es máxima en valor negativo, cuando el planeta está cercano al eclipse se modela con un polinomio cuadrático)\n",
    "\n",
    "* FATS (Feature Analysis Time Series): Librería de python para extraer estadísticos y caract basadas en LombScargle de curva de luz: http://isadoranun.github.io/tsfeat/FeaturesDocumentation.html\n",
    "\n",
    "* TCE (Tresholding Crossing Event): primeros objetos/eventos que sobrepasan un cierto treshold en los datos recolectados por Kepler, los cuales se analizan en busca de objetos candidatos vs falsos positivos\n"
   ]
  },
  {
   "cell_type": "markdown",
   "metadata": {},
   "source": [
    "<a id=\"trabajos\"></a>\n",
    "### Trabajos\n",
    "---\n",
    "\n",
    "> **Richards et al. (2011)**\n",
    "* *On machine-learned classification of variable stars with sparse and noisy time-series data* \n",
    "* Idea: Analiza estrellas variables, extrae características manuales de las curvas de luz (estadísticos simples y otras características del periodo y análisis LombScargle)\n",
    "\n",
    "> **Donalek et al. (2013)**\n",
    "* *Feature selection strategies for classifying high dimensional astronomical data sets*\n",
    "* Idea: Analiza estrellas variables, datos trabajos sobre Catalina Real-Time Transient Survey (CRTS) y la misión Kepler, extrae características similares a Richards et al.\n",
    "\n",
    "> **McCauliff et al. (2015)**\n",
    "* *Automatic Classification of Kepler Planetary Transit Candidate*\n",
    "* Idea: Proyecto Autovetter, sobre dataset TCE (Tresholding Crossing Event) identifica objetos candidatos a ser transientes (tres clases: planet candidates, AFPs (astrophysical false positives), and NTP (not transit planet), también experimenta con 2 tipos, falsos positivos agrupados vs candidatos), utiliza modelo de random forest sobre las características de la pipeline de kepler (metadatos). (acc en 3clases: 97,3, 2clases: 98)\n",
    "\n",
    "> **Thompson et al. (2015)**\n",
    "* *A Machine Learning Technique To Identify Transit Shaped Signal*\n",
    "* Idea: sobre dataset TCE, identifica objetos candidatos, similar a proyecto Autovetter, utiliza aprendizaje no supervisado para reducir dimensionalidad de las curvas de luz de Kepler y que clusterice estructuras similares (proyección LPP). Utilizan modelo k-NN.\n",
    "\n",
    "> **C Aguirre et al. (2017)**\n",
    "* *Deep multi-survey classification of variable stars*\n",
    "* Idea: Clasifica estrellas variables a través de procesar las curvas de luz con redes convolucionales 1D agregando el tiempo como entrada extra. Utiliza técnicas de data augmentation interesantes.\n",
    "  \n",
    "> **Mahabal et al. (2017)**\n",
    "* *Deep-learnt classification of light curves*\n",
    "* Idea: Analiza estrellas variables, datos trabajos sobre CRTS, transforma la representación de la curva de luz a una imagen (grilla) a través de las variaciones/delta de las magnitudes/mediciones y de los intervalos de tiempo.\n",
    "\n",
    "> **Hinners et al. (2018)**\n",
    "* *Machine learning techniques for stellar light curve classification*\n",
    "* Idea: Analiza estadísticos de Kepler KOI, utiliza diferentes modelos de aprendizaje para predecir las características de Kepler (metadatos). Extrae estadísticos como Richards et al. de las curvas de luz.\n",
    "\n",
    "> **Shallue & Vanderburg (2018)**\n",
    "* *Identifying Exoplanets with Deep Learning A Five-planet Resonant Chain around Kepler-80 and an Eighth Planet around Kepler-9*\n",
    "* Idea: sobre dataset TCE, etiquetas son las generadas por proyecto Autovetter, representa las curvas de luz centradas en el tránsito y ajusta a diferentes escalas en base a un muestreo como fracción en base al periodo o transit duration. Finalmente clasifica con red feed forward y convolucionales, convolucionales obtiene resultados bastante buenos (acc 96, AUC 98,8)\n",
    "\n",
    "> **Pearson et al. (2017-2018)**\n",
    "* *Searching for Exoplanets using Artificial Intelligence*\n",
    "* Idea: \n",
    "\n",
    "\n",
    "PENDIENTES:\n",
    "* Armstrong et al. (2017): sobre TCE, unsupervised learning https://academic.oup.com/mnras/article/465/3/2634/2447827 \n",
    "* BTH Zhang et al. (2019):  https://arxiv.org/pdf/1905.05767.pdf\n",
    "* B Naut et al. (2017): https://arxiv.org/pdf/1711.10609.pdf\n",
    "* Schanche et al. (2018): https://arxiv.org/pdf/1811.07754.pdf\n"
   ]
  },
  {
   "cell_type": "markdown",
   "metadata": {},
   "source": [
    "<a id=\"data\"></a>\n",
    "### Data\n",
    "---\n",
    "\n",
    "Comentario sobre otros dataset"
   ]
  },
  {
   "cell_type": "markdown",
   "metadata": {},
   "source": [
    "<a id=\"?\"></a>\n",
    "### Trabajos con Convolucionales sobre LC\n",
    "---\n",
    "\n",
    "\n",
    "> **Shallue & Vanderburg (2018)**\n",
    "* *Identifying Exoplanets with Deep Learning A Five-planet Resonant Chain around Kepler-80 and an Eighth Planet around Kepler-9*\n",
    "* Arquitectura profunda convolucional (se ve buena a imitar), codigo contiene pre-procesamiento bueno\n",
    "* code: https://github.com/google-research/exoplanet-ml\n",
    "\n",
    "> **C Aguirre et al. (2017)**\n",
    "* *Deep multi-survey classification of variable stars*\n",
    "* Arquitectura shallow convolucional (tiene buenos fundamentos pero no se ve buena a imitar)\n",
    "* code: https://github.com/C-Aguirre017/DeepMultiSurveyClassificationOfVariableStars\n",
    "\n",
    "> **BTH Zhang et al. (2019)** y **B Naut et al. (2017)**\n",
    "* *Deep Neural Network Classifier for Variable Stars with Novelty Detection Capability* y *A recurrent neural network for classification of unevenly sampled variable stars*\n",
    "* Arquitectura AE con recurrentes, agrega tiempo (esta bastante relacionada la arquitectura)\n",
    "* loss: mse con peso inversamente proporcional al error\n",
    "* code: https://github.com/bthtsang/DeepClassifierNoveltyDetection\n",
    "\n",
    "\n",
    "\n"
   ]
  }
 ],
 "metadata": {
  "kernelspec": {
   "display_name": "Python [conda env:py3]",
   "language": "python",
   "name": "conda-env-py3-py"
  },
  "language_info": {
   "codemirror_mode": {
    "name": "ipython",
    "version": 3
   },
   "file_extension": ".py",
   "mimetype": "text/x-python",
   "name": "python",
   "nbconvert_exporter": "python",
   "pygments_lexer": "ipython3",
   "version": "3.5.5"
  }
 },
 "nbformat": 4,
 "nbformat_minor": 2
}

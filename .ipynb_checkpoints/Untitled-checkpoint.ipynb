{
 "cells": [
  {
   "cell_type": "code",
   "execution_count": 4,
   "metadata": {},
   "outputs": [
    {
     "name": "stdout",
     "output_type": "stream",
     "text": [
      "kepler_dataset.csv  KOI_LC_init.csv\t KOI_LC_model.csv  KOI_LC_white.csv\r\n",
      "KOI_LC_detrend.csv  KOI_LC_init_err.csv  KOI_LC_time.csv\r\n"
     ]
    }
   ],
   "source": [
    "import numpy as np\n",
    "import pandas as pd\n",
    "import gc\n",
    "folder = \"../KOI_Data/\"\n",
    "\n",
    "\n",
    "!ls ../KOI_Data/"
   ]
  },
  {
   "cell_type": "code",
   "execution_count": 3,
   "metadata": {},
   "outputs": [
    {
     "data": {
      "text/html": [
       "<div>\n",
       "<style scoped>\n",
       "    .dataframe tbody tr th:only-of-type {\n",
       "        vertical-align: middle;\n",
       "    }\n",
       "\n",
       "    .dataframe tbody tr th {\n",
       "        vertical-align: top;\n",
       "    }\n",
       "\n",
       "    .dataframe thead th {\n",
       "        text-align: right;\n",
       "    }\n",
       "</style>\n",
       "<table border=\"1\" class=\"dataframe\">\n",
       "  <thead>\n",
       "    <tr style=\"text-align: right;\">\n",
       "      <th></th>\n",
       "      <th>0</th>\n",
       "      <th>1</th>\n",
       "      <th>2</th>\n",
       "      <th>3</th>\n",
       "      <th>4</th>\n",
       "      <th>5</th>\n",
       "      <th>6</th>\n",
       "      <th>7</th>\n",
       "      <th>8</th>\n",
       "      <th>9</th>\n",
       "      <th>...</th>\n",
       "      <th>71417</th>\n",
       "      <th>71418</th>\n",
       "      <th>71419</th>\n",
       "      <th>71420</th>\n",
       "      <th>71421</th>\n",
       "      <th>71422</th>\n",
       "      <th>71423</th>\n",
       "      <th>71424</th>\n",
       "      <th>71425</th>\n",
       "      <th>71426</th>\n",
       "    </tr>\n",
       "  </thead>\n",
       "  <tbody>\n",
       "    <tr>\n",
       "      <th>0</th>\n",
       "      <td>-0.000179</td>\n",
       "      <td>-0.000804</td>\n",
       "      <td>-0.000171</td>\n",
       "      <td>-0.000586</td>\n",
       "      <td>-0.000790</td>\n",
       "      <td>0.000140</td>\n",
       "      <td>0.000387</td>\n",
       "      <td>0.000174</td>\n",
       "      <td>0.001366</td>\n",
       "      <td>-0.000535</td>\n",
       "      <td>...</td>\n",
       "      <td>0.000521</td>\n",
       "      <td>-0.000357</td>\n",
       "      <td>0.000477</td>\n",
       "      <td>0.000408</td>\n",
       "      <td>0.000985</td>\n",
       "      <td>0.000642</td>\n",
       "      <td>0.000282</td>\n",
       "      <td>0.000513</td>\n",
       "      <td>-0.003883</td>\n",
       "      <td>0.000254</td>\n",
       "    </tr>\n",
       "    <tr>\n",
       "      <th>1</th>\n",
       "      <td>NaN</td>\n",
       "      <td>NaN</td>\n",
       "      <td>NaN</td>\n",
       "      <td>NaN</td>\n",
       "      <td>NaN</td>\n",
       "      <td>NaN</td>\n",
       "      <td>NaN</td>\n",
       "      <td>NaN</td>\n",
       "      <td>NaN</td>\n",
       "      <td>NaN</td>\n",
       "      <td>...</td>\n",
       "      <td>-0.000185</td>\n",
       "      <td>-0.000098</td>\n",
       "      <td>-0.000957</td>\n",
       "      <td>-0.000172</td>\n",
       "      <td>0.000388</td>\n",
       "      <td>-0.000288</td>\n",
       "      <td>-0.000399</td>\n",
       "      <td>0.000035</td>\n",
       "      <td>0.000296</td>\n",
       "      <td>0.000514</td>\n",
       "    </tr>\n",
       "    <tr>\n",
       "      <th>2</th>\n",
       "      <td>-0.002508</td>\n",
       "      <td>-0.001791</td>\n",
       "      <td>-0.001253</td>\n",
       "      <td>-0.000823</td>\n",
       "      <td>-0.000312</td>\n",
       "      <td>0.000019</td>\n",
       "      <td>0.000292</td>\n",
       "      <td>0.000608</td>\n",
       "      <td>0.000949</td>\n",
       "      <td>0.001282</td>\n",
       "      <td>...</td>\n",
       "      <td>-0.001306</td>\n",
       "      <td>-0.001492</td>\n",
       "      <td>-0.001706</td>\n",
       "      <td>-0.001843</td>\n",
       "      <td>-0.002075</td>\n",
       "      <td>-0.002238</td>\n",
       "      <td>-0.002347</td>\n",
       "      <td>-0.002534</td>\n",
       "      <td>-0.002784</td>\n",
       "      <td>-0.002770</td>\n",
       "    </tr>\n",
       "    <tr>\n",
       "      <th>3</th>\n",
       "      <td>0.000899</td>\n",
       "      <td>0.000306</td>\n",
       "      <td>0.000006</td>\n",
       "      <td>-0.000695</td>\n",
       "      <td>-0.000707</td>\n",
       "      <td>0.000087</td>\n",
       "      <td>0.000300</td>\n",
       "      <td>0.000380</td>\n",
       "      <td>-0.000412</td>\n",
       "      <td>-0.000277</td>\n",
       "      <td>...</td>\n",
       "      <td>0.000480</td>\n",
       "      <td>-0.000169</td>\n",
       "      <td>-0.000465</td>\n",
       "      <td>0.000307</td>\n",
       "      <td>0.000665</td>\n",
       "      <td>0.000120</td>\n",
       "      <td>-0.000144</td>\n",
       "      <td>0.000449</td>\n",
       "      <td>-0.002546</td>\n",
       "      <td>-0.000007</td>\n",
       "    </tr>\n",
       "    <tr>\n",
       "      <th>4</th>\n",
       "      <td>0.000772</td>\n",
       "      <td>0.000484</td>\n",
       "      <td>0.000534</td>\n",
       "      <td>0.000637</td>\n",
       "      <td>0.000403</td>\n",
       "      <td>0.000375</td>\n",
       "      <td>0.000394</td>\n",
       "      <td>0.000249</td>\n",
       "      <td>0.000430</td>\n",
       "      <td>0.000232</td>\n",
       "      <td>...</td>\n",
       "      <td>0.000215</td>\n",
       "      <td>-0.000072</td>\n",
       "      <td>-0.000178</td>\n",
       "      <td>-0.000107</td>\n",
       "      <td>-0.000164</td>\n",
       "      <td>-0.000105</td>\n",
       "      <td>-0.000186</td>\n",
       "      <td>0.000016</td>\n",
       "      <td>-0.000161</td>\n",
       "      <td>0.000159</td>\n",
       "    </tr>\n",
       "  </tbody>\n",
       "</table>\n",
       "<p>5 rows × 71427 columns</p>\n",
       "</div>"
      ],
      "text/plain": [
       "      0         1         2         3         4         5         6      \\\n",
       "0 -0.000179 -0.000804 -0.000171 -0.000586 -0.000790  0.000140  0.000387   \n",
       "1       NaN       NaN       NaN       NaN       NaN       NaN       NaN   \n",
       "2 -0.002508 -0.001791 -0.001253 -0.000823 -0.000312  0.000019  0.000292   \n",
       "3  0.000899  0.000306  0.000006 -0.000695 -0.000707  0.000087  0.000300   \n",
       "4  0.000772  0.000484  0.000534  0.000637  0.000403  0.000375  0.000394   \n",
       "\n",
       "      7         8         9        ...        71417     71418     71419  \\\n",
       "0  0.000174  0.001366 -0.000535    ...     0.000521 -0.000357  0.000477   \n",
       "1       NaN       NaN       NaN    ...    -0.000185 -0.000098 -0.000957   \n",
       "2  0.000608  0.000949  0.001282    ...    -0.001306 -0.001492 -0.001706   \n",
       "3  0.000380 -0.000412 -0.000277    ...     0.000480 -0.000169 -0.000465   \n",
       "4  0.000249  0.000430  0.000232    ...     0.000215 -0.000072 -0.000178   \n",
       "\n",
       "      71420     71421     71422     71423     71424     71425     71426  \n",
       "0  0.000408  0.000985  0.000642  0.000282  0.000513 -0.003883  0.000254  \n",
       "1 -0.000172  0.000388 -0.000288 -0.000399  0.000035  0.000296  0.000514  \n",
       "2 -0.001843 -0.002075 -0.002238 -0.002347 -0.002534 -0.002784 -0.002770  \n",
       "3  0.000307  0.000665  0.000120 -0.000144  0.000449 -0.002546 -0.000007  \n",
       "4 -0.000107 -0.000164 -0.000105 -0.000186  0.000016 -0.000161  0.000159  \n",
       "\n",
       "[5 rows x 71427 columns]"
      ]
     },
     "execution_count": 3,
     "metadata": {},
     "output_type": "execute_result"
    }
   ],
   "source": [
    "KOI_lc = pd.read_csv(folder+\"KOI_LC_init.csv\",header=None)\n",
    "KOI_lc.head()"
   ]
  },
  {
   "cell_type": "code",
   "execution_count": 4,
   "metadata": {},
   "outputs": [
    {
     "data": {
      "text/plain": [
       "(8054, 71427)"
      ]
     },
     "execution_count": 4,
     "metadata": {},
     "output_type": "execute_result"
    }
   ],
   "source": [
    "KOI_lc.shape"
   ]
  },
  {
   "cell_type": "code",
   "execution_count": 5,
   "metadata": {},
   "outputs": [],
   "source": [
    "np.save(\"KOI_LC_init.npy\",KOI_lc.values)"
   ]
  },
  {
   "cell_type": "code",
   "execution_count": 2,
   "metadata": {},
   "outputs": [
    {
     "data": {
      "text/plain": [
       "array([[-1.7940e-04, -8.0390e-04, -1.7090e-04, ...,  5.1310e-04,\n",
       "        -3.8831e-03,  2.5440e-04],\n",
       "       [        nan,         nan,         nan, ...,  3.5200e-05,\n",
       "         2.9630e-04,  5.1440e-04],\n",
       "       [-2.5082e-03, -1.7906e-03, -1.2525e-03, ..., -2.5336e-03,\n",
       "        -2.7837e-03, -2.7701e-03],\n",
       "       ...,\n",
       "       [-3.0640e-04,  7.9070e-04, -3.9050e-04, ...,  9.0800e-05,\n",
       "         5.3360e-04, -9.1040e-04],\n",
       "       [-3.1820e-04,  7.7890e-04, -4.0230e-04, ...,  7.8900e-05,\n",
       "         5.2180e-04, -9.2220e-04],\n",
       "       [ 2.8570e-04,  1.4720e-04,  1.0707e-03, ...,  6.1780e-04,\n",
       "        -1.0261e-03, -1.7030e-04]])"
      ]
     },
     "execution_count": 2,
     "metadata": {},
     "output_type": "execute_result"
    }
   ],
   "source": [
    "KOI_lc = np.load(\"KOI_LC_init.npy\")\n",
    "KOI_lc"
   ]
  },
  {
   "cell_type": "code",
   "execution_count": 5,
   "metadata": {},
   "outputs": [
    {
     "data": {
      "text/plain": [
       "7"
      ]
     },
     "execution_count": 5,
     "metadata": {},
     "output_type": "execute_result"
    }
   ],
   "source": [
    "KOI_lc_err = pd.read_csv(folder+\"KOI_LC_init_err.csv\",header=None)\n",
    "np.save(\"KOI_LC_init_err.npy\",KOI_lc_err.values)\n",
    "del KOI_lc_err\n",
    "gc.collect()\n",
    "\n",
    "KOI_lc_time = pd.read_csv(folder+\"KOI_LC_time.csv\",header=None)\n",
    "np.save(\"KOI_LC_time.npy\",KOI_lc_time.values)\n",
    "del KOI_lc_time\n",
    "gc.collect()\n",
    "\n",
    "KOI_lc_det = pd.read_csv(folder+\"KOI_LC_detrend.csv\",header=None)\n",
    "np.save(\"KOI_LC_detrend.npy\",KOI_lc_det.values)\n",
    "del KOI_lc_det\n",
    "gc.collect()\n",
    "\n",
    "KOI_lc_white = pd.read_csv(folder+\"KOI_LC_white.csv\",header=None)\n",
    "np.save(\"KOI_LC_white.npy\",KOI_lc_white.values)\n",
    "del KOI_lc_white\n",
    "gc.collect()\n",
    "\n",
    "KOI_lc_model = pd.read_csv(folder+\"KOI_LC_model.csv\",header=None)\n",
    "np.save(\"KOI_LC_model.npy\",KOI_lc_model.values)\n",
    "del KOI_lc_model\n",
    "gc.collect()"
   ]
  },
  {
   "cell_type": "code",
   "execution_count": null,
   "metadata": {},
   "outputs": [],
   "source": []
  },
  {
   "cell_type": "code",
   "execution_count": 6,
   "metadata": {},
   "outputs": [
    {
     "data": {
      "text/plain": [
       "array([[-1.7940e-04, -8.0390e-04, -1.7090e-04, ...,  3.0010e-04,\n",
       "        -3.9776e-03,  2.5440e-04],\n",
       "       [        nan,         nan,         nan, ...,  3.5200e-05,\n",
       "         2.9630e-04,  5.1440e-04],\n",
       "       [-2.5082e-03, -1.7906e-03, -1.2525e-03, ..., -2.3234e-03,\n",
       "        -2.5735e-03, -2.5598e-03],\n",
       "       ...,\n",
       "       [-3.0640e-04,  7.9070e-04, -3.9050e-04, ...,  9.0800e-05,\n",
       "         5.3360e-04, -9.1040e-04],\n",
       "       [-3.1820e-04,  7.7890e-04, -4.0230e-04, ...,  7.8900e-05,\n",
       "         5.2180e-04, -9.2220e-04],\n",
       "       [ 2.8570e-04,  1.4720e-04,  1.0707e-03, ...,  6.1780e-04,\n",
       "        -1.0261e-03, -1.7030e-04]])"
      ]
     },
     "execution_count": 6,
     "metadata": {},
     "output_type": "execute_result"
    }
   ],
   "source": [
    "KOI_lc = np.load(\"KOI_LC_detrend.npy\")\n",
    "KOI_lc"
   ]
  },
  {
   "cell_type": "code",
   "execution_count": 13,
   "metadata": {},
   "outputs": [
    {
     "data": {
      "image/png": "[encoded data removed]",
      "text/plain": [
       "<Figure size 432x288 with 1 Axes>"
      ]
     },
     "metadata": {},
     "output_type": "display_data"
    }
   ],
   "source": [
    "import matplotlib.pyplot as plt\n",
    "\n",
    "plt.plot(KOI_lc[5])\n",
    "plt.show()"
   ]
  },
  {
   "cell_type": "code",
   "execution_count": null,
   "metadata": {},
   "outputs": [],
   "source": []
  }
 ],
 "metadata": {
  "kernelspec": {
   "display_name": "Python [conda env:tesis]",
   "language": "python",
   "name": "conda-env-tesis-py"
  },
  "language_info": {
   "codemirror_mode": {
    "name": "ipython",
    "version": 3
   },
   "file_extension": ".py",
   "mimetype": "text/x-python",
   "name": "python",
   "nbconvert_exporter": "python",
   "pygments_lexer": "ipython3",
   "version": "3.5.5"
  }
 },
 "nbformat": 4,
 "nbformat_minor": 2
}
